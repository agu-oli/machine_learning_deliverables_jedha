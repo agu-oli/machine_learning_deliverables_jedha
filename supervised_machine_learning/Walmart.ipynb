{
 "cells": [
  {
   "cell_type": "code",
   "execution_count": 1,
   "metadata": {},
   "outputs": [],
   "source": [
    "#Import libraries\n",
    "\n",
    "import pandas as pd\n",
    "import numpy as np\n",
    "from sklearn.model_selection import train_test_split\n",
    "from sklearn.pipeline import Pipeline\n",
    "from sklearn.impute import SimpleImputer\n",
    "from sklearn.preprocessing import OneHotEncoder, StandardScaler, LabelEncoder\n",
    "from sklearn.compose import ColumnTransformer\n",
    "from sklearn.linear_model import LinearRegression\n",
    "from sklearn.linear_model import LogisticRegression\n",
    "from sklearn.linear_model import Ridge\n",
    "from sklearn.linear_model import Lasso\n",
    "from sklearn.exceptions import ConvergenceWarning\n",
    "import warnings\n",
    "with warnings.catch_warnings():\n",
    "    warnings.filterwarnings(\"ignore\", category=ConvergenceWarning)\n",
    "\n",
    "from sklearn.model_selection import cross_val_score, GridSearchCV\n",
    "from sklearn import metrics\n",
    "from sklearn.metrics import (\n",
    "    r2_score,\n",
    "    accuracy_score,\n",
    "    f1_score,\n",
    "    ConfusionMatrixDisplay,\n",
    "    RocCurveDisplay,\n",
    ")\n",
    "import matplotlib.pyplot as plt\n",
    "import warnings\n",
    "\n",
    "warnings.filterwarnings(\n",
    "    \"ignore\", category=DeprecationWarning\n",
    ")  # to avoid deprecation warnings\n",
    "\n",
    "import plotly.express as px\n",
    "import plotly.graph_objects as go\n",
    "import plotly.io as pio\n",
    "\n",
    "# setting Jedha color palette as default\n",
    "pio.templates[\"jedha\"] = go.layout.Template(\n",
    "    layout_colorway=[\n",
    "        \"#4B9AC7\",\n",
    "        \"#4BE8E0\",\n",
    "        \"#9DD4F3\",\n",
    "        \"#97FBF6\",\n",
    "        \"#2A7FAF\",\n",
    "        \"#23B1AB\",\n",
    "        \"#0E3449\",\n",
    "        \"#015955\",\n",
    "    ]\n",
    ")\n",
    "pio.templates.default = \"jedha\"\n",
    "pio.renderers.default = \"svg\"  # to be replaced by \"iframe\" if working on JULIE"
   ]
  },
  {
   "cell_type": "markdown",
   "metadata": {},
   "source": [
    "## Load du dataset et création du dataframe"
   ]
  },
  {
   "cell_type": "code",
   "execution_count": 3,
   "metadata": {},
   "outputs": [
    {
     "name": "stdout",
     "output_type": "stream",
     "text": [
      "Loading dataset...\n",
      "...Done.\n",
      "\n"
     ]
    }
   ],
   "source": [
    "# Import dataset\n",
    "print(\"Loading dataset...\")\n",
    "dataset = pd.read_csv(\"/Users/agustindei/Documents/Jedha/Full_Stack/Projets/supervised_machine_learning/Walmart_Store_sales.csv\")\n",
    "print(\"...Done.\")\n",
    "print()"
   ]
  },
  {
   "cell_type": "markdown",
   "metadata": {},
   "source": [
    "# 1. EDA"
   ]
  },
  {
   "cell_type": "code",
   "execution_count": 4,
   "metadata": {},
   "outputs": [
    {
     "data": {
      "text/html": [
       "<div>\n",
       "<style scoped>\n",
       "    .dataframe tbody tr th:only-of-type {\n",
       "        vertical-align: middle;\n",
       "    }\n",
       "\n",
       "    .dataframe tbody tr th {\n",
       "        vertical-align: top;\n",
       "    }\n",
       "\n",
       "    .dataframe thead th {\n",
       "        text-align: right;\n",
       "    }\n",
       "</style>\n",
       "<table border=\"1\" class=\"dataframe\">\n",
       "  <thead>\n",
       "    <tr style=\"text-align: right;\">\n",
       "      <th></th>\n",
       "      <th>Store</th>\n",
       "      <th>Date</th>\n",
       "      <th>Weekly_Sales</th>\n",
       "      <th>Holiday_Flag</th>\n",
       "      <th>Temperature</th>\n",
       "      <th>Fuel_Price</th>\n",
       "      <th>CPI</th>\n",
       "      <th>Unemployment</th>\n",
       "    </tr>\n",
       "  </thead>\n",
       "  <tbody>\n",
       "    <tr>\n",
       "      <th>0</th>\n",
       "      <td>6.0</td>\n",
       "      <td>18-02-2011</td>\n",
       "      <td>1572117.54</td>\n",
       "      <td>NaN</td>\n",
       "      <td>59.61</td>\n",
       "      <td>3.045</td>\n",
       "      <td>214.777523</td>\n",
       "      <td>6.858</td>\n",
       "    </tr>\n",
       "    <tr>\n",
       "      <th>1</th>\n",
       "      <td>13.0</td>\n",
       "      <td>25-03-2011</td>\n",
       "      <td>1807545.43</td>\n",
       "      <td>0.0</td>\n",
       "      <td>42.38</td>\n",
       "      <td>3.435</td>\n",
       "      <td>128.616064</td>\n",
       "      <td>7.470</td>\n",
       "    </tr>\n",
       "    <tr>\n",
       "      <th>2</th>\n",
       "      <td>17.0</td>\n",
       "      <td>27-07-2012</td>\n",
       "      <td>NaN</td>\n",
       "      <td>0.0</td>\n",
       "      <td>NaN</td>\n",
       "      <td>NaN</td>\n",
       "      <td>130.719581</td>\n",
       "      <td>5.936</td>\n",
       "    </tr>\n",
       "    <tr>\n",
       "      <th>3</th>\n",
       "      <td>11.0</td>\n",
       "      <td>NaN</td>\n",
       "      <td>1244390.03</td>\n",
       "      <td>0.0</td>\n",
       "      <td>84.57</td>\n",
       "      <td>NaN</td>\n",
       "      <td>214.556497</td>\n",
       "      <td>7.346</td>\n",
       "    </tr>\n",
       "    <tr>\n",
       "      <th>4</th>\n",
       "      <td>6.0</td>\n",
       "      <td>28-05-2010</td>\n",
       "      <td>1644470.66</td>\n",
       "      <td>0.0</td>\n",
       "      <td>78.89</td>\n",
       "      <td>2.759</td>\n",
       "      <td>212.412888</td>\n",
       "      <td>7.092</td>\n",
       "    </tr>\n",
       "  </tbody>\n",
       "</table>\n",
       "</div>"
      ],
      "text/plain": [
       "   Store        Date  Weekly_Sales  Holiday_Flag  Temperature  Fuel_Price  \\\n",
       "0    6.0  18-02-2011    1572117.54           NaN        59.61       3.045   \n",
       "1   13.0  25-03-2011    1807545.43           0.0        42.38       3.435   \n",
       "2   17.0  27-07-2012           NaN           0.0          NaN         NaN   \n",
       "3   11.0         NaN    1244390.03           0.0        84.57         NaN   \n",
       "4    6.0  28-05-2010    1644470.66           0.0        78.89       2.759   \n",
       "\n",
       "          CPI  Unemployment  \n",
       "0  214.777523         6.858  \n",
       "1  128.616064         7.470  \n",
       "2  130.719581         5.936  \n",
       "3  214.556497         7.346  \n",
       "4  212.412888         7.092  "
      ]
     },
     "execution_count": 4,
     "metadata": {},
     "output_type": "execute_result"
    }
   ],
   "source": [
    "dataset.head()"
   ]
  },
  {
   "cell_type": "code",
   "execution_count": 5,
   "metadata": {},
   "outputs": [
    {
     "name": "stdout",
     "output_type": "stream",
     "text": [
      "<class 'pandas.core.frame.DataFrame'>\n",
      "RangeIndex: 150 entries, 0 to 149\n",
      "Data columns (total 8 columns):\n",
      " #   Column        Non-Null Count  Dtype  \n",
      "---  ------        --------------  -----  \n",
      " 0   Store         150 non-null    float64\n",
      " 1   Date          132 non-null    object \n",
      " 2   Weekly_Sales  136 non-null    float64\n",
      " 3   Holiday_Flag  138 non-null    float64\n",
      " 4   Temperature   132 non-null    float64\n",
      " 5   Fuel_Price    136 non-null    float64\n",
      " 6   CPI           138 non-null    float64\n",
      " 7   Unemployment  135 non-null    float64\n",
      "dtypes: float64(7), object(1)\n",
      "memory usage: 9.5+ KB\n",
      "Dataframes's shape: (150, 8)\n"
     ]
    }
   ],
   "source": [
    "dataset.info()\n",
    "print(\"Dataframes's shape:\", dataset.shape)"
   ]
  },
  {
   "cell_type": "code",
   "execution_count": 6,
   "metadata": {},
   "outputs": [
    {
     "data": {
      "text/html": [
       "<div>\n",
       "<style scoped>\n",
       "    .dataframe tbody tr th:only-of-type {\n",
       "        vertical-align: middle;\n",
       "    }\n",
       "\n",
       "    .dataframe tbody tr th {\n",
       "        vertical-align: top;\n",
       "    }\n",
       "\n",
       "    .dataframe thead th {\n",
       "        text-align: right;\n",
       "    }\n",
       "</style>\n",
       "<table border=\"1\" class=\"dataframe\">\n",
       "  <thead>\n",
       "    <tr style=\"text-align: right;\">\n",
       "      <th></th>\n",
       "      <th>Store</th>\n",
       "      <th>Date</th>\n",
       "      <th>Weekly_Sales</th>\n",
       "      <th>Holiday_Flag</th>\n",
       "      <th>Temperature</th>\n",
       "      <th>Fuel_Price</th>\n",
       "      <th>CPI</th>\n",
       "      <th>Unemployment</th>\n",
       "    </tr>\n",
       "  </thead>\n",
       "  <tbody>\n",
       "    <tr>\n",
       "      <th>count</th>\n",
       "      <td>150.000000</td>\n",
       "      <td>132</td>\n",
       "      <td>1.360000e+02</td>\n",
       "      <td>138.000000</td>\n",
       "      <td>132.000000</td>\n",
       "      <td>136.000000</td>\n",
       "      <td>138.000000</td>\n",
       "      <td>135.000000</td>\n",
       "    </tr>\n",
       "    <tr>\n",
       "      <th>unique</th>\n",
       "      <td>NaN</td>\n",
       "      <td>85</td>\n",
       "      <td>NaN</td>\n",
       "      <td>NaN</td>\n",
       "      <td>NaN</td>\n",
       "      <td>NaN</td>\n",
       "      <td>NaN</td>\n",
       "      <td>NaN</td>\n",
       "    </tr>\n",
       "    <tr>\n",
       "      <th>top</th>\n",
       "      <td>NaN</td>\n",
       "      <td>19-10-2012</td>\n",
       "      <td>NaN</td>\n",
       "      <td>NaN</td>\n",
       "      <td>NaN</td>\n",
       "      <td>NaN</td>\n",
       "      <td>NaN</td>\n",
       "      <td>NaN</td>\n",
       "    </tr>\n",
       "    <tr>\n",
       "      <th>freq</th>\n",
       "      <td>NaN</td>\n",
       "      <td>4</td>\n",
       "      <td>NaN</td>\n",
       "      <td>NaN</td>\n",
       "      <td>NaN</td>\n",
       "      <td>NaN</td>\n",
       "      <td>NaN</td>\n",
       "      <td>NaN</td>\n",
       "    </tr>\n",
       "    <tr>\n",
       "      <th>mean</th>\n",
       "      <td>9.866667</td>\n",
       "      <td>NaN</td>\n",
       "      <td>1.249536e+06</td>\n",
       "      <td>0.079710</td>\n",
       "      <td>61.398106</td>\n",
       "      <td>3.320853</td>\n",
       "      <td>179.898509</td>\n",
       "      <td>7.598430</td>\n",
       "    </tr>\n",
       "    <tr>\n",
       "      <th>std</th>\n",
       "      <td>6.231191</td>\n",
       "      <td>NaN</td>\n",
       "      <td>6.474630e+05</td>\n",
       "      <td>0.271831</td>\n",
       "      <td>18.378901</td>\n",
       "      <td>0.478149</td>\n",
       "      <td>40.274956</td>\n",
       "      <td>1.577173</td>\n",
       "    </tr>\n",
       "    <tr>\n",
       "      <th>min</th>\n",
       "      <td>1.000000</td>\n",
       "      <td>NaN</td>\n",
       "      <td>2.689290e+05</td>\n",
       "      <td>0.000000</td>\n",
       "      <td>18.790000</td>\n",
       "      <td>2.514000</td>\n",
       "      <td>126.111903</td>\n",
       "      <td>5.143000</td>\n",
       "    </tr>\n",
       "    <tr>\n",
       "      <th>25%</th>\n",
       "      <td>4.000000</td>\n",
       "      <td>NaN</td>\n",
       "      <td>6.050757e+05</td>\n",
       "      <td>0.000000</td>\n",
       "      <td>45.587500</td>\n",
       "      <td>2.852250</td>\n",
       "      <td>131.970831</td>\n",
       "      <td>6.597500</td>\n",
       "    </tr>\n",
       "    <tr>\n",
       "      <th>50%</th>\n",
       "      <td>9.000000</td>\n",
       "      <td>NaN</td>\n",
       "      <td>1.261424e+06</td>\n",
       "      <td>0.000000</td>\n",
       "      <td>62.985000</td>\n",
       "      <td>3.451000</td>\n",
       "      <td>197.908893</td>\n",
       "      <td>7.470000</td>\n",
       "    </tr>\n",
       "    <tr>\n",
       "      <th>75%</th>\n",
       "      <td>15.750000</td>\n",
       "      <td>NaN</td>\n",
       "      <td>1.806386e+06</td>\n",
       "      <td>0.000000</td>\n",
       "      <td>76.345000</td>\n",
       "      <td>3.706250</td>\n",
       "      <td>214.934616</td>\n",
       "      <td>8.150000</td>\n",
       "    </tr>\n",
       "    <tr>\n",
       "      <th>max</th>\n",
       "      <td>20.000000</td>\n",
       "      <td>NaN</td>\n",
       "      <td>2.771397e+06</td>\n",
       "      <td>1.000000</td>\n",
       "      <td>91.650000</td>\n",
       "      <td>4.193000</td>\n",
       "      <td>226.968844</td>\n",
       "      <td>14.313000</td>\n",
       "    </tr>\n",
       "  </tbody>\n",
       "</table>\n",
       "</div>"
      ],
      "text/plain": [
       "             Store        Date  Weekly_Sales  Holiday_Flag  Temperature  \\\n",
       "count   150.000000         132  1.360000e+02    138.000000   132.000000   \n",
       "unique         NaN          85           NaN           NaN          NaN   \n",
       "top            NaN  19-10-2012           NaN           NaN          NaN   \n",
       "freq           NaN           4           NaN           NaN          NaN   \n",
       "mean      9.866667         NaN  1.249536e+06      0.079710    61.398106   \n",
       "std       6.231191         NaN  6.474630e+05      0.271831    18.378901   \n",
       "min       1.000000         NaN  2.689290e+05      0.000000    18.790000   \n",
       "25%       4.000000         NaN  6.050757e+05      0.000000    45.587500   \n",
       "50%       9.000000         NaN  1.261424e+06      0.000000    62.985000   \n",
       "75%      15.750000         NaN  1.806386e+06      0.000000    76.345000   \n",
       "max      20.000000         NaN  2.771397e+06      1.000000    91.650000   \n",
       "\n",
       "        Fuel_Price         CPI  Unemployment  \n",
       "count   136.000000  138.000000    135.000000  \n",
       "unique         NaN         NaN           NaN  \n",
       "top            NaN         NaN           NaN  \n",
       "freq           NaN         NaN           NaN  \n",
       "mean      3.320853  179.898509      7.598430  \n",
       "std       0.478149   40.274956      1.577173  \n",
       "min       2.514000  126.111903      5.143000  \n",
       "25%       2.852250  131.970831      6.597500  \n",
       "50%       3.451000  197.908893      7.470000  \n",
       "75%       3.706250  214.934616      8.150000  \n",
       "max       4.193000  226.968844     14.313000  "
      ]
     },
     "execution_count": 6,
     "metadata": {},
     "output_type": "execute_result"
    }
   ],
   "source": [
    "dataset.describe(include='all')"
   ]
  },
  {
   "cell_type": "code",
   "execution_count": 7,
   "metadata": {},
   "outputs": [
    {
     "name": "stdout",
     "output_type": "stream",
     "text": [
      "Missing values: \n",
      "Store           False\n",
      "Date             True\n",
      "Weekly_Sales     True\n",
      "Holiday_Flag     True\n",
      "Temperature      True\n",
      "Fuel_Price       True\n",
      "CPI              True\n",
      "Unemployment     True\n",
      "dtype: bool\n",
      "\n",
      "Percentage of missing values: \n"
     ]
    },
    {
     "data": {
      "text/plain": [
       "Store            0.000000\n",
       "Date            12.000000\n",
       "Weekly_Sales     9.333333\n",
       "Holiday_Flag     8.000000\n",
       "Temperature     12.000000\n",
       "Fuel_Price       9.333333\n",
       "CPI              8.000000\n",
       "Unemployment    10.000000\n",
       "dtype: float64"
      ]
     },
     "metadata": {},
     "output_type": "display_data"
    }
   ],
   "source": [
    "#Checking missing values per column\n",
    "print(\"Missing values: \")\n",
    "print(dataset.isnull().any())\n",
    "print()\n",
    "print(\"Percentage of missing values: \")\n",
    "display(100 * dataset.isnull().sum() / dataset.shape[0])"
   ]
  },
  {
   "cell_type": "markdown",
   "metadata": {},
   "source": [
    "Most of the columns contain null values and the "
   ]
  },
  {
   "cell_type": "code",
   "execution_count": 8,
   "metadata": {},
   "outputs": [
    {
     "data": {
      "text/plain": [
       "0       6.0\n",
       "1      13.0\n",
       "2      17.0\n",
       "3      11.0\n",
       "4       6.0\n",
       "       ... \n",
       "145    14.0\n",
       "146     7.0\n",
       "147    17.0\n",
       "148     8.0\n",
       "149    19.0\n",
       "Name: Store, Length: 150, dtype: float64"
      ]
     },
     "execution_count": 8,
     "metadata": {},
     "output_type": "execute_result"
    }
   ],
   "source": [
    "dataset['Store']"
   ]
  },
  {
   "cell_type": "code",
   "execution_count": 9,
   "metadata": {},
   "outputs": [
    {
     "data": {
      "text/plain": [
       "False"
      ]
     },
     "execution_count": 9,
     "metadata": {},
     "output_type": "execute_result"
    }
   ],
   "source": [
    "dataset = dataset.dropna(subset=['Weekly_Sales'])\n",
    "dataset['Weekly_Sales'].isnull().any()"
   ]
  },
  {
   "cell_type": "code",
   "execution_count": 10,
   "metadata": {},
   "outputs": [
    {
     "data": {
      "image/svg+xml": [
       "<svg class=\"main-svg\" xmlns=\"http://www.w3.org/2000/svg\" xmlns:xlink=\"http://www.w3.org/1999/xlink\" width=\"700\" height=\"500\" style=\"\" viewBox=\"0 0 700 500\"><rect x=\"0\" y=\"0\" width=\"700\" height=\"500\" style=\"fill: rgb(255, 255, 255); fill-opacity: 1;\"/><defs id=\"defs-42d567\"><g class=\"clips\"><clipPath id=\"clip42d567xyplot\" class=\"plotclip\"><rect width=\"540\" height=\"320\"/></clipPath><clipPath class=\"axesclip\" id=\"clip42d567x\"><rect x=\"80\" y=\"0\" width=\"540\" height=\"500\"/></clipPath><clipPath class=\"axesclip\" id=\"clip42d567y\"><rect x=\"0\" y=\"100\" width=\"700\" height=\"320\"/></clipPath><clipPath class=\"axesclip\" id=\"clip42d567xy\"><rect x=\"80\" y=\"100\" width=\"540\" height=\"320\"/></clipPath></g><g class=\"gradients\"/><g class=\"patterns\"/></defs><g class=\"bglayer\"/><g class=\"layer-below\"><g class=\"imagelayer\"/><g class=\"shapelayer\"/></g><g class=\"cartesianlayer\"><g class=\"subplot xy\"><g class=\"layer-subplot\"><g class=\"shapelayer\"/><g class=\"imagelayer\"/></g><g class=\"minor-gridlayer\"><g class=\"x\"/><g class=\"y\"/></g><g class=\"gridlayer\"><g class=\"x\"><path class=\"xgrid crisp\" transform=\"translate(118.7,0)\" d=\"M0,100v320\" style=\"stroke: rgb(238, 238, 238); stroke-opacity: 1; stroke-width: 1px;\"/><path class=\"xgrid crisp\" transform=\"translate(250.04,0)\" d=\"M0,100v320\" style=\"stroke: rgb(238, 238, 238); stroke-opacity: 1; stroke-width: 1px;\"/><path class=\"xgrid crisp\" transform=\"translate(381.39,0)\" d=\"M0,100v320\" style=\"stroke: rgb(238, 238, 238); stroke-opacity: 1; stroke-width: 1px;\"/><path class=\"xgrid crisp\" transform=\"translate(512.74,0)\" d=\"M0,100v320\" style=\"stroke: rgb(238, 238, 238); stroke-opacity: 1; stroke-width: 1px;\"/></g><g class=\"y\"><path class=\"ygrid crisp\" transform=\"translate(0,374.35)\" d=\"M80,0h540\" style=\"stroke: rgb(238, 238, 238); stroke-opacity: 1; stroke-width: 1px;\"/><path class=\"ygrid crisp\" transform=\"translate(0,318.3)\" d=\"M80,0h540\" style=\"stroke: rgb(238, 238, 238); stroke-opacity: 1; stroke-width: 1px;\"/><path class=\"ygrid crisp\" transform=\"translate(0,262.26)\" d=\"M80,0h540\" style=\"stroke: rgb(238, 238, 238); stroke-opacity: 1; stroke-width: 1px;\"/><path class=\"ygrid crisp\" transform=\"translate(0,206.22)\" d=\"M80,0h540\" style=\"stroke: rgb(238, 238, 238); stroke-opacity: 1; stroke-width: 1px;\"/><path class=\"ygrid crisp\" transform=\"translate(0,150.17000000000002)\" d=\"M80,0h540\" style=\"stroke: rgb(238, 238, 238); stroke-opacity: 1; stroke-width: 1px;\"/></g></g><g class=\"zerolinelayer\"/><path class=\"xlines-below\"/><path class=\"ylines-below\"/><g class=\"overlines-below\"/><g class=\"xaxislayer-below\"/><g class=\"yaxislayer-below\"/><g class=\"overaxes-below\"/><g class=\"plot\" transform=\"translate(80,100)\" clip-path=\"url(#clip42d567xyplot)\"><g class=\"scatterlayer mlayer\"><g class=\"trace scatter trace31544f\" style=\"stroke-miterlimit: 2; opacity: 1;\"><g class=\"fills\"/><g class=\"errorbars\"/><g class=\"lines\"/><g class=\"points\"><path class=\"point\" transform=\"translate(298.83,154.18)\" d=\"M3,0A3,3 0 1,1 0,-3A3,3 0 0,1 3,0Z\" style=\"opacity: 1; stroke-width: 0px; fill: rgb(75, 154, 199); fill-opacity: 1;\"/><path class=\"point\" transform=\"translate(185.67,127.79)\" d=\"M3,0A3,3 0 1,1 0,-3A3,3 0 0,1 3,0Z\" style=\"opacity: 1; stroke-width: 0px; fill: rgb(75, 154, 199); fill-opacity: 1;\"/><path class=\"point\" transform=\"translate(462.75,190.91)\" d=\"M3,0A3,3 0 1,1 0,-3A3,3 0 0,1 3,0Z\" style=\"opacity: 1; stroke-width: 0px; fill: rgb(75, 154, 199); fill-opacity: 1;\"/><path class=\"point\" transform=\"translate(425.45,146.07)\" d=\"M3,0A3,3 0 1,1 0,-3A3,3 0 0,1 3,0Z\" style=\"opacity: 1; stroke-width: 0px; fill: rgb(75, 154, 199); fill-opacity: 1;\"/><path class=\"point\" transform=\"translate(365.75,252.45)\" d=\"M3,0A3,3 0 1,1 0,-3A3,3 0 0,1 3,0Z\" style=\"opacity: 1; stroke-width: 0px; fill: rgb(75, 154, 199); fill-opacity: 1;\"/><path class=\"point\" transform=\"translate(169.58,83.4)\" d=\"M3,0A3,3 0 1,1 0,-3A3,3 0 0,1 3,0Z\" style=\"opacity: 1; stroke-width: 0px; fill: rgb(75, 154, 199); fill-opacity: 1;\"/><path class=\"point\" transform=\"translate(107.92,38.9)\" d=\"M3,0A3,3 0 1,1 0,-3A3,3 0 0,1 3,0Z\" style=\"opacity: 1; stroke-width: 0px; fill: rgb(75, 154, 199); fill-opacity: 1;\"/><path class=\"point\" transform=\"translate(302.18,283.44)\" d=\"M3,0A3,3 0 1,1 0,-3A3,3 0 0,1 3,0Z\" style=\"opacity: 1; stroke-width: 0px; fill: rgb(75, 154, 199); fill-opacity: 1;\"/><path class=\"point\" transform=\"translate(451.92,230.07)\" d=\"M3,0A3,3 0 1,1 0,-3A3,3 0 0,1 3,0Z\" style=\"opacity: 1; stroke-width: 0px; fill: rgb(75, 154, 199); fill-opacity: 1;\"/><path class=\"point\" transform=\"translate(248.98,214.98)\" d=\"M3,0A3,3 0 1,1 0,-3A3,3 0 0,1 3,0Z\" style=\"opacity: 1; stroke-width: 0px; fill: rgb(75, 154, 199); fill-opacity: 1;\"/><path class=\"point\" transform=\"translate(147.78,283.98)\" d=\"M3,0A3,3 0 1,1 0,-3A3,3 0 0,1 3,0Z\" style=\"opacity: 1; stroke-width: 0px; fill: rgb(75, 154, 199); fill-opacity: 1;\"/><path class=\"point\" transform=\"translate(332.52,142.37)\" d=\"M3,0A3,3 0 1,1 0,-3A3,3 0 0,1 3,0Z\" style=\"opacity: 1; stroke-width: 0px; fill: rgb(75, 154, 199); fill-opacity: 1;\"/><path class=\"point\" transform=\"translate(301.85,237.45)\" d=\"M3,0A3,3 0 1,1 0,-3A3,3 0 0,1 3,0Z\" style=\"opacity: 1; stroke-width: 0px; fill: rgb(75, 154, 199); fill-opacity: 1;\"/><path class=\"point\" transform=\"translate(359.91,162.48)\" d=\"M3,0A3,3 0 1,1 0,-3A3,3 0 0,1 3,0Z\" style=\"opacity: 1; stroke-width: 0px; fill: rgb(75, 154, 199); fill-opacity: 1;\"/><path class=\"point\" transform=\"translate(408.7,106.51)\" d=\"M3,0A3,3 0 1,1 0,-3A3,3 0 0,1 3,0Z\" style=\"opacity: 1; stroke-width: 0px; fill: rgb(75, 154, 199); fill-opacity: 1;\"/><path class=\"point\" transform=\"translate(47.43,195.29)\" d=\"M3,0A3,3 0 1,1 0,-3A3,3 0 0,1 3,0Z\" style=\"opacity: 1; stroke-width: 0px; fill: rgb(75, 154, 199); fill-opacity: 1;\"/><path class=\"point\" transform=\"translate(236.57,57.71)\" d=\"M3,0A3,3 0 1,1 0,-3A3,3 0 0,1 3,0Z\" style=\"opacity: 1; stroke-width: 0px; fill: rgb(75, 154, 199); fill-opacity: 1;\"/><path class=\"point\" transform=\"translate(158.62,267.5)\" d=\"M3,0A3,3 0 1,1 0,-3A3,3 0 0,1 3,0Z\" style=\"opacity: 1; stroke-width: 0px; fill: rgb(75, 154, 199); fill-opacity: 1;\"/><path class=\"point\" transform=\"translate(415.53,297.78)\" d=\"M3,0A3,3 0 1,1 0,-3A3,3 0 0,1 3,0Z\" style=\"opacity: 1; stroke-width: 0px; fill: rgb(75, 154, 199); fill-opacity: 1;\"/><path class=\"point\" transform=\"translate(242.09,210)\" d=\"M3,0A3,3 0 1,1 0,-3A3,3 0 0,1 3,0Z\" style=\"opacity: 1; stroke-width: 0px; fill: rgb(75, 154, 199); fill-opacity: 1;\"/><path class=\"point\" transform=\"translate(163.94,170.44)\" d=\"M3,0A3,3 0 1,1 0,-3A3,3 0 0,1 3,0Z\" style=\"opacity: 1; stroke-width: 0px; fill: rgb(75, 154, 199); fill-opacity: 1;\"/><path class=\"point\" transform=\"translate(240.71,172.91)\" d=\"M3,0A3,3 0 1,1 0,-3A3,3 0 0,1 3,0Z\" style=\"opacity: 1; stroke-width: 0px; fill: rgb(75, 154, 199); fill-opacity: 1;\"/><path class=\"point\" transform=\"translate(201.7,227.29)\" d=\"M3,0A3,3 0 1,1 0,-3A3,3 0 0,1 3,0Z\" style=\"opacity: 1; stroke-width: 0px; fill: rgb(75, 154, 199); fill-opacity: 1;\"/><path class=\"point\" transform=\"translate(247.93,289.21)\" d=\"M3,0A3,3 0 1,1 0,-3A3,3 0 0,1 3,0Z\" style=\"opacity: 1; stroke-width: 0px; fill: rgb(75, 154, 199); fill-opacity: 1;\"/><path class=\"point\" transform=\"translate(195.99,281.59)\" d=\"M3,0A3,3 0 1,1 0,-3A3,3 0 0,1 3,0Z\" style=\"opacity: 1; stroke-width: 0px; fill: rgb(75, 154, 199); fill-opacity: 1;\"/><path class=\"point\" transform=\"translate(204.33,245.46)\" d=\"M3,0A3,3 0 1,1 0,-3A3,3 0 0,1 3,0Z\" style=\"opacity: 1; stroke-width: 0px; fill: rgb(75, 154, 199); fill-opacity: 1;\"/><path class=\"point\" transform=\"translate(356.56,215.93)\" d=\"M3,0A3,3 0 1,1 0,-3A3,3 0 0,1 3,0Z\" style=\"opacity: 1; stroke-width: 0px; fill: rgb(75, 154, 199); fill-opacity: 1;\"/><path class=\"point\" transform=\"translate(30.75,267.24)\" d=\"M3,0A3,3 0 1,1 0,-3A3,3 0 0,1 3,0Z\" style=\"opacity: 1; stroke-width: 0px; fill: rgb(75, 154, 199); fill-opacity: 1;\"/><path class=\"point\" transform=\"translate(150.34,97.56)\" d=\"M3,0A3,3 0 1,1 0,-3A3,3 0 0,1 3,0Z\" style=\"opacity: 1; stroke-width: 0px; fill: rgb(75, 154, 199); fill-opacity: 1;\"/><path class=\"point\" transform=\"translate(483.31,122.67)\" d=\"M3,0A3,3 0 1,1 0,-3A3,3 0 0,1 3,0Z\" style=\"opacity: 1; stroke-width: 0px; fill: rgb(75, 154, 199); fill-opacity: 1;\"/><path class=\"point\" transform=\"translate(125.78,188.43)\" d=\"M3,0A3,3 0 1,1 0,-3A3,3 0 0,1 3,0Z\" style=\"opacity: 1; stroke-width: 0px; fill: rgb(75, 154, 199); fill-opacity: 1;\"/><path class=\"point\" transform=\"translate(433.99,289.45)\" d=\"M3,0A3,3 0 1,1 0,-3A3,3 0 0,1 3,0Z\" style=\"opacity: 1; stroke-width: 0px; fill: rgb(75, 154, 199); fill-opacity: 1;\"/><path class=\"point\" transform=\"translate(444.89,105.28)\" d=\"M3,0A3,3 0 1,1 0,-3A3,3 0 0,1 3,0Z\" style=\"opacity: 1; stroke-width: 0px; fill: rgb(75, 154, 199); fill-opacity: 1;\"/><path class=\"point\" transform=\"translate(306.05,295.43)\" d=\"M3,0A3,3 0 1,1 0,-3A3,3 0 0,1 3,0Z\" style=\"opacity: 1; stroke-width: 0px; fill: rgb(75, 154, 199); fill-opacity: 1;\"/><path class=\"point\" transform=\"translate(238.54,222.66)\" d=\"M3,0A3,3 0 1,1 0,-3A3,3 0 0,1 3,0Z\" style=\"opacity: 1; stroke-width: 0px; fill: rgb(75, 154, 199); fill-opacity: 1;\"/><path class=\"point\" transform=\"translate(285.63,259.78)\" d=\"M3,0A3,3 0 1,1 0,-3A3,3 0 0,1 3,0Z\" style=\"opacity: 1; stroke-width: 0px; fill: rgb(75, 154, 199); fill-opacity: 1;\"/><path class=\"point\" transform=\"translate(160.26,146.35)\" d=\"M3,0A3,3 0 1,1 0,-3A3,3 0 0,1 3,0Z\" style=\"opacity: 1; stroke-width: 0px; fill: rgb(75, 154, 199); fill-opacity: 1;\"/><path class=\"point\" transform=\"translate(266.13,121.71)\" d=\"M3,0A3,3 0 1,1 0,-3A3,3 0 0,1 3,0Z\" style=\"opacity: 1; stroke-width: 0px; fill: rgb(75, 154, 199); fill-opacity: 1;\"/><path class=\"point\" transform=\"translate(448.9,300.25)\" d=\"M3,0A3,3 0 1,1 0,-3A3,3 0 0,1 3,0Z\" style=\"opacity: 1; stroke-width: 0px; fill: rgb(75, 154, 199); fill-opacity: 1;\"/><path class=\"point\" transform=\"translate(342.44,156.77)\" d=\"M3,0A3,3 0 1,1 0,-3A3,3 0 0,1 3,0Z\" style=\"opacity: 1; stroke-width: 0px; fill: rgb(75, 154, 199); fill-opacity: 1;\"/><path class=\"point\" transform=\"translate(509.25,148.32)\" d=\"M3,0A3,3 0 1,1 0,-3A3,3 0 0,1 3,0Z\" style=\"opacity: 1; stroke-width: 0px; fill: rgb(75, 154, 199); fill-opacity: 1;\"/><path class=\"point\" transform=\"translate(224.49,276.02)\" d=\"M3,0A3,3 0 1,1 0,-3A3,3 0 0,1 3,0Z\" style=\"opacity: 1; stroke-width: 0px; fill: rgb(75, 154, 199); fill-opacity: 1;\"/><path class=\"point\" transform=\"translate(308.68,102.24)\" d=\"M3,0A3,3 0 1,1 0,-3A3,3 0 0,1 3,0Z\" style=\"opacity: 1; stroke-width: 0px; fill: rgb(75, 154, 199); fill-opacity: 1;\"/><path class=\"point\" transform=\"translate(299.36,115.54)\" d=\"M3,0A3,3 0 1,1 0,-3A3,3 0 0,1 3,0Z\" style=\"opacity: 1; stroke-width: 0px; fill: rgb(75, 154, 199); fill-opacity: 1;\"/><path class=\"point\" transform=\"translate(465.71,273.31)\" d=\"M3,0A3,3 0 1,1 0,-3A3,3 0 0,1 3,0Z\" style=\"opacity: 1; stroke-width: 0px; fill: rgb(75, 154, 199); fill-opacity: 1;\"/><path class=\"point\" transform=\"translate(181.6,119.73)\" d=\"M3,0A3,3 0 1,1 0,-3A3,3 0 0,1 3,0Z\" style=\"opacity: 1; stroke-width: 0px; fill: rgb(75, 154, 199); fill-opacity: 1;\"/><path class=\"point\" transform=\"translate(477.86,127.96)\" d=\"M3,0A3,3 0 1,1 0,-3A3,3 0 0,1 3,0Z\" style=\"opacity: 1; stroke-width: 0px; fill: rgb(75, 154, 199); fill-opacity: 1;\"/><path class=\"point\" transform=\"translate(325.03,123.32)\" d=\"M3,0A3,3 0 1,1 0,-3A3,3 0 0,1 3,0Z\" style=\"opacity: 1; stroke-width: 0px; fill: rgb(75, 154, 199); fill-opacity: 1;\"/><path class=\"point\" transform=\"translate(399.38,230.77)\" d=\"M3,0A3,3 0 1,1 0,-3A3,3 0 0,1 3,0Z\" style=\"opacity: 1; stroke-width: 0px; fill: rgb(75, 154, 199); fill-opacity: 1;\"/><path class=\"point\" transform=\"translate(149.36,103.91)\" d=\"M3,0A3,3 0 1,1 0,-3A3,3 0 0,1 3,0Z\" style=\"opacity: 1; stroke-width: 0px; fill: rgb(75, 154, 199); fill-opacity: 1;\"/><path class=\"point\" transform=\"translate(285.76,107.29)\" d=\"M3,0A3,3 0 1,1 0,-3A3,3 0 0,1 3,0Z\" style=\"opacity: 1; stroke-width: 0px; fill: rgb(75, 154, 199); fill-opacity: 1;\"/><path class=\"point\" transform=\"translate(253.91,185.17)\" d=\"M3,0A3,3 0 1,1 0,-3A3,3 0 0,1 3,0Z\" style=\"opacity: 1; stroke-width: 0px; fill: rgb(75, 154, 199); fill-opacity: 1;\"/><path class=\"point\" transform=\"translate(361.62,295.27)\" d=\"M3,0A3,3 0 1,1 0,-3A3,3 0 0,1 3,0Z\" style=\"opacity: 1; stroke-width: 0px; fill: rgb(75, 154, 199); fill-opacity: 1;\"/><path class=\"point\" transform=\"translate(146.66,19.75)\" d=\"M3,0A3,3 0 1,1 0,-3A3,3 0 0,1 3,0Z\" style=\"opacity: 1; stroke-width: 0px; fill: rgb(75, 154, 199); fill-opacity: 1;\"/><path class=\"point\" transform=\"translate(192.57,138.24)\" d=\"M3,0A3,3 0 1,1 0,-3A3,3 0 0,1 3,0Z\" style=\"opacity: 1; stroke-width: 0px; fill: rgb(75, 154, 199); fill-opacity: 1;\"/><path class=\"point\" transform=\"translate(391.17,199.68)\" d=\"M3,0A3,3 0 1,1 0,-3A3,3 0 0,1 3,0Z\" style=\"opacity: 1; stroke-width: 0px; fill: rgb(75, 154, 199); fill-opacity: 1;\"/><path class=\"point\" transform=\"translate(207.54,278.65)\" d=\"M3,0A3,3 0 1,1 0,-3A3,3 0 0,1 3,0Z\" style=\"opacity: 1; stroke-width: 0px; fill: rgb(75, 154, 199); fill-opacity: 1;\"/><path class=\"point\" transform=\"translate(505.24,223.25)\" d=\"M3,0A3,3 0 1,1 0,-3A3,3 0 0,1 3,0Z\" style=\"opacity: 1; stroke-width: 0px; fill: rgb(75, 154, 199); fill-opacity: 1;\"/><path class=\"point\" transform=\"translate(87.3,152.35)\" d=\"M3,0A3,3 0 1,1 0,-3A3,3 0 0,1 3,0Z\" style=\"opacity: 1; stroke-width: 0px; fill: rgb(75, 154, 199); fill-opacity: 1;\"/><path class=\"point\" transform=\"translate(148.9,54.49)\" d=\"M3,0A3,3 0 1,1 0,-3A3,3 0 0,1 3,0Z\" style=\"opacity: 1; stroke-width: 0px; fill: rgb(75, 154, 199); fill-opacity: 1;\"/><path class=\"point\" transform=\"translate(467.02,167.96)\" d=\"M3,0A3,3 0 1,1 0,-3A3,3 0 0,1 3,0Z\" style=\"opacity: 1; stroke-width: 0px; fill: rgb(75, 154, 199); fill-opacity: 1;\"/><path class=\"point\" transform=\"translate(353.73,161.36)\" d=\"M3,0A3,3 0 1,1 0,-3A3,3 0 0,1 3,0Z\" style=\"opacity: 1; stroke-width: 0px; fill: rgb(75, 154, 199); fill-opacity: 1;\"/><path class=\"point\" transform=\"translate(401.02,109.23)\" d=\"M3,0A3,3 0 1,1 0,-3A3,3 0 0,1 3,0Z\" style=\"opacity: 1; stroke-width: 0px; fill: rgb(75, 154, 199); fill-opacity: 1;\"/><path class=\"point\" transform=\"translate(218.77,266.43)\" d=\"M3,0A3,3 0 1,1 0,-3A3,3 0 0,1 3,0Z\" style=\"opacity: 1; stroke-width: 0px; fill: rgb(75, 154, 199); fill-opacity: 1;\"/><path class=\"point\" transform=\"translate(316.17,157.83)\" d=\"M3,0A3,3 0 1,1 0,-3A3,3 0 0,1 3,0Z\" style=\"opacity: 1; stroke-width: 0px; fill: rgb(75, 154, 199); fill-opacity: 1;\"/><path class=\"point\" transform=\"translate(362.93,129.79)\" d=\"M3,0A3,3 0 1,1 0,-3A3,3 0 0,1 3,0Z\" style=\"opacity: 1; stroke-width: 0px; fill: rgb(75, 154, 199); fill-opacity: 1;\"/><path class=\"point\" transform=\"translate(235.46,272.13)\" d=\"M3,0A3,3 0 1,1 0,-3A3,3 0 0,1 3,0Z\" style=\"opacity: 1; stroke-width: 0px; fill: rgb(75, 154, 199); fill-opacity: 1;\"/><path class=\"point\" transform=\"translate(253.91,154.46)\" d=\"M3,0A3,3 0 1,1 0,-3A3,3 0 0,1 3,0Z\" style=\"opacity: 1; stroke-width: 0px; fill: rgb(75, 154, 199); fill-opacity: 1;\"/><path class=\"point\" transform=\"translate(432.54,262.3)\" d=\"M3,0A3,3 0 1,1 0,-3A3,3 0 0,1 3,0Z\" style=\"opacity: 1; stroke-width: 0px; fill: rgb(75, 154, 199); fill-opacity: 1;\"/><path class=\"point\" transform=\"translate(200.85,133.34)\" d=\"M3,0A3,3 0 1,1 0,-3A3,3 0 0,1 3,0Z\" style=\"opacity: 1; stroke-width: 0px; fill: rgb(75, 154, 199); fill-opacity: 1;\"/><path class=\"point\" transform=\"translate(401.15,281.97)\" d=\"M3,0A3,3 0 1,1 0,-3A3,3 0 0,1 3,0Z\" style=\"opacity: 1; stroke-width: 0px; fill: rgb(75, 154, 199); fill-opacity: 1;\"/><path class=\"point\" transform=\"translate(168.67,101.08)\" d=\"M3,0A3,3 0 1,1 0,-3A3,3 0 0,1 3,0Z\" style=\"opacity: 1; stroke-width: 0px; fill: rgb(75, 154, 199); fill-opacity: 1;\"/><path class=\"point\" transform=\"translate(409.23,128.89)\" d=\"M3,0A3,3 0 1,1 0,-3A3,3 0 0,1 3,0Z\" style=\"opacity: 1; stroke-width: 0px; fill: rgb(75, 154, 199); fill-opacity: 1;\"/><path class=\"point\" transform=\"translate(422.95,275.99)\" d=\"M3,0A3,3 0 1,1 0,-3A3,3 0 0,1 3,0Z\" style=\"opacity: 1; stroke-width: 0px; fill: rgb(75, 154, 199); fill-opacity: 1;\"/><path class=\"point\" transform=\"translate(359.91,213.06)\" d=\"M3,0A3,3 0 1,1 0,-3A3,3 0 0,1 3,0Z\" style=\"opacity: 1; stroke-width: 0px; fill: rgb(75, 154, 199); fill-opacity: 1;\"/><path class=\"point\" transform=\"translate(422.69,111.42)\" d=\"M3,0A3,3 0 1,1 0,-3A3,3 0 0,1 3,0Z\" style=\"opacity: 1; stroke-width: 0px; fill: rgb(75, 154, 199); fill-opacity: 1;\"/><path class=\"point\" transform=\"translate(398.46,162.9)\" d=\"M3,0A3,3 0 1,1 0,-3A3,3 0 0,1 3,0Z\" style=\"opacity: 1; stroke-width: 0px; fill: rgb(75, 154, 199); fill-opacity: 1;\"/><path class=\"point\" transform=\"translate(234.14,233.96)\" d=\"M3,0A3,3 0 1,1 0,-3A3,3 0 0,1 3,0Z\" style=\"opacity: 1; stroke-width: 0px; fill: rgb(75, 154, 199); fill-opacity: 1;\"/><path class=\"point\" transform=\"translate(350.84,296.91)\" d=\"M3,0A3,3 0 1,1 0,-3A3,3 0 0,1 3,0Z\" style=\"opacity: 1; stroke-width: 0px; fill: rgb(75, 154, 199); fill-opacity: 1;\"/><path class=\"point\" transform=\"translate(500.52,132.2)\" d=\"M3,0A3,3 0 1,1 0,-3A3,3 0 0,1 3,0Z\" style=\"opacity: 1; stroke-width: 0px; fill: rgb(75, 154, 199); fill-opacity: 1;\"/><path class=\"point\" transform=\"translate(424.99,104.16)\" d=\"M3,0A3,3 0 1,1 0,-3A3,3 0 0,1 3,0Z\" style=\"opacity: 1; stroke-width: 0px; fill: rgb(75, 154, 199); fill-opacity: 1;\"/><path class=\"point\" transform=\"translate(455.86,289.58)\" d=\"M3,0A3,3 0 1,1 0,-3A3,3 0 0,1 3,0Z\" style=\"opacity: 1; stroke-width: 0px; fill: rgb(75, 154, 199); fill-opacity: 1;\"/><path class=\"point\" transform=\"translate(214.37,128.69)\" d=\"M3,0A3,3 0 1,1 0,-3A3,3 0 0,1 3,0Z\" style=\"opacity: 1; stroke-width: 0px; fill: rgb(75, 154, 199); fill-opacity: 1;\"/><path class=\"point\" transform=\"translate(365.42,208.55)\" d=\"M3,0A3,3 0 1,1 0,-3A3,3 0 0,1 3,0Z\" style=\"opacity: 1; stroke-width: 0px; fill: rgb(75, 154, 199); fill-opacity: 1;\"/><path class=\"point\" transform=\"translate(185.81,72.31)\" d=\"M3,0A3,3 0 1,1 0,-3A3,3 0 0,1 3,0Z\" style=\"opacity: 1; stroke-width: 0px; fill: rgb(75, 154, 199); fill-opacity: 1;\"/><path class=\"point\" transform=\"translate(450.47,283.37)\" d=\"M3,0A3,3 0 1,1 0,-3A3,3 0 0,1 3,0Z\" style=\"opacity: 1; stroke-width: 0px; fill: rgb(75, 154, 199); fill-opacity: 1;\"/><path class=\"point\" transform=\"translate(385.65,177.24)\" d=\"M3,0A3,3 0 1,1 0,-3A3,3 0 0,1 3,0Z\" style=\"opacity: 1; stroke-width: 0px; fill: rgb(75, 154, 199); fill-opacity: 1;\"/><path class=\"point\" transform=\"translate(136.48,95.5)\" d=\"M3,0A3,3 0 1,1 0,-3A3,3 0 0,1 3,0Z\" style=\"opacity: 1; stroke-width: 0px; fill: rgb(75, 154, 199); fill-opacity: 1;\"/><path class=\"point\" transform=\"translate(126.31,218.89)\" d=\"M3,0A3,3 0 1,1 0,-3A3,3 0 0,1 3,0Z\" style=\"opacity: 1; stroke-width: 0px; fill: rgb(75, 154, 199); fill-opacity: 1;\"/><path class=\"point\" transform=\"translate(361.29,189.58)\" d=\"M3,0A3,3 0 1,1 0,-3A3,3 0 0,1 3,0Z\" style=\"opacity: 1; stroke-width: 0px; fill: rgb(75, 154, 199); fill-opacity: 1;\"/><path class=\"point\" transform=\"translate(96.82,128.66)\" d=\"M3,0A3,3 0 1,1 0,-3A3,3 0 0,1 3,0Z\" style=\"opacity: 1; stroke-width: 0px; fill: rgb(75, 154, 199); fill-opacity: 1;\"/><path class=\"point\" transform=\"translate(168.01,92.27)\" d=\"M3,0A3,3 0 1,1 0,-3A3,3 0 0,1 3,0Z\" style=\"opacity: 1; stroke-width: 0px; fill: rgb(75, 154, 199); fill-opacity: 1;\"/><path class=\"point\" transform=\"translate(122.17,127.33)\" d=\"M3,0A3,3 0 1,1 0,-3A3,3 0 0,1 3,0Z\" style=\"opacity: 1; stroke-width: 0px; fill: rgb(75, 154, 199); fill-opacity: 1;\"/><path class=\"point\" transform=\"translate(366.41,133.43)\" d=\"M3,0A3,3 0 1,1 0,-3A3,3 0 0,1 3,0Z\" style=\"opacity: 1; stroke-width: 0px; fill: rgb(75, 154, 199); fill-opacity: 1;\"/><path class=\"point\" transform=\"translate(165.45,279.13)\" d=\"M3,0A3,3 0 1,1 0,-3A3,3 0 0,1 3,0Z\" style=\"opacity: 1; stroke-width: 0px; fill: rgb(75, 154, 199); fill-opacity: 1;\"/><path class=\"point\" transform=\"translate(452.38,272.88)\" d=\"M3,0A3,3 0 1,1 0,-3A3,3 0 0,1 3,0Z\" style=\"opacity: 1; stroke-width: 0px; fill: rgb(75, 154, 199); fill-opacity: 1;\"/><path class=\"point\" transform=\"translate(132.74,121.38)\" d=\"M3,0A3,3 0 1,1 0,-3A3,3 0 0,1 3,0Z\" style=\"opacity: 1; stroke-width: 0px; fill: rgb(75, 154, 199); fill-opacity: 1;\"/><path class=\"point\" transform=\"translate(402,236.61)\" d=\"M3,0A3,3 0 1,1 0,-3A3,3 0 0,1 3,0Z\" style=\"opacity: 1; stroke-width: 0px; fill: rgb(75, 154, 199); fill-opacity: 1;\"/><path class=\"point\" transform=\"translate(494.6,299.55)\" d=\"M3,0A3,3 0 1,1 0,-3A3,3 0 0,1 3,0Z\" style=\"opacity: 1; stroke-width: 0px; fill: rgb(75, 154, 199); fill-opacity: 1;\"/><path class=\"point\" transform=\"translate(287.21,263.38)\" d=\"M3,0A3,3 0 1,1 0,-3A3,3 0 0,1 3,0Z\" style=\"opacity: 1; stroke-width: 0px; fill: rgb(75, 154, 199); fill-opacity: 1;\"/><path class=\"point\" transform=\"translate(355.64,165.91)\" d=\"M3,0A3,3 0 1,1 0,-3A3,3 0 0,1 3,0Z\" style=\"opacity: 1; stroke-width: 0px; fill: rgb(75, 154, 199); fill-opacity: 1;\"/><path class=\"point\" transform=\"translate(327.07,285.69)\" d=\"M3,0A3,3 0 1,1 0,-3A3,3 0 0,1 3,0Z\" style=\"opacity: 1; stroke-width: 0px; fill: rgb(75, 154, 199); fill-opacity: 1;\"/><path class=\"point\" transform=\"translate(313.15,261.54)\" d=\"M3,0A3,3 0 1,1 0,-3A3,3 0 0,1 3,0Z\" style=\"opacity: 1; stroke-width: 0px; fill: rgb(75, 154, 199); fill-opacity: 1;\"/><path class=\"point\" transform=\"translate(406.14,109.54)\" d=\"M3,0A3,3 0 1,1 0,-3A3,3 0 0,1 3,0Z\" style=\"opacity: 1; stroke-width: 0px; fill: rgb(75, 154, 199); fill-opacity: 1;\"/><path class=\"point\" transform=\"translate(388.41,212.91)\" d=\"M3,0A3,3 0 1,1 0,-3A3,3 0 0,1 3,0Z\" style=\"opacity: 1; stroke-width: 0px; fill: rgb(75, 154, 199); fill-opacity: 1;\"/><path class=\"point\" transform=\"translate(252.14,103.35)\" d=\"M3,0A3,3 0 1,1 0,-3A3,3 0 0,1 3,0Z\" style=\"opacity: 1; stroke-width: 0px; fill: rgb(75, 154, 199); fill-opacity: 1;\"/><path class=\"point\" transform=\"translate(451.39,102.15)\" d=\"M3,0A3,3 0 1,1 0,-3A3,3 0 0,1 3,0Z\" style=\"opacity: 1; stroke-width: 0px; fill: rgb(75, 154, 199); fill-opacity: 1;\"/><path class=\"point\" transform=\"translate(456.58,229.16)\" d=\"M3,0A3,3 0 1,1 0,-3A3,3 0 0,1 3,0Z\" style=\"opacity: 1; stroke-width: 0px; fill: rgb(75, 154, 199); fill-opacity: 1;\"/><path class=\"point\" transform=\"translate(462.88,98.76)\" d=\"M3,0A3,3 0 1,1 0,-3A3,3 0 0,1 3,0Z\" style=\"opacity: 1; stroke-width: 0px; fill: rgb(75, 154, 199); fill-opacity: 1;\"/><path class=\"point\" transform=\"translate(488.17,125.08)\" d=\"M3,0A3,3 0 1,1 0,-3A3,3 0 0,1 3,0Z\" style=\"opacity: 1; stroke-width: 0px; fill: rgb(75, 154, 199); fill-opacity: 1;\"/><path class=\"point\" transform=\"translate(394.91,146.64)\" d=\"M3,0A3,3 0 1,1 0,-3A3,3 0 0,1 3,0Z\" style=\"opacity: 1; stroke-width: 0px; fill: rgb(75, 154, 199); fill-opacity: 1;\"/><path class=\"point\" transform=\"translate(239.66,270.68)\" d=\"M3,0A3,3 0 1,1 0,-3A3,3 0 0,1 3,0Z\" style=\"opacity: 1; stroke-width: 0px; fill: rgb(75, 154, 199); fill-opacity: 1;\"/><path class=\"point\" transform=\"translate(316.96,296.56)\" d=\"M3,0A3,3 0 1,1 0,-3A3,3 0 0,1 3,0Z\" style=\"opacity: 1; stroke-width: 0px; fill: rgb(75, 154, 199); fill-opacity: 1;\"/><path class=\"point\" transform=\"translate(403.45,285.18)\" d=\"M3,0A3,3 0 1,1 0,-3A3,3 0 0,1 3,0Z\" style=\"opacity: 1; stroke-width: 0px; fill: rgb(75, 154, 199); fill-opacity: 1;\"/><path class=\"point\" transform=\"translate(423.09,285.9)\" d=\"M3,0A3,3 0 1,1 0,-3A3,3 0 0,1 3,0Z\" style=\"opacity: 1; stroke-width: 0px; fill: rgb(75, 154, 199); fill-opacity: 1;\"/><path class=\"point\" transform=\"translate(389.66,282.81)\" d=\"M3,0A3,3 0 1,1 0,-3A3,3 0 0,1 3,0Z\" style=\"opacity: 1; stroke-width: 0px; fill: rgb(75, 154, 199); fill-opacity: 1;\"/><path class=\"point\" transform=\"translate(384.27,78.34)\" d=\"M3,0A3,3 0 1,1 0,-3A3,3 0 0,1 3,0Z\" style=\"opacity: 1; stroke-width: 0px; fill: rgb(75, 154, 199); fill-opacity: 1;\"/><path class=\"point\" transform=\"translate(43.56,250.09)\" d=\"M3,0A3,3 0 1,1 0,-3A3,3 0 0,1 3,0Z\" style=\"opacity: 1; stroke-width: 0px; fill: rgb(75, 154, 199); fill-opacity: 1;\"/><path class=\"point\" transform=\"translate(282.61,235.65)\" d=\"M3,0A3,3 0 1,1 0,-3A3,3 0 0,1 3,0Z\" style=\"opacity: 1; stroke-width: 0px; fill: rgb(75, 154, 199); fill-opacity: 1;\"/><path class=\"point\" transform=\"translate(472.47,234.36)\" d=\"M3,0A3,3 0 1,1 0,-3A3,3 0 0,1 3,0Z\" style=\"opacity: 1; stroke-width: 0px; fill: rgb(75, 154, 199); fill-opacity: 1;\"/><path class=\"point\" transform=\"translate(269.87,189.71)\" d=\"M3,0A3,3 0 1,1 0,-3A3,3 0 0,1 3,0Z\" style=\"opacity: 1; stroke-width: 0px; fill: rgb(75, 154, 199); fill-opacity: 1;\"/></g><g class=\"text\"/></g></g></g><g class=\"overplot\"/><path class=\"xlines-above crisp\" d=\"M0,0\" style=\"fill: none;\"/><path class=\"ylines-above crisp\" d=\"M0,0\" style=\"fill: none;\"/><g class=\"overlines-above\"/><g class=\"xaxislayer-above\"><g class=\"xtick\"><text text-anchor=\"middle\" x=\"0\" y=\"433\" transform=\"translate(118.7,0)\" style=\"font-family: 'Open Sans', verdana, arial, sans-serif; font-size: 12px; fill: rgb(68, 68, 68); fill-opacity: 1; white-space: pre; opacity: 1;\">20</text></g><g class=\"xtick\"><text text-anchor=\"middle\" x=\"0\" y=\"433\" style=\"font-family: 'Open Sans', verdana, arial, sans-serif; font-size: 12px; fill: rgb(68, 68, 68); fill-opacity: 1; white-space: pre; opacity: 1;\" transform=\"translate(250.04,0)\">40</text></g><g class=\"xtick\"><text text-anchor=\"middle\" x=\"0\" y=\"433\" style=\"font-family: 'Open Sans', verdana, arial, sans-serif; font-size: 12px; fill: rgb(68, 68, 68); fill-opacity: 1; white-space: pre; opacity: 1;\" transform=\"translate(381.39,0)\">60</text></g><g class=\"xtick\"><text text-anchor=\"middle\" x=\"0\" y=\"433\" style=\"font-family: 'Open Sans', verdana, arial, sans-serif; font-size: 12px; fill: rgb(68, 68, 68); fill-opacity: 1; white-space: pre; opacity: 1;\" transform=\"translate(512.74,0)\">80</text></g></g><g class=\"yaxislayer-above\"><g class=\"ytick\"><text text-anchor=\"end\" x=\"79\" y=\"4.199999999999999\" transform=\"translate(0,374.35)\" style=\"font-family: 'Open Sans', verdana, arial, sans-serif; font-size: 12px; fill: rgb(68, 68, 68); fill-opacity: 1; white-space: pre; opacity: 1;\">0.5M</text></g><g class=\"ytick\"><text text-anchor=\"end\" x=\"79\" y=\"4.199999999999999\" style=\"font-family: 'Open Sans', verdana, arial, sans-serif; font-size: 12px; fill: rgb(68, 68, 68); fill-opacity: 1; white-space: pre; opacity: 1;\" transform=\"translate(0,318.3)\">1M</text></g><g class=\"ytick\"><text text-anchor=\"end\" x=\"79\" y=\"4.199999999999999\" style=\"font-family: 'Open Sans', verdana, arial, sans-serif; font-size: 12px; fill: rgb(68, 68, 68); fill-opacity: 1; white-space: pre; opacity: 1;\" transform=\"translate(0,262.26)\">1.5M</text></g><g class=\"ytick\"><text text-anchor=\"end\" x=\"79\" y=\"4.199999999999999\" style=\"font-family: 'Open Sans', verdana, arial, sans-serif; font-size: 12px; fill: rgb(68, 68, 68); fill-opacity: 1; white-space: pre; opacity: 1;\" transform=\"translate(0,206.22)\">2M</text></g><g class=\"ytick\"><text text-anchor=\"end\" x=\"79\" y=\"4.199999999999999\" style=\"font-family: 'Open Sans', verdana, arial, sans-serif; font-size: 12px; fill: rgb(68, 68, 68); fill-opacity: 1; white-space: pre; opacity: 1;\" transform=\"translate(0,150.17000000000002)\">2.5M</text></g></g><g class=\"overaxes-above\"/></g></g><g class=\"polarlayer\"/><g class=\"smithlayer\"/><g class=\"ternarylayer\"/><g class=\"geolayer\"/><g class=\"funnelarealayer\"/><g class=\"pielayer\"/><g class=\"iciclelayer\"/><g class=\"treemaplayer\"/><g class=\"sunburstlayer\"/><g class=\"glimages\"/><defs id=\"topdefs-42d567\"><g class=\"clips\"/></defs><g class=\"layer-above\"><g class=\"imagelayer\"/><g class=\"shapelayer\"/></g><g class=\"infolayer\"><g class=\"g-gtitle\"><text class=\"gtitle\" x=\"350\" y=\"50\" text-anchor=\"middle\" dy=\"0em\" style=\"font-family: 'Open Sans', verdana, arial, sans-serif; font-size: 17px; fill: rgb(68, 68, 68); opacity: 1; font-weight: normal; white-space: pre;\">Temperature and Weekly Sales</text></g><g class=\"g-xtitle\"><text class=\"xtitle\" x=\"350\" y=\"472\" text-anchor=\"middle\" style=\"font-family: 'Open Sans', verdana, arial, sans-serif; font-size: 14px; fill: rgb(68, 68, 68); opacity: 1; font-weight: normal; white-space: pre;\">Temperature</text></g><g class=\"g-ytitle\"><text class=\"ytitle\" transform=\"rotate(-90,42,260)\" x=\"42\" y=\"260\" text-anchor=\"middle\" style=\"font-family: 'Open Sans', verdana, arial, sans-serif; font-size: 14px; fill: rgb(68, 68, 68); opacity: 1; font-weight: normal; white-space: pre;\">Weekly Sales</text></g></g></svg>"
      ]
     },
     "metadata": {},
     "output_type": "display_data"
    }
   ],
   "source": [
    "\n",
    "# Create a scatter plot for Temperature and Weekly Sales\n",
    "fig = px.scatter(dataset, \n",
    "                 x='Temperature', \n",
    "                 y='Weekly_Sales', \n",
    "                 title='Temperature and Weekly Sales',\n",
    "                 labels={'Weekly_Sales': 'Weekly Sales', 'Temperature': 'Temperature'})  # Display store number on hover\n",
    "\n",
    "fig.show()\n"
   ]
  },
  {
   "cell_type": "code",
   "execution_count": 11,
   "metadata": {},
   "outputs": [
    {
     "data": {
      "image/svg+xml": [
       "<svg class=\"main-svg\" xmlns=\"http://www.w3.org/2000/svg\" xmlns:xlink=\"http://www.w3.org/1999/xlink\" width=\"700\" height=\"500\" style=\"\" viewBox=\"0 0 700 500\"><rect x=\"0\" y=\"0\" width=\"700\" height=\"500\" style=\"fill: rgb(255, 255, 255); fill-opacity: 1;\"/><defs id=\"defs-65c01c\"><g class=\"clips\"><clipPath id=\"clip65c01cxyplot\" class=\"plotclip\"><rect width=\"540\" height=\"320\"/></clipPath><clipPath class=\"axesclip\" id=\"clip65c01cx\"><rect x=\"80\" y=\"0\" width=\"540\" height=\"500\"/></clipPath><clipPath class=\"axesclip\" id=\"clip65c01cy\"><rect x=\"0\" y=\"100\" width=\"700\" height=\"320\"/></clipPath><clipPath class=\"axesclip\" id=\"clip65c01cxy\"><rect x=\"80\" y=\"100\" width=\"540\" height=\"320\"/></clipPath></g><g class=\"gradients\"/><g class=\"patterns\"/></defs><g class=\"bglayer\"/><g class=\"layer-below\"><g class=\"imagelayer\"/><g class=\"shapelayer\"/></g><g class=\"cartesianlayer\"><g class=\"subplot xy\"><g class=\"layer-subplot\"><g class=\"shapelayer\"/><g class=\"imagelayer\"/></g><g class=\"minor-gridlayer\"><g class=\"x\"/><g class=\"y\"/></g><g class=\"gridlayer\"><g class=\"x\"><path class=\"xgrid crisp\" transform=\"translate(106.76,0)\" d=\"M0,100v320\" style=\"stroke: rgb(238, 238, 238); stroke-opacity: 1; stroke-width: 1px;\"/><path class=\"xgrid crisp\" transform=\"translate(249.26,0)\" d=\"M0,100v320\" style=\"stroke: rgb(238, 238, 238); stroke-opacity: 1; stroke-width: 1px;\"/><path class=\"xgrid crisp\" transform=\"translate(391.75,0)\" d=\"M0,100v320\" style=\"stroke: rgb(238, 238, 238); stroke-opacity: 1; stroke-width: 1px;\"/><path class=\"xgrid crisp\" transform=\"translate(534.25,0)\" d=\"M0,100v320\" style=\"stroke: rgb(238, 238, 238); stroke-opacity: 1; stroke-width: 1px;\"/></g><g class=\"y\"><path class=\"ygrid crisp\" transform=\"translate(0,374.35)\" d=\"M80,0h540\" style=\"stroke: rgb(238, 238, 238); stroke-opacity: 1; stroke-width: 1px;\"/><path class=\"ygrid crisp\" transform=\"translate(0,318.3)\" d=\"M80,0h540\" style=\"stroke: rgb(238, 238, 238); stroke-opacity: 1; stroke-width: 1px;\"/><path class=\"ygrid crisp\" transform=\"translate(0,262.26)\" d=\"M80,0h540\" style=\"stroke: rgb(238, 238, 238); stroke-opacity: 1; stroke-width: 1px;\"/><path class=\"ygrid crisp\" transform=\"translate(0,206.22)\" d=\"M80,0h540\" style=\"stroke: rgb(238, 238, 238); stroke-opacity: 1; stroke-width: 1px;\"/><path class=\"ygrid crisp\" transform=\"translate(0,150.17000000000002)\" d=\"M80,0h540\" style=\"stroke: rgb(238, 238, 238); stroke-opacity: 1; stroke-width: 1px;\"/></g></g><g class=\"zerolinelayer\"/><path class=\"xlines-below\"/><path class=\"ylines-below\"/><g class=\"overlines-below\"/><g class=\"xaxislayer-below\"/><g class=\"yaxislayer-below\"/><g class=\"overaxes-below\"/><g class=\"plot\" transform=\"translate(80,100)\" clip-path=\"url(#clip65c01cxyplot)\"><g class=\"scatterlayer mlayer\"><g class=\"trace scatter tracea7e728\" style=\"stroke-miterlimit: 2; opacity: 1;\"><g class=\"fills\"/><g class=\"errorbars\"/><g class=\"lines\"/><g class=\"points\"><path class=\"point\" transform=\"translate(182.08,154.18)\" d=\"M3,0A3,3 0 1,1 0,-3A3,3 0 0,1 3,0Z\" style=\"opacity: 1; stroke-width: 0px; fill: rgb(75, 154, 199); fill-opacity: 1;\"/><path class=\"point\" transform=\"translate(293.23,127.79)\" d=\"M3,0A3,3 0 1,1 0,-3A3,3 0 0,1 3,0Z\" style=\"opacity: 1; stroke-width: 0px; fill: rgb(75, 154, 199); fill-opacity: 1;\"/><path class=\"point\" transform=\"translate(100.57,146.07)\" d=\"M3,0A3,3 0 1,1 0,-3A3,3 0 0,1 3,0Z\" style=\"opacity: 1; stroke-width: 0px; fill: rgb(75, 154, 199); fill-opacity: 1;\"/><path class=\"point\" transform=\"translate(99.72,122.18)\" d=\"M3,0A3,3 0 1,1 0,-3A3,3 0 0,1 3,0Z\" style=\"opacity: 1; stroke-width: 0px; fill: rgb(75, 154, 199); fill-opacity: 1;\"/><path class=\"point\" transform=\"translate(473.91,252.45)\" d=\"M3,0A3,3 0 1,1 0,-3A3,3 0 0,1 3,0Z\" style=\"opacity: 1; stroke-width: 0px; fill: rgb(75, 154, 199); fill-opacity: 1;\"/><path class=\"point\" transform=\"translate(345.1,83.4)\" d=\"M3,0A3,3 0 1,1 0,-3A3,3 0 0,1 3,0Z\" style=\"opacity: 1; stroke-width: 0px; fill: rgb(75, 154, 199); fill-opacity: 1;\"/><path class=\"point\" transform=\"translate(200.32,38.9)\" d=\"M3,0A3,3 0 1,1 0,-3A3,3 0 0,1 3,0Z\" style=\"opacity: 1; stroke-width: 0px; fill: rgb(75, 154, 199); fill-opacity: 1;\"/><path class=\"point\" transform=\"translate(327.43,283.44)\" d=\"M3,0A3,3 0 1,1 0,-3A3,3 0 0,1 3,0Z\" style=\"opacity: 1; stroke-width: 0px; fill: rgb(75, 154, 199); fill-opacity: 1;\"/><path class=\"point\" transform=\"translate(327.14,230.07)\" d=\"M3,0A3,3 0 1,1 0,-3A3,3 0 0,1 3,0Z\" style=\"opacity: 1; stroke-width: 0px; fill: rgb(75, 154, 199); fill-opacity: 1;\"/><path class=\"point\" transform=\"translate(134.49,214.98)\" d=\"M3,0A3,3 0 1,1 0,-3A3,3 0 0,1 3,0Z\" style=\"opacity: 1; stroke-width: 0px; fill: rgb(75, 154, 199); fill-opacity: 1;\"/><path class=\"point\" transform=\"translate(387.84,283.98)\" d=\"M3,0A3,3 0 1,1 0,-3A3,3 0 0,1 3,0Z\" style=\"opacity: 1; stroke-width: 0px; fill: rgb(75, 154, 199); fill-opacity: 1;\"/><path class=\"point\" transform=\"translate(378.44,142.37)\" d=\"M3,0A3,3 0 1,1 0,-3A3,3 0 0,1 3,0Z\" style=\"opacity: 1; stroke-width: 0px; fill: rgb(75, 154, 199); fill-opacity: 1;\"/><path class=\"point\" transform=\"translate(127.36,237.45)\" d=\"M3,0A3,3 0 1,1 0,-3A3,3 0 0,1 3,0Z\" style=\"opacity: 1; stroke-width: 0px; fill: rgb(75, 154, 199); fill-opacity: 1;\"/><path class=\"point\" transform=\"translate(106.56,162.48)\" d=\"M3,0A3,3 0 1,1 0,-3A3,3 0 0,1 3,0Z\" style=\"opacity: 1; stroke-width: 0px; fill: rgb(75, 154, 199); fill-opacity: 1;\"/><path class=\"point\" transform=\"translate(126.51,106.51)\" d=\"M3,0A3,3 0 1,1 0,-3A3,3 0 0,1 3,0Z\" style=\"opacity: 1; stroke-width: 0px; fill: rgb(75, 154, 199); fill-opacity: 1;\"/><path class=\"point\" transform=\"translate(108.84,195.29)\" d=\"M3,0A3,3 0 1,1 0,-3A3,3 0 0,1 3,0Z\" style=\"opacity: 1; stroke-width: 0px; fill: rgb(75, 154, 199); fill-opacity: 1;\"/><path class=\"point\" transform=\"translate(90.88,267.5)\" d=\"M3,0A3,3 0 1,1 0,-3A3,3 0 0,1 3,0Z\" style=\"opacity: 1; stroke-width: 0px; fill: rgb(75, 154, 199); fill-opacity: 1;\"/><path class=\"point\" transform=\"translate(425.46,297.78)\" d=\"M3,0A3,3 0 1,1 0,-3A3,3 0 0,1 3,0Z\" style=\"opacity: 1; stroke-width: 0px; fill: rgb(75, 154, 199); fill-opacity: 1;\"/><path class=\"point\" transform=\"translate(462.51,210)\" d=\"M3,0A3,3 0 1,1 0,-3A3,3 0 0,1 3,0Z\" style=\"opacity: 1; stroke-width: 0px; fill: rgb(75, 154, 199); fill-opacity: 1;\"/><path class=\"point\" transform=\"translate(158.71,170.44)\" d=\"M3,0A3,3 0 1,1 0,-3A3,3 0 0,1 3,0Z\" style=\"opacity: 1; stroke-width: 0px; fill: rgb(75, 154, 199); fill-opacity: 1;\"/><path class=\"point\" transform=\"translate(489.59,172.91)\" d=\"M3,0A3,3 0 1,1 0,-3A3,3 0 0,1 3,0Z\" style=\"opacity: 1; stroke-width: 0px; fill: rgb(75, 154, 199); fill-opacity: 1;\"/><path class=\"point\" transform=\"translate(396.39,227.29)\" d=\"M3,0A3,3 0 1,1 0,-3A3,3 0 0,1 3,0Z\" style=\"opacity: 1; stroke-width: 0px; fill: rgb(75, 154, 199); fill-opacity: 1;\"/><path class=\"point\" transform=\"translate(243.64,289.21)\" d=\"M3,0A3,3 0 1,1 0,-3A3,3 0 0,1 3,0Z\" style=\"opacity: 1; stroke-width: 0px; fill: rgb(75, 154, 199); fill-opacity: 1;\"/><path class=\"point\" transform=\"translate(405.23,281.59)\" d=\"M3,0A3,3 0 1,1 0,-3A3,3 0 0,1 3,0Z\" style=\"opacity: 1; stroke-width: 0px; fill: rgb(75, 154, 199); fill-opacity: 1;\"/><path class=\"point\" transform=\"translate(145.03,245.46)\" d=\"M3,0A3,3 0 1,1 0,-3A3,3 0 0,1 3,0Z\" style=\"opacity: 1; stroke-width: 0px; fill: rgb(75, 154, 199); fill-opacity: 1;\"/><path class=\"point\" transform=\"translate(318.31,171.18)\" d=\"M3,0A3,3 0 1,1 0,-3A3,3 0 0,1 3,0Z\" style=\"opacity: 1; stroke-width: 0px; fill: rgb(75, 154, 199); fill-opacity: 1;\"/><path class=\"point\" transform=\"translate(509.25,215.93)\" d=\"M3,0A3,3 0 1,1 0,-3A3,3 0 0,1 3,0Z\" style=\"opacity: 1; stroke-width: 0px; fill: rgb(75, 154, 199); fill-opacity: 1;\"/><path class=\"point\" transform=\"translate(198.61,267.24)\" d=\"M3,0A3,3 0 1,1 0,-3A3,3 0 0,1 3,0Z\" style=\"opacity: 1; stroke-width: 0px; fill: rgb(75, 154, 199); fill-opacity: 1;\"/><path class=\"point\" transform=\"translate(306.05,122.67)\" d=\"M3,0A3,3 0 1,1 0,-3A3,3 0 0,1 3,0Z\" style=\"opacity: 1; stroke-width: 0px; fill: rgb(75, 154, 199); fill-opacity: 1;\"/><path class=\"point\" transform=\"translate(394.11,188.43)\" d=\"M3,0A3,3 0 1,1 0,-3A3,3 0 0,1 3,0Z\" style=\"opacity: 1; stroke-width: 0px; fill: rgb(75, 154, 199); fill-opacity: 1;\"/><path class=\"point\" transform=\"translate(302.35,289.45)\" d=\"M3,0A3,3 0 1,1 0,-3A3,3 0 0,1 3,0Z\" style=\"opacity: 1; stroke-width: 0px; fill: rgb(75, 154, 199); fill-opacity: 1;\"/><path class=\"point\" transform=\"translate(403.8,219.63)\" d=\"M3,0A3,3 0 1,1 0,-3A3,3 0 0,1 3,0Z\" style=\"opacity: 1; stroke-width: 0px; fill: rgb(75, 154, 199); fill-opacity: 1;\"/><path class=\"point\" transform=\"translate(331.7,105.28)\" d=\"M3,0A3,3 0 1,1 0,-3A3,3 0 0,1 3,0Z\" style=\"opacity: 1; stroke-width: 0px; fill: rgb(75, 154, 199); fill-opacity: 1;\"/><path class=\"point\" transform=\"translate(253.9,295.43)\" d=\"M3,0A3,3 0 1,1 0,-3A3,3 0 0,1 3,0Z\" style=\"opacity: 1; stroke-width: 0px; fill: rgb(75, 154, 199); fill-opacity: 1;\"/><path class=\"point\" transform=\"translate(460.8,222.66)\" d=\"M3,0A3,3 0 1,1 0,-3A3,3 0 0,1 3,0Z\" style=\"opacity: 1; stroke-width: 0px; fill: rgb(75, 154, 199); fill-opacity: 1;\"/><path class=\"point\" transform=\"translate(357.06,271.38)\" d=\"M3,0A3,3 0 1,1 0,-3A3,3 0 0,1 3,0Z\" style=\"opacity: 1; stroke-width: 0px; fill: rgb(75, 154, 199); fill-opacity: 1;\"/><path class=\"point\" transform=\"translate(377.3,144.13)\" d=\"M3,0A3,3 0 1,1 0,-3A3,3 0 0,1 3,0Z\" style=\"opacity: 1; stroke-width: 0px; fill: rgb(75, 154, 199); fill-opacity: 1;\"/><path class=\"point\" transform=\"translate(307.48,259.78)\" d=\"M3,0A3,3 0 1,1 0,-3A3,3 0 0,1 3,0Z\" style=\"opacity: 1; stroke-width: 0px; fill: rgb(75, 154, 199); fill-opacity: 1;\"/><path class=\"point\" transform=\"translate(40.44,146.35)\" d=\"M3,0A3,3 0 1,1 0,-3A3,3 0 0,1 3,0Z\" style=\"opacity: 1; stroke-width: 0px; fill: rgb(75, 154, 199); fill-opacity: 1;\"/><path class=\"point\" transform=\"translate(327.43,121.71)\" d=\"M3,0A3,3 0 1,1 0,-3A3,3 0 0,1 3,0Z\" style=\"opacity: 1; stroke-width: 0px; fill: rgb(75, 154, 199); fill-opacity: 1;\"/><path class=\"point\" transform=\"translate(66.66,300.25)\" d=\"M3,0A3,3 0 1,1 0,-3A3,3 0 0,1 3,0Z\" style=\"opacity: 1; stroke-width: 0px; fill: rgb(75, 154, 199); fill-opacity: 1;\"/><path class=\"point\" transform=\"translate(157.29,156.77)\" d=\"M3,0A3,3 0 1,1 0,-3A3,3 0 0,1 3,0Z\" style=\"opacity: 1; stroke-width: 0px; fill: rgb(75, 154, 199); fill-opacity: 1;\"/><path class=\"point\" transform=\"translate(364.19,148.32)\" d=\"M3,0A3,3 0 1,1 0,-3A3,3 0 0,1 3,0Z\" style=\"opacity: 1; stroke-width: 0px; fill: rgb(75, 154, 199); fill-opacity: 1;\"/><path class=\"point\" transform=\"translate(383,276.02)\" d=\"M3,0A3,3 0 1,1 0,-3A3,3 0 0,1 3,0Z\" style=\"opacity: 1; stroke-width: 0px; fill: rgb(75, 154, 199); fill-opacity: 1;\"/><path class=\"point\" transform=\"translate(393.83,102.24)\" d=\"M3,0A3,3 0 1,1 0,-3A3,3 0 0,1 3,0Z\" style=\"opacity: 1; stroke-width: 0px; fill: rgb(75, 154, 199); fill-opacity: 1;\"/><path class=\"point\" transform=\"translate(91.74,115.54)\" d=\"M3,0A3,3 0 1,1 0,-3A3,3 0 0,1 3,0Z\" style=\"opacity: 1; stroke-width: 0px; fill: rgb(75, 154, 199); fill-opacity: 1;\"/><path class=\"point\" transform=\"translate(70.36,273.31)\" d=\"M3,0A3,3 0 1,1 0,-3A3,3 0 0,1 3,0Z\" style=\"opacity: 1; stroke-width: 0px; fill: rgb(75, 154, 199); fill-opacity: 1;\"/><path class=\"point\" transform=\"translate(347.38,119.73)\" d=\"M3,0A3,3 0 1,1 0,-3A3,3 0 0,1 3,0Z\" style=\"opacity: 1; stroke-width: 0px; fill: rgb(75, 154, 199); fill-opacity: 1;\"/><path class=\"point\" transform=\"translate(359.06,127.96)\" d=\"M3,0A3,3 0 1,1 0,-3A3,3 0 0,1 3,0Z\" style=\"opacity: 1; stroke-width: 0px; fill: rgb(75, 154, 199); fill-opacity: 1;\"/><path class=\"point\" transform=\"translate(353.93,123.32)\" d=\"M3,0A3,3 0 1,1 0,-3A3,3 0 0,1 3,0Z\" style=\"opacity: 1; stroke-width: 0px; fill: rgb(75, 154, 199); fill-opacity: 1;\"/><path class=\"point\" transform=\"translate(60.67,230.77)\" d=\"M3,0A3,3 0 1,1 0,-3A3,3 0 0,1 3,0Z\" style=\"opacity: 1; stroke-width: 0px; fill: rgb(75, 154, 199); fill-opacity: 1;\"/><path class=\"point\" transform=\"translate(66.66,158.64)\" d=\"M3,0A3,3 0 1,1 0,-3A3,3 0 0,1 3,0Z\" style=\"opacity: 1; stroke-width: 0px; fill: rgb(75, 154, 199); fill-opacity: 1;\"/><path class=\"point\" transform=\"translate(367.32,103.91)\" d=\"M3,0A3,3 0 1,1 0,-3A3,3 0 0,1 3,0Z\" style=\"opacity: 1; stroke-width: 0px; fill: rgb(75, 154, 199); fill-opacity: 1;\"/><path class=\"point\" transform=\"translate(467.36,95.5)\" d=\"M3,0A3,3 0 1,1 0,-3A3,3 0 0,1 3,0Z\" style=\"opacity: 1; stroke-width: 0px; fill: rgb(75, 154, 199); fill-opacity: 1;\"/><path class=\"point\" transform=\"translate(420.62,107.29)\" d=\"M3,0A3,3 0 1,1 0,-3A3,3 0 0,1 3,0Z\" style=\"opacity: 1; stroke-width: 0px; fill: rgb(75, 154, 199); fill-opacity: 1;\"/><path class=\"point\" transform=\"translate(236.51,185.17)\" d=\"M3,0A3,3 0 1,1 0,-3A3,3 0 0,1 3,0Z\" style=\"opacity: 1; stroke-width: 0px; fill: rgb(75, 154, 199); fill-opacity: 1;\"/><path class=\"point\" transform=\"translate(338.54,295.27)\" d=\"M3,0A3,3 0 1,1 0,-3A3,3 0 0,1 3,0Z\" style=\"opacity: 1; stroke-width: 0px; fill: rgb(75, 154, 199); fill-opacity: 1;\"/><path class=\"point\" transform=\"translate(211.72,19.75)\" d=\"M3,0A3,3 0 1,1 0,-3A3,3 0 0,1 3,0Z\" style=\"opacity: 1; stroke-width: 0px; fill: rgb(75, 154, 199); fill-opacity: 1;\"/><path class=\"point\" transform=\"translate(251.05,138.24)\" d=\"M3,0A3,3 0 1,1 0,-3A3,3 0 0,1 3,0Z\" style=\"opacity: 1; stroke-width: 0px; fill: rgb(75, 154, 199); fill-opacity: 1;\"/><path class=\"point\" transform=\"translate(109.98,199.68)\" d=\"M3,0A3,3 0 1,1 0,-3A3,3 0 0,1 3,0Z\" style=\"opacity: 1; stroke-width: 0px; fill: rgb(75, 154, 199); fill-opacity: 1;\"/><path class=\"point\" transform=\"translate(47.28,278.65)\" d=\"M3,0A3,3 0 1,1 0,-3A3,3 0 0,1 3,0Z\" style=\"opacity: 1; stroke-width: 0px; fill: rgb(75, 154, 199); fill-opacity: 1;\"/><path class=\"point\" transform=\"translate(369.03,223.25)\" d=\"M3,0A3,3 0 1,1 0,-3A3,3 0 0,1 3,0Z\" style=\"opacity: 1; stroke-width: 0px; fill: rgb(75, 154, 199); fill-opacity: 1;\"/><path class=\"point\" transform=\"translate(208.87,152.35)\" d=\"M3,0A3,3 0 1,1 0,-3A3,3 0 0,1 3,0Z\" style=\"opacity: 1; stroke-width: 0px; fill: rgb(75, 154, 199); fill-opacity: 1;\"/><path class=\"point\" transform=\"translate(117.1,54.49)\" d=\"M3,0A3,3 0 1,1 0,-3A3,3 0 0,1 3,0Z\" style=\"opacity: 1; stroke-width: 0px; fill: rgb(75, 154, 199); fill-opacity: 1;\"/><path class=\"point\" transform=\"translate(60.67,167.96)\" d=\"M3,0A3,3 0 1,1 0,-3A3,3 0 0,1 3,0Z\" style=\"opacity: 1; stroke-width: 0px; fill: rgb(75, 154, 199); fill-opacity: 1;\"/><path class=\"point\" transform=\"translate(338.54,161.36)\" d=\"M3,0A3,3 0 1,1 0,-3A3,3 0 0,1 3,0Z\" style=\"opacity: 1; stroke-width: 0px; fill: rgb(75, 154, 199); fill-opacity: 1;\"/><path class=\"point\" transform=\"translate(114.54,109.23)\" d=\"M3,0A3,3 0 1,1 0,-3A3,3 0 0,1 3,0Z\" style=\"opacity: 1; stroke-width: 0px; fill: rgb(75, 154, 199); fill-opacity: 1;\"/><path class=\"point\" transform=\"translate(460.23,266.43)\" d=\"M3,0A3,3 0 1,1 0,-3A3,3 0 0,1 3,0Z\" style=\"opacity: 1; stroke-width: 0px; fill: rgb(75, 154, 199); fill-opacity: 1;\"/><path class=\"point\" transform=\"translate(257.03,157.83)\" d=\"M3,0A3,3 0 1,1 0,-3A3,3 0 0,1 3,0Z\" style=\"opacity: 1; stroke-width: 0px; fill: rgb(75, 154, 199); fill-opacity: 1;\"/><path class=\"point\" transform=\"translate(103.99,272.13)\" d=\"M3,0A3,3 0 1,1 0,-3A3,3 0 0,1 3,0Z\" style=\"opacity: 1; stroke-width: 0px; fill: rgb(75, 154, 199); fill-opacity: 1;\"/><path class=\"point\" transform=\"translate(348.8,290.13)\" d=\"M3,0A3,3 0 1,1 0,-3A3,3 0 0,1 3,0Z\" style=\"opacity: 1; stroke-width: 0px; fill: rgb(75, 154, 199); fill-opacity: 1;\"/><path class=\"point\" transform=\"translate(314.6,154.46)\" d=\"M3,0A3,3 0 1,1 0,-3A3,3 0 0,1 3,0Z\" style=\"opacity: 1; stroke-width: 0px; fill: rgb(75, 154, 199); fill-opacity: 1;\"/><path class=\"point\" transform=\"translate(446.27,262.3)\" d=\"M3,0A3,3 0 1,1 0,-3A3,3 0 0,1 3,0Z\" style=\"opacity: 1; stroke-width: 0px; fill: rgb(75, 154, 199); fill-opacity: 1;\"/><path class=\"point\" transform=\"translate(162.42,133.34)\" d=\"M3,0A3,3 0 1,1 0,-3A3,3 0 0,1 3,0Z\" style=\"opacity: 1; stroke-width: 0px; fill: rgb(75, 154, 199); fill-opacity: 1;\"/><path class=\"point\" transform=\"translate(395.25,219.77)\" d=\"M3,0A3,3 0 1,1 0,-3A3,3 0 0,1 3,0Z\" style=\"opacity: 1; stroke-width: 0px; fill: rgb(75, 154, 199); fill-opacity: 1;\"/><path class=\"point\" transform=\"translate(365.33,281.97)\" d=\"M3,0A3,3 0 1,1 0,-3A3,3 0 0,1 3,0Z\" style=\"opacity: 1; stroke-width: 0px; fill: rgb(75, 154, 199); fill-opacity: 1;\"/><path class=\"point\" transform=\"translate(379.86,101.08)\" d=\"M3,0A3,3 0 1,1 0,-3A3,3 0 0,1 3,0Z\" style=\"opacity: 1; stroke-width: 0px; fill: rgb(75, 154, 199); fill-opacity: 1;\"/><path class=\"point\" transform=\"translate(393.26,128.89)\" d=\"M3,0A3,3 0 1,1 0,-3A3,3 0 0,1 3,0Z\" style=\"opacity: 1; stroke-width: 0px; fill: rgb(75, 154, 199); fill-opacity: 1;\"/><path class=\"point\" transform=\"translate(67.23,275.99)\" d=\"M3,0A3,3 0 1,1 0,-3A3,3 0 0,1 3,0Z\" style=\"opacity: 1; stroke-width: 0px; fill: rgb(75, 154, 199); fill-opacity: 1;\"/><path class=\"point\" transform=\"translate(348.8,213.06)\" d=\"M3,0A3,3 0 1,1 0,-3A3,3 0 0,1 3,0Z\" style=\"opacity: 1; stroke-width: 0px; fill: rgb(75, 154, 199); fill-opacity: 1;\"/><path class=\"point\" transform=\"translate(74.35,287.33)\" d=\"M3,0A3,3 0 1,1 0,-3A3,3 0 0,1 3,0Z\" style=\"opacity: 1; stroke-width: 0px; fill: rgb(75, 154, 199); fill-opacity: 1;\"/><path class=\"point\" transform=\"translate(479.04,222.3)\" d=\"M3,0A3,3 0 1,1 0,-3A3,3 0 0,1 3,0Z\" style=\"opacity: 1; stroke-width: 0px; fill: rgb(75, 154, 199); fill-opacity: 1;\"/><path class=\"point\" transform=\"translate(385.85,111.42)\" d=\"M3,0A3,3 0 1,1 0,-3A3,3 0 0,1 3,0Z\" style=\"opacity: 1; stroke-width: 0px; fill: rgb(75, 154, 199); fill-opacity: 1;\"/><path class=\"point\" transform=\"translate(127.65,162.9)\" d=\"M3,0A3,3 0 1,1 0,-3A3,3 0 0,1 3,0Z\" style=\"opacity: 1; stroke-width: 0px; fill: rgb(75, 154, 199); fill-opacity: 1;\"/><path class=\"point\" transform=\"translate(116.25,104.16)\" d=\"M3,0A3,3 0 1,1 0,-3A3,3 0 0,1 3,0Z\" style=\"opacity: 1; stroke-width: 0px; fill: rgb(75, 154, 199); fill-opacity: 1;\"/><path class=\"point\" transform=\"translate(65.8,289.58)\" d=\"M3,0A3,3 0 1,1 0,-3A3,3 0 0,1 3,0Z\" style=\"opacity: 1; stroke-width: 0px; fill: rgb(75, 154, 199); fill-opacity: 1;\"/><path class=\"point\" transform=\"translate(401.52,208.55)\" d=\"M3,0A3,3 0 1,1 0,-3A3,3 0 0,1 3,0Z\" style=\"opacity: 1; stroke-width: 0px; fill: rgb(75, 154, 199); fill-opacity: 1;\"/><path class=\"point\" transform=\"translate(129.36,72.31)\" d=\"M3,0A3,3 0 1,1 0,-3A3,3 0 0,1 3,0Z\" style=\"opacity: 1; stroke-width: 0px; fill: rgb(75, 154, 199); fill-opacity: 1;\"/><path class=\"point\" transform=\"translate(267.86,283.37)\" d=\"M3,0A3,3 0 1,1 0,-3A3,3 0 0,1 3,0Z\" style=\"opacity: 1; stroke-width: 0px; fill: rgb(75, 154, 199); fill-opacity: 1;\"/><path class=\"point\" transform=\"translate(149.88,177.24)\" d=\"M3,0A3,3 0 1,1 0,-3A3,3 0 0,1 3,0Z\" style=\"opacity: 1; stroke-width: 0px; fill: rgb(75, 154, 199); fill-opacity: 1;\"/><path class=\"point\" transform=\"translate(40.44,218.89)\" d=\"M3,0A3,3 0 1,1 0,-3A3,3 0 0,1 3,0Z\" style=\"opacity: 1; stroke-width: 0px; fill: rgb(75, 154, 199); fill-opacity: 1;\"/><path class=\"point\" transform=\"translate(142.47,189.58)\" d=\"M3,0A3,3 0 1,1 0,-3A3,3 0 0,1 3,0Z\" style=\"opacity: 1; stroke-width: 0px; fill: rgb(75, 154, 199); fill-opacity: 1;\"/><path class=\"point\" transform=\"translate(220.27,128.66)\" d=\"M3,0A3,3 0 1,1 0,-3A3,3 0 0,1 3,0Z\" style=\"opacity: 1; stroke-width: 0px; fill: rgb(75, 154, 199); fill-opacity: 1;\"/><path class=\"point\" transform=\"translate(375.02,165.81)\" d=\"M3,0A3,3 0 1,1 0,-3A3,3 0 0,1 3,0Z\" style=\"opacity: 1; stroke-width: 0px; fill: rgb(75, 154, 199); fill-opacity: 1;\"/><path class=\"point\" transform=\"translate(30.75,92.27)\" d=\"M3,0A3,3 0 1,1 0,-3A3,3 0 0,1 3,0Z\" style=\"opacity: 1; stroke-width: 0px; fill: rgb(75, 154, 199); fill-opacity: 1;\"/><path class=\"point\" transform=\"translate(93.73,133.43)\" d=\"M3,0A3,3 0 1,1 0,-3A3,3 0 0,1 3,0Z\" style=\"opacity: 1; stroke-width: 0px; fill: rgb(75, 154, 199); fill-opacity: 1;\"/><path class=\"point\" transform=\"translate(143.32,256.32)\" d=\"M3,0A3,3 0 1,1 0,-3A3,3 0 0,1 3,0Z\" style=\"opacity: 1; stroke-width: 0px; fill: rgb(75, 154, 199); fill-opacity: 1;\"/><path class=\"point\" transform=\"translate(436.01,279.13)\" d=\"M3,0A3,3 0 1,1 0,-3A3,3 0 0,1 3,0Z\" style=\"opacity: 1; stroke-width: 0px; fill: rgb(75, 154, 199); fill-opacity: 1;\"/><path class=\"point\" transform=\"translate(65.8,272.88)\" d=\"M3,0A3,3 0 1,1 0,-3A3,3 0 0,1 3,0Z\" style=\"opacity: 1; stroke-width: 0px; fill: rgb(75, 154, 199); fill-opacity: 1;\"/><path class=\"point\" transform=\"translate(224.26,121.38)\" d=\"M3,0A3,3 0 1,1 0,-3A3,3 0 0,1 3,0Z\" style=\"opacity: 1; stroke-width: 0px; fill: rgb(75, 154, 199); fill-opacity: 1;\"/><path class=\"point\" transform=\"translate(50.13,236.61)\" d=\"M3,0A3,3 0 1,1 0,-3A3,3 0 0,1 3,0Z\" style=\"opacity: 1; stroke-width: 0px; fill: rgb(75, 154, 199); fill-opacity: 1;\"/><path class=\"point\" transform=\"translate(363.62,299.55)\" d=\"M3,0A3,3 0 1,1 0,-3A3,3 0 0,1 3,0Z\" style=\"opacity: 1; stroke-width: 0px; fill: rgb(75, 154, 199); fill-opacity: 1;\"/><path class=\"point\" transform=\"translate(339.11,263.38)\" d=\"M3,0A3,3 0 1,1 0,-3A3,3 0 0,1 3,0Z\" style=\"opacity: 1; stroke-width: 0px; fill: rgb(75, 154, 199); fill-opacity: 1;\"/><path class=\"point\" transform=\"translate(393.26,166.07)\" d=\"M3,0A3,3 0 1,1 0,-3A3,3 0 0,1 3,0Z\" style=\"opacity: 1; stroke-width: 0px; fill: rgb(75, 154, 199); fill-opacity: 1;\"/><path class=\"point\" transform=\"translate(257.03,285.69)\" d=\"M3,0A3,3 0 1,1 0,-3A3,3 0 0,1 3,0Z\" style=\"opacity: 1; stroke-width: 0px; fill: rgb(75, 154, 199); fill-opacity: 1;\"/><path class=\"point\" transform=\"translate(86.89,261.54)\" d=\"M3,0A3,3 0 1,1 0,-3A3,3 0 0,1 3,0Z\" style=\"opacity: 1; stroke-width: 0px; fill: rgb(75, 154, 199); fill-opacity: 1;\"/><path class=\"point\" transform=\"translate(341.96,109.54)\" d=\"M3,0A3,3 0 1,1 0,-3A3,3 0 0,1 3,0Z\" style=\"opacity: 1; stroke-width: 0px; fill: rgb(75, 154, 199); fill-opacity: 1;\"/><path class=\"point\" transform=\"translate(408.65,212.91)\" d=\"M3,0A3,3 0 1,1 0,-3A3,3 0 0,1 3,0Z\" style=\"opacity: 1; stroke-width: 0px; fill: rgb(75, 154, 199); fill-opacity: 1;\"/><path class=\"point\" transform=\"translate(320.02,103.35)\" d=\"M3,0A3,3 0 1,1 0,-3A3,3 0 0,1 3,0Z\" style=\"opacity: 1; stroke-width: 0px; fill: rgb(75, 154, 199); fill-opacity: 1;\"/><path class=\"point\" transform=\"translate(121.09,234.51)\" d=\"M3,0A3,3 0 1,1 0,-3A3,3 0 0,1 3,0Z\" style=\"opacity: 1; stroke-width: 0px; fill: rgb(75, 154, 199); fill-opacity: 1;\"/><path class=\"point\" transform=\"translate(347.95,102.15)\" d=\"M3,0A3,3 0 1,1 0,-3A3,3 0 0,1 3,0Z\" style=\"opacity: 1; stroke-width: 0px; fill: rgb(75, 154, 199); fill-opacity: 1;\"/><path class=\"point\" transform=\"translate(181.8,229.16)\" d=\"M3,0A3,3 0 1,1 0,-3A3,3 0 0,1 3,0Z\" style=\"opacity: 1; stroke-width: 0px; fill: rgb(75, 154, 199); fill-opacity: 1;\"/><path class=\"point\" transform=\"translate(302.92,98.76)\" d=\"M3,0A3,3 0 1,1 0,-3A3,3 0 0,1 3,0Z\" style=\"opacity: 1; stroke-width: 0px; fill: rgb(75, 154, 199); fill-opacity: 1;\"/><path class=\"point\" transform=\"translate(201.17,125.08)\" d=\"M3,0A3,3 0 1,1 0,-3A3,3 0 0,1 3,0Z\" style=\"opacity: 1; stroke-width: 0px; fill: rgb(75, 154, 199); fill-opacity: 1;\"/><path class=\"point\" transform=\"translate(399.24,146.64)\" d=\"M3,0A3,3 0 1,1 0,-3A3,3 0 0,1 3,0Z\" style=\"opacity: 1; stroke-width: 0px; fill: rgb(75, 154, 199); fill-opacity: 1;\"/><path class=\"point\" transform=\"translate(398.39,270.68)\" d=\"M3,0A3,3 0 1,1 0,-3A3,3 0 0,1 3,0Z\" style=\"opacity: 1; stroke-width: 0px; fill: rgb(75, 154, 199); fill-opacity: 1;\"/><path class=\"point\" transform=\"translate(250.48,285.18)\" d=\"M3,0A3,3 0 1,1 0,-3A3,3 0 0,1 3,0Z\" style=\"opacity: 1; stroke-width: 0px; fill: rgb(75, 154, 199); fill-opacity: 1;\"/><path class=\"point\" transform=\"translate(85.18,285.9)\" d=\"M3,0A3,3 0 1,1 0,-3A3,3 0 0,1 3,0Z\" style=\"opacity: 1; stroke-width: 0px; fill: rgb(75, 154, 199); fill-opacity: 1;\"/><path class=\"point\" transform=\"translate(338.54,282.81)\" d=\"M3,0A3,3 0 1,1 0,-3A3,3 0 0,1 3,0Z\" style=\"opacity: 1; stroke-width: 0px; fill: rgb(75, 154, 199); fill-opacity: 1;\"/><path class=\"point\" transform=\"translate(106.56,78.34)\" d=\"M3,0A3,3 0 1,1 0,-3A3,3 0 0,1 3,0Z\" style=\"opacity: 1; stroke-width: 0px; fill: rgb(75, 154, 199); fill-opacity: 1;\"/><path class=\"point\" transform=\"translate(105.99,250.09)\" d=\"M3,0A3,3 0 1,1 0,-3A3,3 0 0,1 3,0Z\" style=\"opacity: 1; stroke-width: 0px; fill: rgb(75, 154, 199); fill-opacity: 1;\"/><path class=\"point\" transform=\"translate(123.94,235.65)\" d=\"M3,0A3,3 0 1,1 0,-3A3,3 0 0,1 3,0Z\" style=\"opacity: 1; stroke-width: 0px; fill: rgb(75, 154, 199); fill-opacity: 1;\"/><path class=\"point\" transform=\"translate(351.08,234.36)\" d=\"M3,0A3,3 0 1,1 0,-3A3,3 0 0,1 3,0Z\" style=\"opacity: 1; stroke-width: 0px; fill: rgb(75, 154, 199); fill-opacity: 1;\"/><path class=\"point\" transform=\"translate(502.7,189.71)\" d=\"M3,0A3,3 0 1,1 0,-3A3,3 0 0,1 3,0Z\" style=\"opacity: 1; stroke-width: 0px; fill: rgb(75, 154, 199); fill-opacity: 1;\"/></g><g class=\"text\"/></g></g></g><g class=\"overplot\"/><path class=\"xlines-above crisp\" d=\"M0,0\" style=\"fill: none;\"/><path class=\"ylines-above crisp\" d=\"M0,0\" style=\"fill: none;\"/><g class=\"overlines-above\"/><g class=\"xaxislayer-above\"><g class=\"xtick\"><text text-anchor=\"middle\" x=\"0\" y=\"433\" transform=\"translate(106.76,0)\" style=\"font-family: 'Open Sans', verdana, arial, sans-serif; font-size: 12px; fill: rgb(68, 68, 68); fill-opacity: 1; white-space: pre; opacity: 1;\">2.5</text></g><g class=\"xtick\"><text text-anchor=\"middle\" x=\"0\" y=\"433\" style=\"font-family: 'Open Sans', verdana, arial, sans-serif; font-size: 12px; fill: rgb(68, 68, 68); fill-opacity: 1; white-space: pre; opacity: 1;\" transform=\"translate(249.26,0)\">3</text></g><g class=\"xtick\"><text text-anchor=\"middle\" x=\"0\" y=\"433\" style=\"font-family: 'Open Sans', verdana, arial, sans-serif; font-size: 12px; fill: rgb(68, 68, 68); fill-opacity: 1; white-space: pre; opacity: 1;\" transform=\"translate(391.75,0)\">3.5</text></g><g class=\"xtick\"><text text-anchor=\"middle\" x=\"0\" y=\"433\" style=\"font-family: 'Open Sans', verdana, arial, sans-serif; font-size: 12px; fill: rgb(68, 68, 68); fill-opacity: 1; white-space: pre; opacity: 1;\" transform=\"translate(534.25,0)\">4</text></g></g><g class=\"yaxislayer-above\"><g class=\"ytick\"><text text-anchor=\"end\" x=\"79\" y=\"4.199999999999999\" transform=\"translate(0,374.35)\" style=\"font-family: 'Open Sans', verdana, arial, sans-serif; font-size: 12px; fill: rgb(68, 68, 68); fill-opacity: 1; white-space: pre; opacity: 1;\">0.5M</text></g><g class=\"ytick\"><text text-anchor=\"end\" x=\"79\" y=\"4.199999999999999\" style=\"font-family: 'Open Sans', verdana, arial, sans-serif; font-size: 12px; fill: rgb(68, 68, 68); fill-opacity: 1; white-space: pre; opacity: 1;\" transform=\"translate(0,318.3)\">1M</text></g><g class=\"ytick\"><text text-anchor=\"end\" x=\"79\" y=\"4.199999999999999\" style=\"font-family: 'Open Sans', verdana, arial, sans-serif; font-size: 12px; fill: rgb(68, 68, 68); fill-opacity: 1; white-space: pre; opacity: 1;\" transform=\"translate(0,262.26)\">1.5M</text></g><g class=\"ytick\"><text text-anchor=\"end\" x=\"79\" y=\"4.199999999999999\" style=\"font-family: 'Open Sans', verdana, arial, sans-serif; font-size: 12px; fill: rgb(68, 68, 68); fill-opacity: 1; white-space: pre; opacity: 1;\" transform=\"translate(0,206.22)\">2M</text></g><g class=\"ytick\"><text text-anchor=\"end\" x=\"79\" y=\"4.199999999999999\" style=\"font-family: 'Open Sans', verdana, arial, sans-serif; font-size: 12px; fill: rgb(68, 68, 68); fill-opacity: 1; white-space: pre; opacity: 1;\" transform=\"translate(0,150.17000000000002)\">2.5M</text></g></g><g class=\"overaxes-above\"/></g></g><g class=\"polarlayer\"/><g class=\"smithlayer\"/><g class=\"ternarylayer\"/><g class=\"geolayer\"/><g class=\"funnelarealayer\"/><g class=\"pielayer\"/><g class=\"iciclelayer\"/><g class=\"treemaplayer\"/><g class=\"sunburstlayer\"/><g class=\"glimages\"/><defs id=\"topdefs-65c01c\"><g class=\"clips\"/></defs><g class=\"layer-above\"><g class=\"imagelayer\"/><g class=\"shapelayer\"/></g><g class=\"infolayer\"><g class=\"g-gtitle\"><text class=\"gtitle\" x=\"350\" y=\"50\" text-anchor=\"middle\" dy=\"0em\" style=\"font-family: 'Open Sans', verdana, arial, sans-serif; font-size: 17px; fill: rgb(68, 68, 68); opacity: 1; font-weight: normal; white-space: pre;\">CPI and Weekly Sales</text></g><g class=\"g-xtitle\"><text class=\"xtitle\" x=\"350\" y=\"472\" text-anchor=\"middle\" style=\"font-family: 'Open Sans', verdana, arial, sans-serif; font-size: 14px; fill: rgb(68, 68, 68); opacity: 1; font-weight: normal; white-space: pre;\">Fuel_Price</text></g><g class=\"g-ytitle\"><text class=\"ytitle\" transform=\"rotate(-90,42,260)\" x=\"42\" y=\"260\" text-anchor=\"middle\" style=\"font-family: 'Open Sans', verdana, arial, sans-serif; font-size: 14px; fill: rgb(68, 68, 68); opacity: 1; font-weight: normal; white-space: pre;\">Weekly Sales</text></g></g></svg>"
      ]
     },
     "metadata": {},
     "output_type": "display_data"
    }
   ],
   "source": [
    "# scatter plot  Fuel price and Weekly Sales\n",
    "fig = px.scatter(dataset, x='Fuel_Price', y='Weekly_Sales', title='CPI and Weekly Sales',\n",
    "                 labels={'Fuel_Price':'Fuel_Price', 'Weekly_Sales':'Weekly Sales'})\n",
    "\n",
    "# Show the plot\n",
    "fig.show()"
   ]
  },
  {
   "cell_type": "code",
   "execution_count": 12,
   "metadata": {},
   "outputs": [
    {
     "name": "stdout",
     "output_type": "stream",
     "text": [
      "Number of sales with fuel price less than 3: 44\n",
      "Percentage of total sales: 32.35%\n"
     ]
    }
   ],
   "source": [
    "# Filter the dataset for fuel prices less than 3\n",
    "total_sales = dataset.shape[0]\n",
    "\n",
    "total_sales = dataset.shape[0]\n",
    "\n",
    "filtered_sales = dataset[dataset['Fuel_Price'] < 3]\n",
    "\n",
    "# Count the number of sales\n",
    "sales_count = filtered_sales.shape[0]\n",
    "\n",
    "percentage_sales_fuel_less_3 = (sales_count / total_sales) * 100\n",
    "\n",
    "\n",
    "print(f\"Number of sales with fuel price less than 3: {sales_count}\")\n",
    "print(f\"Percentage of total sales: {percentage_sales_fuel_less_3:.2f}%\")\n"
   ]
  },
  {
   "cell_type": "code",
   "execution_count": 13,
   "metadata": {},
   "outputs": [
    {
     "name": "stdout",
     "output_type": "stream",
     "text": [
      "Number of sales with fuel price greater than or equal to 3: 80\n",
      "Percentage of total sales: 58.82%\n"
     ]
    }
   ],
   "source": [
    "# Filter the dataset for fuel prices less than \n",
    "\n",
    "total_sales = dataset.shape[0]\n",
    "\n",
    "filtered_sales = dataset[dataset['Fuel_Price'] >= 3]\n",
    "\n",
    "# Count the number of sales\n",
    "sales_count = filtered_sales.shape[0]\n",
    "\n",
    "# Calculate the percentage of sales in this category\n",
    "percentage_sales_fuel_over_3 = (sales_count / total_sales) * 100\n",
    "\n",
    "print(f\"Number of sales with fuel price greater than or equal to 3: {sales_count}\")\n",
    "print(f\"Percentage of total sales: {percentage_sales_fuel_over_3:.2f}%\")"
   ]
  },
  {
   "cell_type": "code",
   "execution_count": 14,
   "metadata": {},
   "outputs": [
    {
     "data": {
      "image/svg+xml": [
       "<svg class=\"main-svg\" xmlns=\"http://www.w3.org/2000/svg\" xmlns:xlink=\"http://www.w3.org/1999/xlink\" width=\"700\" height=\"500\" style=\"\" viewBox=\"0 0 700 500\"><rect x=\"0\" y=\"0\" width=\"700\" height=\"500\" style=\"fill: rgb(255, 255, 255); fill-opacity: 1;\"/><defs id=\"defs-a66103\"><g class=\"clips\"><clipPath id=\"clipa66103xyplot\" class=\"plotclip\"><rect width=\"540\" height=\"320\"/></clipPath><clipPath class=\"axesclip\" id=\"clipa66103x\"><rect x=\"80\" y=\"0\" width=\"540\" height=\"500\"/></clipPath><clipPath class=\"axesclip\" id=\"clipa66103y\"><rect x=\"0\" y=\"100\" width=\"700\" height=\"320\"/></clipPath><clipPath class=\"axesclip\" id=\"clipa66103xy\"><rect x=\"80\" y=\"100\" width=\"540\" height=\"320\"/></clipPath></g><g class=\"gradients\"/><g class=\"patterns\"/></defs><g class=\"bglayer\"/><g class=\"layer-below\"><g class=\"imagelayer\"/><g class=\"shapelayer\"/></g><g class=\"cartesianlayer\"><g class=\"subplot xy\"><g class=\"layer-subplot\"><g class=\"shapelayer\"/><g class=\"imagelayer\"/></g><g class=\"minor-gridlayer\"><g class=\"x\"/><g class=\"y\"/></g><g class=\"gridlayer\"><g class=\"x\"><path class=\"xgrid crisp\" transform=\"translate(81.75,0)\" d=\"M0,100v320\" style=\"stroke: rgb(238, 238, 238); stroke-opacity: 1; stroke-width: 1px;\"/><path class=\"xgrid crisp\" transform=\"translate(176.64,0)\" d=\"M0,100v320\" style=\"stroke: rgb(238, 238, 238); stroke-opacity: 1; stroke-width: 1px;\"/><path class=\"xgrid crisp\" transform=\"translate(271.53,0)\" d=\"M0,100v320\" style=\"stroke: rgb(238, 238, 238); stroke-opacity: 1; stroke-width: 1px;\"/><path class=\"xgrid crisp\" transform=\"translate(366.41,0)\" d=\"M0,100v320\" style=\"stroke: rgb(238, 238, 238); stroke-opacity: 1; stroke-width: 1px;\"/><path class=\"xgrid crisp\" transform=\"translate(461.3,0)\" d=\"M0,100v320\" style=\"stroke: rgb(238, 238, 238); stroke-opacity: 1; stroke-width: 1px;\"/><path class=\"xgrid crisp\" transform=\"translate(556.19,0)\" d=\"M0,100v320\" style=\"stroke: rgb(238, 238, 238); stroke-opacity: 1; stroke-width: 1px;\"/></g><g class=\"y\"><path class=\"ygrid crisp\" transform=\"translate(0,374.35)\" d=\"M80,0h540\" style=\"stroke: rgb(238, 238, 238); stroke-opacity: 1; stroke-width: 1px;\"/><path class=\"ygrid crisp\" transform=\"translate(0,318.3)\" d=\"M80,0h540\" style=\"stroke: rgb(238, 238, 238); stroke-opacity: 1; stroke-width: 1px;\"/><path class=\"ygrid crisp\" transform=\"translate(0,262.26)\" d=\"M80,0h540\" style=\"stroke: rgb(238, 238, 238); stroke-opacity: 1; stroke-width: 1px;\"/><path class=\"ygrid crisp\" transform=\"translate(0,206.22)\" d=\"M80,0h540\" style=\"stroke: rgb(238, 238, 238); stroke-opacity: 1; stroke-width: 1px;\"/><path class=\"ygrid crisp\" transform=\"translate(0,150.17000000000002)\" d=\"M80,0h540\" style=\"stroke: rgb(238, 238, 238); stroke-opacity: 1; stroke-width: 1px;\"/></g></g><g class=\"zerolinelayer\"/><path class=\"xlines-below\"/><path class=\"ylines-below\"/><g class=\"overlines-below\"/><g class=\"xaxislayer-below\"/><g class=\"yaxislayer-below\"/><g class=\"overaxes-below\"/><g class=\"plot\" transform=\"translate(80,100)\" clip-path=\"url(#clipa66103xyplot)\"><g class=\"scatterlayer mlayer\"><g class=\"trace scatter traceb787d0\" style=\"stroke-miterlimit: 2; opacity: 1;\"><g class=\"fills\"/><g class=\"errorbars\"/><g class=\"lines\"/><g class=\"points\"><path class=\"point\" transform=\"translate(451.41,154.18)\" d=\"M3,0A3,3 0 1,1 0,-3A3,3 0 0,1 3,0Z\" style=\"opacity: 1; stroke-width: 0px; fill: rgb(75, 154, 199); fill-opacity: 1;\"/><path class=\"point\" transform=\"translate(42.63,127.79)\" d=\"M3,0A3,3 0 1,1 0,-3A3,3 0 0,1 3,0Z\" style=\"opacity: 1; stroke-width: 0px; fill: rgb(75, 154, 199); fill-opacity: 1;\"/><path class=\"point\" transform=\"translate(450.36,190.91)\" d=\"M3,0A3,3 0 1,1 0,-3A3,3 0 0,1 3,0Z\" style=\"opacity: 1; stroke-width: 0px; fill: rgb(75, 154, 199); fill-opacity: 1;\"/><path class=\"point\" transform=\"translate(440.19,146.07)\" d=\"M3,0A3,3 0 1,1 0,-3A3,3 0 0,1 3,0Z\" style=\"opacity: 1; stroke-width: 0px; fill: rgb(75, 154, 199); fill-opacity: 1;\"/><path class=\"point\" transform=\"translate(30.98,122.18)\" d=\"M3,0A3,3 0 1,1 0,-3A3,3 0 0,1 3,0Z\" style=\"opacity: 1; stroke-width: 0px; fill: rgb(75, 154, 199); fill-opacity: 1;\"/><path class=\"point\" transform=\"translate(72.23,252.45)\" d=\"M3,0A3,3 0 1,1 0,-3A3,3 0 0,1 3,0Z\" style=\"opacity: 1; stroke-width: 0px; fill: rgb(75, 154, 199); fill-opacity: 1;\"/><path class=\"point\" transform=\"translate(443.09,83.4)\" d=\"M3,0A3,3 0 1,1 0,-3A3,3 0 0,1 3,0Z\" style=\"opacity: 1; stroke-width: 0px; fill: rgb(75, 154, 199); fill-opacity: 1;\"/><path class=\"point\" transform=\"translate(495.79,283.44)\" d=\"M3,0A3,3 0 1,1 0,-3A3,3 0 0,1 3,0Z\" style=\"opacity: 1; stroke-width: 0px; fill: rgb(75, 154, 199); fill-opacity: 1;\"/><path class=\"point\" transform=\"translate(471.78,230.07)\" d=\"M3,0A3,3 0 1,1 0,-3A3,3 0 0,1 3,0Z\" style=\"opacity: 1; stroke-width: 0px; fill: rgb(75, 154, 199); fill-opacity: 1;\"/><path class=\"point\" transform=\"translate(62.31,214.98)\" d=\"M3,0A3,3 0 1,1 0,-3A3,3 0 0,1 3,0Z\" style=\"opacity: 1; stroke-width: 0px; fill: rgb(75, 154, 199); fill-opacity: 1;\"/><path class=\"point\" transform=\"translate(347.26,283.98)\" d=\"M3,0A3,3 0 1,1 0,-3A3,3 0 0,1 3,0Z\" style=\"opacity: 1; stroke-width: 0px; fill: rgb(75, 154, 199); fill-opacity: 1;\"/><path class=\"point\" transform=\"translate(481.94,142.37)\" d=\"M3,0A3,3 0 1,1 0,-3A3,3 0 0,1 3,0Z\" style=\"opacity: 1; stroke-width: 0px; fill: rgb(75, 154, 199); fill-opacity: 1;\"/><path class=\"point\" transform=\"translate(31.33,237.45)\" d=\"M3,0A3,3 0 1,1 0,-3A3,3 0 0,1 3,0Z\" style=\"opacity: 1; stroke-width: 0px; fill: rgb(75, 154, 199); fill-opacity: 1;\"/><path class=\"point\" transform=\"translate(437.73,162.48)\" d=\"M3,0A3,3 0 1,1 0,-3A3,3 0 0,1 3,0Z\" style=\"opacity: 1; stroke-width: 0px; fill: rgb(75, 154, 199); fill-opacity: 1;\"/><path class=\"point\" transform=\"translate(56.45,195.29)\" d=\"M3,0A3,3 0 1,1 0,-3A3,3 0 0,1 3,0Z\" style=\"opacity: 1; stroke-width: 0px; fill: rgb(75, 154, 199); fill-opacity: 1;\"/><path class=\"point\" transform=\"translate(332.46,267.5)\" d=\"M3,0A3,3 0 1,1 0,-3A3,3 0 0,1 3,0Z\" style=\"opacity: 1; stroke-width: 0px; fill: rgb(75, 154, 199); fill-opacity: 1;\"/><path class=\"point\" transform=\"translate(459.75,297.78)\" d=\"M3,0A3,3 0 1,1 0,-3A3,3 0 0,1 3,0Z\" style=\"opacity: 1; stroke-width: 0px; fill: rgb(75, 154, 199); fill-opacity: 1;\"/><path class=\"point\" transform=\"translate(91.48,210)\" d=\"M3,0A3,3 0 1,1 0,-3A3,3 0 0,1 3,0Z\" style=\"opacity: 1; stroke-width: 0px; fill: rgb(75, 154, 199); fill-opacity: 1;\"/><path class=\"point\" transform=\"translate(58.04,170.44)\" d=\"M3,0A3,3 0 1,1 0,-3A3,3 0 0,1 3,0Z\" style=\"opacity: 1; stroke-width: 0px; fill: rgb(75, 154, 199); fill-opacity: 1;\"/><path class=\"point\" transform=\"translate(87.31,172.91)\" d=\"M3,0A3,3 0 1,1 0,-3A3,3 0 0,1 3,0Z\" style=\"opacity: 1; stroke-width: 0px; fill: rgb(75, 154, 199); fill-opacity: 1;\"/><path class=\"point\" transform=\"translate(54.45,227.29)\" d=\"M3,0A3,3 0 1,1 0,-3A3,3 0 0,1 3,0Z\" style=\"opacity: 1; stroke-width: 0px; fill: rgb(75, 154, 199); fill-opacity: 1;\"/><path class=\"point\" transform=\"translate(347.29,281.59)\" d=\"M3,0A3,3 0 1,1 0,-3A3,3 0 0,1 3,0Z\" style=\"opacity: 1; stroke-width: 0px; fill: rgb(75, 154, 199); fill-opacity: 1;\"/><path class=\"point\" transform=\"translate(32.89,245.46)\" d=\"M3,0A3,3 0 1,1 0,-3A3,3 0 0,1 3,0Z\" style=\"opacity: 1; stroke-width: 0px; fill: rgb(75, 154, 199); fill-opacity: 1;\"/><path class=\"point\" transform=\"translate(463.24,171.18)\" d=\"M3,0A3,3 0 1,1 0,-3A3,3 0 0,1 3,0Z\" style=\"opacity: 1; stroke-width: 0px; fill: rgb(75, 154, 199); fill-opacity: 1;\"/><path class=\"point\" transform=\"translate(44.66,215.93)\" d=\"M3,0A3,3 0 1,1 0,-3A3,3 0 0,1 3,0Z\" style=\"opacity: 1; stroke-width: 0px; fill: rgb(75, 154, 199); fill-opacity: 1;\"/><path class=\"point\" transform=\"translate(366.69,267.24)\" d=\"M3,0A3,3 0 1,1 0,-3A3,3 0 0,1 3,0Z\" style=\"opacity: 1; stroke-width: 0px; fill: rgb(75, 154, 199); fill-opacity: 1;\"/><path class=\"point\" transform=\"translate(452.13,122.67)\" d=\"M3,0A3,3 0 1,1 0,-3A3,3 0 0,1 3,0Z\" style=\"opacity: 1; stroke-width: 0px; fill: rgb(75, 154, 199); fill-opacity: 1;\"/><path class=\"point\" transform=\"translate(67.98,188.43)\" d=\"M3,0A3,3 0 1,1 0,-3A3,3 0 0,1 3,0Z\" style=\"opacity: 1; stroke-width: 0px; fill: rgb(75, 154, 199); fill-opacity: 1;\"/><path class=\"point\" transform=\"translate(474.96,289.45)\" d=\"M3,0A3,3 0 1,1 0,-3A3,3 0 0,1 3,0Z\" style=\"opacity: 1; stroke-width: 0px; fill: rgb(75, 154, 199); fill-opacity: 1;\"/><path class=\"point\" transform=\"translate(69.49,219.63)\" d=\"M3,0A3,3 0 1,1 0,-3A3,3 0 0,1 3,0Z\" style=\"opacity: 1; stroke-width: 0px; fill: rgb(75, 154, 199); fill-opacity: 1;\"/><path class=\"point\" transform=\"translate(44.77,105.28)\" d=\"M3,0A3,3 0 1,1 0,-3A3,3 0 0,1 3,0Z\" style=\"opacity: 1; stroke-width: 0px; fill: rgb(75, 154, 199); fill-opacity: 1;\"/><path class=\"point\" transform=\"translate(469.4,295.43)\" d=\"M3,0A3,3 0 1,1 0,-3A3,3 0 0,1 3,0Z\" style=\"opacity: 1; stroke-width: 0px; fill: rgb(75, 154, 199); fill-opacity: 1;\"/><path class=\"point\" transform=\"translate(87.05,222.66)\" d=\"M3,0A3,3 0 1,1 0,-3A3,3 0 0,1 3,0Z\" style=\"opacity: 1; stroke-width: 0px; fill: rgb(75, 154, 199); fill-opacity: 1;\"/><path class=\"point\" transform=\"translate(372.41,271.38)\" d=\"M3,0A3,3 0 1,1 0,-3A3,3 0 0,1 3,0Z\" style=\"opacity: 1; stroke-width: 0px; fill: rgb(75, 154, 199); fill-opacity: 1;\"/><path class=\"point\" transform=\"translate(487.76,144.13)\" d=\"M3,0A3,3 0 1,1 0,-3A3,3 0 0,1 3,0Z\" style=\"opacity: 1; stroke-width: 0px; fill: rgb(75, 154, 199); fill-opacity: 1;\"/><path class=\"point\" transform=\"translate(354.64,259.78)\" d=\"M3,0A3,3 0 1,1 0,-3A3,3 0 0,1 3,0Z\" style=\"opacity: 1; stroke-width: 0px; fill: rgb(75, 154, 199); fill-opacity: 1;\"/><path class=\"point\" transform=\"translate(434.64,146.35)\" d=\"M3,0A3,3 0 1,1 0,-3A3,3 0 0,1 3,0Z\" style=\"opacity: 1; stroke-width: 0px; fill: rgb(75, 154, 199); fill-opacity: 1;\"/><path class=\"point\" transform=\"translate(477.5,121.71)\" d=\"M3,0A3,3 0 1,1 0,-3A3,3 0 0,1 3,0Z\" style=\"opacity: 1; stroke-width: 0px; fill: rgb(75, 154, 199); fill-opacity: 1;\"/><path class=\"point\" transform=\"translate(437.89,300.25)\" d=\"M3,0A3,3 0 1,1 0,-3A3,3 0 0,1 3,0Z\" style=\"opacity: 1; stroke-width: 0px; fill: rgb(75, 154, 199); fill-opacity: 1;\"/><path class=\"point\" transform=\"translate(61.16,156.77)\" d=\"M3,0A3,3 0 1,1 0,-3A3,3 0 0,1 3,0Z\" style=\"opacity: 1; stroke-width: 0px; fill: rgb(75, 154, 199); fill-opacity: 1;\"/><path class=\"point\" transform=\"translate(455.05,148.32)\" d=\"M3,0A3,3 0 1,1 0,-3A3,3 0 0,1 3,0Z\" style=\"opacity: 1; stroke-width: 0px; fill: rgb(75, 154, 199); fill-opacity: 1;\"/><path class=\"point\" transform=\"translate(369.03,276.02)\" d=\"M3,0A3,3 0 1,1 0,-3A3,3 0 0,1 3,0Z\" style=\"opacity: 1; stroke-width: 0px; fill: rgb(75, 154, 199); fill-opacity: 1;\"/><path class=\"point\" transform=\"translate(53.75,102.24)\" d=\"M3,0A3,3 0 1,1 0,-3A3,3 0 0,1 3,0Z\" style=\"opacity: 1; stroke-width: 0px; fill: rgb(75, 154, 199); fill-opacity: 1;\"/><path class=\"point\" transform=\"translate(436.62,115.54)\" d=\"M3,0A3,3 0 1,1 0,-3A3,3 0 0,1 3,0Z\" style=\"opacity: 1; stroke-width: 0px; fill: rgb(75, 154, 199); fill-opacity: 1;\"/><path class=\"point\" transform=\"translate(451.98,273.31)\" d=\"M3,0A3,3 0 1,1 0,-3A3,3 0 0,1 3,0Z\" style=\"opacity: 1; stroke-width: 0px; fill: rgb(75, 154, 199); fill-opacity: 1;\"/><path class=\"point\" transform=\"translate(310.11,119.73)\" d=\"M3,0A3,3 0 1,1 0,-3A3,3 0 0,1 3,0Z\" style=\"opacity: 1; stroke-width: 0px; fill: rgb(75, 154, 199); fill-opacity: 1;\"/><path class=\"point\" transform=\"translate(52.61,127.96)\" d=\"M3,0A3,3 0 1,1 0,-3A3,3 0 0,1 3,0Z\" style=\"opacity: 1; stroke-width: 0px; fill: rgb(75, 154, 199); fill-opacity: 1;\"/><path class=\"point\" transform=\"translate(46.91,123.32)\" d=\"M3,0A3,3 0 1,1 0,-3A3,3 0 0,1 3,0Z\" style=\"opacity: 1; stroke-width: 0px; fill: rgb(75, 154, 199); fill-opacity: 1;\"/><path class=\"point\" transform=\"translate(452.16,230.77)\" d=\"M3,0A3,3 0 1,1 0,-3A3,3 0 0,1 3,0Z\" style=\"opacity: 1; stroke-width: 0px; fill: rgb(75, 154, 199); fill-opacity: 1;\"/><path class=\"point\" transform=\"translate(442.48,158.64)\" d=\"M3,0A3,3 0 1,1 0,-3A3,3 0 0,1 3,0Z\" style=\"opacity: 1; stroke-width: 0px; fill: rgb(75, 154, 199); fill-opacity: 1;\"/><path class=\"point\" transform=\"translate(333.11,103.91)\" d=\"M3,0A3,3 0 1,1 0,-3A3,3 0 0,1 3,0Z\" style=\"opacity: 1; stroke-width: 0px; fill: rgb(75, 154, 199); fill-opacity: 1;\"/><path class=\"point\" transform=\"translate(314.58,95.5)\" d=\"M3,0A3,3 0 1,1 0,-3A3,3 0 0,1 3,0Z\" style=\"opacity: 1; stroke-width: 0px; fill: rgb(75, 154, 199); fill-opacity: 1;\"/><path class=\"point\" transform=\"translate(52.26,107.29)\" d=\"M3,0A3,3 0 1,1 0,-3A3,3 0 0,1 3,0Z\" style=\"opacity: 1; stroke-width: 0px; fill: rgb(75, 154, 199); fill-opacity: 1;\"/><path class=\"point\" transform=\"translate(34.39,185.17)\" d=\"M3,0A3,3 0 1,1 0,-3A3,3 0 0,1 3,0Z\" style=\"opacity: 1; stroke-width: 0px; fill: rgb(75, 154, 199); fill-opacity: 1;\"/><path class=\"point\" transform=\"translate(495.26,295.27)\" d=\"M3,0A3,3 0 1,1 0,-3A3,3 0 0,1 3,0Z\" style=\"opacity: 1; stroke-width: 0px; fill: rgb(75, 154, 199); fill-opacity: 1;\"/><path class=\"point\" transform=\"translate(48.71,19.75)\" d=\"M3,0A3,3 0 1,1 0,-3A3,3 0 0,1 3,0Z\" style=\"opacity: 1; stroke-width: 0px; fill: rgb(75, 154, 199); fill-opacity: 1;\"/><path class=\"point\" transform=\"translate(35.87,138.24)\" d=\"M3,0A3,3 0 1,1 0,-3A3,3 0 0,1 3,0Z\" style=\"opacity: 1; stroke-width: 0px; fill: rgb(75, 154, 199); fill-opacity: 1;\"/><path class=\"point\" transform=\"translate(61.6,199.68)\" d=\"M3,0A3,3 0 1,1 0,-3A3,3 0 0,1 3,0Z\" style=\"opacity: 1; stroke-width: 0px; fill: rgb(75, 154, 199); fill-opacity: 1;\"/><path class=\"point\" transform=\"translate(449.74,278.65)\" d=\"M3,0A3,3 0 1,1 0,-3A3,3 0 0,1 3,0Z\" style=\"opacity: 1; stroke-width: 0px; fill: rgb(75, 154, 199); fill-opacity: 1;\"/><path class=\"point\" transform=\"translate(45.41,223.25)\" d=\"M3,0A3,3 0 1,1 0,-3A3,3 0 0,1 3,0Z\" style=\"opacity: 1; stroke-width: 0px; fill: rgb(75, 154, 199); fill-opacity: 1;\"/><path class=\"point\" transform=\"translate(33.98,54.49)\" d=\"M3,0A3,3 0 1,1 0,-3A3,3 0 0,1 3,0Z\" style=\"opacity: 1; stroke-width: 0px; fill: rgb(75, 154, 199); fill-opacity: 1;\"/><path class=\"point\" transform=\"translate(436.18,167.96)\" d=\"M3,0A3,3 0 1,1 0,-3A3,3 0 0,1 3,0Z\" style=\"opacity: 1; stroke-width: 0px; fill: rgb(75, 154, 199); fill-opacity: 1;\"/><path class=\"point\" transform=\"translate(492.44,161.36)\" d=\"M3,0A3,3 0 1,1 0,-3A3,3 0 0,1 3,0Z\" style=\"opacity: 1; stroke-width: 0px; fill: rgb(75, 154, 199); fill-opacity: 1;\"/><path class=\"point\" transform=\"translate(402.97,109.23)\" d=\"M3,0A3,3 0 1,1 0,-3A3,3 0 0,1 3,0Z\" style=\"opacity: 1; stroke-width: 0px; fill: rgb(75, 154, 199); fill-opacity: 1;\"/><path class=\"point\" transform=\"translate(85.18,266.43)\" d=\"M3,0A3,3 0 1,1 0,-3A3,3 0 0,1 3,0Z\" style=\"opacity: 1; stroke-width: 0px; fill: rgb(75, 154, 199); fill-opacity: 1;\"/><path class=\"point\" transform=\"translate(467.74,157.83)\" d=\"M3,0A3,3 0 1,1 0,-3A3,3 0 0,1 3,0Z\" style=\"opacity: 1; stroke-width: 0px; fill: rgb(75, 154, 199); fill-opacity: 1;\"/><path class=\"point\" transform=\"translate(454.54,272.13)\" d=\"M3,0A3,3 0 1,1 0,-3A3,3 0 0,1 3,0Z\" style=\"opacity: 1; stroke-width: 0px; fill: rgb(75, 154, 199); fill-opacity: 1;\"/><path class=\"point\" transform=\"translate(482.99,290.13)\" d=\"M3,0A3,3 0 1,1 0,-3A3,3 0 0,1 3,0Z\" style=\"opacity: 1; stroke-width: 0px; fill: rgb(75, 154, 199); fill-opacity: 1;\"/><path class=\"point\" transform=\"translate(494.77,154.46)\" d=\"M3,0A3,3 0 1,1 0,-3A3,3 0 0,1 3,0Z\" style=\"opacity: 1; stroke-width: 0px; fill: rgb(75, 154, 199); fill-opacity: 1;\"/><path class=\"point\" transform=\"translate(77.06,262.3)\" d=\"M3,0A3,3 0 1,1 0,-3A3,3 0 0,1 3,0Z\" style=\"opacity: 1; stroke-width: 0px; fill: rgb(75, 154, 199); fill-opacity: 1;\"/><path class=\"point\" transform=\"translate(433.8,133.34)\" d=\"M3,0A3,3 0 1,1 0,-3A3,3 0 0,1 3,0Z\" style=\"opacity: 1; stroke-width: 0px; fill: rgb(75, 154, 199); fill-opacity: 1;\"/><path class=\"point\" transform=\"translate(54.12,219.77)\" d=\"M3,0A3,3 0 1,1 0,-3A3,3 0 0,1 3,0Z\" style=\"opacity: 1; stroke-width: 0px; fill: rgb(75, 154, 199); fill-opacity: 1;\"/><path class=\"point\" transform=\"translate(501.02,281.97)\" d=\"M3,0A3,3 0 1,1 0,-3A3,3 0 0,1 3,0Z\" style=\"opacity: 1; stroke-width: 0px; fill: rgb(75, 154, 199); fill-opacity: 1;\"/><path class=\"point\" transform=\"translate(445.22,101.08)\" d=\"M3,0A3,3 0 1,1 0,-3A3,3 0 0,1 3,0Z\" style=\"opacity: 1; stroke-width: 0px; fill: rgb(75, 154, 199); fill-opacity: 1;\"/><path class=\"point\" transform=\"translate(453.2,128.89)\" d=\"M3,0A3,3 0 1,1 0,-3A3,3 0 0,1 3,0Z\" style=\"opacity: 1; stroke-width: 0px; fill: rgb(75, 154, 199); fill-opacity: 1;\"/><path class=\"point\" transform=\"translate(450.84,275.99)\" d=\"M3,0A3,3 0 1,1 0,-3A3,3 0 0,1 3,0Z\" style=\"opacity: 1; stroke-width: 0px; fill: rgb(75, 154, 199); fill-opacity: 1;\"/><path class=\"point\" transform=\"translate(451.06,287.33)\" d=\"M3,0A3,3 0 1,1 0,-3A3,3 0 0,1 3,0Z\" style=\"opacity: 1; stroke-width: 0px; fill: rgb(75, 154, 199); fill-opacity: 1;\"/><path class=\"point\" transform=\"translate(44.75,222.3)\" d=\"M3,0A3,3 0 1,1 0,-3A3,3 0 0,1 3,0Z\" style=\"opacity: 1; stroke-width: 0px; fill: rgb(75, 154, 199); fill-opacity: 1;\"/><path class=\"point\" transform=\"translate(315.54,111.42)\" d=\"M3,0A3,3 0 1,1 0,-3A3,3 0 0,1 3,0Z\" style=\"opacity: 1; stroke-width: 0px; fill: rgb(75, 154, 199); fill-opacity: 1;\"/><path class=\"point\" transform=\"translate(430.34,162.9)\" d=\"M3,0A3,3 0 1,1 0,-3A3,3 0 0,1 3,0Z\" style=\"opacity: 1; stroke-width: 0px; fill: rgb(75, 154, 199); fill-opacity: 1;\"/><path class=\"point\" transform=\"translate(451.28,233.96)\" d=\"M3,0A3,3 0 1,1 0,-3A3,3 0 0,1 3,0Z\" style=\"opacity: 1; stroke-width: 0px; fill: rgb(75, 154, 199); fill-opacity: 1;\"/><path class=\"point\" transform=\"translate(433.2,296.91)\" d=\"M3,0A3,3 0 1,1 0,-3A3,3 0 0,1 3,0Z\" style=\"opacity: 1; stroke-width: 0px; fill: rgb(75, 154, 199); fill-opacity: 1;\"/><path class=\"point\" transform=\"translate(30.82,132.2)\" d=\"M3,0A3,3 0 1,1 0,-3A3,3 0 0,1 3,0Z\" style=\"opacity: 1; stroke-width: 0px; fill: rgb(75, 154, 199); fill-opacity: 1;\"/><path class=\"point\" transform=\"translate(30.88,104.16)\" d=\"M3,0A3,3 0 1,1 0,-3A3,3 0 0,1 3,0Z\" style=\"opacity: 1; stroke-width: 0px; fill: rgb(75, 154, 199); fill-opacity: 1;\"/><path class=\"point\" transform=\"translate(451.45,289.58)\" d=\"M3,0A3,3 0 1,1 0,-3A3,3 0 0,1 3,0Z\" style=\"opacity: 1; stroke-width: 0px; fill: rgb(75, 154, 199); fill-opacity: 1;\"/><path class=\"point\" transform=\"translate(473.13,128.69)\" d=\"M3,0A3,3 0 1,1 0,-3A3,3 0 0,1 3,0Z\" style=\"opacity: 1; stroke-width: 0px; fill: rgb(75, 154, 199); fill-opacity: 1;\"/><path class=\"point\" transform=\"translate(75.04,208.55)\" d=\"M3,0A3,3 0 1,1 0,-3A3,3 0 0,1 3,0Z\" style=\"opacity: 1; stroke-width: 0px; fill: rgb(75, 154, 199); fill-opacity: 1;\"/><path class=\"point\" transform=\"translate(33.98,72.31)\" d=\"M3,0A3,3 0 1,1 0,-3A3,3 0 0,1 3,0Z\" style=\"opacity: 1; stroke-width: 0px; fill: rgb(75, 154, 199); fill-opacity: 1;\"/><path class=\"point\" transform=\"translate(501.36,283.37)\" d=\"M3,0A3,3 0 1,1 0,-3A3,3 0 0,1 3,0Z\" style=\"opacity: 1; stroke-width: 0px; fill: rgb(75, 154, 199); fill-opacity: 1;\"/><path class=\"point\" transform=\"translate(61.52,177.24)\" d=\"M3,0A3,3 0 1,1 0,-3A3,3 0 0,1 3,0Z\" style=\"opacity: 1; stroke-width: 0px; fill: rgb(75, 154, 199); fill-opacity: 1;\"/><path class=\"point\" transform=\"translate(450.67,218.89)\" d=\"M3,0A3,3 0 1,1 0,-3A3,3 0 0,1 3,0Z\" style=\"opacity: 1; stroke-width: 0px; fill: rgb(75, 154, 199); fill-opacity: 1;\"/><path class=\"point\" transform=\"translate(60.08,189.58)\" d=\"M3,0A3,3 0 1,1 0,-3A3,3 0 0,1 3,0Z\" style=\"opacity: 1; stroke-width: 0px; fill: rgb(75, 154, 199); fill-opacity: 1;\"/><path class=\"point\" transform=\"translate(403.33,128.66)\" d=\"M3,0A3,3 0 1,1 0,-3A3,3 0 0,1 3,0Z\" style=\"opacity: 1; stroke-width: 0px; fill: rgb(75, 154, 199); fill-opacity: 1;\"/><path class=\"point\" transform=\"translate(87.92,165.81)\" d=\"M3,0A3,3 0 1,1 0,-3A3,3 0 0,1 3,0Z\" style=\"opacity: 1; stroke-width: 0px; fill: rgb(75, 154, 199); fill-opacity: 1;\"/><path class=\"point\" transform=\"translate(433.23,92.27)\" d=\"M3,0A3,3 0 1,1 0,-3A3,3 0 0,1 3,0Z\" style=\"opacity: 1; stroke-width: 0px; fill: rgb(75, 154, 199); fill-opacity: 1;\"/><path class=\"point\" transform=\"translate(50.52,127.33)\" d=\"M3,0A3,3 0 1,1 0,-3A3,3 0 0,1 3,0Z\" style=\"opacity: 1; stroke-width: 0px; fill: rgb(75, 154, 199); fill-opacity: 1;\"/><path class=\"point\" transform=\"translate(452.76,133.43)\" d=\"M3,0A3,3 0 1,1 0,-3A3,3 0 0,1 3,0Z\" style=\"opacity: 1; stroke-width: 0px; fill: rgb(75, 154, 199); fill-opacity: 1;\"/><path class=\"point\" transform=\"translate(56.96,256.32)\" d=\"M3,0A3,3 0 1,1 0,-3A3,3 0 0,1 3,0Z\" style=\"opacity: 1; stroke-width: 0px; fill: rgb(75, 154, 199); fill-opacity: 1;\"/><path class=\"point\" transform=\"translate(370.5,279.13)\" d=\"M3,0A3,3 0 1,1 0,-3A3,3 0 0,1 3,0Z\" style=\"opacity: 1; stroke-width: 0px; fill: rgb(75, 154, 199); fill-opacity: 1;\"/><path class=\"point\" transform=\"translate(452.54,272.88)\" d=\"M3,0A3,3 0 1,1 0,-3A3,3 0 0,1 3,0Z\" style=\"opacity: 1; stroke-width: 0px; fill: rgb(75, 154, 199); fill-opacity: 1;\"/><path class=\"point\" transform=\"translate(298.74,121.38)\" d=\"M3,0A3,3 0 1,1 0,-3A3,3 0 0,1 3,0Z\" style=\"opacity: 1; stroke-width: 0px; fill: rgb(75, 154, 199); fill-opacity: 1;\"/><path class=\"point\" transform=\"translate(451.89,236.61)\" d=\"M3,0A3,3 0 1,1 0,-3A3,3 0 0,1 3,0Z\" style=\"opacity: 1; stroke-width: 0px; fill: rgb(75, 154, 199); fill-opacity: 1;\"/><path class=\"point\" transform=\"translate(457.43,299.55)\" d=\"M3,0A3,3 0 1,1 0,-3A3,3 0 0,1 3,0Z\" style=\"opacity: 1; stroke-width: 0px; fill: rgb(75, 154, 199); fill-opacity: 1;\"/><path class=\"point\" transform=\"translate(372.26,263.38)\" d=\"M3,0A3,3 0 1,1 0,-3A3,3 0 0,1 3,0Z\" style=\"opacity: 1; stroke-width: 0px; fill: rgb(75, 154, 199); fill-opacity: 1;\"/><path class=\"point\" transform=\"translate(454.86,166.07)\" d=\"M3,0A3,3 0 1,1 0,-3A3,3 0 0,1 3,0Z\" style=\"opacity: 1; stroke-width: 0px; fill: rgb(75, 154, 199); fill-opacity: 1;\"/><path class=\"point\" transform=\"translate(72.65,165.91)\" d=\"M3,0A3,3 0 1,1 0,-3A3,3 0 0,1 3,0Z\" style=\"opacity: 1; stroke-width: 0px; fill: rgb(75, 154, 199); fill-opacity: 1;\"/><path class=\"point\" transform=\"translate(483.98,285.69)\" d=\"M3,0A3,3 0 1,1 0,-3A3,3 0 0,1 3,0Z\" style=\"opacity: 1; stroke-width: 0px; fill: rgb(75, 154, 199); fill-opacity: 1;\"/><path class=\"point\" transform=\"translate(331.59,261.54)\" d=\"M3,0A3,3 0 1,1 0,-3A3,3 0 0,1 3,0Z\" style=\"opacity: 1; stroke-width: 0px; fill: rgb(75, 154, 199); fill-opacity: 1;\"/><path class=\"point\" transform=\"translate(45.41,109.54)\" d=\"M3,0A3,3 0 1,1 0,-3A3,3 0 0,1 3,0Z\" style=\"opacity: 1; stroke-width: 0px; fill: rgb(75, 154, 199); fill-opacity: 1;\"/><path class=\"point\" transform=\"translate(88.03,212.91)\" d=\"M3,0A3,3 0 1,1 0,-3A3,3 0 0,1 3,0Z\" style=\"opacity: 1; stroke-width: 0px; fill: rgb(75, 154, 199); fill-opacity: 1;\"/><path class=\"point\" transform=\"translate(53.12,103.35)\" d=\"M3,0A3,3 0 1,1 0,-3A3,3 0 0,1 3,0Z\" style=\"opacity: 1; stroke-width: 0px; fill: rgb(75, 154, 199); fill-opacity: 1;\"/><path class=\"point\" transform=\"translate(32.81,234.51)\" d=\"M3,0A3,3 0 1,1 0,-3A3,3 0 0,1 3,0Z\" style=\"opacity: 1; stroke-width: 0px; fill: rgb(75, 154, 199); fill-opacity: 1;\"/><path class=\"point\" transform=\"translate(45.17,102.15)\" d=\"M3,0A3,3 0 1,1 0,-3A3,3 0 0,1 3,0Z\" style=\"opacity: 1; stroke-width: 0px; fill: rgb(75, 154, 199); fill-opacity: 1;\"/><path class=\"point\" transform=\"translate(30.76,229.16)\" d=\"M3,0A3,3 0 1,1 0,-3A3,3 0 0,1 3,0Z\" style=\"opacity: 1; stroke-width: 0px; fill: rgb(75, 154, 199); fill-opacity: 1;\"/><path class=\"point\" transform=\"translate(44.99,98.76)\" d=\"M3,0A3,3 0 1,1 0,-3A3,3 0 0,1 3,0Z\" style=\"opacity: 1; stroke-width: 0px; fill: rgb(75, 154, 199); fill-opacity: 1;\"/><path class=\"point\" transform=\"translate(30.83,125.08)\" d=\"M3,0A3,3 0 1,1 0,-3A3,3 0 0,1 3,0Z\" style=\"opacity: 1; stroke-width: 0px; fill: rgb(75, 154, 199); fill-opacity: 1;\"/><path class=\"point\" transform=\"translate(462.02,146.64)\" d=\"M3,0A3,3 0 1,1 0,-3A3,3 0 0,1 3,0Z\" style=\"opacity: 1; stroke-width: 0px; fill: rgb(75, 154, 199); fill-opacity: 1;\"/><path class=\"point\" transform=\"translate(369.86,270.68)\" d=\"M3,0A3,3 0 1,1 0,-3A3,3 0 0,1 3,0Z\" style=\"opacity: 1; stroke-width: 0px; fill: rgb(75, 154, 199); fill-opacity: 1;\"/><path class=\"point\" transform=\"translate(440.89,296.56)\" d=\"M3,0A3,3 0 1,1 0,-3A3,3 0 0,1 3,0Z\" style=\"opacity: 1; stroke-width: 0px; fill: rgb(75, 154, 199); fill-opacity: 1;\"/><path class=\"point\" transform=\"translate(450.07,285.9)\" d=\"M3,0A3,3 0 1,1 0,-3A3,3 0 0,1 3,0Z\" style=\"opacity: 1; stroke-width: 0px; fill: rgb(75, 154, 199); fill-opacity: 1;\"/><path class=\"point\" transform=\"translate(509.25,282.81)\" d=\"M3,0A3,3 0 1,1 0,-3A3,3 0 0,1 3,0Z\" style=\"opacity: 1; stroke-width: 0px; fill: rgb(75, 154, 199); fill-opacity: 1;\"/><path class=\"point\" transform=\"translate(298,78.34)\" d=\"M3,0A3,3 0 1,1 0,-3A3,3 0 0,1 3,0Z\" style=\"opacity: 1; stroke-width: 0px; fill: rgb(75, 154, 199); fill-opacity: 1;\"/><path class=\"point\" transform=\"translate(30.75,235.65)\" d=\"M3,0A3,3 0 1,1 0,-3A3,3 0 0,1 3,0Z\" style=\"opacity: 1; stroke-width: 0px; fill: rgb(75, 154, 199); fill-opacity: 1;\"/><path class=\"point\" transform=\"translate(471.48,234.36)\" d=\"M3,0A3,3 0 1,1 0,-3A3,3 0 0,1 3,0Z\" style=\"opacity: 1; stroke-width: 0px; fill: rgb(75, 154, 199); fill-opacity: 1;\"/><path class=\"point\" transform=\"translate(86.79,189.71)\" d=\"M3,0A3,3 0 1,1 0,-3A3,3 0 0,1 3,0Z\" style=\"opacity: 1; stroke-width: 0px; fill: rgb(75, 154, 199); fill-opacity: 1;\"/></g><g class=\"text\"/></g></g></g><g class=\"overplot\"/><path class=\"xlines-above crisp\" d=\"M0,0\" style=\"fill: none;\"/><path class=\"ylines-above crisp\" d=\"M0,0\" style=\"fill: none;\"/><g class=\"overlines-above\"/><g class=\"xaxislayer-above\"><g class=\"xtick\"><text text-anchor=\"middle\" x=\"0\" y=\"433\" transform=\"translate(81.75,0)\" style=\"font-family: 'Open Sans', verdana, arial, sans-serif; font-size: 12px; fill: rgb(68, 68, 68); fill-opacity: 1; white-space: pre; opacity: 1;\">120</text></g><g class=\"xtick\"><text text-anchor=\"middle\" x=\"0\" y=\"433\" style=\"font-family: 'Open Sans', verdana, arial, sans-serif; font-size: 12px; fill: rgb(68, 68, 68); fill-opacity: 1; white-space: pre; opacity: 1;\" transform=\"translate(176.64,0)\">140</text></g><g class=\"xtick\"><text text-anchor=\"middle\" x=\"0\" y=\"433\" style=\"font-family: 'Open Sans', verdana, arial, sans-serif; font-size: 12px; fill: rgb(68, 68, 68); fill-opacity: 1; white-space: pre; opacity: 1;\" transform=\"translate(271.53,0)\">160</text></g><g class=\"xtick\"><text text-anchor=\"middle\" x=\"0\" y=\"433\" style=\"font-family: 'Open Sans', verdana, arial, sans-serif; font-size: 12px; fill: rgb(68, 68, 68); fill-opacity: 1; white-space: pre; opacity: 1;\" transform=\"translate(366.41,0)\">180</text></g><g class=\"xtick\"><text text-anchor=\"middle\" x=\"0\" y=\"433\" style=\"font-family: 'Open Sans', verdana, arial, sans-serif; font-size: 12px; fill: rgb(68, 68, 68); fill-opacity: 1; white-space: pre; opacity: 1;\" transform=\"translate(461.3,0)\">200</text></g><g class=\"xtick\"><text text-anchor=\"middle\" x=\"0\" y=\"433\" style=\"font-family: 'Open Sans', verdana, arial, sans-serif; font-size: 12px; fill: rgb(68, 68, 68); fill-opacity: 1; white-space: pre; opacity: 1;\" transform=\"translate(556.19,0)\">220</text></g></g><g class=\"yaxislayer-above\"><g class=\"ytick\"><text text-anchor=\"end\" x=\"79\" y=\"4.199999999999999\" transform=\"translate(0,374.35)\" style=\"font-family: 'Open Sans', verdana, arial, sans-serif; font-size: 12px; fill: rgb(68, 68, 68); fill-opacity: 1; white-space: pre; opacity: 1;\">0.5M</text></g><g class=\"ytick\"><text text-anchor=\"end\" x=\"79\" y=\"4.199999999999999\" style=\"font-family: 'Open Sans', verdana, arial, sans-serif; font-size: 12px; fill: rgb(68, 68, 68); fill-opacity: 1; white-space: pre; opacity: 1;\" transform=\"translate(0,318.3)\">1M</text></g><g class=\"ytick\"><text text-anchor=\"end\" x=\"79\" y=\"4.199999999999999\" style=\"font-family: 'Open Sans', verdana, arial, sans-serif; font-size: 12px; fill: rgb(68, 68, 68); fill-opacity: 1; white-space: pre; opacity: 1;\" transform=\"translate(0,262.26)\">1.5M</text></g><g class=\"ytick\"><text text-anchor=\"end\" x=\"79\" y=\"4.199999999999999\" style=\"font-family: 'Open Sans', verdana, arial, sans-serif; font-size: 12px; fill: rgb(68, 68, 68); fill-opacity: 1; white-space: pre; opacity: 1;\" transform=\"translate(0,206.22)\">2M</text></g><g class=\"ytick\"><text text-anchor=\"end\" x=\"79\" y=\"4.199999999999999\" style=\"font-family: 'Open Sans', verdana, arial, sans-serif; font-size: 12px; fill: rgb(68, 68, 68); fill-opacity: 1; white-space: pre; opacity: 1;\" transform=\"translate(0,150.17000000000002)\">2.5M</text></g></g><g class=\"overaxes-above\"/></g></g><g class=\"polarlayer\"/><g class=\"smithlayer\"/><g class=\"ternarylayer\"/><g class=\"geolayer\"/><g class=\"funnelarealayer\"/><g class=\"pielayer\"/><g class=\"iciclelayer\"/><g class=\"treemaplayer\"/><g class=\"sunburstlayer\"/><g class=\"glimages\"/><defs id=\"topdefs-a66103\"><g class=\"clips\"/></defs><g class=\"layer-above\"><g class=\"imagelayer\"/><g class=\"shapelayer\"/></g><g class=\"infolayer\"><g class=\"g-gtitle\"><text class=\"gtitle\" x=\"350\" y=\"50\" text-anchor=\"middle\" dy=\"0em\" style=\"font-family: 'Open Sans', verdana, arial, sans-serif; font-size: 17px; fill: rgb(68, 68, 68); opacity: 1; font-weight: normal; white-space: pre;\">CPI and Weekly Sales</text></g><g class=\"g-xtitle\"><text class=\"xtitle\" x=\"350\" y=\"472\" text-anchor=\"middle\" style=\"font-family: 'Open Sans', verdana, arial, sans-serif; font-size: 14px; fill: rgb(68, 68, 68); opacity: 1; font-weight: normal; white-space: pre;\">CPI</text></g><g class=\"g-ytitle\"><text class=\"ytitle\" transform=\"rotate(-90,42,260)\" x=\"42\" y=\"260\" text-anchor=\"middle\" style=\"font-family: 'Open Sans', verdana, arial, sans-serif; font-size: 14px; fill: rgb(68, 68, 68); opacity: 1; font-weight: normal; white-space: pre;\">Weekly Sales</text></g></g></svg>"
      ]
     },
     "metadata": {},
     "output_type": "display_data"
    }
   ],
   "source": [
    "\n",
    "# scatter plot  Fuel price and Weekly Sales\n",
    "fig = px.scatter(dataset, x='CPI', y='Weekly_Sales', title='CPI and Weekly Sales',\n",
    "                 labels={'CPI':'CPI', 'Weekly_Sales':'Weekly Sales'})\n",
    "\n",
    "# Show the plot\n",
    "fig.show()\n"
   ]
  },
  {
   "cell_type": "code",
   "execution_count": 15,
   "metadata": {},
   "outputs": [
    {
     "data": {
      "image/svg+xml": [
       "<svg class=\"main-svg\" xmlns=\"http://www.w3.org/2000/svg\" xmlns:xlink=\"http://www.w3.org/1999/xlink\" width=\"700\" height=\"500\" style=\"\" viewBox=\"0 0 700 500\"><rect x=\"0\" y=\"0\" width=\"700\" height=\"500\" style=\"fill: rgb(255, 255, 255); fill-opacity: 1;\"/><defs id=\"defs-645fe1\"><g class=\"clips\"><clipPath id=\"clip645fe1xyplot\" class=\"plotclip\"><rect width=\"540\" height=\"320\"/></clipPath><clipPath class=\"axesclip\" id=\"clip645fe1x\"><rect x=\"80\" y=\"0\" width=\"540\" height=\"500\"/></clipPath><clipPath class=\"axesclip\" id=\"clip645fe1y\"><rect x=\"0\" y=\"100\" width=\"700\" height=\"320\"/></clipPath><clipPath class=\"axesclip\" id=\"clip645fe1xy\"><rect x=\"80\" y=\"100\" width=\"540\" height=\"320\"/></clipPath></g><g class=\"gradients\"/><g class=\"patterns\"/></defs><g class=\"bglayer\"/><g class=\"layer-below\"><g class=\"imagelayer\"/><g class=\"shapelayer\"/></g><g class=\"cartesianlayer\"><g class=\"subplot xy\"><g class=\"layer-subplot\"><g class=\"shapelayer\"/><g class=\"imagelayer\"/></g><g class=\"minor-gridlayer\"><g class=\"x\"/><g class=\"y\"/></g><g class=\"gridlayer\"><g class=\"x\"><path class=\"xgrid crisp\" transform=\"translate(155.47,0)\" d=\"M0,100v320\" style=\"stroke: rgb(238, 238, 238); stroke-opacity: 1; stroke-width: 1px;\"/><path class=\"xgrid crisp\" transform=\"translate(259.83000000000004,0)\" d=\"M0,100v320\" style=\"stroke: rgb(238, 238, 238); stroke-opacity: 1; stroke-width: 1px;\"/><path class=\"xgrid crisp\" transform=\"translate(364.19,0)\" d=\"M0,100v320\" style=\"stroke: rgb(238, 238, 238); stroke-opacity: 1; stroke-width: 1px;\"/><path class=\"xgrid crisp\" transform=\"translate(468.56,0)\" d=\"M0,100v320\" style=\"stroke: rgb(238, 238, 238); stroke-opacity: 1; stroke-width: 1px;\"/><path class=\"xgrid crisp\" transform=\"translate(572.9200000000001,0)\" d=\"M0,100v320\" style=\"stroke: rgb(238, 238, 238); stroke-opacity: 1; stroke-width: 1px;\"/></g><g class=\"y\"><path class=\"ygrid crisp\" transform=\"translate(0,374.35)\" d=\"M80,0h540\" style=\"stroke: rgb(238, 238, 238); stroke-opacity: 1; stroke-width: 1px;\"/><path class=\"ygrid crisp\" transform=\"translate(0,318.3)\" d=\"M80,0h540\" style=\"stroke: rgb(238, 238, 238); stroke-opacity: 1; stroke-width: 1px;\"/><path class=\"ygrid crisp\" transform=\"translate(0,262.26)\" d=\"M80,0h540\" style=\"stroke: rgb(238, 238, 238); stroke-opacity: 1; stroke-width: 1px;\"/><path class=\"ygrid crisp\" transform=\"translate(0,206.22)\" d=\"M80,0h540\" style=\"stroke: rgb(238, 238, 238); stroke-opacity: 1; stroke-width: 1px;\"/><path class=\"ygrid crisp\" transform=\"translate(0,150.17000000000002)\" d=\"M80,0h540\" style=\"stroke: rgb(238, 238, 238); stroke-opacity: 1; stroke-width: 1px;\"/></g></g><g class=\"zerolinelayer\"/><path class=\"xlines-below\"/><path class=\"ylines-below\"/><g class=\"overlines-below\"/><g class=\"xaxislayer-below\"/><g class=\"yaxislayer-below\"/><g class=\"overaxes-below\"/><g class=\"plot\" transform=\"translate(80,100)\" clip-path=\"url(#clip645fe1xyplot)\"><g class=\"scatterlayer mlayer\"><g class=\"trace scatter tracea270fc\" style=\"stroke-miterlimit: 2; opacity: 1;\"><g class=\"fills\"/><g class=\"errorbars\"/><g class=\"lines\"/><g class=\"points\"><path class=\"point\" transform=\"translate(120.24,154.18)\" d=\"M3,0A3,3 0 1,1 0,-3A3,3 0 0,1 3,0Z\" style=\"opacity: 1; stroke-width: 0px; fill: rgb(75, 154, 199); fill-opacity: 1;\"/><path class=\"point\" transform=\"translate(152.18,127.79)\" d=\"M3,0A3,3 0 1,1 0,-3A3,3 0 0,1 3,0Z\" style=\"opacity: 1; stroke-width: 0px; fill: rgb(75, 154, 199); fill-opacity: 1;\"/><path class=\"point\" transform=\"translate(145.7,190.91)\" d=\"M3,0A3,3 0 1,1 0,-3A3,3 0 0,1 3,0Z\" style=\"opacity: 1; stroke-width: 0px; fill: rgb(75, 154, 199); fill-opacity: 1;\"/><path class=\"point\" transform=\"translate(132.45,146.07)\" d=\"M3,0A3,3 0 1,1 0,-3A3,3 0 0,1 3,0Z\" style=\"opacity: 1; stroke-width: 0px; fill: rgb(75, 154, 199); fill-opacity: 1;\"/><path class=\"point\" transform=\"translate(174.4,122.18)\" d=\"M3,0A3,3 0 1,1 0,-3A3,3 0 0,1 3,0Z\" style=\"opacity: 1; stroke-width: 0px; fill: rgb(75, 154, 199); fill-opacity: 1;\"/><path class=\"point\" transform=\"translate(161.99,252.45)\" d=\"M3,0A3,3 0 1,1 0,-3A3,3 0 0,1 3,0Z\" style=\"opacity: 1; stroke-width: 0px; fill: rgb(75, 154, 199); fill-opacity: 1;\"/><path class=\"point\" transform=\"translate(125.62,83.4)\" d=\"M3,0A3,3 0 1,1 0,-3A3,3 0 0,1 3,0Z\" style=\"opacity: 1; stroke-width: 0px; fill: rgb(75, 154, 199); fill-opacity: 1;\"/><path class=\"point\" transform=\"translate(118.94,283.44)\" d=\"M3,0A3,3 0 1,1 0,-3A3,3 0 0,1 3,0Z\" style=\"opacity: 1; stroke-width: 0px; fill: rgb(75, 154, 199); fill-opacity: 1;\"/><path class=\"point\" transform=\"translate(97.65,230.07)\" d=\"M3,0A3,3 0 1,1 0,-3A3,3 0 0,1 3,0Z\" style=\"opacity: 1; stroke-width: 0px; fill: rgb(75, 154, 199); fill-opacity: 1;\"/><path class=\"point\" transform=\"translate(249.28,214.98)\" d=\"M3,0A3,3 0 1,1 0,-3A3,3 0 0,1 3,0Z\" style=\"opacity: 1; stroke-width: 0px; fill: rgb(75, 154, 199); fill-opacity: 1;\"/><path class=\"point\" transform=\"translate(210.88,283.98)\" d=\"M3,0A3,3 0 1,1 0,-3A3,3 0 0,1 3,0Z\" style=\"opacity: 1; stroke-width: 0px; fill: rgb(75, 154, 199); fill-opacity: 1;\"/><path class=\"point\" transform=\"translate(145.81,142.37)\" d=\"M3,0A3,3 0 1,1 0,-3A3,3 0 0,1 3,0Z\" style=\"opacity: 1; stroke-width: 0px; fill: rgb(75, 154, 199); fill-opacity: 1;\"/><path class=\"point\" transform=\"translate(121.65,237.45)\" d=\"M3,0A3,3 0 1,1 0,-3A3,3 0 0,1 3,0Z\" style=\"opacity: 1; stroke-width: 0px; fill: rgb(75, 154, 199); fill-opacity: 1;\"/><path class=\"point\" transform=\"translate(132.45,162.48)\" d=\"M3,0A3,3 0 1,1 0,-3A3,3 0 0,1 3,0Z\" style=\"opacity: 1; stroke-width: 0px; fill: rgb(75, 154, 199); fill-opacity: 1;\"/><path class=\"point\" transform=\"translate(177.27,106.51)\" d=\"M3,0A3,3 0 1,1 0,-3A3,3 0 0,1 3,0Z\" style=\"opacity: 1; stroke-width: 0px; fill: rgb(75, 154, 199); fill-opacity: 1;\"/><path class=\"point\" transform=\"translate(242.55,195.29)\" d=\"M3,0A3,3 0 1,1 0,-3A3,3 0 0,1 3,0Z\" style=\"opacity: 1; stroke-width: 0px; fill: rgb(75, 154, 199); fill-opacity: 1;\"/><path class=\"point\" transform=\"translate(150.66,57.71)\" d=\"M3,0A3,3 0 1,1 0,-3A3,3 0 0,1 3,0Z\" style=\"opacity: 1; stroke-width: 0px; fill: rgb(75, 154, 199); fill-opacity: 1;\"/><path class=\"point\" transform=\"translate(230.08,267.5)\" d=\"M3,0A3,3 0 1,1 0,-3A3,3 0 0,1 3,0Z\" style=\"opacity: 1; stroke-width: 0px; fill: rgb(75, 154, 199); fill-opacity: 1;\"/><path class=\"point\" transform=\"translate(100.99,297.78)\" d=\"M3,0A3,3 0 1,1 0,-3A3,3 0 0,1 3,0Z\" style=\"opacity: 1; stroke-width: 0px; fill: rgb(75, 154, 199); fill-opacity: 1;\"/><path class=\"point\" transform=\"translate(192.51,210)\" d=\"M3,0A3,3 0 1,1 0,-3A3,3 0 0,1 3,0Z\" style=\"opacity: 1; stroke-width: 0px; fill: rgb(75, 154, 199); fill-opacity: 1;\"/><path class=\"point\" transform=\"translate(198.09,170.44)\" d=\"M3,0A3,3 0 1,1 0,-3A3,3 0 0,1 3,0Z\" style=\"opacity: 1; stroke-width: 0px; fill: rgb(75, 154, 199); fill-opacity: 1;\"/><path class=\"point\" transform=\"translate(187.66,172.91)\" d=\"M3,0A3,3 0 1,1 0,-3A3,3 0 0,1 3,0Z\" style=\"opacity: 1; stroke-width: 0px; fill: rgb(75, 154, 199); fill-opacity: 1;\"/><path class=\"point\" transform=\"translate(50.79,227.29)\" d=\"M3,0A3,3 0 1,1 0,-3A3,3 0 0,1 3,0Z\" style=\"opacity: 1; stroke-width: 0px; fill: rgb(75, 154, 199); fill-opacity: 1;\"/><path class=\"point\" transform=\"translate(118.94,289.21)\" d=\"M3,0A3,3 0 1,1 0,-3A3,3 0 0,1 3,0Z\" style=\"opacity: 1; stroke-width: 0px; fill: rgb(75, 154, 199); fill-opacity: 1;\"/><path class=\"point\" transform=\"translate(93.16,281.59)\" d=\"M3,0A3,3 0 1,1 0,-3A3,3 0 0,1 3,0Z\" style=\"opacity: 1; stroke-width: 0px; fill: rgb(75, 154, 199); fill-opacity: 1;\"/><path class=\"point\" transform=\"translate(108.6,245.46)\" d=\"M3,0A3,3 0 1,1 0,-3A3,3 0 0,1 3,0Z\" style=\"opacity: 1; stroke-width: 0px; fill: rgb(75, 154, 199); fill-opacity: 1;\"/><path class=\"point\" transform=\"translate(123.74,171.18)\" d=\"M3,0A3,3 0 1,1 0,-3A3,3 0 0,1 3,0Z\" style=\"opacity: 1; stroke-width: 0px; fill: rgb(75, 154, 199); fill-opacity: 1;\"/><path class=\"point\" transform=\"translate(479.14,215.93)\" d=\"M3,0A3,3 0 1,1 0,-3A3,3 0 0,1 3,0Z\" style=\"opacity: 1; stroke-width: 0px; fill: rgb(75, 154, 199); fill-opacity: 1;\"/><path class=\"point\" transform=\"translate(193.19,267.24)\" d=\"M3,0A3,3 0 1,1 0,-3A3,3 0 0,1 3,0Z\" style=\"opacity: 1; stroke-width: 0px; fill: rgb(75, 154, 199); fill-opacity: 1;\"/><path class=\"point\" transform=\"translate(201.96,97.56)\" d=\"M3,0A3,3 0 1,1 0,-3A3,3 0 0,1 3,0Z\" style=\"opacity: 1; stroke-width: 0px; fill: rgb(75, 154, 199); fill-opacity: 1;\"/><path class=\"point\" transform=\"translate(167.88,188.43)\" d=\"M3,0A3,3 0 1,1 0,-3A3,3 0 0,1 3,0Z\" style=\"opacity: 1; stroke-width: 0px; fill: rgb(75, 154, 199); fill-opacity: 1;\"/><path class=\"point\" transform=\"translate(157.24,289.45)\" d=\"M3,0A3,3 0 1,1 0,-3A3,3 0 0,1 3,0Z\" style=\"opacity: 1; stroke-width: 0px; fill: rgb(75, 154, 199); fill-opacity: 1;\"/><path class=\"point\" transform=\"translate(230.71,219.63)\" d=\"M3,0A3,3 0 1,1 0,-3A3,3 0 0,1 3,0Z\" style=\"opacity: 1; stroke-width: 0px; fill: rgb(75, 154, 199); fill-opacity: 1;\"/><path class=\"point\" transform=\"translate(72.65,105.28)\" d=\"M3,0A3,3 0 1,1 0,-3A3,3 0 0,1 3,0Z\" style=\"opacity: 1; stroke-width: 0px; fill: rgb(75, 154, 199); fill-opacity: 1;\"/><path class=\"point\" transform=\"translate(91.12,295.43)\" d=\"M3,0A3,3 0 1,1 0,-3A3,3 0 0,1 3,0Z\" style=\"opacity: 1; stroke-width: 0px; fill: rgb(75, 154, 199); fill-opacity: 1;\"/><path class=\"point\" transform=\"translate(195.69,222.66)\" d=\"M3,0A3,3 0 1,1 0,-3A3,3 0 0,1 3,0Z\" style=\"opacity: 1; stroke-width: 0px; fill: rgb(75, 154, 199); fill-opacity: 1;\"/><path class=\"point\" transform=\"translate(78.65,271.38)\" d=\"M3,0A3,3 0 1,1 0,-3A3,3 0 0,1 3,0Z\" style=\"opacity: 1; stroke-width: 0px; fill: rgb(75, 154, 199); fill-opacity: 1;\"/><path class=\"point\" transform=\"translate(122.85,144.13)\" d=\"M3,0A3,3 0 1,1 0,-3A3,3 0 0,1 3,0Z\" style=\"opacity: 1; stroke-width: 0px; fill: rgb(75, 154, 199); fill-opacity: 1;\"/><path class=\"point\" transform=\"translate(212.29,259.78)\" d=\"M3,0A3,3 0 1,1 0,-3A3,3 0 0,1 3,0Z\" style=\"opacity: 1; stroke-width: 0px; fill: rgb(75, 154, 199); fill-opacity: 1;\"/><path class=\"point\" transform=\"translate(185.36,146.35)\" d=\"M3,0A3,3 0 1,1 0,-3A3,3 0 0,1 3,0Z\" style=\"opacity: 1; stroke-width: 0px; fill: rgb(75, 154, 199); fill-opacity: 1;\"/><path class=\"point\" transform=\"translate(130.62,121.71)\" d=\"M3,0A3,3 0 1,1 0,-3A3,3 0 0,1 3,0Z\" style=\"opacity: 1; stroke-width: 0px; fill: rgb(75, 154, 199); fill-opacity: 1;\"/><path class=\"point\" transform=\"translate(101.35,300.25)\" d=\"M3,0A3,3 0 1,1 0,-3A3,3 0 0,1 3,0Z\" style=\"opacity: 1; stroke-width: 0px; fill: rgb(75, 154, 199); fill-opacity: 1;\"/><path class=\"point\" transform=\"translate(185,156.77)\" d=\"M3,0A3,3 0 1,1 0,-3A3,3 0 0,1 3,0Z\" style=\"opacity: 1; stroke-width: 0px; fill: rgb(75, 154, 199); fill-opacity: 1;\"/><path class=\"point\" transform=\"translate(177.85,148.32)\" d=\"M3,0A3,3 0 1,1 0,-3A3,3 0 0,1 3,0Z\" style=\"opacity: 1; stroke-width: 0px; fill: rgb(75, 154, 199); fill-opacity: 1;\"/><path class=\"point\" transform=\"translate(83.92,276.02)\" d=\"M3,0A3,3 0 1,1 0,-3A3,3 0 0,1 3,0Z\" style=\"opacity: 1; stroke-width: 0px; fill: rgb(75, 154, 199); fill-opacity: 1;\"/><path class=\"point\" transform=\"translate(73.64,102.24)\" d=\"M3,0A3,3 0 1,1 0,-3A3,3 0 0,1 3,0Z\" style=\"opacity: 1; stroke-width: 0px; fill: rgb(75, 154, 199); fill-opacity: 1;\"/><path class=\"point\" transform=\"translate(188.34,115.54)\" d=\"M3,0A3,3 0 1,1 0,-3A3,3 0 0,1 3,0Z\" style=\"opacity: 1; stroke-width: 0px; fill: rgb(75, 154, 199); fill-opacity: 1;\"/><path class=\"point\" transform=\"translate(208.48,119.73)\" d=\"M3,0A3,3 0 1,1 0,-3A3,3 0 0,1 3,0Z\" style=\"opacity: 1; stroke-width: 0px; fill: rgb(75, 154, 199); fill-opacity: 1;\"/><path class=\"point\" transform=\"translate(136.52,127.96)\" d=\"M3,0A3,3 0 1,1 0,-3A3,3 0 0,1 3,0Z\" style=\"opacity: 1; stroke-width: 0px; fill: rgb(75, 154, 199); fill-opacity: 1;\"/><path class=\"point\" transform=\"translate(121.23,123.32)\" d=\"M3,0A3,3 0 1,1 0,-3A3,3 0 0,1 3,0Z\" style=\"opacity: 1; stroke-width: 0px; fill: rgb(75, 154, 199); fill-opacity: 1;\"/><path class=\"point\" transform=\"translate(91.91,230.77)\" d=\"M3,0A3,3 0 1,1 0,-3A3,3 0 0,1 3,0Z\" style=\"opacity: 1; stroke-width: 0px; fill: rgb(75, 154, 199); fill-opacity: 1;\"/><path class=\"point\" transform=\"translate(126.24,158.64)\" d=\"M3,0A3,3 0 1,1 0,-3A3,3 0 0,1 3,0Z\" style=\"opacity: 1; stroke-width: 0px; fill: rgb(75, 154, 199); fill-opacity: 1;\"/><path class=\"point\" transform=\"translate(201.96,103.91)\" d=\"M3,0A3,3 0 1,1 0,-3A3,3 0 0,1 3,0Z\" style=\"opacity: 1; stroke-width: 0px; fill: rgb(75, 154, 199); fill-opacity: 1;\"/><path class=\"point\" transform=\"translate(207.02,95.5)\" d=\"M3,0A3,3 0 1,1 0,-3A3,3 0 0,1 3,0Z\" style=\"opacity: 1; stroke-width: 0px; fill: rgb(75, 154, 199); fill-opacity: 1;\"/><path class=\"point\" transform=\"translate(156.09,107.29)\" d=\"M3,0A3,3 0 1,1 0,-3A3,3 0 0,1 3,0Z\" style=\"opacity: 1; stroke-width: 0px; fill: rgb(75, 154, 199); fill-opacity: 1;\"/><path class=\"point\" transform=\"translate(509.25,185.17)\" d=\"M3,0A3,3 0 1,1 0,-3A3,3 0 0,1 3,0Z\" style=\"opacity: 1; stroke-width: 0px; fill: rgb(75, 154, 199); fill-opacity: 1;\"/><path class=\"point\" transform=\"translate(45.31,295.27)\" d=\"M3,0A3,3 0 1,1 0,-3A3,3 0 0,1 3,0Z\" style=\"opacity: 1; stroke-width: 0px; fill: rgb(75, 154, 199); fill-opacity: 1;\"/><path class=\"point\" transform=\"translate(30.75,19.75)\" d=\"M3,0A3,3 0 1,1 0,-3A3,3 0 0,1 3,0Z\" style=\"opacity: 1; stroke-width: 0px; fill: rgb(75, 154, 199); fill-opacity: 1;\"/><path class=\"point\" transform=\"translate(218.65,138.24)\" d=\"M3,0A3,3 0 1,1 0,-3A3,3 0 0,1 3,0Z\" style=\"opacity: 1; stroke-width: 0px; fill: rgb(75, 154, 199); fill-opacity: 1;\"/><path class=\"point\" transform=\"translate(249.86,199.68)\" d=\"M3,0A3,3 0 1,1 0,-3A3,3 0 0,1 3,0Z\" style=\"opacity: 1; stroke-width: 0px; fill: rgb(75, 154, 199); fill-opacity: 1;\"/><path class=\"point\" transform=\"translate(146.85,278.65)\" d=\"M3,0A3,3 0 1,1 0,-3A3,3 0 0,1 3,0Z\" style=\"opacity: 1; stroke-width: 0px; fill: rgb(75, 154, 199); fill-opacity: 1;\"/><path class=\"point\" transform=\"translate(466.98,223.25)\" d=\"M3,0A3,3 0 1,1 0,-3A3,3 0 0,1 3,0Z\" style=\"opacity: 1; stroke-width: 0px; fill: rgb(75, 154, 199); fill-opacity: 1;\"/><path class=\"point\" transform=\"translate(249.28,152.35)\" d=\"M3,0A3,3 0 1,1 0,-3A3,3 0 0,1 3,0Z\" style=\"opacity: 1; stroke-width: 0px; fill: rgb(75, 154, 199); fill-opacity: 1;\"/><path class=\"point\" transform=\"translate(169.13,54.49)\" d=\"M3,0A3,3 0 1,1 0,-3A3,3 0 0,1 3,0Z\" style=\"opacity: 1; stroke-width: 0px; fill: rgb(75, 154, 199); fill-opacity: 1;\"/><path class=\"point\" transform=\"translate(168.72,167.96)\" d=\"M3,0A3,3 0 1,1 0,-3A3,3 0 0,1 3,0Z\" style=\"opacity: 1; stroke-width: 0px; fill: rgb(75, 154, 199); fill-opacity: 1;\"/><path class=\"point\" transform=\"translate(172.32,109.23)\" d=\"M3,0A3,3 0 1,1 0,-3A3,3 0 0,1 3,0Z\" style=\"opacity: 1; stroke-width: 0px; fill: rgb(75, 154, 199); fill-opacity: 1;\"/><path class=\"point\" transform=\"translate(176.86,266.43)\" d=\"M3,0A3,3 0 1,1 0,-3A3,3 0 0,1 3,0Z\" style=\"opacity: 1; stroke-width: 0px; fill: rgb(75, 154, 199); fill-opacity: 1;\"/><path class=\"point\" transform=\"translate(172.84,157.83)\" d=\"M3,0A3,3 0 1,1 0,-3A3,3 0 0,1 3,0Z\" style=\"opacity: 1; stroke-width: 0px; fill: rgb(75, 154, 199); fill-opacity: 1;\"/><path class=\"point\" transform=\"translate(155.15,129.79)\" d=\"M3,0A3,3 0 1,1 0,-3A3,3 0 0,1 3,0Z\" style=\"opacity: 1; stroke-width: 0px; fill: rgb(75, 154, 199); fill-opacity: 1;\"/><path class=\"point\" transform=\"translate(104.69,272.13)\" d=\"M3,0A3,3 0 1,1 0,-3A3,3 0 0,1 3,0Z\" style=\"opacity: 1; stroke-width: 0px; fill: rgb(75, 154, 199); fill-opacity: 1;\"/><path class=\"point\" transform=\"translate(72.49,290.13)\" d=\"M3,0A3,3 0 1,1 0,-3A3,3 0 0,1 3,0Z\" style=\"opacity: 1; stroke-width: 0px; fill: rgb(75, 154, 199); fill-opacity: 1;\"/><path class=\"point\" transform=\"translate(118.94,154.46)\" d=\"M3,0A3,3 0 1,1 0,-3A3,3 0 0,1 3,0Z\" style=\"opacity: 1; stroke-width: 0px; fill: rgb(75, 154, 199); fill-opacity: 1;\"/><path class=\"point\" transform=\"translate(169.71,262.3)\" d=\"M3,0A3,3 0 1,1 0,-3A3,3 0 0,1 3,0Z\" style=\"opacity: 1; stroke-width: 0px; fill: rgb(75, 154, 199); fill-opacity: 1;\"/><path class=\"point\" transform=\"translate(181.29,133.34)\" d=\"M3,0A3,3 0 1,1 0,-3A3,3 0 0,1 3,0Z\" style=\"opacity: 1; stroke-width: 0px; fill: rgb(75, 154, 199); fill-opacity: 1;\"/><path class=\"point\" transform=\"translate(87.73,219.77)\" d=\"M3,0A3,3 0 1,1 0,-3A3,3 0 0,1 3,0Z\" style=\"opacity: 1; stroke-width: 0px; fill: rgb(75, 154, 199); fill-opacity: 1;\"/><path class=\"point\" transform=\"translate(110.12,281.97)\" d=\"M3,0A3,3 0 1,1 0,-3A3,3 0 0,1 3,0Z\" style=\"opacity: 1; stroke-width: 0px; fill: rgb(75, 154, 199); fill-opacity: 1;\"/><path class=\"point\" transform=\"translate(125.62,101.08)\" d=\"M3,0A3,3 0 1,1 0,-3A3,3 0 0,1 3,0Z\" style=\"opacity: 1; stroke-width: 0px; fill: rgb(75, 154, 199); fill-opacity: 1;\"/><path class=\"point\" transform=\"translate(176.23,128.89)\" d=\"M3,0A3,3 0 1,1 0,-3A3,3 0 0,1 3,0Z\" style=\"opacity: 1; stroke-width: 0px; fill: rgb(75, 154, 199); fill-opacity: 1;\"/><path class=\"point\" transform=\"translate(98.53,275.99)\" d=\"M3,0A3,3 0 1,1 0,-3A3,3 0 0,1 3,0Z\" style=\"opacity: 1; stroke-width: 0px; fill: rgb(75, 154, 199); fill-opacity: 1;\"/><path class=\"point\" transform=\"translate(72.13,213.06)\" d=\"M3,0A3,3 0 1,1 0,-3A3,3 0 0,1 3,0Z\" style=\"opacity: 1; stroke-width: 0px; fill: rgb(75, 154, 199); fill-opacity: 1;\"/><path class=\"point\" transform=\"translate(479.14,222.3)\" d=\"M3,0A3,3 0 1,1 0,-3A3,3 0 0,1 3,0Z\" style=\"opacity: 1; stroke-width: 0px; fill: rgb(75, 154, 199); fill-opacity: 1;\"/><path class=\"point\" transform=\"translate(212.44,111.42)\" d=\"M3,0A3,3 0 1,1 0,-3A3,3 0 0,1 3,0Z\" style=\"opacity: 1; stroke-width: 0px; fill: rgb(75, 154, 199); fill-opacity: 1;\"/><path class=\"point\" transform=\"translate(169.81,162.9)\" d=\"M3,0A3,3 0 1,1 0,-3A3,3 0 0,1 3,0Z\" style=\"opacity: 1; stroke-width: 0px; fill: rgb(75, 154, 199); fill-opacity: 1;\"/><path class=\"point\" transform=\"translate(91.07,233.96)\" d=\"M3,0A3,3 0 1,1 0,-3A3,3 0 0,1 3,0Z\" style=\"opacity: 1; stroke-width: 0px; fill: rgb(75, 154, 199); fill-opacity: 1;\"/><path class=\"point\" transform=\"translate(259.36,132.2)\" d=\"M3,0A3,3 0 1,1 0,-3A3,3 0 0,1 3,0Z\" style=\"opacity: 1; stroke-width: 0px; fill: rgb(75, 154, 199); fill-opacity: 1;\"/><path class=\"point\" transform=\"translate(177.27,104.16)\" d=\"M3,0A3,3 0 1,1 0,-3A3,3 0 0,1 3,0Z\" style=\"opacity: 1; stroke-width: 0px; fill: rgb(75, 154, 199); fill-opacity: 1;\"/><path class=\"point\" transform=\"translate(145.55,289.58)\" d=\"M3,0A3,3 0 1,1 0,-3A3,3 0 0,1 3,0Z\" style=\"opacity: 1; stroke-width: 0px; fill: rgb(75, 154, 199); fill-opacity: 1;\"/><path class=\"point\" transform=\"translate(130.62,128.69)\" d=\"M3,0A3,3 0 1,1 0,-3A3,3 0 0,1 3,0Z\" style=\"opacity: 1; stroke-width: 0px; fill: rgb(75, 154, 199); fill-opacity: 1;\"/><path class=\"point\" transform=\"translate(226.27,208.55)\" d=\"M3,0A3,3 0 1,1 0,-3A3,3 0 0,1 3,0Z\" style=\"opacity: 1; stroke-width: 0px; fill: rgb(75, 154, 199); fill-opacity: 1;\"/><path class=\"point\" transform=\"translate(134.28,72.31)\" d=\"M3,0A3,3 0 1,1 0,-3A3,3 0 0,1 3,0Z\" style=\"opacity: 1; stroke-width: 0px; fill: rgb(75, 154, 199); fill-opacity: 1;\"/><path class=\"point\" transform=\"translate(110.12,283.37)\" d=\"M3,0A3,3 0 1,1 0,-3A3,3 0 0,1 3,0Z\" style=\"opacity: 1; stroke-width: 0px; fill: rgb(75, 154, 199); fill-opacity: 1;\"/><path class=\"point\" transform=\"translate(185,177.24)\" d=\"M3,0A3,3 0 1,1 0,-3A3,3 0 0,1 3,0Z\" style=\"opacity: 1; stroke-width: 0px; fill: rgb(75, 154, 199); fill-opacity: 1;\"/><path class=\"point\" transform=\"translate(231.59,95.5)\" d=\"M3,0A3,3 0 1,1 0,-3A3,3 0 0,1 3,0Z\" style=\"opacity: 1; stroke-width: 0px; fill: rgb(75, 154, 199); fill-opacity: 1;\"/><path class=\"point\" transform=\"translate(91.07,218.89)\" d=\"M3,0A3,3 0 1,1 0,-3A3,3 0 0,1 3,0Z\" style=\"opacity: 1; stroke-width: 0px; fill: rgb(75, 154, 199); fill-opacity: 1;\"/><path class=\"point\" transform=\"translate(152.91,128.66)\" d=\"M3,0A3,3 0 1,1 0,-3A3,3 0 0,1 3,0Z\" style=\"opacity: 1; stroke-width: 0px; fill: rgb(75, 154, 199); fill-opacity: 1;\"/><path class=\"point\" transform=\"translate(187.66,165.81)\" d=\"M3,0A3,3 0 1,1 0,-3A3,3 0 0,1 3,0Z\" style=\"opacity: 1; stroke-width: 0px; fill: rgb(75, 154, 199); fill-opacity: 1;\"/><path class=\"point\" transform=\"translate(80.9,127.33)\" d=\"M3,0A3,3 0 1,1 0,-3A3,3 0 0,1 3,0Z\" style=\"opacity: 1; stroke-width: 0px; fill: rgb(75, 154, 199); fill-opacity: 1;\"/><path class=\"point\" transform=\"translate(157.08,133.43)\" d=\"M3,0A3,3 0 1,1 0,-3A3,3 0 0,1 3,0Z\" style=\"opacity: 1; stroke-width: 0px; fill: rgb(75, 154, 199); fill-opacity: 1;\"/><path class=\"point\" transform=\"translate(184.53,279.13)\" d=\"M3,0A3,3 0 1,1 0,-3A3,3 0 0,1 3,0Z\" style=\"opacity: 1; stroke-width: 0px; fill: rgb(75, 154, 199); fill-opacity: 1;\"/><path class=\"point\" transform=\"translate(95.51,272.88)\" d=\"M3,0A3,3 0 1,1 0,-3A3,3 0 0,1 3,0Z\" style=\"opacity: 1; stroke-width: 0px; fill: rgb(75, 154, 199); fill-opacity: 1;\"/><path class=\"point\" transform=\"translate(91.91,236.61)\" d=\"M3,0A3,3 0 1,1 0,-3A3,3 0 0,1 3,0Z\" style=\"opacity: 1; stroke-width: 0px; fill: rgb(75, 154, 199); fill-opacity: 1;\"/><path class=\"point\" transform=\"translate(103.07,299.55)\" d=\"M3,0A3,3 0 1,1 0,-3A3,3 0 0,1 3,0Z\" style=\"opacity: 1; stroke-width: 0px; fill: rgb(75, 154, 199); fill-opacity: 1;\"/><path class=\"point\" transform=\"translate(173.15,263.38)\" d=\"M3,0A3,3 0 1,1 0,-3A3,3 0 0,1 3,0Z\" style=\"opacity: 1; stroke-width: 0px; fill: rgb(75, 154, 199); fill-opacity: 1;\"/><path class=\"point\" transform=\"translate(163.24,166.07)\" d=\"M3,0A3,3 0 1,1 0,-3A3,3 0 0,1 3,0Z\" style=\"opacity: 1; stroke-width: 0px; fill: rgb(75, 154, 199); fill-opacity: 1;\"/><path class=\"point\" transform=\"translate(161.99,165.91)\" d=\"M3,0A3,3 0 1,1 0,-3A3,3 0 0,1 3,0Z\" style=\"opacity: 1; stroke-width: 0px; fill: rgb(75, 154, 199); fill-opacity: 1;\"/><path class=\"point\" transform=\"translate(137.93,285.69)\" d=\"M3,0A3,3 0 1,1 0,-3A3,3 0 0,1 3,0Z\" style=\"opacity: 1; stroke-width: 0px; fill: rgb(75, 154, 199); fill-opacity: 1;\"/><path class=\"point\" transform=\"translate(120.76,261.54)\" d=\"M3,0A3,3 0 1,1 0,-3A3,3 0 0,1 3,0Z\" style=\"opacity: 1; stroke-width: 0px; fill: rgb(75, 154, 199); fill-opacity: 1;\"/><path class=\"point\" transform=\"translate(121.23,109.54)\" d=\"M3,0A3,3 0 1,1 0,-3A3,3 0 0,1 3,0Z\" style=\"opacity: 1; stroke-width: 0px; fill: rgb(75, 154, 199); fill-opacity: 1;\"/><path class=\"point\" transform=\"translate(207.75,212.91)\" d=\"M3,0A3,3 0 1,1 0,-3A3,3 0 0,1 3,0Z\" style=\"opacity: 1; stroke-width: 0px; fill: rgb(75, 154, 199); fill-opacity: 1;\"/><path class=\"point\" transform=\"translate(80.9,103.35)\" d=\"M3,0A3,3 0 1,1 0,-3A3,3 0 0,1 3,0Z\" style=\"opacity: 1; stroke-width: 0px; fill: rgb(75, 154, 199); fill-opacity: 1;\"/><path class=\"point\" transform=\"translate(56.89,102.15)\" d=\"M3,0A3,3 0 1,1 0,-3A3,3 0 0,1 3,0Z\" style=\"opacity: 1; stroke-width: 0px; fill: rgb(75, 154, 199); fill-opacity: 1;\"/><path class=\"point\" transform=\"translate(502.31,229.16)\" d=\"M3,0A3,3 0 1,1 0,-3A3,3 0 0,1 3,0Z\" style=\"opacity: 1; stroke-width: 0px; fill: rgb(75, 154, 199); fill-opacity: 1;\"/><path class=\"point\" transform=\"translate(56.89,98.76)\" d=\"M3,0A3,3 0 1,1 0,-3A3,3 0 0,1 3,0Z\" style=\"opacity: 1; stroke-width: 0px; fill: rgb(75, 154, 199); fill-opacity: 1;\"/><path class=\"point\" transform=\"translate(242.4,125.08)\" d=\"M3,0A3,3 0 1,1 0,-3A3,3 0 0,1 3,0Z\" style=\"opacity: 1; stroke-width: 0px; fill: rgb(75, 154, 199); fill-opacity: 1;\"/><path class=\"point\" transform=\"translate(120.08,146.64)\" d=\"M3,0A3,3 0 1,1 0,-3A3,3 0 0,1 3,0Z\" style=\"opacity: 1; stroke-width: 0px; fill: rgb(75, 154, 199); fill-opacity: 1;\"/><path class=\"point\" transform=\"translate(184.53,270.68)\" d=\"M3,0A3,3 0 1,1 0,-3A3,3 0 0,1 3,0Z\" style=\"opacity: 1; stroke-width: 0px; fill: rgb(75, 154, 199); fill-opacity: 1;\"/><path class=\"point\" transform=\"translate(115.54,296.56)\" d=\"M3,0A3,3 0 1,1 0,-3A3,3 0 0,1 3,0Z\" style=\"opacity: 1; stroke-width: 0px; fill: rgb(75, 154, 199); fill-opacity: 1;\"/><path class=\"point\" transform=\"translate(137.93,285.18)\" d=\"M3,0A3,3 0 1,1 0,-3A3,3 0 0,1 3,0Z\" style=\"opacity: 1; stroke-width: 0px; fill: rgb(75, 154, 199); fill-opacity: 1;\"/><path class=\"point\" transform=\"translate(145.55,285.9)\" d=\"M3,0A3,3 0 1,1 0,-3A3,3 0 0,1 3,0Z\" style=\"opacity: 1; stroke-width: 0px; fill: rgb(75, 154, 199); fill-opacity: 1;\"/><path class=\"point\" transform=\"translate(77.24,282.81)\" d=\"M3,0A3,3 0 1,1 0,-3A3,3 0 0,1 3,0Z\" style=\"opacity: 1; stroke-width: 0px; fill: rgb(75, 154, 199); fill-opacity: 1;\"/><path class=\"point\" transform=\"translate(226.74,78.34)\" d=\"M3,0A3,3 0 1,1 0,-3A3,3 0 0,1 3,0Z\" style=\"opacity: 1; stroke-width: 0px; fill: rgb(75, 154, 199); fill-opacity: 1;\"/><path class=\"point\" transform=\"translate(187.66,189.71)\" d=\"M3,0A3,3 0 1,1 0,-3A3,3 0 0,1 3,0Z\" style=\"opacity: 1; stroke-width: 0px; fill: rgb(75, 154, 199); fill-opacity: 1;\"/></g><g class=\"text\"/></g></g></g><g class=\"overplot\"/><path class=\"xlines-above crisp\" d=\"M0,0\" style=\"fill: none;\"/><path class=\"ylines-above crisp\" d=\"M0,0\" style=\"fill: none;\"/><g class=\"overlines-above\"/><g class=\"xaxislayer-above\"><g class=\"xtick\"><text text-anchor=\"middle\" x=\"0\" y=\"433\" transform=\"translate(155.47,0)\" style=\"font-family: 'Open Sans', verdana, arial, sans-serif; font-size: 12px; fill: rgb(68, 68, 68); fill-opacity: 1; white-space: pre; opacity: 1;\">6</text></g><g class=\"xtick\"><text text-anchor=\"middle\" x=\"0\" y=\"433\" style=\"font-family: 'Open Sans', verdana, arial, sans-serif; font-size: 12px; fill: rgb(68, 68, 68); fill-opacity: 1; white-space: pre; opacity: 1;\" transform=\"translate(259.83000000000004,0)\">8</text></g><g class=\"xtick\"><text text-anchor=\"middle\" x=\"0\" y=\"433\" style=\"font-family: 'Open Sans', verdana, arial, sans-serif; font-size: 12px; fill: rgb(68, 68, 68); fill-opacity: 1; white-space: pre; opacity: 1;\" transform=\"translate(364.19,0)\">10</text></g><g class=\"xtick\"><text text-anchor=\"middle\" x=\"0\" y=\"433\" style=\"font-family: 'Open Sans', verdana, arial, sans-serif; font-size: 12px; fill: rgb(68, 68, 68); fill-opacity: 1; white-space: pre; opacity: 1;\" transform=\"translate(468.56,0)\">12</text></g><g class=\"xtick\"><text text-anchor=\"middle\" x=\"0\" y=\"433\" style=\"font-family: 'Open Sans', verdana, arial, sans-serif; font-size: 12px; fill: rgb(68, 68, 68); fill-opacity: 1; white-space: pre; opacity: 1;\" transform=\"translate(572.9200000000001,0)\">14</text></g></g><g class=\"yaxislayer-above\"><g class=\"ytick\"><text text-anchor=\"end\" x=\"79\" y=\"4.199999999999999\" transform=\"translate(0,374.35)\" style=\"font-family: 'Open Sans', verdana, arial, sans-serif; font-size: 12px; fill: rgb(68, 68, 68); fill-opacity: 1; white-space: pre; opacity: 1;\">0.5M</text></g><g class=\"ytick\"><text text-anchor=\"end\" x=\"79\" y=\"4.199999999999999\" style=\"font-family: 'Open Sans', verdana, arial, sans-serif; font-size: 12px; fill: rgb(68, 68, 68); fill-opacity: 1; white-space: pre; opacity: 1;\" transform=\"translate(0,318.3)\">1M</text></g><g class=\"ytick\"><text text-anchor=\"end\" x=\"79\" y=\"4.199999999999999\" style=\"font-family: 'Open Sans', verdana, arial, sans-serif; font-size: 12px; fill: rgb(68, 68, 68); fill-opacity: 1; white-space: pre; opacity: 1;\" transform=\"translate(0,262.26)\">1.5M</text></g><g class=\"ytick\"><text text-anchor=\"end\" x=\"79\" y=\"4.199999999999999\" style=\"font-family: 'Open Sans', verdana, arial, sans-serif; font-size: 12px; fill: rgb(68, 68, 68); fill-opacity: 1; white-space: pre; opacity: 1;\" transform=\"translate(0,206.22)\">2M</text></g><g class=\"ytick\"><text text-anchor=\"end\" x=\"79\" y=\"4.199999999999999\" style=\"font-family: 'Open Sans', verdana, arial, sans-serif; font-size: 12px; fill: rgb(68, 68, 68); fill-opacity: 1; white-space: pre; opacity: 1;\" transform=\"translate(0,150.17000000000002)\">2.5M</text></g></g><g class=\"overaxes-above\"/></g></g><g class=\"polarlayer\"/><g class=\"smithlayer\"/><g class=\"ternarylayer\"/><g class=\"geolayer\"/><g class=\"funnelarealayer\"/><g class=\"pielayer\"/><g class=\"iciclelayer\"/><g class=\"treemaplayer\"/><g class=\"sunburstlayer\"/><g class=\"glimages\"/><defs id=\"topdefs-645fe1\"><g class=\"clips\"/></defs><g class=\"layer-above\"><g class=\"imagelayer\"/><g class=\"shapelayer\"/></g><g class=\"infolayer\"><g class=\"g-gtitle\"><text class=\"gtitle\" x=\"350\" y=\"50\" text-anchor=\"middle\" dy=\"0em\" style=\"font-family: 'Open Sans', verdana, arial, sans-serif; font-size: 17px; fill: rgb(68, 68, 68); opacity: 1; font-weight: normal; white-space: pre;\">Unemployment and Weekly Sales</text></g><g class=\"g-xtitle\"><text class=\"xtitle\" x=\"350\" y=\"472\" text-anchor=\"middle\" style=\"font-family: 'Open Sans', verdana, arial, sans-serif; font-size: 14px; fill: rgb(68, 68, 68); opacity: 1; font-weight: normal; white-space: pre;\">Unemployment</text></g><g class=\"g-ytitle\"><text class=\"ytitle\" transform=\"rotate(-90,42,260)\" x=\"42\" y=\"260\" text-anchor=\"middle\" style=\"font-family: 'Open Sans', verdana, arial, sans-serif; font-size: 14px; fill: rgb(68, 68, 68); opacity: 1; font-weight: normal; white-space: pre;\">Weekly Sales</text></g></g></svg>"
      ]
     },
     "metadata": {},
     "output_type": "display_data"
    }
   ],
   "source": [
    "# scatter plot Unemployment price and Weekly Sales\n",
    "fig = px.scatter(dataset, x='Unemployment', y='Weekly_Sales', title='Unemployment and Weekly Sales',\n",
    "                 labels={'Unemployment':'Unemployment', 'Weekly_Sales':'Weekly Sales'})\n",
    "\n",
    "# Show the plot\n",
    "fig.show()"
   ]
  },
  {
   "cell_type": "code",
   "execution_count": 16,
   "metadata": {},
   "outputs": [
    {
     "data": {
      "image/svg+xml": [
       "<svg class=\"main-svg\" xmlns=\"http://www.w3.org/2000/svg\" xmlns:xlink=\"http://www.w3.org/1999/xlink\" width=\"700\" height=\"500\" style=\"\" viewBox=\"0 0 700 500\"><rect x=\"0\" y=\"0\" width=\"700\" height=\"500\" style=\"fill: rgb(255, 255, 255); fill-opacity: 1;\"/><defs id=\"defs-6da485\"><g class=\"clips\"><clipPath id=\"clip6da485xyplot\" class=\"plotclip\"><rect width=\"531\" height=\"360\"/></clipPath><clipPath class=\"axesclip\" id=\"clip6da485x\"><rect x=\"80\" y=\"0\" width=\"531\" height=\"500\"/></clipPath><clipPath class=\"axesclip\" id=\"clip6da485y\"><rect x=\"0\" y=\"60\" width=\"700\" height=\"360\"/></clipPath><clipPath class=\"axesclip\" id=\"clip6da485xy\"><rect x=\"80\" y=\"60\" width=\"531\" height=\"360\"/></clipPath></g><g class=\"gradients\"><linearGradient x1=\"0\" x2=\"0\" y1=\"1\" y2=\"0\" id=\"g6da485-cbcoloraxis\"><stop offset=\"0%\" stop-color=\"rgb(68, 1, 84)\" stop-opacity=\"1\"/><stop offset=\"11.111111%\" stop-color=\"rgb(72, 40, 120)\" stop-opacity=\"1\"/><stop offset=\"22.222222%\" stop-color=\"rgb(62, 73, 137)\" stop-opacity=\"1\"/><stop offset=\"33.333333%\" stop-color=\"rgb(49, 104, 142)\" stop-opacity=\"1\"/><stop offset=\"44.444444%\" stop-color=\"rgb(38, 130, 142)\" stop-opacity=\"1\"/><stop offset=\"55.555556%\" stop-color=\"rgb(31, 158, 137)\" stop-opacity=\"1\"/><stop offset=\"66.666667%\" stop-color=\"rgb(53, 183, 121)\" stop-opacity=\"1\"/><stop offset=\"77.777778%\" stop-color=\"rgb(110, 206, 88)\" stop-opacity=\"1\"/><stop offset=\"88.888889%\" stop-color=\"rgb(181, 222, 43)\" stop-opacity=\"1\"/><stop offset=\"100%\" stop-color=\"rgb(253, 231, 37)\" stop-opacity=\"1\"/></linearGradient></g><g class=\"patterns\"/></defs><g class=\"bglayer\"/><g class=\"layer-below\"><g class=\"imagelayer\"/><g class=\"shapelayer\"/></g><g class=\"cartesianlayer\"><g class=\"subplot xy\"><g class=\"layer-subplot\"><g class=\"shapelayer\"/><g class=\"imagelayer\"/></g><g class=\"minor-gridlayer\"><g class=\"x\"/><g class=\"y\"/></g><g class=\"gridlayer\"><g class=\"x\"><path class=\"xgrid crisp\" transform=\"translate(154.26,0)\" d=\"M0,60v360\" style=\"stroke: rgb(238, 238, 238); stroke-opacity: 1; stroke-width: 1px;\"/><path class=\"xgrid crisp\" transform=\"translate(256.86,0)\" d=\"M0,60v360\" style=\"stroke: rgb(238, 238, 238); stroke-opacity: 1; stroke-width: 1px;\"/><path class=\"xgrid crisp\" transform=\"translate(359.45,0)\" d=\"M0,60v360\" style=\"stroke: rgb(238, 238, 238); stroke-opacity: 1; stroke-width: 1px;\"/><path class=\"xgrid crisp\" transform=\"translate(462.05,0)\" d=\"M0,60v360\" style=\"stroke: rgb(238, 238, 238); stroke-opacity: 1; stroke-width: 1px;\"/><path class=\"xgrid crisp\" transform=\"translate(564.64,0)\" d=\"M0,60v360\" style=\"stroke: rgb(238, 238, 238); stroke-opacity: 1; stroke-width: 1px;\"/></g><g class=\"y\"><path class=\"ygrid crisp\" transform=\"translate(0,369.03)\" d=\"M80,0h531\" style=\"stroke: rgb(238, 238, 238); stroke-opacity: 1; stroke-width: 1px;\"/><path class=\"ygrid crisp\" transform=\"translate(0,305.78999999999996)\" d=\"M80,0h531\" style=\"stroke: rgb(238, 238, 238); stroke-opacity: 1; stroke-width: 1px;\"/><path class=\"ygrid crisp\" transform=\"translate(0,242.55)\" d=\"M80,0h531\" style=\"stroke: rgb(238, 238, 238); stroke-opacity: 1; stroke-width: 1px;\"/><path class=\"ygrid crisp\" transform=\"translate(0,179.31)\" d=\"M80,0h531\" style=\"stroke: rgb(238, 238, 238); stroke-opacity: 1; stroke-width: 1px;\"/><path class=\"ygrid crisp\" transform=\"translate(0,116.07)\" d=\"M80,0h531\" style=\"stroke: rgb(238, 238, 238); stroke-opacity: 1; stroke-width: 1px;\"/></g></g><g class=\"zerolinelayer\"/><path class=\"xlines-below\"/><path class=\"ylines-below\"/><g class=\"overlines-below\"/><g class=\"xaxislayer-below\"/><g class=\"yaxislayer-below\"/><g class=\"overaxes-below\"/><g class=\"plot\" transform=\"translate(80,60)\" clip-path=\"url(#clip6da485xyplot)\"><g class=\"scatterlayer mlayer\"><g class=\"trace scatter tracef0401f\" style=\"stroke-miterlimit: 2; opacity: 1;\"><g class=\"fills\"/><g class=\"errorbars\"/><g class=\"lines\"/><g class=\"points\"><path class=\"point\" transform=\"translate(118.28,173.43)\" d=\"M3,0A3,3 0 1,1 0,-3A3,3 0 0,1 3,0Z\" style=\"opacity: 1; stroke-width: 0px; fill: rgb(57, 84, 139); fill-opacity: 1;\"/><path class=\"point\" transform=\"translate(149.67,143.65)\" d=\"M3,0A3,3 0 1,1 0,-3A3,3 0 0,1 3,0Z\" style=\"opacity: 1; stroke-width: 0px; fill: rgb(46, 175, 126); fill-opacity: 1;\"/><path class=\"point\" transform=\"translate(143.31,214.88)\" d=\"M3,0A3,3 0 1,1 0,-3A3,3 0 0,1 3,0Z\" style=\"opacity: 1; stroke-width: 0px; fill: rgb(33, 151, 138); fill-opacity: 1;\"/><path class=\"point\" transform=\"translate(130.28,164.28)\" d=\"M3,0A3,3 0 1,1 0,-3A3,3 0 0,1 3,0Z\" style=\"opacity: 1; stroke-width: 0px; fill: rgb(57, 84, 139); fill-opacity: 1;\"/><path class=\"point\" transform=\"translate(171.52,137.33)\" d=\"M3,0A3,3 0 1,1 0,-3A3,3 0 0,1 3,0Z\" style=\"opacity: 1; stroke-width: 0px; fill: rgb(68, 54, 127); fill-opacity: 1;\"/><path class=\"point\" transform=\"translate(159.31,284.31)\" d=\"M3,0A3,3 0 1,1 0,-3A3,3 0 0,1 3,0Z\" style=\"opacity: 1; stroke-width: 0px; fill: rgb(89, 198, 100); fill-opacity: 1;\"/><path class=\"point\" transform=\"translate(123.56,93.57)\" d=\"M3,0A3,3 0 1,1 0,-3A3,3 0 0,1 3,0Z\" style=\"opacity: 1; stroke-width: 0px; fill: rgb(253, 231, 37); fill-opacity: 1;\"/><path class=\"point\" transform=\"translate(116.99,319.28)\" d=\"M3,0A3,3 0 1,1 0,-3A3,3 0 0,1 3,0Z\" style=\"opacity: 1; stroke-width: 0px; fill: rgb(72, 38, 118); fill-opacity: 1;\"/><path class=\"point\" transform=\"translate(96.06,259.06)\" d=\"M3,0A3,3 0 1,1 0,-3A3,3 0 0,1 3,0Z\" style=\"opacity: 1; stroke-width: 0px; fill: rgb(46, 112, 142); fill-opacity: 1;\"/><path class=\"point\" transform=\"translate(245.13,242.04)\" d=\"M3,0A3,3 0 1,1 0,-3A3,3 0 0,1 3,0Z\" style=\"opacity: 1; stroke-width: 0px; fill: rgb(185, 222, 43); fill-opacity: 1;\"/><path class=\"point\" transform=\"translate(207.38,319.89)\" d=\"M3,0A3,3 0 1,1 0,-3A3,3 0 0,1 3,0Z\" style=\"opacity: 1; stroke-width: 0px; fill: rgb(51, 99, 141); fill-opacity: 1;\"/><path class=\"point\" transform=\"translate(143.41,160.1)\" d=\"M3,0A3,3 0 1,1 0,-3A3,3 0 0,1 3,0Z\" style=\"opacity: 1; stroke-width: 0px; fill: rgb(68, 1, 84); fill-opacity: 1;\"/><path class=\"point\" transform=\"translate(119.66,267.39)\" d=\"M3,0A3,3 0 1,1 0,-3A3,3 0 0,1 3,0Z\" style=\"opacity: 1; stroke-width: 0px; fill: rgb(151, 215, 62); fill-opacity: 1;\"/><path class=\"point\" transform=\"translate(130.28,182.79)\" d=\"M3,0A3,3 0 1,1 0,-3A3,3 0 0,1 3,0Z\" style=\"opacity: 1; stroke-width: 0px; fill: rgb(57, 84, 139); fill-opacity: 1;\"/><path class=\"point\" transform=\"translate(174.34,119.64)\" d=\"M3,0A3,3 0 1,1 0,-3A3,3 0 0,1 3,0Z\" style=\"opacity: 1; stroke-width: 0px; fill: rgb(46, 175, 126); fill-opacity: 1;\"/><path class=\"point\" transform=\"translate(238.52,219.82)\" d=\"M3,0A3,3 0 1,1 0,-3A3,3 0 0,1 3,0Z\" style=\"opacity: 1; stroke-width: 0px; fill: rgb(185, 222, 43); fill-opacity: 1;\"/><path class=\"point\" transform=\"translate(148.18,64.58)\" d=\"M3,0A3,3 0 1,1 0,-3A3,3 0 0,1 3,0Z\" style=\"opacity: 1; stroke-width: 0px; fill: rgb(70, 19, 101); fill-opacity: 1;\"/><path class=\"point\" transform=\"translate(226.26,301.29)\" d=\"M3,0A3,3 0 1,1 0,-3A3,3 0 0,1 3,0Z\" style=\"opacity: 1; stroke-width: 0px; fill: rgb(51, 99, 141); fill-opacity: 1;\"/><path class=\"point\" transform=\"translate(99.35,335.47)\" d=\"M3,0A3,3 0 1,1 0,-3A3,3 0 0,1 3,0Z\" style=\"opacity: 1; stroke-width: 0px; fill: rgb(63, 70, 135); fill-opacity: 1;\"/><path class=\"point\" transform=\"translate(189.32,236.42)\" d=\"M3,0A3,3 0 1,1 0,-3A3,3 0 0,1 3,0Z\" style=\"opacity: 1; stroke-width: 0px; fill: rgb(185, 222, 43); fill-opacity: 1;\"/><path class=\"point\" transform=\"translate(194.81,191.78)\" d=\"M3,0A3,3 0 1,1 0,-3A3,3 0 0,1 3,0Z\" style=\"opacity: 1; stroke-width: 0px; fill: rgb(219, 227, 40); fill-opacity: 1;\"/><path class=\"point\" transform=\"translate(184.55,194.56)\" d=\"M3,0A3,3 0 1,1 0,-3A3,3 0 0,1 3,0Z\" style=\"opacity: 1; stroke-width: 0px; fill: rgb(219, 227, 40); fill-opacity: 1;\"/><path class=\"point\" transform=\"translate(50,255.92)\" d=\"M3,0A3,3 0 1,1 0,-3A3,3 0 0,1 3,0Z\" style=\"opacity: 1; stroke-width: 0px; fill: rgb(151, 215, 62); fill-opacity: 1;\"/><path class=\"point\" transform=\"translate(116.99,325.79)\" d=\"M3,0A3,3 0 1,1 0,-3A3,3 0 0,1 3,0Z\" style=\"opacity: 1; stroke-width: 0px; fill: rgb(72, 38, 118); fill-opacity: 1;\"/><path class=\"point\" transform=\"translate(91.65,317.2)\" d=\"M3,0A3,3 0 1,1 0,-3A3,3 0 0,1 3,0Z\" style=\"opacity: 1; stroke-width: 0px; fill: rgb(117, 208, 83); fill-opacity: 1;\"/><path class=\"point\" transform=\"translate(106.84,276.43)\" d=\"M3,0A3,3 0 1,1 0,-3A3,3 0 0,1 3,0Z\" style=\"opacity: 1; stroke-width: 0px; fill: rgb(151, 215, 62); fill-opacity: 1;\"/><path class=\"point\" transform=\"translate(121.71,192.62)\" d=\"M3,0A3,3 0 1,1 0,-3A3,3 0 0,1 3,0Z\" style=\"opacity: 1; stroke-width: 0px; fill: rgb(57, 84, 139); fill-opacity: 1;\"/><path class=\"point\" transform=\"translate(471.1,243.11)\" d=\"M3,0A3,3 0 1,1 0,-3A3,3 0 0,1 3,0Z\" style=\"opacity: 1; stroke-width: 0px; fill: rgb(36, 163, 134); fill-opacity: 1;\"/><path class=\"point\" transform=\"translate(189.99,301)\" d=\"M3,0A3,3 0 1,1 0,-3A3,3 0 0,1 3,0Z\" style=\"opacity: 1; stroke-width: 0px; fill: rgb(51, 99, 141); fill-opacity: 1;\"/><path class=\"point\" transform=\"translate(198.61,109.54)\" d=\"M3,0A3,3 0 1,1 0,-3A3,3 0 0,1 3,0Z\" style=\"opacity: 1; stroke-width: 0px; fill: rgb(62, 187, 116); fill-opacity: 1;\"/><path class=\"point\" transform=\"translate(165.11,212.07)\" d=\"M3,0A3,3 0 1,1 0,-3A3,3 0 0,1 3,0Z\" style=\"opacity: 1; stroke-width: 0px; fill: rgb(219, 227, 40); fill-opacity: 1;\"/><path class=\"point\" transform=\"translate(154.65,326.07)\" d=\"M3,0A3,3 0 1,1 0,-3A3,3 0 0,1 3,0Z\" style=\"opacity: 1; stroke-width: 0px; fill: rgb(72, 38, 118); fill-opacity: 1;\"/><path class=\"point\" transform=\"translate(226.87,247.29)\" d=\"M3,0A3,3 0 1,1 0,-3A3,3 0 0,1 3,0Z\" style=\"opacity: 1; stroke-width: 0px; fill: rgb(185, 222, 43); fill-opacity: 1;\"/><path class=\"point\" transform=\"translate(71.49,118.26)\" d=\"M3,0A3,3 0 1,1 0,-3A3,3 0 0,1 3,0Z\" style=\"opacity: 1; stroke-width: 0px; fill: rgb(68, 54, 127); fill-opacity: 1;\"/><path class=\"point\" transform=\"translate(89.65,332.81)\" d=\"M3,0A3,3 0 1,1 0,-3A3,3 0 0,1 3,0Z\" style=\"opacity: 1; stroke-width: 0px; fill: rgb(63, 70, 135); fill-opacity: 1;\"/><path class=\"point\" transform=\"translate(192.45,250.7)\" d=\"M3,0A3,3 0 1,1 0,-3A3,3 0 0,1 3,0Z\" style=\"opacity: 1; stroke-width: 0px; fill: rgb(185, 222, 43); fill-opacity: 1;\"/><path class=\"point\" transform=\"translate(77.39,305.67)\" d=\"M3,0A3,3 0 1,1 0,-3A3,3 0 0,1 3,0Z\" style=\"opacity: 1; stroke-width: 0px; fill: rgb(117, 208, 83); fill-opacity: 1;\"/><path class=\"point\" transform=\"translate(120.84,162.09)\" d=\"M3,0A3,3 0 1,1 0,-3A3,3 0 0,1 3,0Z\" style=\"opacity: 1; stroke-width: 0px; fill: rgb(68, 1, 84); fill-opacity: 1;\"/><path class=\"point\" transform=\"translate(208.76,292.58)\" d=\"M3,0A3,3 0 1,1 0,-3A3,3 0 0,1 3,0Z\" style=\"opacity: 1; stroke-width: 0px; fill: rgb(51, 99, 141); fill-opacity: 1;\"/><path class=\"point\" transform=\"translate(182.3,164.6)\" d=\"M3,0A3,3 0 1,1 0,-3A3,3 0 0,1 3,0Z\" style=\"opacity: 1; stroke-width: 0px; fill: rgb(68, 1, 84); fill-opacity: 1;\"/><path class=\"point\" transform=\"translate(128.48,136.79)\" d=\"M3,0A3,3 0 1,1 0,-3A3,3 0 0,1 3,0Z\" style=\"opacity: 1; stroke-width: 0px; fill: rgb(70, 19, 101); fill-opacity: 1;\"/><path class=\"point\" transform=\"translate(99.71,338.25)\" d=\"M3,0A3,3 0 1,1 0,-3A3,3 0 0,1 3,0Z\" style=\"opacity: 1; stroke-width: 0px; fill: rgb(63, 70, 135); fill-opacity: 1;\"/><path class=\"point\" transform=\"translate(181.94,176.35)\" d=\"M3,0A3,3 0 1,1 0,-3A3,3 0 0,1 3,0Z\" style=\"opacity: 1; stroke-width: 0px; fill: rgb(219, 227, 40); fill-opacity: 1;\"/><path class=\"point\" transform=\"translate(174.91,166.82)\" d=\"M3,0A3,3 0 1,1 0,-3A3,3 0 0,1 3,0Z\" style=\"opacity: 1; stroke-width: 0px; fill: rgb(68, 1, 84); fill-opacity: 1;\"/><path class=\"point\" transform=\"translate(82.57,310.91)\" d=\"M3,0A3,3 0 1,1 0,-3A3,3 0 0,1 3,0Z\" style=\"opacity: 1; stroke-width: 0px; fill: rgb(117, 208, 83); fill-opacity: 1;\"/><path class=\"point\" transform=\"translate(72.47,114.83)\" d=\"M3,0A3,3 0 1,1 0,-3A3,3 0 0,1 3,0Z\" style=\"opacity: 1; stroke-width: 0px; fill: rgb(46, 175, 126); fill-opacity: 1;\"/><path class=\"point\" transform=\"translate(185.22,129.83)\" d=\"M3,0A3,3 0 1,1 0,-3A3,3 0 0,1 3,0Z\" style=\"opacity: 1; stroke-width: 0px; fill: rgb(70, 19, 101); fill-opacity: 1;\"/><path class=\"point\" transform=\"translate(205.02,134.56)\" d=\"M3,0A3,3 0 1,1 0,-3A3,3 0 0,1 3,0Z\" style=\"opacity: 1; stroke-width: 0px; fill: rgb(62, 187, 116); fill-opacity: 1;\"/><path class=\"point\" transform=\"translate(134.28,143.85)\" d=\"M3,0A3,3 0 1,1 0,-3A3,3 0 0,1 3,0Z\" style=\"opacity: 1; stroke-width: 0px; fill: rgb(36, 137, 141); fill-opacity: 1;\"/><path class=\"point\" transform=\"translate(119.25,138.61)\" d=\"M3,0A3,3 0 1,1 0,-3A3,3 0 0,1 3,0Z\" style=\"opacity: 1; stroke-width: 0px; fill: rgb(46, 175, 126); fill-opacity: 1;\"/><path class=\"point\" transform=\"translate(90.42,259.85)\" d=\"M3,0A3,3 0 1,1 0,-3A3,3 0 0,1 3,0Z\" style=\"opacity: 1; stroke-width: 0px; fill: rgb(46, 112, 142); fill-opacity: 1;\"/><path class=\"point\" transform=\"translate(124.17,178.46)\" d=\"M3,0A3,3 0 1,1 0,-3A3,3 0 0,1 3,0Z\" style=\"opacity: 1; stroke-width: 0px; fill: rgb(57, 84, 139); fill-opacity: 1;\"/><path class=\"point\" transform=\"translate(198.61,116.71)\" d=\"M3,0A3,3 0 1,1 0,-3A3,3 0 0,1 3,0Z\" style=\"opacity: 1; stroke-width: 0px; fill: rgb(62, 187, 116); fill-opacity: 1;\"/><path class=\"point\" transform=\"translate(203.58,107.22)\" d=\"M3,0A3,3 0 1,1 0,-3A3,3 0 0,1 3,0Z\" style=\"opacity: 1; stroke-width: 0px; fill: rgb(62, 187, 116); fill-opacity: 1;\"/><path class=\"point\" transform=\"translate(153.52,120.53)\" d=\"M3,0A3,3 0 1,1 0,-3A3,3 0 0,1 3,0Z\" style=\"opacity: 1; stroke-width: 0px; fill: rgb(36, 137, 141); fill-opacity: 1;\"/><path class=\"point\" transform=\"translate(500.7,208.4)\" d=\"M3,0A3,3 0 1,1 0,-3A3,3 0 0,1 3,0Z\" style=\"opacity: 1; stroke-width: 0px; fill: rgb(36, 163, 134); fill-opacity: 1;\"/><path class=\"point\" transform=\"translate(44.61,332.63)\" d=\"M3,0A3,3 0 1,1 0,-3A3,3 0 0,1 3,0Z\" style=\"opacity: 1; stroke-width: 0px; fill: rgb(63, 70, 135); fill-opacity: 1;\"/><path class=\"point\" transform=\"translate(30.3,21.75)\" d=\"M3,0A3,3 0 1,1 0,-3A3,3 0 0,1 3,0Z\" style=\"opacity: 1; stroke-width: 0px; fill: rgb(68, 54, 127); fill-opacity: 1;\"/><path class=\"point\" transform=\"translate(215.02,155.45)\" d=\"M3,0A3,3 0 1,1 0,-3A3,3 0 0,1 3,0Z\" style=\"opacity: 1; stroke-width: 0px; fill: rgb(36, 137, 141); fill-opacity: 1;\"/><path class=\"point\" transform=\"translate(245.7,224.78)\" d=\"M3,0A3,3 0 1,1 0,-3A3,3 0 0,1 3,0Z\" style=\"opacity: 1; stroke-width: 0px; fill: rgb(185, 222, 43); fill-opacity: 1;\"/><path class=\"point\" transform=\"translate(144.44,313.88)\" d=\"M3,0A3,3 0 1,1 0,-3A3,3 0 0,1 3,0Z\" style=\"opacity: 1; stroke-width: 0px; fill: rgb(72, 38, 118); fill-opacity: 1;\"/><path class=\"point\" transform=\"translate(459.15,251.36)\" d=\"M3,0A3,3 0 1,1 0,-3A3,3 0 0,1 3,0Z\" style=\"opacity: 1; stroke-width: 0px; fill: rgb(36, 163, 134); fill-opacity: 1;\"/><path class=\"point\" transform=\"translate(245.13,171.37)\" d=\"M3,0A3,3 0 1,1 0,-3A3,3 0 0,1 3,0Z\" style=\"opacity: 1; stroke-width: 0px; fill: rgb(185, 222, 43); fill-opacity: 1;\"/><path class=\"point\" transform=\"translate(166.34,60.95)\" d=\"M3,0A3,3 0 1,1 0,-3A3,3 0 0,1 3,0Z\" style=\"opacity: 1; stroke-width: 0px; fill: rgb(46, 175, 126); fill-opacity: 1;\"/><path class=\"point\" transform=\"translate(165.93,188.98)\" d=\"M3,0A3,3 0 1,1 0,-3A3,3 0 0,1 3,0Z\" style=\"opacity: 1; stroke-width: 0px; fill: rgb(68, 1, 84); fill-opacity: 1;\"/><path class=\"point\" transform=\"translate(169.47,122.71)\" d=\"M3,0A3,3 0 1,1 0,-3A3,3 0 0,1 3,0Z\" style=\"opacity: 1; stroke-width: 0px; fill: rgb(253, 231, 37); fill-opacity: 1;\"/><path class=\"point\" transform=\"translate(173.93,300.09)\" d=\"M3,0A3,3 0 1,1 0,-3A3,3 0 0,1 3,0Z\" style=\"opacity: 1; stroke-width: 0px; fill: rgb(89, 198, 100); fill-opacity: 1;\"/><path class=\"point\" transform=\"translate(169.98,177.56)\" d=\"M3,0A3,3 0 1,1 0,-3A3,3 0 0,1 3,0Z\" style=\"opacity: 1; stroke-width: 0px; fill: rgb(68, 1, 84); fill-opacity: 1;\"/><path class=\"point\" transform=\"translate(152.59,145.91)\" d=\"M3,0A3,3 0 1,1 0,-3A3,3 0 0,1 3,0Z\" style=\"opacity: 1; stroke-width: 0px; fill: rgb(253, 231, 37); fill-opacity: 1;\"/><path class=\"point\" transform=\"translate(102.99,306.52)\" d=\"M3,0A3,3 0 1,1 0,-3A3,3 0 0,1 3,0Z\" style=\"opacity: 1; stroke-width: 0px; fill: rgb(40, 125, 142); fill-opacity: 1;\"/><path class=\"point\" transform=\"translate(71.34,326.83)\" d=\"M3,0A3,3 0 1,1 0,-3A3,3 0 0,1 3,0Z\" style=\"opacity: 1; stroke-width: 0px; fill: rgb(63, 70, 135); fill-opacity: 1;\"/><path class=\"point\" transform=\"translate(116.99,173.75)\" d=\"M3,0A3,3 0 1,1 0,-3A3,3 0 0,1 3,0Z\" style=\"opacity: 1; stroke-width: 0px; fill: rgb(33, 151, 138); fill-opacity: 1;\"/><path class=\"point\" transform=\"translate(166.91,295.43)\" d=\"M3,0A3,3 0 1,1 0,-3A3,3 0 0,1 3,0Z\" style=\"opacity: 1; stroke-width: 0px; fill: rgb(89, 198, 100); fill-opacity: 1;\"/><path class=\"point\" transform=\"translate(178.29,149.91)\" d=\"M3,0A3,3 0 1,1 0,-3A3,3 0 0,1 3,0Z\" style=\"opacity: 1; stroke-width: 0px; fill: rgb(70, 19, 101); fill-opacity: 1;\"/><path class=\"point\" transform=\"translate(86.32,247.44)\" d=\"M3,0A3,3 0 1,1 0,-3A3,3 0 0,1 3,0Z\" style=\"opacity: 1; stroke-width: 0px; fill: rgb(151, 215, 62); fill-opacity: 1;\"/><path class=\"point\" transform=\"translate(108.32,317.63)\" d=\"M3,0A3,3 0 1,1 0,-3A3,3 0 0,1 3,0Z\" style=\"opacity: 1; stroke-width: 0px; fill: rgb(72, 38, 118); fill-opacity: 1;\"/><path class=\"point\" transform=\"translate(123.56,113.52)\" d=\"M3,0A3,3 0 1,1 0,-3A3,3 0 0,1 3,0Z\" style=\"opacity: 1; stroke-width: 0px; fill: rgb(253, 231, 37); fill-opacity: 1;\"/><path class=\"point\" transform=\"translate(173.32,144.89)\" d=\"M3,0A3,3 0 1,1 0,-3A3,3 0 0,1 3,0Z\" style=\"opacity: 1; stroke-width: 0px; fill: rgb(70, 19, 101); fill-opacity: 1;\"/><path class=\"point\" transform=\"translate(96.94,310.87)\" d=\"M3,0A3,3 0 1,1 0,-3A3,3 0 0,1 3,0Z\" style=\"opacity: 1; stroke-width: 0px; fill: rgb(40, 125, 142); fill-opacity: 1;\"/><path class=\"point\" transform=\"translate(70.98,239.87)\" d=\"M3,0A3,3 0 1,1 0,-3A3,3 0 0,1 3,0Z\" style=\"opacity: 1; stroke-width: 0px; fill: rgb(151, 215, 62); fill-opacity: 1;\"/><path class=\"point\" transform=\"translate(471.1,250.3)\" d=\"M3,0A3,3 0 1,1 0,-3A3,3 0 0,1 3,0Z\" style=\"opacity: 1; stroke-width: 0px; fill: rgb(36, 163, 134); fill-opacity: 1;\"/><path class=\"point\" transform=\"translate(208.92,125.19)\" d=\"M3,0A3,3 0 1,1 0,-3A3,3 0 0,1 3,0Z\" style=\"opacity: 1; stroke-width: 0px; fill: rgb(62, 187, 116); fill-opacity: 1;\"/><path class=\"point\" transform=\"translate(167.01,183.28)\" d=\"M3,0A3,3 0 1,1 0,-3A3,3 0 0,1 3,0Z\" style=\"opacity: 1; stroke-width: 0px; fill: rgb(68, 1, 84); fill-opacity: 1;\"/><path class=\"point\" transform=\"translate(89.6,263.45)\" d=\"M3,0A3,3 0 1,1 0,-3A3,3 0 0,1 3,0Z\" style=\"opacity: 1; stroke-width: 0px; fill: rgb(46, 112, 142); fill-opacity: 1;\"/><path class=\"point\" transform=\"translate(255.04,148.63)\" d=\"M3,0A3,3 0 1,1 0,-3A3,3 0 0,1 3,0Z\" style=\"opacity: 1; stroke-width: 0px; fill: rgb(36, 137, 141); fill-opacity: 1;\"/><path class=\"point\" transform=\"translate(174.34,117)\" d=\"M3,0A3,3 0 1,1 0,-3A3,3 0 0,1 3,0Z\" style=\"opacity: 1; stroke-width: 0px; fill: rgb(46, 175, 126); fill-opacity: 1;\"/><path class=\"point\" transform=\"translate(143.15,326.22)\" d=\"M3,0A3,3 0 1,1 0,-3A3,3 0 0,1 3,0Z\" style=\"opacity: 1; stroke-width: 0px; fill: rgb(72, 38, 118); fill-opacity: 1;\"/><path class=\"point\" transform=\"translate(128.48,144.67)\" d=\"M3,0A3,3 0 1,1 0,-3A3,3 0 0,1 3,0Z\" style=\"opacity: 1; stroke-width: 0px; fill: rgb(70, 19, 101); fill-opacity: 1;\"/><path class=\"point\" transform=\"translate(222.51,234.78)\" d=\"M3,0A3,3 0 1,1 0,-3A3,3 0 0,1 3,0Z\" style=\"opacity: 1; stroke-width: 0px; fill: rgb(185, 222, 43); fill-opacity: 1;\"/><path class=\"point\" transform=\"translate(132.07,81.05)\" d=\"M3,0A3,3 0 1,1 0,-3A3,3 0 0,1 3,0Z\" style=\"opacity: 1; stroke-width: 0px; fill: rgb(68, 54, 127); fill-opacity: 1;\"/><path class=\"point\" transform=\"translate(108.32,319.21)\" d=\"M3,0A3,3 0 1,1 0,-3A3,3 0 0,1 3,0Z\" style=\"opacity: 1; stroke-width: 0px; fill: rgb(72, 38, 118); fill-opacity: 1;\"/><path class=\"point\" transform=\"translate(181.94,199.45)\" d=\"M3,0A3,3 0 1,1 0,-3A3,3 0 0,1 3,0Z\" style=\"opacity: 1; stroke-width: 0px; fill: rgb(219, 227, 40); fill-opacity: 1;\"/><path class=\"point\" transform=\"translate(227.74,107.22)\" d=\"M3,0A3,3 0 1,1 0,-3A3,3 0 0,1 3,0Z\" style=\"opacity: 1; stroke-width: 0px; fill: rgb(62, 187, 116); fill-opacity: 1;\"/><path class=\"point\" transform=\"translate(89.6,246.45)\" d=\"M3,0A3,3 0 1,1 0,-3A3,3 0 0,1 3,0Z\" style=\"opacity: 1; stroke-width: 0px; fill: rgb(46, 112, 142); fill-opacity: 1;\"/><path class=\"point\" transform=\"translate(150.39,144.64)\" d=\"M3,0A3,3 0 1,1 0,-3A3,3 0 0,1 3,0Z\" style=\"opacity: 1; stroke-width: 0px; fill: rgb(253, 231, 37); fill-opacity: 1;\"/><path class=\"point\" transform=\"translate(184.55,186.55)\" d=\"M3,0A3,3 0 1,1 0,-3A3,3 0 0,1 3,0Z\" style=\"opacity: 1; stroke-width: 0px; fill: rgb(219, 227, 40); fill-opacity: 1;\"/><path class=\"point\" transform=\"translate(79.6,143.14)\" d=\"M3,0A3,3 0 1,1 0,-3A3,3 0 0,1 3,0Z\" style=\"opacity: 1; stroke-width: 0px; fill: rgb(46, 175, 126); fill-opacity: 1;\"/><path class=\"point\" transform=\"translate(154.49,150.02)\" d=\"M3,0A3,3 0 1,1 0,-3A3,3 0 0,1 3,0Z\" style=\"opacity: 1; stroke-width: 0px; fill: rgb(33, 151, 138); fill-opacity: 1;\"/><path class=\"point\" transform=\"translate(181.47,314.42)\" d=\"M3,0A3,3 0 1,1 0,-3A3,3 0 0,1 3,0Z\" style=\"opacity: 1; stroke-width: 0px; fill: rgb(51, 99, 141); fill-opacity: 1;\"/><path class=\"point\" transform=\"translate(93.96,307.37)\" d=\"M3,0A3,3 0 1,1 0,-3A3,3 0 0,1 3,0Z\" style=\"opacity: 1; stroke-width: 0px; fill: rgb(40, 125, 142); fill-opacity: 1;\"/><path class=\"point\" transform=\"translate(90.42,266.44)\" d=\"M3,0A3,3 0 1,1 0,-3A3,3 0 0,1 3,0Z\" style=\"opacity: 1; stroke-width: 0px; fill: rgb(46, 112, 142); fill-opacity: 1;\"/><path class=\"point\" transform=\"translate(101.4,337.46)\" d=\"M3,0A3,3 0 1,1 0,-3A3,3 0 0,1 3,0Z\" style=\"opacity: 1; stroke-width: 0px; fill: rgb(63, 70, 135); fill-opacity: 1;\"/><path class=\"point\" transform=\"translate(170.29,296.65)\" d=\"M3,0A3,3 0 1,1 0,-3A3,3 0 0,1 3,0Z\" style=\"opacity: 1; stroke-width: 0px; fill: rgb(51, 99, 141); fill-opacity: 1;\"/><path class=\"point\" transform=\"translate(160.54,186.84)\" d=\"M3,0A3,3 0 1,1 0,-3A3,3 0 0,1 3,0Z\" style=\"opacity: 1; stroke-width: 0px; fill: rgb(68, 1, 84); fill-opacity: 1;\"/><path class=\"point\" transform=\"translate(159.31,186.66)\" d=\"M3,0A3,3 0 1,1 0,-3A3,3 0 0,1 3,0Z\" style=\"opacity: 1; stroke-width: 0px; fill: rgb(219, 227, 40); fill-opacity: 1;\"/><path class=\"point\" transform=\"translate(135.67,321.82)\" d=\"M3,0A3,3 0 1,1 0,-3A3,3 0 0,1 3,0Z\" style=\"opacity: 1; stroke-width: 0px; fill: rgb(72, 38, 118); fill-opacity: 1;\"/><path class=\"point\" transform=\"translate(118.79,294.58)\" d=\"M3,0A3,3 0 1,1 0,-3A3,3 0 0,1 3,0Z\" style=\"opacity: 1; stroke-width: 0px; fill: rgb(117, 208, 83); fill-opacity: 1;\"/><path class=\"point\" transform=\"translate(119.25,123.06)\" d=\"M3,0A3,3 0 1,1 0,-3A3,3 0 0,1 3,0Z\" style=\"opacity: 1; stroke-width: 0px; fill: rgb(46, 175, 126); fill-opacity: 1;\"/><path class=\"point\" transform=\"translate(204.3,239.7)\" d=\"M3,0A3,3 0 1,1 0,-3A3,3 0 0,1 3,0Z\" style=\"opacity: 1; stroke-width: 0px; fill: rgb(185, 222, 43); fill-opacity: 1;\"/><path class=\"point\" transform=\"translate(79.6,116.08)\" d=\"M3,0A3,3 0 1,1 0,-3A3,3 0 0,1 3,0Z\" style=\"opacity: 1; stroke-width: 0px; fill: rgb(46, 175, 126); fill-opacity: 1;\"/><path class=\"point\" transform=\"translate(56,114.73)\" d=\"M3,0A3,3 0 1,1 0,-3A3,3 0 0,1 3,0Z\" style=\"opacity: 1; stroke-width: 0px; fill: rgb(68, 54, 127); fill-opacity: 1;\"/><path class=\"point\" transform=\"translate(493.88,258.04)\" d=\"M3,0A3,3 0 1,1 0,-3A3,3 0 0,1 3,0Z\" style=\"opacity: 1; stroke-width: 0px; fill: rgb(36, 163, 134); fill-opacity: 1;\"/><path class=\"point\" transform=\"translate(56,110.9)\" d=\"M3,0A3,3 0 1,1 0,-3A3,3 0 0,1 3,0Z\" style=\"opacity: 1; stroke-width: 0px; fill: rgb(68, 54, 127); fill-opacity: 1;\"/><path class=\"point\" transform=\"translate(238.36,140.6)\" d=\"M3,0A3,3 0 1,1 0,-3A3,3 0 0,1 3,0Z\" style=\"opacity: 1; stroke-width: 0px; fill: rgb(36, 137, 141); fill-opacity: 1;\"/><path class=\"point\" transform=\"translate(118.12,164.92)\" d=\"M3,0A3,3 0 1,1 0,-3A3,3 0 0,1 3,0Z\" style=\"opacity: 1; stroke-width: 0px; fill: rgb(57, 84, 139); fill-opacity: 1;\"/><path class=\"point\" transform=\"translate(181.47,304.88)\" d=\"M3,0A3,3 0 1,1 0,-3A3,3 0 0,1 3,0Z\" style=\"opacity: 1; stroke-width: 0px; fill: rgb(51, 99, 141); fill-opacity: 1;\"/><path class=\"point\" transform=\"translate(113.66,334.09)\" d=\"M3,0A3,3 0 1,1 0,-3A3,3 0 0,1 3,0Z\" style=\"opacity: 1; stroke-width: 0px; fill: rgb(63, 70, 135); fill-opacity: 1;\"/><path class=\"point\" transform=\"translate(135.67,321.25)\" d=\"M3,0A3,3 0 1,1 0,-3A3,3 0 0,1 3,0Z\" style=\"opacity: 1; stroke-width: 0px; fill: rgb(72, 38, 118); fill-opacity: 1;\"/><path class=\"point\" transform=\"translate(143.15,322.06)\" d=\"M3,0A3,3 0 1,1 0,-3A3,3 0 0,1 3,0Z\" style=\"opacity: 1; stroke-width: 0px; fill: rgb(72, 38, 118); fill-opacity: 1;\"/><path class=\"point\" transform=\"translate(76.01,318.57)\" d=\"M3,0A3,3 0 1,1 0,-3A3,3 0 0,1 3,0Z\" style=\"opacity: 1; stroke-width: 0px; fill: rgb(72, 38, 118); fill-opacity: 1;\"/><path class=\"point\" transform=\"translate(222.97,87.87)\" d=\"M3,0A3,3 0 1,1 0,-3A3,3 0 0,1 3,0Z\" style=\"opacity: 1; stroke-width: 0px; fill: rgb(62, 187, 116); fill-opacity: 1;\"/><path class=\"point\" transform=\"translate(184.55,213.53)\" d=\"M3,0A3,3 0 1,1 0,-3A3,3 0 0,1 3,0Z\" style=\"opacity: 1; stroke-width: 0px; fill: rgb(219, 227, 40); fill-opacity: 1;\"/></g><g class=\"text\"/></g></g></g><g class=\"overplot\"/><path class=\"xlines-above crisp\" d=\"M0,0\" style=\"fill: none;\"/><path class=\"ylines-above crisp\" d=\"M0,0\" style=\"fill: none;\"/><g class=\"overlines-above\"/><g class=\"xaxislayer-above\"><g class=\"xtick\"><text text-anchor=\"middle\" x=\"0\" y=\"433\" transform=\"translate(154.26,0)\" style=\"font-family: 'Open Sans', verdana, arial, sans-serif; font-size: 12px; fill: rgb(68, 68, 68); fill-opacity: 1; white-space: pre; opacity: 1;\">6</text></g><g class=\"xtick\"><text text-anchor=\"middle\" x=\"0\" y=\"433\" style=\"font-family: 'Open Sans', verdana, arial, sans-serif; font-size: 12px; fill: rgb(68, 68, 68); fill-opacity: 1; white-space: pre; opacity: 1;\" transform=\"translate(256.86,0)\">8</text></g><g class=\"xtick\"><text text-anchor=\"middle\" x=\"0\" y=\"433\" style=\"font-family: 'Open Sans', verdana, arial, sans-serif; font-size: 12px; fill: rgb(68, 68, 68); fill-opacity: 1; white-space: pre; opacity: 1;\" transform=\"translate(359.45,0)\">10</text></g><g class=\"xtick\"><text text-anchor=\"middle\" x=\"0\" y=\"433\" style=\"font-family: 'Open Sans', verdana, arial, sans-serif; font-size: 12px; fill: rgb(68, 68, 68); fill-opacity: 1; white-space: pre; opacity: 1;\" transform=\"translate(462.05,0)\">12</text></g><g class=\"xtick\"><text text-anchor=\"middle\" x=\"0\" y=\"433\" style=\"font-family: 'Open Sans', verdana, arial, sans-serif; font-size: 12px; fill: rgb(68, 68, 68); fill-opacity: 1; white-space: pre; opacity: 1;\" transform=\"translate(564.64,0)\">14</text></g></g><g class=\"yaxislayer-above\"><g class=\"ytick\"><text text-anchor=\"end\" x=\"79\" y=\"4.199999999999999\" transform=\"translate(0,369.03)\" style=\"font-family: 'Open Sans', verdana, arial, sans-serif; font-size: 12px; fill: rgb(68, 68, 68); fill-opacity: 1; white-space: pre; opacity: 1;\">0.5M</text></g><g class=\"ytick\"><text text-anchor=\"end\" x=\"79\" y=\"4.199999999999999\" style=\"font-family: 'Open Sans', verdana, arial, sans-serif; font-size: 12px; fill: rgb(68, 68, 68); fill-opacity: 1; white-space: pre; opacity: 1;\" transform=\"translate(0,305.78999999999996)\">1M</text></g><g class=\"ytick\"><text text-anchor=\"end\" x=\"79\" y=\"4.199999999999999\" style=\"font-family: 'Open Sans', verdana, arial, sans-serif; font-size: 12px; fill: rgb(68, 68, 68); fill-opacity: 1; white-space: pre; opacity: 1;\" transform=\"translate(0,242.55)\">1.5M</text></g><g class=\"ytick\"><text text-anchor=\"end\" x=\"79\" y=\"4.199999999999999\" style=\"font-family: 'Open Sans', verdana, arial, sans-serif; font-size: 12px; fill: rgb(68, 68, 68); fill-opacity: 1; white-space: pre; opacity: 1;\" transform=\"translate(0,179.31)\">2M</text></g><g class=\"ytick\"><text text-anchor=\"end\" x=\"79\" y=\"4.199999999999999\" style=\"font-family: 'Open Sans', verdana, arial, sans-serif; font-size: 12px; fill: rgb(68, 68, 68); fill-opacity: 1; white-space: pre; opacity: 1;\" transform=\"translate(0,116.07)\">2.5M</text></g></g><g class=\"overaxes-above\"/></g></g><g class=\"polarlayer\"/><g class=\"smithlayer\"/><g class=\"ternarylayer\"/><g class=\"geolayer\"/><g class=\"funnelarealayer\"/><g class=\"pielayer\"/><g class=\"iciclelayer\"/><g class=\"treemaplayer\"/><g class=\"sunburstlayer\"/><g class=\"glimages\"/><defs id=\"topdefs-6da485\"><g class=\"clips\"/></defs><g class=\"layer-above\"><g class=\"imagelayer\"/><g class=\"shapelayer\"/></g><g class=\"infolayer\"><g class=\"cbcoloraxis colorbar\" transform=\"translate(80,60)\"><rect class=\"cbbg\" x=\"541.5\" y=\"0\" width=\"66.28125\" height=\"361\" style=\"fill: rgb(0, 0, 0); fill-opacity: 0; stroke: rgb(68, 68, 68); stroke-opacity: 1; stroke-width: 0;\"/><g class=\"cbfills\" transform=\"translate(0,32)\"><rect class=\"cbfill gradient_filled\" x=\"552\" y=\"0\" width=\"30\" height=\"318\" style=\"fill: url('#g6da485-cbcoloraxis');\"/></g><g class=\"cblines\" transform=\"translate(0,32)\"/><g class=\"cbaxis crisp\" transform=\"translate(0,-60)\"><g class=\"ycbcoloraxistick\"><text text-anchor=\"start\" x=\"585.4\" y=\"4.199999999999999\" transform=\"translate(0,343.05)\" style=\"font-family: 'Open Sans', verdana, arial, sans-serif; font-size: 12px; fill: rgb(68, 68, 68); fill-opacity: 1; white-space: pre; opacity: 1;\">5</text></g><g class=\"ycbcoloraxistick\"><text text-anchor=\"start\" x=\"585.4\" y=\"4.199999999999999\" style=\"font-family: 'Open Sans', verdana, arial, sans-serif; font-size: 12px; fill: rgb(68, 68, 68); fill-opacity: 1; white-space: pre; opacity: 1;\" transform=\"translate(0,259.37)\">10</text></g><g class=\"ycbcoloraxistick\"><text text-anchor=\"start\" x=\"585.4\" y=\"4.199999999999999\" style=\"font-family: 'Open Sans', verdana, arial, sans-serif; font-size: 12px; fill: rgb(68, 68, 68); fill-opacity: 1; white-space: pre; opacity: 1;\" transform=\"translate(0,175.68)\">15</text></g><g class=\"ycbcoloraxistick\"><text text-anchor=\"start\" x=\"585.4\" y=\"4.199999999999999\" style=\"font-family: 'Open Sans', verdana, arial, sans-serif; font-size: 12px; fill: rgb(68, 68, 68); fill-opacity: 1; white-space: pre; opacity: 1;\" transform=\"translate(0,92)\">20</text></g></g><g class=\"cbtitleunshift\" transform=\"translate(-80,-60)\"><g class=\"cbtitle\" transform=\"translate(-0.5,-0.5)\"><text class=\"ycbcoloraxistitle\" x=\"631.62\" y=\"83.5\" text-anchor=\"start\" style=\"font-family: 'Open Sans', verdana, arial, sans-serif; font-size: 14px; fill: rgb(68, 68, 68); opacity: 1; font-weight: normal; white-space: pre;\">Store</text></g></g><rect class=\"cboutline\" x=\"552\" y=\"32\" width=\"30\" height=\"318\" style=\"stroke: rgb(68, 68, 68); stroke-opacity: 1; fill: none; stroke-width: 1;\"/></g><g class=\"g-gtitle\"/><g class=\"g-xtitle\"><text class=\"xtitle\" x=\"345.5\" y=\"472\" text-anchor=\"middle\" style=\"font-family: 'Open Sans', verdana, arial, sans-serif; font-size: 14px; fill: rgb(68, 68, 68); opacity: 1; font-weight: normal; white-space: pre;\">Unemployment</text></g><g class=\"g-ytitle\"><text class=\"ytitle\" transform=\"rotate(-90,42,240)\" x=\"42\" y=\"240\" text-anchor=\"middle\" style=\"font-family: 'Open Sans', verdana, arial, sans-serif; font-size: 14px; fill: rgb(68, 68, 68); opacity: 1; font-weight: normal; white-space: pre;\">Weekly_Sales</text></g></g></svg>"
      ]
     },
     "metadata": {},
     "output_type": "display_data"
    }
   ],
   "source": [
    "fig = px.scatter(dataset, x = 'Unemployment', y = 'Weekly_Sales', color = 'Store', labels = {'color': 'Weekly_Sales'})\n",
    "fig.show()"
   ]
  },
  {
   "cell_type": "markdown",
   "metadata": {},
   "source": [
    "Temperature and Weekly Sales:\n",
    "\n",
    "- Most of Wallmart's sales concentrate between 40° and 80° (fahrenheit), which means between 4° and 26° (celsius).\n",
    "- Less sales are registered below 40° and 30° (fahrenheit), which means 4° and -1° (celsius).\n",
    "\n",
    "Fuel price and Weekly sales:\n",
    "\n",
    "The Maximum fuel price in this dataset is 4.19.\n",
    "\n",
    "We can see that in most of the cases in this dataset, the weekly sales are not higher when the fuel prices is lower than 3. \n",
    "This can be explained because:\n",
    "    - As the .describe() function shows only 25% of dataset correspond to a fuel price equal to or less 2.8 or less.\n",
    "    - As it was showed above, 58.82% of the sales in the dataset corresponds to sales that happened when fuel prices was equal or higher than 4.\n",
    "\n",
    "\n",
    "Unemployment and Weekly Sales:\n",
    "\n",
    "- Low unemployment rates (>6%)doesn't necessarily imply that the weekly sales in WallMart will be higher. \n",
    "- A big part of Wallmart's weekly sales in this dataset corresponds to zones with an unemployment rate between 6% and 9%,"
   ]
  },
  {
   "cell_type": "markdown",
   "metadata": {},
   "source": [
    "### On crée les variables \"day\", \"month\", \"year\" and \"day of the week\" from the column \"Date\" which gathered all this info"
   ]
  },
  {
   "cell_type": "code",
   "execution_count": 17,
   "metadata": {},
   "outputs": [],
   "source": [
    "dataset['Date'] = pd.to_datetime(dataset['Date'], dayfirst=True)\n"
   ]
  },
  {
   "cell_type": "code",
   "execution_count": 18,
   "metadata": {},
   "outputs": [],
   "source": [
    "dataset[\"Day\"] = dataset['Date'].map(lambda x: x.day)\n",
    "dataset[\"Month\"] = dataset['Date'].map(lambda x: x.month)\n",
    "dataset[\"Year\"] = dataset['Date'].map(lambda x: x.year)\n",
    "dataset[\"DayOfWeek\"] = dataset['Date'].map(lambda x: x.dayofweek)"
   ]
  },
  {
   "cell_type": "code",
   "execution_count": 19,
   "metadata": {},
   "outputs": [
    {
     "data": {
      "text/html": [
       "<div>\n",
       "<style scoped>\n",
       "    .dataframe tbody tr th:only-of-type {\n",
       "        vertical-align: middle;\n",
       "    }\n",
       "\n",
       "    .dataframe tbody tr th {\n",
       "        vertical-align: top;\n",
       "    }\n",
       "\n",
       "    .dataframe thead th {\n",
       "        text-align: right;\n",
       "    }\n",
       "</style>\n",
       "<table border=\"1\" class=\"dataframe\">\n",
       "  <thead>\n",
       "    <tr style=\"text-align: right;\">\n",
       "      <th></th>\n",
       "      <th>Store</th>\n",
       "      <th>Date</th>\n",
       "      <th>Weekly_Sales</th>\n",
       "      <th>Holiday_Flag</th>\n",
       "      <th>Temperature</th>\n",
       "      <th>Fuel_Price</th>\n",
       "      <th>CPI</th>\n",
       "      <th>Unemployment</th>\n",
       "      <th>Day</th>\n",
       "      <th>Month</th>\n",
       "      <th>Year</th>\n",
       "      <th>DayOfWeek</th>\n",
       "    </tr>\n",
       "  </thead>\n",
       "  <tbody>\n",
       "    <tr>\n",
       "      <th>0</th>\n",
       "      <td>6.0</td>\n",
       "      <td>2011-02-18</td>\n",
       "      <td>1572117.54</td>\n",
       "      <td>NaN</td>\n",
       "      <td>59.61</td>\n",
       "      <td>3.045</td>\n",
       "      <td>214.777523</td>\n",
       "      <td>6.858</td>\n",
       "      <td>18.0</td>\n",
       "      <td>2.0</td>\n",
       "      <td>2011.0</td>\n",
       "      <td>4.0</td>\n",
       "    </tr>\n",
       "    <tr>\n",
       "      <th>1</th>\n",
       "      <td>13.0</td>\n",
       "      <td>2011-03-25</td>\n",
       "      <td>1807545.43</td>\n",
       "      <td>0.0</td>\n",
       "      <td>42.38</td>\n",
       "      <td>3.435</td>\n",
       "      <td>128.616064</td>\n",
       "      <td>7.470</td>\n",
       "      <td>25.0</td>\n",
       "      <td>3.0</td>\n",
       "      <td>2011.0</td>\n",
       "      <td>4.0</td>\n",
       "    </tr>\n",
       "    <tr>\n",
       "      <th>3</th>\n",
       "      <td>11.0</td>\n",
       "      <td>NaT</td>\n",
       "      <td>1244390.03</td>\n",
       "      <td>0.0</td>\n",
       "      <td>84.57</td>\n",
       "      <td>NaN</td>\n",
       "      <td>214.556497</td>\n",
       "      <td>7.346</td>\n",
       "      <td>NaN</td>\n",
       "      <td>NaN</td>\n",
       "      <td>NaN</td>\n",
       "      <td>NaN</td>\n",
       "    </tr>\n",
       "    <tr>\n",
       "      <th>4</th>\n",
       "      <td>6.0</td>\n",
       "      <td>2010-05-28</td>\n",
       "      <td>1644470.66</td>\n",
       "      <td>0.0</td>\n",
       "      <td>78.89</td>\n",
       "      <td>2.759</td>\n",
       "      <td>212.412888</td>\n",
       "      <td>7.092</td>\n",
       "      <td>28.0</td>\n",
       "      <td>5.0</td>\n",
       "      <td>2010.0</td>\n",
       "      <td>4.0</td>\n",
       "    </tr>\n",
       "    <tr>\n",
       "      <th>5</th>\n",
       "      <td>4.0</td>\n",
       "      <td>2010-05-28</td>\n",
       "      <td>1857533.70</td>\n",
       "      <td>0.0</td>\n",
       "      <td>NaN</td>\n",
       "      <td>2.756</td>\n",
       "      <td>126.160226</td>\n",
       "      <td>7.896</td>\n",
       "      <td>28.0</td>\n",
       "      <td>5.0</td>\n",
       "      <td>2010.0</td>\n",
       "      <td>4.0</td>\n",
       "    </tr>\n",
       "  </tbody>\n",
       "</table>\n",
       "</div>"
      ],
      "text/plain": [
       "   Store       Date  Weekly_Sales  Holiday_Flag  Temperature  Fuel_Price  \\\n",
       "0    6.0 2011-02-18    1572117.54           NaN        59.61       3.045   \n",
       "1   13.0 2011-03-25    1807545.43           0.0        42.38       3.435   \n",
       "3   11.0        NaT    1244390.03           0.0        84.57         NaN   \n",
       "4    6.0 2010-05-28    1644470.66           0.0        78.89       2.759   \n",
       "5    4.0 2010-05-28    1857533.70           0.0          NaN       2.756   \n",
       "\n",
       "          CPI  Unemployment   Day  Month    Year  DayOfWeek  \n",
       "0  214.777523         6.858  18.0    2.0  2011.0        4.0  \n",
       "1  128.616064         7.470  25.0    3.0  2011.0        4.0  \n",
       "3  214.556497         7.346   NaN    NaN     NaN        NaN  \n",
       "4  212.412888         7.092  28.0    5.0  2010.0        4.0  \n",
       "5  126.160226         7.896  28.0    5.0  2010.0        4.0  "
      ]
     },
     "execution_count": 19,
     "metadata": {},
     "output_type": "execute_result"
    }
   ],
   "source": [
    "dataset.head()"
   ]
  },
  {
   "cell_type": "code",
   "execution_count": 20,
   "metadata": {},
   "outputs": [
    {
     "data": {
      "text/html": [
       "<div>\n",
       "<style scoped>\n",
       "    .dataframe tbody tr th:only-of-type {\n",
       "        vertical-align: middle;\n",
       "    }\n",
       "\n",
       "    .dataframe tbody tr th {\n",
       "        vertical-align: top;\n",
       "    }\n",
       "\n",
       "    .dataframe thead th {\n",
       "        text-align: right;\n",
       "    }\n",
       "</style>\n",
       "<table border=\"1\" class=\"dataframe\">\n",
       "  <thead>\n",
       "    <tr style=\"text-align: right;\">\n",
       "      <th></th>\n",
       "      <th>Weekly_Sales</th>\n",
       "    </tr>\n",
       "    <tr>\n",
       "      <th>Year</th>\n",
       "      <th></th>\n",
       "    </tr>\n",
       "  </thead>\n",
       "  <tbody>\n",
       "    <tr>\n",
       "      <th>2010.0</th>\n",
       "      <td>64377268.83</td>\n",
       "    </tr>\n",
       "    <tr>\n",
       "      <th>2011.0</th>\n",
       "      <td>48389509.09</td>\n",
       "    </tr>\n",
       "    <tr>\n",
       "      <th>2012.0</th>\n",
       "      <td>35591216.59</td>\n",
       "    </tr>\n",
       "  </tbody>\n",
       "</table>\n",
       "</div>"
      ],
      "text/plain": [
       "        Weekly_Sales\n",
       "Year                \n",
       "2010.0   64377268.83\n",
       "2011.0   48389509.09\n",
       "2012.0   35591216.59"
      ]
     },
     "execution_count": 20,
     "metadata": {},
     "output_type": "execute_result"
    }
   ],
   "source": [
    "dataset[['Weekly_Sales', 'Year']].groupby('Year').sum()"
   ]
  },
  {
   "cell_type": "markdown",
   "metadata": {},
   "source": [
    "Visualizations"
   ]
  },
  {
   "cell_type": "code",
   "execution_count": 21,
   "metadata": {},
   "outputs": [
    {
     "data": {
      "image/svg+xml": [
       "<svg class=\"main-svg\" xmlns=\"http://www.w3.org/2000/svg\" xmlns:xlink=\"http://www.w3.org/1999/xlink\" width=\"700\" height=\"500\" style=\"\" viewBox=\"0 0 700 500\"><rect x=\"0\" y=\"0\" width=\"700\" height=\"500\" style=\"fill: rgb(255, 255, 255); fill-opacity: 1;\"/><defs id=\"defs-8149b8\"><g class=\"clips\"><clipPath id=\"clip8149b8xyplot\" class=\"plotclip\"><rect width=\"429\" height=\"320\"/></clipPath><clipPath class=\"axesclip\" id=\"clip8149b8x\"><rect x=\"80\" y=\"0\" width=\"429\" height=\"500\"/></clipPath><clipPath class=\"axesclip\" id=\"clip8149b8y\"><rect x=\"0\" y=\"100\" width=\"700\" height=\"320\"/></clipPath><clipPath class=\"axesclip\" id=\"clip8149b8xy\"><rect x=\"80\" y=\"100\" width=\"429\" height=\"320\"/></clipPath></g><g class=\"gradients\"><linearGradient x1=\"0\" x2=\"0\" y1=\"1\" y2=\"0\" id=\"g8149b8-cbcoloraxis\"><stop offset=\"0%\" stop-color=\"rgb(68, 1, 84)\" stop-opacity=\"1\"/><stop offset=\"11.111111%\" stop-color=\"rgb(72, 40, 120)\" stop-opacity=\"1\"/><stop offset=\"22.222222%\" stop-color=\"rgb(62, 73, 137)\" stop-opacity=\"1\"/><stop offset=\"33.333333%\" stop-color=\"rgb(49, 104, 142)\" stop-opacity=\"1\"/><stop offset=\"44.444444%\" stop-color=\"rgb(38, 130, 142)\" stop-opacity=\"1\"/><stop offset=\"55.555556%\" stop-color=\"rgb(31, 158, 137)\" stop-opacity=\"1\"/><stop offset=\"66.666667%\" stop-color=\"rgb(53, 183, 121)\" stop-opacity=\"1\"/><stop offset=\"77.777778%\" stop-color=\"rgb(110, 206, 88)\" stop-opacity=\"1\"/><stop offset=\"88.888889%\" stop-color=\"rgb(181, 222, 43)\" stop-opacity=\"1\"/><stop offset=\"100%\" stop-color=\"rgb(253, 231, 37)\" stop-opacity=\"1\"/></linearGradient></g><g class=\"patterns\"/></defs><g class=\"bglayer\"/><g class=\"layer-below\"><g class=\"imagelayer\"/><g class=\"shapelayer\"/></g><g class=\"cartesianlayer\"><g class=\"subplot xy\"><g class=\"layer-subplot\"><g class=\"shapelayer\"/><g class=\"imagelayer\"/></g><g class=\"minor-gridlayer\"><g class=\"x\"/><g class=\"y\"/></g><g class=\"gridlayer\"><g class=\"x\"/><g class=\"y\"><path class=\"ygrid crisp\" transform=\"translate(0,350.08000000000004)\" d=\"M80,0h429\" style=\"stroke: rgb(238, 238, 238); stroke-opacity: 1; stroke-width: 1px;\"/><path class=\"ygrid crisp\" transform=\"translate(0,280.15)\" d=\"M80,0h429\" style=\"stroke: rgb(238, 238, 238); stroke-opacity: 1; stroke-width: 1px;\"/><path class=\"ygrid crisp\" transform=\"translate(0,210.23000000000002)\" d=\"M80,0h429\" style=\"stroke: rgb(238, 238, 238); stroke-opacity: 1; stroke-width: 1px;\"/><path class=\"ygrid crisp\" transform=\"translate(0,140.3)\" d=\"M80,0h429\" style=\"stroke: rgb(238, 238, 238); stroke-opacity: 1; stroke-width: 1px;\"/></g></g><g class=\"zerolinelayer\"><path class=\"yzl zl crisp\" transform=\"translate(0,420)\" d=\"M80,0h429\" style=\"stroke: rgb(68, 68, 68); stroke-opacity: 1; stroke-width: 1px;\"/></g><path class=\"xlines-below\"/><path class=\"ylines-below\"/><g class=\"overlines-below\"/><g class=\"xaxislayer-below\"/><g class=\"yaxislayer-below\"/><g class=\"overaxes-below\"/><g class=\"plot\" transform=\"translate(80,100)\" clip-path=\"url(#clip8149b8xyplot)\"><g class=\"barlayer mlayer\"><g class=\"trace bars\" style=\"opacity: 1;\"><g class=\"points\"><g class=\"point\"><path d=\"M2.14,320V101.48H19.31V320Z\" style=\"vector-effect: non-scaling-stroke; opacity: 1; stroke-width: 0px; fill: rgb(56, 184, 119); fill-opacity: 1;\"/><text class=\"bartext bartext-outside\" text-anchor=\"middle\" data-notex=\"1\" x=\"0\" y=\"0\" style=\"font-family: 'Open Sans', verdana, arial, sans-serif; font-size: 12px; fill: rgb(68, 68, 68); fill-opacity: 1; white-space: pre;\" transform=\"translate(10.725,95.98)\">1</text></g><g class=\"point\"><path d=\"M23.6,320V48.27H40.76V320Z\" style=\"vector-effect: non-scaling-stroke; opacity: 1; stroke-width: 0px; fill: rgb(173, 220, 48); fill-opacity: 1;\"/><text class=\"bartext bartext-outside\" text-anchor=\"middle\" data-notex=\"1\" x=\"0\" y=\"0\" style=\"font-family: 'Open Sans', verdana, arial, sans-serif; font-size: 12px; fill: rgb(68, 68, 68); fill-opacity: 1; white-space: pre;\" transform=\"translate(32.18,42.77)\">2</text></g><g class=\"point\"><path d=\"M45.05,320V263.63H62.21V320Z\" style=\"vector-effect: non-scaling-stroke; opacity: 1; stroke-width: 0px; fill: rgb(70, 20, 101); fill-opacity: 1;\"/><text class=\"bartext bartext-outside\" text-anchor=\"middle\" data-notex=\"1\" x=\"0\" y=\"0\" style=\"font-family: 'Open Sans', verdana, arial, sans-serif; font-size: 12px; fill: rgb(68, 68, 68); fill-opacity: 1; white-space: pre;\" transform=\"translate(53.629999999999995,258.13)\">3</text></g><g class=\"point\"><path d=\"M66.5,320V16H83.66V320Z\" style=\"vector-effect: non-scaling-stroke; opacity: 1; stroke-width: 0px; fill: rgb(253, 231, 37); fill-opacity: 1;\"/><text class=\"bartext bartext-outside\" text-anchor=\"middle\" data-notex=\"1\" x=\"0\" y=\"0\" style=\"font-family: 'Open Sans', verdana, arial, sans-serif; font-size: 12px; fill: rgb(68, 68, 68); fill-opacity: 1; white-space: pre;\" transform=\"translate(75.08,10.5)\">4</text></g><g class=\"point\"><path d=\"M87.95,320V277.7H105.1V320Z\" style=\"vector-effect: non-scaling-stroke; opacity: 1; stroke-width: 0px; fill: rgb(68, 1, 84); fill-opacity: 1;\"/><text class=\"bartext bartext-outside\" text-anchor=\"middle\" data-notex=\"1\" x=\"0\" y=\"0\" style=\"font-family: 'Open Sans', verdana, arial, sans-serif; font-size: 12px; fill: rgb(68, 68, 68); fill-opacity: 1; white-space: pre;\" transform=\"translate(96.525,272.2)\">5</text></g><g class=\"point\"><path d=\"M109.4,320V103.08H126.55V320Z\" style=\"vector-effect: non-scaling-stroke; opacity: 1; stroke-width: 0px; fill: rgb(53, 183, 121); fill-opacity: 1;\"/><text class=\"bartext bartext-outside\" text-anchor=\"middle\" data-notex=\"1\" x=\"0\" y=\"0\" style=\"font-family: 'Open Sans', verdana, arial, sans-serif; font-size: 12px; fill: rgb(68, 68, 68); fill-opacity: 1; white-space: pre;\" transform=\"translate(117.975,97.58)\">6</text></g><g class=\"point\"><path d=\"M130.85,320V241.81H148.01V320Z\" style=\"vector-effect: non-scaling-stroke; opacity: 1; stroke-width: 0px; fill: rgb(70, 48, 124); fill-opacity: 1;\"/><text class=\"bartext bartext-outside\" text-anchor=\"middle\" data-notex=\"1\" x=\"0\" y=\"0\" style=\"font-family: 'Open Sans', verdana, arial, sans-serif; font-size: 12px; fill: rgb(68, 68, 68); fill-opacity: 1; white-space: pre;\" transform=\"translate(139.43,236.31)\">7</text></g><g class=\"point\"><path d=\"M152.29,320V195.71H169.46V320Z\" style=\"vector-effect: non-scaling-stroke; opacity: 1; stroke-width: 0px; fill: rgb(51, 98, 141); fill-opacity: 1;\"/><text class=\"bartext bartext-outside\" text-anchor=\"middle\" data-notex=\"1\" x=\"0\" y=\"0\" style=\"font-family: 'Open Sans', verdana, arial, sans-serif; font-size: 12px; fill: rgb(68, 68, 68); fill-opacity: 1; white-space: pre;\" transform=\"translate(160.875,190.21)\">8</text></g><g class=\"point\"><path d=\"M173.75,320V249.11H190.91V320Z\" style=\"vector-effect: non-scaling-stroke; opacity: 1; stroke-width: 0px; fill: rgb(72, 39, 119); fill-opacity: 1;\"/><text class=\"bartext bartext-outside\" text-anchor=\"middle\" data-notex=\"1\" x=\"0\" y=\"0\" style=\"font-family: 'Open Sans', verdana, arial, sans-serif; font-size: 12px; fill: rgb(68, 68, 68); fill-opacity: 1; white-space: pre;\" transform=\"translate(182.32999999999998,243.61)\">9</text></g><g class=\"point\"><path d=\"M195.2,320V65.18H212.36V320Z\" style=\"vector-effect: non-scaling-stroke; opacity: 1; stroke-width: 0px; fill: rgb(132, 211, 74); fill-opacity: 1;\"/><text class=\"bartext bartext-outside\" text-anchor=\"middle\" data-notex=\"1\" x=\"0\" y=\"0\" style=\"font-family: 'Open Sans', verdana, arial, sans-serif; font-size: 12px; fill: rgb(68, 68, 68); fill-opacity: 1; white-space: pre;\" transform=\"translate(203.78,59.68000000000001)\">10</text></g><g class=\"point\"><path d=\"M216.65,320V106.9H233.81V320Z\" style=\"vector-effect: non-scaling-stroke; opacity: 1; stroke-width: 0px; fill: rgb(50, 180, 123); fill-opacity: 1;\"/><text class=\"bartext bartext-outside\" text-anchor=\"middle\" data-notex=\"1\" x=\"0\" y=\"0\" style=\"font-family: 'Open Sans', verdana, arial, sans-serif; font-size: 12px; fill: rgb(68, 68, 68); fill-opacity: 1; white-space: pre;\" transform=\"translate(225.23000000000002,101.4)\">11</text></g><g class=\"point\"><path d=\"M238.1,320V176.23H255.26V320Z\" style=\"vector-effect: non-scaling-stroke; opacity: 1; stroke-width: 0px; fill: rgb(44, 117, 142); fill-opacity: 1;\"/><text class=\"bartext bartext-outside\" text-anchor=\"middle\" data-notex=\"1\" x=\"0\" y=\"0\" style=\"font-family: 'Open Sans', verdana, arial, sans-serif; font-size: 12px; fill: rgb(68, 68, 68); fill-opacity: 1; white-space: pre;\" transform=\"translate(246.68,170.73)\">12</text></g><g class=\"point\"><path d=\"M259.54,320V40.69H276.71V320Z\" style=\"vector-effect: non-scaling-stroke; opacity: 1; stroke-width: 0px; fill: rgb(192, 223, 42); fill-opacity: 1;\"/><text class=\"bartext bartext-outside\" text-anchor=\"middle\" data-notex=\"1\" x=\"0\" y=\"0\" style=\"font-family: 'Open Sans', verdana, arial, sans-serif; font-size: 12px; fill: rgb(68, 68, 68); fill-opacity: 1; white-space: pre;\" transform=\"translate(268.125,35.19)\">13</text></g><g class=\"point\"><path d=\"M280.99,320V27.31H298.15V320Z\" style=\"vector-effect: non-scaling-stroke; opacity: 1; stroke-width: 0px; fill: rgb(225, 227, 39); fill-opacity: 1;\"/><text class=\"bartext bartext-outside\" text-anchor=\"middle\" data-notex=\"1\" x=\"0\" y=\"0\" style=\"font-family: 'Open Sans', verdana, arial, sans-serif; font-size: 12px; fill: rgb(68, 68, 68); fill-opacity: 1; white-space: pre;\" transform=\"translate(289.57,21.81)\">14</text></g><g class=\"point\"><path d=\"M302.44,320V231.39H319.6V320Z\" style=\"vector-effect: non-scaling-stroke; opacity: 1; stroke-width: 0px; fill: rgb(66, 60, 130); fill-opacity: 1;\"/><text class=\"bartext bartext-outside\" text-anchor=\"middle\" data-notex=\"1\" x=\"0\" y=\"0\" style=\"font-family: 'Open Sans', verdana, arial, sans-serif; font-size: 12px; fill: rgb(68, 68, 68); fill-opacity: 1; white-space: pre;\" transform=\"translate(311.02,225.89)\">15</text></g><g class=\"point\"><path d=\"M323.9,320V247.93H341.05V320Z\" style=\"vector-effect: non-scaling-stroke; opacity: 1; stroke-width: 0px; fill: rgb(72, 41, 120); fill-opacity: 1;\"/><text class=\"bartext bartext-outside\" text-anchor=\"middle\" data-notex=\"1\" x=\"0\" y=\"0\" style=\"font-family: 'Open Sans', verdana, arial, sans-serif; font-size: 12px; fill: rgb(68, 68, 68); fill-opacity: 1; white-space: pre;\" transform=\"translate(332.475,242.43)\">16</text></g><g class=\"point\"><path d=\"M345.35,320V195.31H362.51V320Z\" style=\"vector-effect: non-scaling-stroke; opacity: 1; stroke-width: 0px; fill: rgb(51, 99, 141); fill-opacity: 1;\"/><text class=\"bartext bartext-outside\" text-anchor=\"middle\" data-notex=\"1\" x=\"0\" y=\"0\" style=\"font-family: 'Open Sans', verdana, arial, sans-serif; font-size: 12px; fill: rgb(68, 68, 68); fill-opacity: 1; white-space: pre;\" transform=\"translate(353.93,189.81)\">17</text></g><g class=\"point\"><path d=\"M366.8,320V160.51H383.96V320Z\" style=\"vector-effect: non-scaling-stroke; opacity: 1; stroke-width: 0px; fill: rgb(38, 131, 142); fill-opacity: 1;\"/><text class=\"bartext bartext-outside\" text-anchor=\"middle\" data-notex=\"1\" x=\"0\" y=\"0\" style=\"font-family: 'Open Sans', verdana, arial, sans-serif; font-size: 12px; fill: rgb(68, 68, 68); fill-opacity: 1; white-space: pre;\" transform=\"translate(375.38,155.01)\">18</text></g><g class=\"point\"><path d=\"M388.25,320V124.12H405.41V320Z\" style=\"vector-effect: non-scaling-stroke; opacity: 1; stroke-width: 0px; fill: rgb(37, 165, 132); fill-opacity: 1;\"/><text class=\"bartext bartext-outside\" text-anchor=\"middle\" data-notex=\"1\" x=\"0\" y=\"0\" style=\"font-family: 'Open Sans', verdana, arial, sans-serif; font-size: 12px; fill: rgb(68, 68, 68); fill-opacity: 1; white-space: pre;\" transform=\"translate(396.83000000000004,118.62)\">19</text></g><g class=\"point\"><path d=\"M409.7,320V45.56H426.86V320Z\" style=\"vector-effect: non-scaling-stroke; opacity: 1; stroke-width: 0px; fill: rgb(180, 222, 44); fill-opacity: 1;\"/><text class=\"bartext bartext-outside\" text-anchor=\"middle\" data-notex=\"1\" x=\"0\" y=\"0\" style=\"font-family: 'Open Sans', verdana, arial, sans-serif; font-size: 12px; fill: rgb(68, 68, 68); fill-opacity: 1; white-space: pre;\" transform=\"translate(418.28,40.06)\">20</text></g></g></g></g></g><g class=\"overplot\"/><path class=\"xlines-above crisp\" d=\"M0,0\" style=\"fill: none;\"/><path class=\"ylines-above crisp\" d=\"M0,0\" style=\"fill: none;\"/><g class=\"overlines-above\"/><g class=\"xaxislayer-above\"><g class=\"xtick\"><text text-anchor=\"middle\" x=\"0\" y=\"433\" transform=\"translate(176.53,0)\" style=\"font-family: 'Open Sans', verdana, arial, sans-serif; font-size: 12px; fill: rgb(68, 68, 68); fill-opacity: 1; white-space: pre; opacity: 1;\">5</text></g><g class=\"xtick\"><text text-anchor=\"middle\" x=\"0\" y=\"433\" style=\"font-family: 'Open Sans', verdana, arial, sans-serif; font-size: 12px; fill: rgb(68, 68, 68); fill-opacity: 1; white-space: pre; opacity: 1;\" transform=\"translate(283.78,0)\">10</text></g><g class=\"xtick\"><text text-anchor=\"middle\" x=\"0\" y=\"433\" style=\"font-family: 'Open Sans', verdana, arial, sans-serif; font-size: 12px; fill: rgb(68, 68, 68); fill-opacity: 1; white-space: pre; opacity: 1;\" transform=\"translate(391.02,0)\">15</text></g><g class=\"xtick\"><text text-anchor=\"middle\" x=\"0\" y=\"433\" style=\"font-family: 'Open Sans', verdana, arial, sans-serif; font-size: 12px; fill: rgb(68, 68, 68); fill-opacity: 1; white-space: pre; opacity: 1;\" transform=\"translate(498.28,0)\">20</text></g></g><g class=\"yaxislayer-above\"><g class=\"ytick\"><text text-anchor=\"end\" x=\"79\" y=\"4.199999999999999\" transform=\"translate(0,420)\" style=\"font-family: 'Open Sans', verdana, arial, sans-serif; font-size: 12px; fill: rgb(68, 68, 68); fill-opacity: 1; white-space: pre; opacity: 1;\">0</text></g><g class=\"ytick\"><text text-anchor=\"end\" x=\"79\" y=\"4.199999999999999\" style=\"font-family: 'Open Sans', verdana, arial, sans-serif; font-size: 12px; fill: rgb(68, 68, 68); fill-opacity: 1; white-space: pre; opacity: 1;\" transform=\"translate(0,350.08000000000004)\">0.5M</text></g><g class=\"ytick\"><text text-anchor=\"end\" x=\"79\" y=\"4.199999999999999\" style=\"font-family: 'Open Sans', verdana, arial, sans-serif; font-size: 12px; fill: rgb(68, 68, 68); fill-opacity: 1; white-space: pre; opacity: 1;\" transform=\"translate(0,280.15)\">1M</text></g><g class=\"ytick\"><text text-anchor=\"end\" x=\"79\" y=\"4.199999999999999\" style=\"font-family: 'Open Sans', verdana, arial, sans-serif; font-size: 12px; fill: rgb(68, 68, 68); fill-opacity: 1; white-space: pre; opacity: 1;\" transform=\"translate(0,210.23000000000002)\">1.5M</text></g><g class=\"ytick\"><text text-anchor=\"end\" x=\"79\" y=\"4.199999999999999\" style=\"font-family: 'Open Sans', verdana, arial, sans-serif; font-size: 12px; fill: rgb(68, 68, 68); fill-opacity: 1; white-space: pre; opacity: 1;\" transform=\"translate(0,140.3)\">2M</text></g></g><g class=\"overaxes-above\"/></g></g><g class=\"polarlayer\"/><g class=\"smithlayer\"/><g class=\"ternarylayer\"/><g class=\"geolayer\"/><g class=\"funnelarealayer\"/><g class=\"pielayer\"/><g class=\"iciclelayer\"/><g class=\"treemaplayer\"/><g class=\"sunburstlayer\"/><g class=\"glimages\"/><defs id=\"topdefs-8149b8\"><g class=\"clips\"/></defs><g class=\"layer-above\"><g class=\"imagelayer\"/><g class=\"shapelayer\"/></g><g class=\"infolayer\"><g class=\"cbcoloraxis colorbar\" transform=\"translate(80,100)\"><rect class=\"cbbg\" x=\"437.5\" y=\"0\" width=\"170.796875\" height=\"321\" style=\"fill: rgb(0, 0, 0); fill-opacity: 0; stroke: rgb(68, 68, 68); stroke-opacity: 1; stroke-width: 0;\"/><g class=\"cbfills\" transform=\"translate(0,32)\"><rect class=\"cbfill gradient_filled\" x=\"448\" y=\"0\" width=\"30\" height=\"278\" style=\"fill: url('#g8149b8-cbcoloraxis');\"/></g><g class=\"cblines\" transform=\"translate(0,32)\"/><g class=\"cbaxis crisp\" transform=\"translate(0,-100)\"><g class=\"ycbcoloraxistick\"><text text-anchor=\"start\" x=\"481.4\" y=\"4.199999999999999\" transform=\"translate(0,380.65999999999997)\" style=\"font-family: 'Open Sans', verdana, arial, sans-serif; font-size: 12px; fill: rgb(68, 68, 68); fill-opacity: 1; white-space: pre; opacity: 1;\">0.5M</text></g><g class=\"ycbcoloraxistick\"><text text-anchor=\"start\" x=\"481.4\" y=\"4.199999999999999\" style=\"font-family: 'Open Sans', verdana, arial, sans-serif; font-size: 12px; fill: rgb(68, 68, 68); fill-opacity: 1; white-space: pre; opacity: 1;\" transform=\"translate(0,306.38)\">1M</text></g><g class=\"ycbcoloraxistick\"><text text-anchor=\"start\" x=\"481.4\" y=\"4.199999999999999\" style=\"font-family: 'Open Sans', verdana, arial, sans-serif; font-size: 12px; fill: rgb(68, 68, 68); fill-opacity: 1; white-space: pre; opacity: 1;\" transform=\"translate(0,232.1)\">1.5M</text></g><g class=\"ycbcoloraxistick\"><text text-anchor=\"start\" x=\"481.4\" y=\"4.199999999999999\" style=\"font-family: 'Open Sans', verdana, arial, sans-serif; font-size: 12px; fill: rgb(68, 68, 68); fill-opacity: 1; white-space: pre; opacity: 1;\" transform=\"translate(0,157.81)\">2M</text></g></g><g class=\"cbtitleunshift\" transform=\"translate(-80,-100)\"><g class=\"cbtitle\" transform=\"translate(-0.5,-0.5)\"><text class=\"ycbcoloraxistitle\" x=\"527.5799999999999\" y=\"123.5\" text-anchor=\"start\" style=\"font-family: 'Open Sans', verdana, arial, sans-serif; font-size: 14px; fill: rgb(68, 68, 68); opacity: 1; font-weight: normal; white-space: pre;\">Average weekly sales</text></g></g><rect class=\"cboutline\" x=\"448\" y=\"32\" width=\"30\" height=\"278\" style=\"stroke: rgb(68, 68, 68); stroke-opacity: 1; fill: none; stroke-width: 1;\"/></g><g class=\"g-gtitle\"><text class=\"gtitle\" x=\"350\" y=\"50\" text-anchor=\"middle\" dy=\"0em\" style=\"font-family: 'Open Sans', verdana, arial, sans-serif; font-size: 17px; fill: rgb(68, 68, 68); opacity: 1; font-weight: normal; white-space: pre;\">Average weekly sales per store</text></g><g class=\"g-xtitle\"><text class=\"xtitle\" x=\"294.5\" y=\"472\" text-anchor=\"middle\" style=\"font-family: 'Open Sans', verdana, arial, sans-serif; font-size: 14px; fill: rgb(68, 68, 68); opacity: 1; font-weight: normal; white-space: pre;\">Store</text></g><g class=\"g-ytitle\"><text class=\"ytitle\" transform=\"rotate(-90,42,260)\" x=\"42\" y=\"260\" text-anchor=\"middle\" style=\"font-family: 'Open Sans', verdana, arial, sans-serif; font-size: 14px; fill: rgb(68, 68, 68); opacity: 1; font-weight: normal; white-space: pre;\">Average weekly sales</text></g></g></svg>"
      ]
     },
     "metadata": {},
     "output_type": "display_data"
    }
   ],
   "source": [
    "import pandas as pd\n",
    "import plotly.express as px\n",
    "\n",
    "# Group by Store and calculate the mean of Weekly Sales\n",
    "store_sales_avg = dataset.groupby('Store')['Weekly_Sales'].mean().reset_index()\n",
    "\n",
    "# Create a bar plot\n",
    "fig = px.bar(store_sales_avg, x='Store', y='Weekly_Sales', \n",
    "             title='Average weekly sales per store',\n",
    "             labels={'Weekly_Sales': 'Average weekly sales', 'Store': 'Store'},\n",
    "             text= 'Store',\n",
    "             color='Weekly_Sales')\n",
    "\n",
    "fig.update_traces(textposition='outside')\n",
    "\n",
    "\n",
    "fig.show()"
   ]
  },
  {
   "cell_type": "code",
   "execution_count": 22,
   "metadata": {},
   "outputs": [
    {
     "name": "stderr",
     "output_type": "stream",
     "text": [
      "/opt/anaconda3/lib/python3.11/site-packages/_plotly_utils/basevalidators.py:106: FutureWarning:\n",
      "\n",
      "The behavior of DatetimeProperties.to_pydatetime is deprecated, in a future version this will return a Series containing python datetime objects instead of an ndarray. To retain the old behavior, call `np.array` on the result\n",
      "\n"
     ]
    },
    {
     "data": {
      "image/svg+xml": [
       "<svg class=\"main-svg\" xmlns=\"http://www.w3.org/2000/svg\" xmlns:xlink=\"http://www.w3.org/1999/xlink\" width=\"700\" height=\"500\" style=\"\" viewBox=\"0 0 700 500\"><rect x=\"0\" y=\"0\" width=\"700\" height=\"500\" style=\"fill: rgb(255, 255, 255); fill-opacity: 1;\"/><defs id=\"defs-2dc1ab\"><g class=\"clips\"><clipPath id=\"clip2dc1abxyplot\" class=\"plotclip\"><rect width=\"525\" height=\"320\"/></clipPath><clipPath class=\"axesclip\" id=\"clip2dc1abx\"><rect x=\"80\" y=\"0\" width=\"525\" height=\"500\"/></clipPath><clipPath class=\"axesclip\" id=\"clip2dc1aby\"><rect x=\"0\" y=\"100\" width=\"700\" height=\"320\"/></clipPath><clipPath class=\"axesclip\" id=\"clip2dc1abxy\"><rect x=\"80\" y=\"100\" width=\"525\" height=\"320\"/></clipPath></g><g class=\"gradients\"/><g class=\"patterns\"/></defs><g class=\"bglayer\"/><g class=\"layer-below\"><g class=\"imagelayer\"/><g class=\"shapelayer\"/></g><g class=\"cartesianlayer\"><g class=\"subplot xy\"><g class=\"layer-subplot\"><g class=\"shapelayer\"/><g class=\"imagelayer\"/></g><g class=\"minor-gridlayer\"><g class=\"x\"/><g class=\"y\"/></g><g class=\"gridlayer\"><g class=\"x\"><path class=\"xgrid crisp\" transform=\"translate(93.51,0)\" d=\"M0,100v320\" style=\"stroke: rgb(238, 238, 238); stroke-opacity: 1; stroke-width: 1px;\"/><path class=\"xgrid crisp\" transform=\"translate(178.78,0)\" d=\"M0,100v320\" style=\"stroke: rgb(238, 238, 238); stroke-opacity: 1; stroke-width: 1px;\"/><path class=\"xgrid crisp\" transform=\"translate(265.47,0)\" d=\"M0,100v320\" style=\"stroke: rgb(238, 238, 238); stroke-opacity: 1; stroke-width: 1px;\"/><path class=\"xgrid crisp\" transform=\"translate(350.74,0)\" d=\"M0,100v320\" style=\"stroke: rgb(238, 238, 238); stroke-opacity: 1; stroke-width: 1px;\"/><path class=\"xgrid crisp\" transform=\"translate(437.43,0)\" d=\"M0,100v320\" style=\"stroke: rgb(238, 238, 238); stroke-opacity: 1; stroke-width: 1px;\"/><path class=\"xgrid crisp\" transform=\"translate(523.1800000000001,0)\" d=\"M0,100v320\" style=\"stroke: rgb(238, 238, 238); stroke-opacity: 1; stroke-width: 1px;\"/></g><g class=\"y\"><path class=\"ygrid crisp\" transform=\"translate(0,374.35)\" d=\"M80,0h525\" style=\"stroke: rgb(238, 238, 238); stroke-opacity: 1; stroke-width: 1px;\"/><path class=\"ygrid crisp\" transform=\"translate(0,318.3)\" d=\"M80,0h525\" style=\"stroke: rgb(238, 238, 238); stroke-opacity: 1; stroke-width: 1px;\"/><path class=\"ygrid crisp\" transform=\"translate(0,262.26)\" d=\"M80,0h525\" style=\"stroke: rgb(238, 238, 238); stroke-opacity: 1; stroke-width: 1px;\"/><path class=\"ygrid crisp\" transform=\"translate(0,206.22)\" d=\"M80,0h525\" style=\"stroke: rgb(238, 238, 238); stroke-opacity: 1; stroke-width: 1px;\"/><path class=\"ygrid crisp\" transform=\"translate(0,150.17000000000002)\" d=\"M80,0h525\" style=\"stroke: rgb(238, 238, 238); stroke-opacity: 1; stroke-width: 1px;\"/></g></g><g class=\"zerolinelayer\"/><path class=\"xlines-below\"/><path class=\"ylines-below\"/><g class=\"overlines-below\"/><g class=\"xaxislayer-below\"/><g class=\"yaxislayer-below\"/><g class=\"overaxes-below\"/><g class=\"plot\" transform=\"translate(80,100)\" clip-path=\"url(#clip2dc1abxyplot)\"><g class=\"scatterlayer mlayer\"><g class=\"trace scatter traceabdeda\" style=\"stroke-miterlimit: 2; opacity: 1;\"><g class=\"fills\"/><g class=\"errorbars\"/><g class=\"lines\"><path class=\"js-line\" d=\"M208.09,154.18L82.77,146.07L69.57,162.48L297.13,171.18L112.45,158.64L237.77,146.64\" style=\"vector-effect: non-scaling-stroke; fill: none; stroke: rgb(75, 154, 199); stroke-opacity: 1; stroke-width: 2px; opacity: 1;\"/></g><g class=\"points\"><path class=\"point\" transform=\"translate(208.09,154.18)\" d=\"M3,0A3,3 0 1,1 0,-3A3,3 0 0,1 3,0Z\" style=\"opacity: 1; stroke-width: 0px; fill: rgb(75, 154, 199); fill-opacity: 1;\"/><path class=\"point\" transform=\"translate(82.77,146.07)\" d=\"M3,0A3,3 0 1,1 0,-3A3,3 0 0,1 3,0Z\" style=\"opacity: 1; stroke-width: 0px; fill: rgb(75, 154, 199); fill-opacity: 1;\"/><path class=\"point\" transform=\"translate(69.57,162.48)\" d=\"M3,0A3,3 0 1,1 0,-3A3,3 0 0,1 3,0Z\" style=\"opacity: 1; stroke-width: 0px; fill: rgb(75, 154, 199); fill-opacity: 1;\"/><path class=\"point\" transform=\"translate(297.13,171.18)\" d=\"M3,0A3,3 0 1,1 0,-3A3,3 0 0,1 3,0Z\" style=\"opacity: 1; stroke-width: 0px; fill: rgb(75, 154, 199); fill-opacity: 1;\"/><path class=\"point\" transform=\"translate(112.45,158.64)\" d=\"M3,0A3,3 0 1,1 0,-3A3,3 0 0,1 3,0Z\" style=\"opacity: 1; stroke-width: 0px; fill: rgb(75, 154, 199); fill-opacity: 1;\"/><path class=\"point\" transform=\"translate(237.77,146.64)\" d=\"M3,0A3,3 0 1,1 0,-3A3,3 0 0,1 3,0Z\" style=\"opacity: 1; stroke-width: 0px; fill: rgb(75, 154, 199); fill-opacity: 1;\"/></g><g class=\"text\"><g class=\"textpoint\" transform=\"translate(0,3)\"><text x=\"208.09\" y=\"154.18\" text-anchor=\"middle\" style=\"font-family: 'Open Sans', verdana, arial, sans-serif; font-size: 12px; fill: rgb(68, 68, 68); fill-opacity: 1; white-space: pre;\">6</text></g><g class=\"textpoint\" transform=\"translate(0,3)\"><text x=\"82.77\" y=\"146.07\" text-anchor=\"middle\" style=\"font-family: 'Open Sans', verdana, arial, sans-serif; font-size: 12px; fill: rgb(68, 68, 68); fill-opacity: 1; white-space: pre;\">6</text></g><g class=\"textpoint\" transform=\"translate(0,3)\"><text x=\"69.57\" y=\"162.48\" text-anchor=\"middle\" style=\"font-family: 'Open Sans', verdana, arial, sans-serif; font-size: 12px; fill: rgb(68, 68, 68); fill-opacity: 1; white-space: pre;\">6</text></g><g class=\"textpoint\" transform=\"translate(0,3)\"><text x=\"297.13\" y=\"171.18\" text-anchor=\"middle\" style=\"font-family: 'Open Sans', verdana, arial, sans-serif; font-size: 12px; fill: rgb(68, 68, 68); fill-opacity: 1; white-space: pre;\">6</text></g><g class=\"textpoint\" transform=\"translate(0,3)\"><text x=\"112.45\" y=\"158.64\" text-anchor=\"middle\" style=\"font-family: 'Open Sans', verdana, arial, sans-serif; font-size: 12px; fill: rgb(68, 68, 68); fill-opacity: 1; white-space: pre;\">6</text></g><g class=\"textpoint\" transform=\"translate(0,3)\"><text x=\"237.77\" y=\"146.64\" text-anchor=\"middle\" style=\"font-family: 'Open Sans', verdana, arial, sans-serif; font-size: 12px; fill: rgb(68, 68, 68); fill-opacity: 1; white-space: pre;\">6</text></g></g></g><g class=\"trace scatter tracea10673\" style=\"stroke-miterlimit: 2; opacity: 1;\"><g class=\"fills\"/><g class=\"errorbars\"/><g class=\"lines\"><path class=\"js-line\" d=\"M224.57,127.79L122.34,106.51L429.04,102.24L310.32,123.32L175.11,54.49L99.26,104.16L366.38,127.33L290.53,109.54L392.77,103.35\" style=\"vector-effect: non-scaling-stroke; fill: none; stroke: rgb(75, 232, 224); stroke-opacity: 1; stroke-width: 2px; opacity: 1;\"/></g><g class=\"points\"><path class=\"point\" transform=\"translate(224.57,127.79)\" d=\"M3,0A3,3 0 1,1 0,-3A3,3 0 0,1 3,0Z\" style=\"opacity: 1; stroke-width: 0px; fill: rgb(75, 232, 224); fill-opacity: 1;\"/><path class=\"point\" transform=\"translate(122.34,106.51)\" d=\"M3,0A3,3 0 1,1 0,-3A3,3 0 0,1 3,0Z\" style=\"opacity: 1; stroke-width: 0px; fill: rgb(75, 232, 224); fill-opacity: 1;\"/><path class=\"point\" transform=\"translate(429.04,102.24)\" d=\"M3,0A3,3 0 1,1 0,-3A3,3 0 0,1 3,0Z\" style=\"opacity: 1; stroke-width: 0px; fill: rgb(75, 232, 224); fill-opacity: 1;\"/><path class=\"point\" transform=\"translate(310.32,123.32)\" d=\"M3,0A3,3 0 1,1 0,-3A3,3 0 0,1 3,0Z\" style=\"opacity: 1; stroke-width: 0px; fill: rgb(75, 232, 224); fill-opacity: 1;\"/><path class=\"point\" transform=\"translate(175.11,54.49)\" d=\"M3,0A3,3 0 1,1 0,-3A3,3 0 0,1 3,0Z\" style=\"opacity: 1; stroke-width: 0px; fill: rgb(75, 232, 224); fill-opacity: 1;\"/><path class=\"point\" transform=\"translate(99.26,104.16)\" d=\"M3,0A3,3 0 1,1 0,-3A3,3 0 0,1 3,0Z\" style=\"opacity: 1; stroke-width: 0px; fill: rgb(75, 232, 224); fill-opacity: 1;\"/><path class=\"point\" transform=\"translate(366.38,127.33)\" d=\"M3,0A3,3 0 1,1 0,-3A3,3 0 0,1 3,0Z\" style=\"opacity: 1; stroke-width: 0px; fill: rgb(75, 232, 224); fill-opacity: 1;\"/><path class=\"point\" transform=\"translate(290.53,109.54)\" d=\"M3,0A3,3 0 1,1 0,-3A3,3 0 0,1 3,0Z\" style=\"opacity: 1; stroke-width: 0px; fill: rgb(75, 232, 224); fill-opacity: 1;\"/><path class=\"point\" transform=\"translate(392.77,103.35)\" d=\"M3,0A3,3 0 1,1 0,-3A3,3 0 0,1 3,0Z\" style=\"opacity: 1; stroke-width: 0px; fill: rgb(75, 232, 224); fill-opacity: 1;\"/></g><g class=\"text\"><g class=\"textpoint\" transform=\"translate(0,3)\"><text x=\"224.57\" y=\"127.79\" text-anchor=\"middle\" style=\"font-family: 'Open Sans', verdana, arial, sans-serif; font-size: 12px; fill: rgb(68, 68, 68); fill-opacity: 1; white-space: pre;\">13</text></g><g class=\"textpoint\" transform=\"translate(0,3)\"><text x=\"122.34\" y=\"106.51\" text-anchor=\"middle\" style=\"font-family: 'Open Sans', verdana, arial, sans-serif; font-size: 12px; fill: rgb(68, 68, 68); fill-opacity: 1; white-space: pre;\">13</text></g><g class=\"textpoint\" transform=\"translate(0,3)\"><text x=\"429.04\" y=\"102.24\" text-anchor=\"middle\" style=\"font-family: 'Open Sans', verdana, arial, sans-serif; font-size: 12px; fill: rgb(68, 68, 68); fill-opacity: 1; white-space: pre;\">13</text></g><g class=\"textpoint\" transform=\"translate(0,3)\"><text x=\"310.32\" y=\"123.32\" text-anchor=\"middle\" style=\"font-family: 'Open Sans', verdana, arial, sans-serif; font-size: 12px; fill: rgb(68, 68, 68); fill-opacity: 1; white-space: pre;\">13</text></g><g class=\"textpoint\" transform=\"translate(0,3)\"><text x=\"175.11\" y=\"54.49\" text-anchor=\"middle\" style=\"font-family: 'Open Sans', verdana, arial, sans-serif; font-size: 12px; fill: rgb(68, 68, 68); fill-opacity: 1; white-space: pre;\">13</text></g><g class=\"textpoint\" transform=\"translate(0,3)\"><text x=\"99.26\" y=\"104.16\" text-anchor=\"middle\" style=\"font-family: 'Open Sans', verdana, arial, sans-serif; font-size: 12px; fill: rgb(68, 68, 68); fill-opacity: 1; white-space: pre;\">13</text></g><g class=\"textpoint\" transform=\"translate(0,3)\"><text x=\"366.38\" y=\"127.33\" text-anchor=\"middle\" style=\"font-family: 'Open Sans', verdana, arial, sans-serif; font-size: 12px; fill: rgb(68, 68, 68); fill-opacity: 1; white-space: pre;\">13</text></g><g class=\"textpoint\" transform=\"translate(0,3)\"><text x=\"290.53\" y=\"109.54\" text-anchor=\"middle\" style=\"font-family: 'Open Sans', verdana, arial, sans-serif; font-size: 12px; fill: rgb(68, 68, 68); fill-opacity: 1; white-space: pre;\">13</text></g><g class=\"textpoint\" transform=\"translate(0,3)\"><text x=\"392.77\" y=\"103.35\" text-anchor=\"middle\" style=\"font-family: 'Open Sans', verdana, arial, sans-serif; font-size: 12px; fill: rgb(68, 68, 68); fill-opacity: 1; white-space: pre;\">13</text></g></g></g><g class=\"trace scatter tracebce0b9\" style=\"stroke-miterlimit: 2; opacity: 1;\"><g class=\"fills\"/><g class=\"errorbars\"/><g class=\"lines\"/><g class=\"points\"><path class=\"point\" transform=\"translate(168.51,133.43)\" d=\"M3,0A3,3 0 1,1 0,-3A3,3 0 0,1 3,0Z\" style=\"opacity: 1; stroke-width: 0px; fill: rgb(157, 212, 243); fill-opacity: 1;\"/></g><g class=\"text\"><g class=\"textpoint\" transform=\"translate(0,3)\"><text x=\"168.51\" y=\"133.43\" text-anchor=\"middle\" style=\"font-family: 'Open Sans', verdana, arial, sans-serif; font-size: 12px; fill: rgb(68, 68, 68); fill-opacity: 1; white-space: pre;\">11</text></g></g></g><g class=\"trace scatter tracef61904\" style=\"stroke-miterlimit: 2; opacity: 1;\"><g class=\"fills\"/><g class=\"errorbars\"/><g class=\"lines\"><path class=\"js-line\" d=\"M82.77,122.18L267.45,105.28L349.89,19.75L175.11,72.31L280.64,102.15L274.04,98.76\" style=\"vector-effect: non-scaling-stroke; fill: none; stroke: rgb(151, 251, 246); stroke-opacity: 1; stroke-width: 2px; opacity: 1;\"/></g><g class=\"points\"><path class=\"point\" transform=\"translate(82.77,122.18)\" d=\"M3,0A3,3 0 1,1 0,-3A3,3 0 0,1 3,0Z\" style=\"opacity: 1; stroke-width: 0px; fill: rgb(151, 251, 246); fill-opacity: 1;\"/><path class=\"point\" transform=\"translate(267.45,105.28)\" d=\"M3,0A3,3 0 1,1 0,-3A3,3 0 0,1 3,0Z\" style=\"opacity: 1; stroke-width: 0px; fill: rgb(151, 251, 246); fill-opacity: 1;\"/><path class=\"point\" transform=\"translate(349.89,19.75)\" d=\"M3,0A3,3 0 1,1 0,-3A3,3 0 0,1 3,0Z\" style=\"opacity: 1; stroke-width: 0px; fill: rgb(151, 251, 246); fill-opacity: 1;\"/><path class=\"point\" transform=\"translate(175.11,72.31)\" d=\"M3,0A3,3 0 1,1 0,-3A3,3 0 0,1 3,0Z\" style=\"opacity: 1; stroke-width: 0px; fill: rgb(151, 251, 246); fill-opacity: 1;\"/><path class=\"point\" transform=\"translate(280.64,102.15)\" d=\"M3,0A3,3 0 1,1 0,-3A3,3 0 0,1 3,0Z\" style=\"opacity: 1; stroke-width: 0px; fill: rgb(151, 251, 246); fill-opacity: 1;\"/><path class=\"point\" transform=\"translate(274.04,98.76)\" d=\"M3,0A3,3 0 1,1 0,-3A3,3 0 0,1 3,0Z\" style=\"opacity: 1; stroke-width: 0px; fill: rgb(151, 251, 246); fill-opacity: 1;\"/></g><g class=\"text\"><g class=\"textpoint\" transform=\"translate(0,3)\"><text x=\"82.77\" y=\"122.18\" text-anchor=\"middle\" style=\"font-family: 'Open Sans', verdana, arial, sans-serif; font-size: 12px; fill: rgb(68, 68, 68); fill-opacity: 1; white-space: pre;\">4</text></g><g class=\"textpoint\" transform=\"translate(0,3)\"><text x=\"267.45\" y=\"105.28\" text-anchor=\"middle\" style=\"font-family: 'Open Sans', verdana, arial, sans-serif; font-size: 12px; fill: rgb(68, 68, 68); fill-opacity: 1; white-space: pre;\">4</text></g><g class=\"textpoint\" transform=\"translate(0,3)\"><text x=\"349.89\" y=\"19.75\" text-anchor=\"middle\" style=\"font-family: 'Open Sans', verdana, arial, sans-serif; font-size: 12px; fill: rgb(68, 68, 68); fill-opacity: 1; white-space: pre;\">4</text></g><g class=\"textpoint\" transform=\"translate(0,3)\"><text x=\"175.11\" y=\"72.31\" text-anchor=\"middle\" style=\"font-family: 'Open Sans', verdana, arial, sans-serif; font-size: 12px; fill: rgb(68, 68, 68); fill-opacity: 1; white-space: pre;\">4</text></g><g class=\"textpoint\" transform=\"translate(0,3)\"><text x=\"280.64\" y=\"102.15\" text-anchor=\"middle\" style=\"font-family: 'Open Sans', verdana, arial, sans-serif; font-size: 12px; fill: rgb(68, 68, 68); fill-opacity: 1; white-space: pre;\">4</text></g><g class=\"textpoint\" transform=\"translate(0,3)\"><text x=\"274.04\" y=\"98.76\" text-anchor=\"middle\" style=\"font-family: 'Open Sans', verdana, arial, sans-serif; font-size: 12px; fill: rgb(68, 68, 68); fill-opacity: 1; white-space: pre;\">4</text></g></g></g><g class=\"trace scatter trace2a50d2\" style=\"stroke-miterlimit: 2; opacity: 1;\"><g class=\"fills\"/><g class=\"errorbars\"/><g class=\"lines\"><path class=\"js-line\" d=\"M257.55,252.45L392.77,266.43\" style=\"vector-effect: non-scaling-stroke; fill: none; stroke: rgb(42, 127, 175); stroke-opacity: 1; stroke-width: 2px; opacity: 1;\"/></g><g class=\"points\"><path class=\"point\" transform=\"translate(257.55,252.45)\" d=\"M3,0A3,3 0 1,1 0,-3A3,3 0 0,1 3,0Z\" style=\"opacity: 1; stroke-width: 0px; fill: rgb(42, 127, 175); fill-opacity: 1;\"/><path class=\"point\" transform=\"translate(392.77,266.43)\" d=\"M3,0A3,3 0 1,1 0,-3A3,3 0 0,1 3,0Z\" style=\"opacity: 1; stroke-width: 0px; fill: rgb(42, 127, 175); fill-opacity: 1;\"/><path class=\"point\" transform=\"translate(36.6,256.32)\" d=\"M3,0A3,3 0 1,1 0,-3A3,3 0 0,1 3,0Z\" style=\"opacity: 1; stroke-width: 0px; fill: rgb(42, 127, 175); fill-opacity: 1;\"/></g><g class=\"text\"><g class=\"textpoint\" transform=\"translate(0,3)\"><text x=\"257.55\" y=\"252.45\" text-anchor=\"middle\" style=\"font-family: 'Open Sans', verdana, arial, sans-serif; font-size: 12px; fill: rgb(68, 68, 68); fill-opacity: 1; white-space: pre;\">15</text></g><g class=\"textpoint\" transform=\"translate(0,3)\"><text x=\"392.77\" y=\"266.43\" text-anchor=\"middle\" style=\"font-family: 'Open Sans', verdana, arial, sans-serif; font-size: 12px; fill: rgb(68, 68, 68); fill-opacity: 1; white-space: pre;\">15</text></g><g class=\"textpoint\" transform=\"translate(0,3)\"><text x=\"36.6\" y=\"256.32\" text-anchor=\"middle\" style=\"font-family: 'Open Sans', verdana, arial, sans-serif; font-size: 12px; fill: rgb(68, 68, 68); fill-opacity: 1; white-space: pre;\">15</text></g></g></g><g class=\"trace scatter trace14905a\" style=\"stroke-miterlimit: 2; opacity: 1;\"><g class=\"fills\"/><g class=\"errorbars\"/><g class=\"lines\"><path class=\"js-line\" d=\"M372.98,83.4L95.96,109.23L138.83,129.79\" style=\"vector-effect: non-scaling-stroke; fill: none; stroke: rgb(35, 177, 171); stroke-opacity: 1; stroke-width: 2px; opacity: 1;\"/></g><g class=\"points\"><path class=\"point\" transform=\"translate(372.98,83.4)\" d=\"M3,0A3,3 0 1,1 0,-3A3,3 0 0,1 3,0Z\" style=\"opacity: 1; stroke-width: 0px; fill: rgb(35, 177, 171); fill-opacity: 1;\"/><path class=\"point\" transform=\"translate(95.96,109.23)\" d=\"M3,0A3,3 0 1,1 0,-3A3,3 0 0,1 3,0Z\" style=\"opacity: 1; stroke-width: 0px; fill: rgb(35, 177, 171); fill-opacity: 1;\"/><path class=\"point\" transform=\"translate(138.83,129.79)\" d=\"M3,0A3,3 0 1,1 0,-3A3,3 0 0,1 3,0Z\" style=\"opacity: 1; stroke-width: 0px; fill: rgb(35, 177, 171); fill-opacity: 1;\"/><path class=\"point\" transform=\"translate(185,128.66)\" d=\"M3,0A3,3 0 1,1 0,-3A3,3 0 0,1 3,0Z\" style=\"opacity: 1; stroke-width: 0px; fill: rgb(35, 177, 171); fill-opacity: 1;\"/></g><g class=\"text\"><g class=\"textpoint\" transform=\"translate(0,3)\"><text x=\"372.98\" y=\"83.4\" text-anchor=\"middle\" style=\"font-family: 'Open Sans', verdana, arial, sans-serif; font-size: 12px; fill: rgb(68, 68, 68); fill-opacity: 1; white-space: pre;\">20</text></g><g class=\"textpoint\" transform=\"translate(0,3)\"><text x=\"95.96\" y=\"109.23\" text-anchor=\"middle\" style=\"font-family: 'Open Sans', verdana, arial, sans-serif; font-size: 12px; fill: rgb(68, 68, 68); fill-opacity: 1; white-space: pre;\">20</text></g><g class=\"textpoint\" transform=\"translate(0,3)\"><text x=\"138.83\" y=\"129.79\" text-anchor=\"middle\" style=\"font-family: 'Open Sans', verdana, arial, sans-serif; font-size: 12px; fill: rgb(68, 68, 68); fill-opacity: 1; white-space: pre;\">20</text></g><g class=\"textpoint\" transform=\"translate(0,3)\"><text x=\"185\" y=\"128.66\" text-anchor=\"middle\" style=\"font-family: 'Open Sans', verdana, arial, sans-serif; font-size: 12px; fill: rgb(68, 68, 68); fill-opacity: 1; white-space: pre;\">20</text></g></g></g><g class=\"trace scatter trace09991a\" style=\"stroke-miterlimit: 2; opacity: 1;\"><g class=\"fills\"/><g class=\"errorbars\"/><g class=\"lines\"><path class=\"js-line\" d=\"M175.11,38.9L376.28,97.56L224.57,119.73L379.57,103.91L244.36,95.5L277.34,111.42L39.89,95.5L188.3,121.38L92.66,78.34\" style=\"vector-effect: non-scaling-stroke; fill: none; stroke: rgb(14, 52, 73); stroke-opacity: 1; stroke-width: 2px; opacity: 1;\"/></g><g class=\"points\"><path class=\"point\" transform=\"translate(175.11,38.9)\" d=\"M3,0A3,3 0 1,1 0,-3A3,3 0 0,1 3,0Z\" style=\"opacity: 1; stroke-width: 0px; fill: rgb(14, 52, 73); fill-opacity: 1;\"/><path class=\"point\" transform=\"translate(376.28,97.56)\" d=\"M3,0A3,3 0 1,1 0,-3A3,3 0 0,1 3,0Z\" style=\"opacity: 1; stroke-width: 0px; fill: rgb(14, 52, 73); fill-opacity: 1;\"/><path class=\"point\" transform=\"translate(224.57,119.73)\" d=\"M3,0A3,3 0 1,1 0,-3A3,3 0 0,1 3,0Z\" style=\"opacity: 1; stroke-width: 0px; fill: rgb(14, 52, 73); fill-opacity: 1;\"/><path class=\"point\" transform=\"translate(379.57,103.91)\" d=\"M3,0A3,3 0 1,1 0,-3A3,3 0 0,1 3,0Z\" style=\"opacity: 1; stroke-width: 0px; fill: rgb(14, 52, 73); fill-opacity: 1;\"/><path class=\"point\" transform=\"translate(244.36,95.5)\" d=\"M3,0A3,3 0 1,1 0,-3A3,3 0 0,1 3,0Z\" style=\"opacity: 1; stroke-width: 0px; fill: rgb(14, 52, 73); fill-opacity: 1;\"/><path class=\"point\" transform=\"translate(277.34,111.42)\" d=\"M3,0A3,3 0 1,1 0,-3A3,3 0 0,1 3,0Z\" style=\"opacity: 1; stroke-width: 0px; fill: rgb(14, 52, 73); fill-opacity: 1;\"/><path class=\"point\" transform=\"translate(39.89,95.5)\" d=\"M3,0A3,3 0 1,1 0,-3A3,3 0 0,1 3,0Z\" style=\"opacity: 1; stroke-width: 0px; fill: rgb(14, 52, 73); fill-opacity: 1;\"/><path class=\"point\" transform=\"translate(188.3,121.38)\" d=\"M3,0A3,3 0 1,1 0,-3A3,3 0 0,1 3,0Z\" style=\"opacity: 1; stroke-width: 0px; fill: rgb(14, 52, 73); fill-opacity: 1;\"/><path class=\"point\" transform=\"translate(92.66,78.34)\" d=\"M3,0A3,3 0 1,1 0,-3A3,3 0 0,1 3,0Z\" style=\"opacity: 1; stroke-width: 0px; fill: rgb(14, 52, 73); fill-opacity: 1;\"/></g><g class=\"text\"><g class=\"textpoint\" transform=\"translate(0,3)\"><text x=\"175.11\" y=\"38.9\" text-anchor=\"middle\" style=\"font-family: 'Open Sans', verdana, arial, sans-serif; font-size: 12px; fill: rgb(68, 68, 68); fill-opacity: 1; white-space: pre;\">14</text></g><g class=\"textpoint\" transform=\"translate(0,3)\"><text x=\"376.28\" y=\"97.56\" text-anchor=\"middle\" style=\"font-family: 'Open Sans', verdana, arial, sans-serif; font-size: 12px; fill: rgb(68, 68, 68); fill-opacity: 1; white-space: pre;\">14</text></g><g class=\"textpoint\" transform=\"translate(0,3)\"><text x=\"224.57\" y=\"119.73\" text-anchor=\"middle\" style=\"font-family: 'Open Sans', verdana, arial, sans-serif; font-size: 12px; fill: rgb(68, 68, 68); fill-opacity: 1; white-space: pre;\">14</text></g><g class=\"textpoint\" transform=\"translate(0,3)\"><text x=\"379.57\" y=\"103.91\" text-anchor=\"middle\" style=\"font-family: 'Open Sans', verdana, arial, sans-serif; font-size: 12px; fill: rgb(68, 68, 68); fill-opacity: 1; white-space: pre;\">14</text></g><g class=\"textpoint\" transform=\"translate(0,3)\"><text x=\"244.36\" y=\"95.5\" text-anchor=\"middle\" style=\"font-family: 'Open Sans', verdana, arial, sans-serif; font-size: 12px; fill: rgb(68, 68, 68); fill-opacity: 1; white-space: pre;\">14</text></g><g class=\"textpoint\" transform=\"translate(0,3)\"><text x=\"277.34\" y=\"111.42\" text-anchor=\"middle\" style=\"font-family: 'Open Sans', verdana, arial, sans-serif; font-size: 12px; fill: rgb(68, 68, 68); fill-opacity: 1; white-space: pre;\">14</text></g><g class=\"textpoint\" transform=\"translate(0,3)\"><text x=\"39.89\" y=\"95.5\" text-anchor=\"middle\" style=\"font-family: 'Open Sans', verdana, arial, sans-serif; font-size: 12px; fill: rgb(68, 68, 68); fill-opacity: 1; white-space: pre;\">14</text></g><g class=\"textpoint\" transform=\"translate(0,3)\"><text x=\"188.3\" y=\"121.38\" text-anchor=\"middle\" style=\"font-family: 'Open Sans', verdana, arial, sans-serif; font-size: 12px; fill: rgb(68, 68, 68); fill-opacity: 1; white-space: pre;\">14</text></g><g class=\"textpoint\" transform=\"translate(0,3)\"><text x=\"92.66\" y=\"78.34\" text-anchor=\"middle\" style=\"font-family: 'Open Sans', verdana, arial, sans-serif; font-size: 12px; fill: rgb(68, 68, 68); fill-opacity: 1; white-space: pre;\">14</text></g></g></g><g class=\"trace scatter trace7176d4\" style=\"stroke-miterlimit: 2; opacity: 1;\"><g class=\"fills\"/><g class=\"errorbars\"/><g class=\"lines\"><path class=\"js-line\" d=\"M363.09,289.21L310.32,289.45L30,278.65L419.15,281.97\" style=\"vector-effect: non-scaling-stroke; fill: none; stroke: rgb(1, 89, 85); stroke-opacity: 1; stroke-width: 2px; opacity: 1;\"/><path class=\"js-line\" d=\"M92.66,289.58L438.94,283.37L336.7,285.69L316.91,285.18L86.06,285.9L495,282.81\" style=\"vector-effect: non-scaling-stroke; fill: none; stroke: rgb(1, 89, 85); stroke-opacity: 1; stroke-width: 2px; opacity: 1;\"/></g><g class=\"points\"><path class=\"point\" transform=\"translate(363.09,289.21)\" d=\"M3,0A3,3 0 1,1 0,-3A3,3 0 0,1 3,0Z\" style=\"opacity: 1; stroke-width: 0px; fill: rgb(1, 89, 85); fill-opacity: 1;\"/><path class=\"point\" transform=\"translate(310.32,289.45)\" d=\"M3,0A3,3 0 1,1 0,-3A3,3 0 0,1 3,0Z\" style=\"opacity: 1; stroke-width: 0px; fill: rgb(1, 89, 85); fill-opacity: 1;\"/><path class=\"point\" transform=\"translate(30,278.65)\" d=\"M3,0A3,3 0 1,1 0,-3A3,3 0 0,1 3,0Z\" style=\"opacity: 1; stroke-width: 0px; fill: rgb(1, 89, 85); fill-opacity: 1;\"/><path class=\"point\" transform=\"translate(419.15,281.97)\" d=\"M3,0A3,3 0 1,1 0,-3A3,3 0 0,1 3,0Z\" style=\"opacity: 1; stroke-width: 0px; fill: rgb(1, 89, 85); fill-opacity: 1;\"/><path class=\"point\" transform=\"translate(92.66,289.58)\" d=\"M3,0A3,3 0 1,1 0,-3A3,3 0 0,1 3,0Z\" style=\"opacity: 1; stroke-width: 0px; fill: rgb(1, 89, 85); fill-opacity: 1;\"/><path class=\"point\" transform=\"translate(438.94,283.37)\" d=\"M3,0A3,3 0 1,1 0,-3A3,3 0 0,1 3,0Z\" style=\"opacity: 1; stroke-width: 0px; fill: rgb(1, 89, 85); fill-opacity: 1;\"/><path class=\"point\" transform=\"translate(336.7,285.69)\" d=\"M3,0A3,3 0 1,1 0,-3A3,3 0 0,1 3,0Z\" style=\"opacity: 1; stroke-width: 0px; fill: rgb(1, 89, 85); fill-opacity: 1;\"/><path class=\"point\" transform=\"translate(316.91,285.18)\" d=\"M3,0A3,3 0 1,1 0,-3A3,3 0 0,1 3,0Z\" style=\"opacity: 1; stroke-width: 0px; fill: rgb(1, 89, 85); fill-opacity: 1;\"/><path class=\"point\" transform=\"translate(86.06,285.9)\" d=\"M3,0A3,3 0 1,1 0,-3A3,3 0 0,1 3,0Z\" style=\"opacity: 1; stroke-width: 0px; fill: rgb(1, 89, 85); fill-opacity: 1;\"/><path class=\"point\" transform=\"translate(495,282.81)\" d=\"M3,0A3,3 0 1,1 0,-3A3,3 0 0,1 3,0Z\" style=\"opacity: 1; stroke-width: 0px; fill: rgb(1, 89, 85); fill-opacity: 1;\"/></g><g class=\"text\"><g class=\"textpoint\" transform=\"translate(0,3)\"><text x=\"363.09\" y=\"289.21\" text-anchor=\"middle\" style=\"font-family: 'Open Sans', verdana, arial, sans-serif; font-size: 12px; fill: rgb(68, 68, 68); fill-opacity: 1; white-space: pre;\">3</text></g><g class=\"textpoint\" transform=\"translate(0,3)\"><text x=\"310.32\" y=\"289.45\" text-anchor=\"middle\" style=\"font-family: 'Open Sans', verdana, arial, sans-serif; font-size: 12px; fill: rgb(68, 68, 68); fill-opacity: 1; white-space: pre;\">3</text></g><g class=\"textpoint\" transform=\"translate(0,3)\"><text x=\"30\" y=\"278.65\" text-anchor=\"middle\" style=\"font-family: 'Open Sans', verdana, arial, sans-serif; font-size: 12px; fill: rgb(68, 68, 68); fill-opacity: 1; white-space: pre;\">3</text></g><g class=\"textpoint\" transform=\"translate(0,3)\"><text x=\"419.15\" y=\"281.97\" text-anchor=\"middle\" style=\"font-family: 'Open Sans', verdana, arial, sans-serif; font-size: 12px; fill: rgb(68, 68, 68); fill-opacity: 1; white-space: pre;\">3</text></g><g class=\"textpoint\" transform=\"translate(0,3)\"><text x=\"92.66\" y=\"289.58\" text-anchor=\"middle\" style=\"font-family: 'Open Sans', verdana, arial, sans-serif; font-size: 12px; fill: rgb(68, 68, 68); fill-opacity: 1; white-space: pre;\">3</text></g><g class=\"textpoint\" transform=\"translate(0,3)\"><text x=\"438.94\" y=\"283.37\" text-anchor=\"middle\" style=\"font-family: 'Open Sans', verdana, arial, sans-serif; font-size: 12px; fill: rgb(68, 68, 68); fill-opacity: 1; white-space: pre;\">3</text></g><g class=\"textpoint\" transform=\"translate(0,3)\"><text x=\"336.7\" y=\"285.69\" text-anchor=\"middle\" style=\"font-family: 'Open Sans', verdana, arial, sans-serif; font-size: 12px; fill: rgb(68, 68, 68); fill-opacity: 1; white-space: pre;\">3</text></g><g class=\"textpoint\" transform=\"translate(0,3)\"><text x=\"316.91\" y=\"285.18\" text-anchor=\"middle\" style=\"font-family: 'Open Sans', verdana, arial, sans-serif; font-size: 12px; fill: rgb(68, 68, 68); fill-opacity: 1; white-space: pre;\">3</text></g><g class=\"textpoint\" transform=\"translate(0,3)\"><text x=\"86.06\" y=\"285.9\" text-anchor=\"middle\" style=\"font-family: 'Open Sans', verdana, arial, sans-serif; font-size: 12px; fill: rgb(68, 68, 68); fill-opacity: 1; white-space: pre;\">3</text></g><g class=\"textpoint\" transform=\"translate(0,3)\"><text x=\"495\" y=\"282.81\" text-anchor=\"middle\" style=\"font-family: 'Open Sans', verdana, arial, sans-serif; font-size: 12px; fill: rgb(68, 68, 68); fill-opacity: 1; white-space: pre;\">3</text></g></g></g><g class=\"trace scatter trace83ff50\" style=\"stroke-miterlimit: 2; opacity: 1;\"><g class=\"fills\"/><g class=\"errorbars\"/><g class=\"lines\"><path class=\"js-line\" d=\"M293.83,230.07L125.64,230.77L46.49,233.96L33.3,218.89L135.53,236.61L290.53,234.36\" style=\"vector-effect: non-scaling-stroke; fill: none; stroke: rgb(75, 154, 199); stroke-opacity: 1; stroke-width: 2px; opacity: 1;\"/></g><g class=\"points\"><path class=\"point\" transform=\"translate(293.83,230.07)\" d=\"M3,0A3,3 0 1,1 0,-3A3,3 0 0,1 3,0Z\" style=\"opacity: 1; stroke-width: 0px; fill: rgb(75, 154, 199); fill-opacity: 1;\"/><path class=\"point\" transform=\"translate(125.64,230.77)\" d=\"M3,0A3,3 0 1,1 0,-3A3,3 0 0,1 3,0Z\" style=\"opacity: 1; stroke-width: 0px; fill: rgb(75, 154, 199); fill-opacity: 1;\"/><path class=\"point\" transform=\"translate(46.49,233.96)\" d=\"M3,0A3,3 0 1,1 0,-3A3,3 0 0,1 3,0Z\" style=\"opacity: 1; stroke-width: 0px; fill: rgb(75, 154, 199); fill-opacity: 1;\"/><path class=\"point\" transform=\"translate(33.3,218.89)\" d=\"M3,0A3,3 0 1,1 0,-3A3,3 0 0,1 3,0Z\" style=\"opacity: 1; stroke-width: 0px; fill: rgb(75, 154, 199); fill-opacity: 1;\"/><path class=\"point\" transform=\"translate(135.53,236.61)\" d=\"M3,0A3,3 0 1,1 0,-3A3,3 0 0,1 3,0Z\" style=\"opacity: 1; stroke-width: 0px; fill: rgb(75, 154, 199); fill-opacity: 1;\"/><path class=\"point\" transform=\"translate(290.53,234.36)\" d=\"M3,0A3,3 0 1,1 0,-3A3,3 0 0,1 3,0Z\" style=\"opacity: 1; stroke-width: 0px; fill: rgb(75, 154, 199); fill-opacity: 1;\"/></g><g class=\"text\"><g class=\"textpoint\" transform=\"translate(0,3)\"><text x=\"293.83\" y=\"230.07\" text-anchor=\"middle\" style=\"font-family: 'Open Sans', verdana, arial, sans-serif; font-size: 12px; fill: rgb(68, 68, 68); fill-opacity: 1; white-space: pre;\">8</text></g><g class=\"textpoint\" transform=\"translate(0,3)\"><text x=\"125.64\" y=\"230.77\" text-anchor=\"middle\" style=\"font-family: 'Open Sans', verdana, arial, sans-serif; font-size: 12px; fill: rgb(68, 68, 68); fill-opacity: 1; white-space: pre;\">8</text></g><g class=\"textpoint\" transform=\"translate(0,3)\"><text x=\"46.49\" y=\"233.96\" text-anchor=\"middle\" style=\"font-family: 'Open Sans', verdana, arial, sans-serif; font-size: 12px; fill: rgb(68, 68, 68); fill-opacity: 1; white-space: pre;\">8</text></g><g class=\"textpoint\" transform=\"translate(0,3)\"><text x=\"33.3\" y=\"218.89\" text-anchor=\"middle\" style=\"font-family: 'Open Sans', verdana, arial, sans-serif; font-size: 12px; fill: rgb(68, 68, 68); fill-opacity: 1; white-space: pre;\">8</text></g><g class=\"textpoint\" transform=\"translate(0,3)\"><text x=\"135.53\" y=\"236.61\" text-anchor=\"middle\" style=\"font-family: 'Open Sans', verdana, arial, sans-serif; font-size: 12px; fill: rgb(68, 68, 68); fill-opacity: 1; white-space: pre;\">8</text></g><g class=\"textpoint\" transform=\"translate(0,3)\"><text x=\"290.53\" y=\"234.36\" text-anchor=\"middle\" style=\"font-family: 'Open Sans', verdana, arial, sans-serif; font-size: 12px; fill: rgb(68, 68, 68); fill-opacity: 1; white-space: pre;\">8</text></g></g></g><g class=\"trace scatter trace423991\" style=\"stroke-miterlimit: 2; opacity: 1;\"><g class=\"fills\"/><g class=\"errorbars\"/><g class=\"lines\"><path class=\"js-line\" d=\"M491.7,210L234.47,219.63L412.55,222.66L115.74,199.68L178.4,152.35\" style=\"vector-effect: non-scaling-stroke; fill: none; stroke: rgb(75, 232, 224); stroke-opacity: 1; stroke-width: 2px; opacity: 1;\"/></g><g class=\"points\"><path class=\"point\" transform=\"translate(148.72,214.98)\" d=\"M3,0A3,3 0 1,1 0,-3A3,3 0 0,1 3,0Z\" style=\"opacity: 1; stroke-width: 0px; fill: rgb(75, 232, 224); fill-opacity: 1;\"/><path class=\"point\" transform=\"translate(491.7,210)\" d=\"M3,0A3,3 0 1,1 0,-3A3,3 0 0,1 3,0Z\" style=\"opacity: 1; stroke-width: 0px; fill: rgb(75, 232, 224); fill-opacity: 1;\"/><path class=\"point\" transform=\"translate(234.47,219.63)\" d=\"M3,0A3,3 0 1,1 0,-3A3,3 0 0,1 3,0Z\" style=\"opacity: 1; stroke-width: 0px; fill: rgb(75, 232, 224); fill-opacity: 1;\"/><path class=\"point\" transform=\"translate(412.55,222.66)\" d=\"M3,0A3,3 0 1,1 0,-3A3,3 0 0,1 3,0Z\" style=\"opacity: 1; stroke-width: 0px; fill: rgb(75, 232, 224); fill-opacity: 1;\"/><path class=\"point\" transform=\"translate(115.74,199.68)\" d=\"M3,0A3,3 0 1,1 0,-3A3,3 0 0,1 3,0Z\" style=\"opacity: 1; stroke-width: 0px; fill: rgb(75, 232, 224); fill-opacity: 1;\"/><path class=\"point\" transform=\"translate(178.4,152.35)\" d=\"M3,0A3,3 0 1,1 0,-3A3,3 0 0,1 3,0Z\" style=\"opacity: 1; stroke-width: 0px; fill: rgb(75, 232, 224); fill-opacity: 1;\"/><path class=\"point\" transform=\"translate(82.77,189.58)\" d=\"M3,0A3,3 0 1,1 0,-3A3,3 0 0,1 3,0Z\" style=\"opacity: 1; stroke-width: 0px; fill: rgb(75, 232, 224); fill-opacity: 1;\"/></g><g class=\"text\"><g class=\"textpoint\" transform=\"translate(0,3)\"><text x=\"148.72\" y=\"214.98\" text-anchor=\"middle\" style=\"font-family: 'Open Sans', verdana, arial, sans-serif; font-size: 12px; fill: rgb(68, 68, 68); fill-opacity: 1; white-space: pre;\">18</text></g><g class=\"textpoint\" transform=\"translate(0,3)\"><text x=\"491.7\" y=\"210\" text-anchor=\"middle\" style=\"font-family: 'Open Sans', verdana, arial, sans-serif; font-size: 12px; fill: rgb(68, 68, 68); fill-opacity: 1; white-space: pre;\">18</text></g><g class=\"textpoint\" transform=\"translate(0,3)\"><text x=\"234.47\" y=\"219.63\" text-anchor=\"middle\" style=\"font-family: 'Open Sans', verdana, arial, sans-serif; font-size: 12px; fill: rgb(68, 68, 68); fill-opacity: 1; white-space: pre;\">18</text></g><g class=\"textpoint\" transform=\"translate(0,3)\"><text x=\"412.55\" y=\"222.66\" text-anchor=\"middle\" style=\"font-family: 'Open Sans', verdana, arial, sans-serif; font-size: 12px; fill: rgb(68, 68, 68); fill-opacity: 1; white-space: pre;\">18</text></g><g class=\"textpoint\" transform=\"translate(0,3)\"><text x=\"115.74\" y=\"199.68\" text-anchor=\"middle\" style=\"font-family: 'Open Sans', verdana, arial, sans-serif; font-size: 12px; fill: rgb(68, 68, 68); fill-opacity: 1; white-space: pre;\">18</text></g><g class=\"textpoint\" transform=\"translate(0,3)\"><text x=\"178.4\" y=\"152.35\" text-anchor=\"middle\" style=\"font-family: 'Open Sans', verdana, arial, sans-serif; font-size: 12px; fill: rgb(68, 68, 68); fill-opacity: 1; white-space: pre;\">18</text></g><g class=\"textpoint\" transform=\"translate(0,3)\"><text x=\"82.77\" y=\"189.58\" text-anchor=\"middle\" style=\"font-family: 'Open Sans', verdana, arial, sans-serif; font-size: 12px; fill: rgb(68, 68, 68); fill-opacity: 1; white-space: pre;\">18</text></g></g></g><g class=\"trace scatter tracebc467e\" style=\"stroke-miterlimit: 2; opacity: 1;\"><g class=\"fills\"/><g class=\"errorbars\"/><g class=\"lines\"><path class=\"js-line\" d=\"M247.66,283.98L56.38,267.5L376.28,267.24L297.13,259.78L409.26,279.13L475.21,263.38L425.74,270.68\" style=\"vector-effect: non-scaling-stroke; fill: none; stroke: rgb(157, 212, 243); stroke-opacity: 1; stroke-width: 2px; opacity: 1;\"/></g><g class=\"points\"><path class=\"point\" transform=\"translate(247.66,283.98)\" d=\"M3,0A3,3 0 1,1 0,-3A3,3 0 0,1 3,0Z\" style=\"opacity: 1; stroke-width: 0px; fill: rgb(157, 212, 243); fill-opacity: 1;\"/><path class=\"point\" transform=\"translate(56.38,267.5)\" d=\"M3,0A3,3 0 1,1 0,-3A3,3 0 0,1 3,0Z\" style=\"opacity: 1; stroke-width: 0px; fill: rgb(157, 212, 243); fill-opacity: 1;\"/><path class=\"point\" transform=\"translate(376.28,267.24)\" d=\"M3,0A3,3 0 1,1 0,-3A3,3 0 0,1 3,0Z\" style=\"opacity: 1; stroke-width: 0px; fill: rgb(157, 212, 243); fill-opacity: 1;\"/><path class=\"point\" transform=\"translate(297.13,259.78)\" d=\"M3,0A3,3 0 1,1 0,-3A3,3 0 0,1 3,0Z\" style=\"opacity: 1; stroke-width: 0px; fill: rgb(157, 212, 243); fill-opacity: 1;\"/><path class=\"point\" transform=\"translate(409.26,279.13)\" d=\"M3,0A3,3 0 1,1 0,-3A3,3 0 0,1 3,0Z\" style=\"opacity: 1; stroke-width: 0px; fill: rgb(157, 212, 243); fill-opacity: 1;\"/><path class=\"point\" transform=\"translate(475.21,263.38)\" d=\"M3,0A3,3 0 1,1 0,-3A3,3 0 0,1 3,0Z\" style=\"opacity: 1; stroke-width: 0px; fill: rgb(157, 212, 243); fill-opacity: 1;\"/><path class=\"point\" transform=\"translate(425.74,270.68)\" d=\"M3,0A3,3 0 1,1 0,-3A3,3 0 0,1 3,0Z\" style=\"opacity: 1; stroke-width: 0px; fill: rgb(157, 212, 243); fill-opacity: 1;\"/></g><g class=\"text\"><g class=\"textpoint\" transform=\"translate(0,3)\"><text x=\"247.66\" y=\"283.98\" text-anchor=\"middle\" style=\"font-family: 'Open Sans', verdana, arial, sans-serif; font-size: 12px; fill: rgb(68, 68, 68); fill-opacity: 1; white-space: pre;\">7</text></g><g class=\"textpoint\" transform=\"translate(0,3)\"><text x=\"56.38\" y=\"267.5\" text-anchor=\"middle\" style=\"font-family: 'Open Sans', verdana, arial, sans-serif; font-size: 12px; fill: rgb(68, 68, 68); fill-opacity: 1; white-space: pre;\">7</text></g><g class=\"textpoint\" transform=\"translate(0,3)\"><text x=\"376.28\" y=\"267.24\" text-anchor=\"middle\" style=\"font-family: 'Open Sans', verdana, arial, sans-serif; font-size: 12px; fill: rgb(68, 68, 68); fill-opacity: 1; white-space: pre;\">7</text></g><g class=\"textpoint\" transform=\"translate(0,3)\"><text x=\"297.13\" y=\"259.78\" text-anchor=\"middle\" style=\"font-family: 'Open Sans', verdana, arial, sans-serif; font-size: 12px; fill: rgb(68, 68, 68); fill-opacity: 1; white-space: pre;\">7</text></g><g class=\"textpoint\" transform=\"translate(0,3)\"><text x=\"409.26\" y=\"279.13\" text-anchor=\"middle\" style=\"font-family: 'Open Sans', verdana, arial, sans-serif; font-size: 12px; fill: rgb(68, 68, 68); fill-opacity: 1; white-space: pre;\">7</text></g><g class=\"textpoint\" transform=\"translate(0,3)\"><text x=\"475.21\" y=\"263.38\" text-anchor=\"middle\" style=\"font-family: 'Open Sans', verdana, arial, sans-serif; font-size: 12px; fill: rgb(68, 68, 68); fill-opacity: 1; white-space: pre;\">7</text></g><g class=\"textpoint\" transform=\"translate(0,3)\"><text x=\"425.74\" y=\"270.68\" text-anchor=\"middle\" style=\"font-family: 'Open Sans', verdana, arial, sans-serif; font-size: 12px; fill: rgb(68, 68, 68); fill-opacity: 1; white-space: pre;\">7</text></g></g></g><g class=\"trace scatter trace2d73c2\" style=\"stroke-miterlimit: 2; opacity: 1;\"><g class=\"fills\"/><g class=\"errorbars\"/><g class=\"lines\"><path class=\"js-line\" d=\"M33.3,146.35L287.23,148.32L125.64,167.96L495,161.36L336.7,157.83L76.17,162.9L254.26,166.07\" style=\"vector-effect: non-scaling-stroke; fill: none; stroke: rgb(151, 251, 246); stroke-opacity: 1; stroke-width: 2px; opacity: 1;\"/></g><g class=\"points\"><path class=\"point\" transform=\"translate(392.77,142.37)\" d=\"M3,0A3,3 0 1,1 0,-3A3,3 0 0,1 3,0Z\" style=\"opacity: 1; stroke-width: 0px; fill: rgb(151, 251, 246); fill-opacity: 1;\"/><path class=\"point\" transform=\"translate(33.3,146.35)\" d=\"M3,0A3,3 0 1,1 0,-3A3,3 0 0,1 3,0Z\" style=\"opacity: 1; stroke-width: 0px; fill: rgb(151, 251, 246); fill-opacity: 1;\"/><path class=\"point\" transform=\"translate(287.23,148.32)\" d=\"M3,0A3,3 0 1,1 0,-3A3,3 0 0,1 3,0Z\" style=\"opacity: 1; stroke-width: 0px; fill: rgb(151, 251, 246); fill-opacity: 1;\"/><path class=\"point\" transform=\"translate(125.64,167.96)\" d=\"M3,0A3,3 0 1,1 0,-3A3,3 0 0,1 3,0Z\" style=\"opacity: 1; stroke-width: 0px; fill: rgb(151, 251, 246); fill-opacity: 1;\"/><path class=\"point\" transform=\"translate(495,161.36)\" d=\"M3,0A3,3 0 1,1 0,-3A3,3 0 0,1 3,0Z\" style=\"opacity: 1; stroke-width: 0px; fill: rgb(151, 251, 246); fill-opacity: 1;\"/><path class=\"point\" transform=\"translate(336.7,157.83)\" d=\"M3,0A3,3 0 1,1 0,-3A3,3 0 0,1 3,0Z\" style=\"opacity: 1; stroke-width: 0px; fill: rgb(151, 251, 246); fill-opacity: 1;\"/><path class=\"point\" transform=\"translate(76.17,162.9)\" d=\"M3,0A3,3 0 1,1 0,-3A3,3 0 0,1 3,0Z\" style=\"opacity: 1; stroke-width: 0px; fill: rgb(151, 251, 246); fill-opacity: 1;\"/><path class=\"point\" transform=\"translate(254.26,166.07)\" d=\"M3,0A3,3 0 1,1 0,-3A3,3 0 0,1 3,0Z\" style=\"opacity: 1; stroke-width: 0px; fill: rgb(151, 251, 246); fill-opacity: 1;\"/></g><g class=\"text\"><g class=\"textpoint\" transform=\"translate(0,3)\"><text x=\"392.77\" y=\"142.37\" text-anchor=\"middle\" style=\"font-family: 'Open Sans', verdana, arial, sans-serif; font-size: 12px; fill: rgb(68, 68, 68); fill-opacity: 1; white-space: pre;\">1</text></g><g class=\"textpoint\" transform=\"translate(0,3)\"><text x=\"33.3\" y=\"146.35\" text-anchor=\"middle\" style=\"font-family: 'Open Sans', verdana, arial, sans-serif; font-size: 12px; fill: rgb(68, 68, 68); fill-opacity: 1; white-space: pre;\">1</text></g><g class=\"textpoint\" transform=\"translate(0,3)\"><text x=\"287.23\" y=\"148.32\" text-anchor=\"middle\" style=\"font-family: 'Open Sans', verdana, arial, sans-serif; font-size: 12px; fill: rgb(68, 68, 68); fill-opacity: 1; white-space: pre;\">1</text></g><g class=\"textpoint\" transform=\"translate(0,3)\"><text x=\"125.64\" y=\"167.96\" text-anchor=\"middle\" style=\"font-family: 'Open Sans', verdana, arial, sans-serif; font-size: 12px; fill: rgb(68, 68, 68); fill-opacity: 1; white-space: pre;\">1</text></g><g class=\"textpoint\" transform=\"translate(0,3)\"><text x=\"495\" y=\"161.36\" text-anchor=\"middle\" style=\"font-family: 'Open Sans', verdana, arial, sans-serif; font-size: 12px; fill: rgb(68, 68, 68); fill-opacity: 1; white-space: pre;\">1</text></g><g class=\"textpoint\" transform=\"translate(0,3)\"><text x=\"336.7\" y=\"157.83\" text-anchor=\"middle\" style=\"font-family: 'Open Sans', verdana, arial, sans-serif; font-size: 12px; fill: rgb(68, 68, 68); fill-opacity: 1; white-space: pre;\">1</text></g><g class=\"textpoint\" transform=\"translate(0,3)\"><text x=\"76.17\" y=\"162.9\" text-anchor=\"middle\" style=\"font-family: 'Open Sans', verdana, arial, sans-serif; font-size: 12px; fill: rgb(68, 68, 68); fill-opacity: 1; white-space: pre;\">1</text></g><g class=\"textpoint\" transform=\"translate(0,3)\"><text x=\"254.26\" y=\"166.07\" text-anchor=\"middle\" style=\"font-family: 'Open Sans', verdana, arial, sans-serif; font-size: 12px; fill: rgb(68, 68, 68); fill-opacity: 1; white-space: pre;\">1</text></g></g></g><g class=\"trace scatter trace17dfb2\" style=\"stroke-miterlimit: 2; opacity: 1;\"><g class=\"fills\"/><g class=\"errorbars\"/><g class=\"lines\"><path class=\"js-line\" d=\"M142.13,237.45L491.7,227.29L62.98,245.46\" style=\"vector-effect: non-scaling-stroke; fill: none; stroke: rgb(42, 127, 175); stroke-opacity: 1; stroke-width: 2px; opacity: 1;\"/><path class=\"js-line\" d=\"M161.91,234.51L89.36,235.65\" style=\"vector-effect: non-scaling-stroke; fill: none; stroke: rgb(42, 127, 175); stroke-opacity: 1; stroke-width: 2px; opacity: 1;\"/></g><g class=\"points\"><path class=\"point\" transform=\"translate(142.13,237.45)\" d=\"M3,0A3,3 0 1,1 0,-3A3,3 0 0,1 3,0Z\" style=\"opacity: 1; stroke-width: 0px; fill: rgb(42, 127, 175); fill-opacity: 1;\"/><path class=\"point\" transform=\"translate(491.7,227.29)\" d=\"M3,0A3,3 0 1,1 0,-3A3,3 0 0,1 3,0Z\" style=\"opacity: 1; stroke-width: 0px; fill: rgb(42, 127, 175); fill-opacity: 1;\"/><path class=\"point\" transform=\"translate(62.98,245.46)\" d=\"M3,0A3,3 0 1,1 0,-3A3,3 0 0,1 3,0Z\" style=\"opacity: 1; stroke-width: 0px; fill: rgb(42, 127, 175); fill-opacity: 1;\"/><path class=\"point\" transform=\"translate(161.91,234.51)\" d=\"M3,0A3,3 0 1,1 0,-3A3,3 0 0,1 3,0Z\" style=\"opacity: 1; stroke-width: 0px; fill: rgb(42, 127, 175); fill-opacity: 1;\"/><path class=\"point\" transform=\"translate(89.36,235.65)\" d=\"M3,0A3,3 0 1,1 0,-3A3,3 0 0,1 3,0Z\" style=\"opacity: 1; stroke-width: 0px; fill: rgb(42, 127, 175); fill-opacity: 1;\"/></g><g class=\"text\"><g class=\"textpoint\" transform=\"translate(0,3)\"><text x=\"142.13\" y=\"237.45\" text-anchor=\"middle\" style=\"font-family: 'Open Sans', verdana, arial, sans-serif; font-size: 12px; fill: rgb(68, 68, 68); fill-opacity: 1; white-space: pre;\">17</text></g><g class=\"textpoint\" transform=\"translate(0,3)\"><text x=\"491.7\" y=\"227.29\" text-anchor=\"middle\" style=\"font-family: 'Open Sans', verdana, arial, sans-serif; font-size: 12px; fill: rgb(68, 68, 68); fill-opacity: 1; white-space: pre;\">17</text></g><g class=\"textpoint\" transform=\"translate(0,3)\"><text x=\"62.98\" y=\"245.46\" text-anchor=\"middle\" style=\"font-family: 'Open Sans', verdana, arial, sans-serif; font-size: 12px; fill: rgb(68, 68, 68); fill-opacity: 1; white-space: pre;\">17</text></g><g class=\"textpoint\" transform=\"translate(0,3)\"><text x=\"161.91\" y=\"234.51\" text-anchor=\"middle\" style=\"font-family: 'Open Sans', verdana, arial, sans-serif; font-size: 12px; fill: rgb(68, 68, 68); fill-opacity: 1; white-space: pre;\">17</text></g><g class=\"textpoint\" transform=\"translate(0,3)\"><text x=\"89.36\" y=\"235.65\" text-anchor=\"middle\" style=\"font-family: 'Open Sans', verdana, arial, sans-serif; font-size: 12px; fill: rgb(68, 68, 68); fill-opacity: 1; white-space: pre;\">17</text></g></g></g><g class=\"trace scatter traceab0499\" style=\"stroke-miterlimit: 2; opacity: 1;\"><g class=\"fills\"/><g class=\"errorbars\"/><g class=\"lines\"><path class=\"js-line\" d=\"M382.87,121.71L161.91,115.54L188.3,133.34\" style=\"vector-effect: non-scaling-stroke; fill: none; stroke: rgb(35, 177, 171); stroke-opacity: 1; stroke-width: 2px; opacity: 1;\"/><path class=\"js-line\" d=\"M359.79,128.69L36.6,92.27\" style=\"vector-effect: non-scaling-stroke; fill: none; stroke: rgb(35, 177, 171); stroke-opacity: 1; stroke-width: 2px; opacity: 1;\"/></g><g class=\"points\"><path class=\"point\" transform=\"translate(349.89,57.71)\" d=\"M3,0A3,3 0 1,1 0,-3A3,3 0 0,1 3,0Z\" style=\"opacity: 1; stroke-width: 0px; fill: rgb(35, 177, 171); fill-opacity: 1;\"/><path class=\"point\" transform=\"translate(382.87,121.71)\" d=\"M3,0A3,3 0 1,1 0,-3A3,3 0 0,1 3,0Z\" style=\"opacity: 1; stroke-width: 0px; fill: rgb(35, 177, 171); fill-opacity: 1;\"/><path class=\"point\" transform=\"translate(161.91,115.54)\" d=\"M3,0A3,3 0 1,1 0,-3A3,3 0 0,1 3,0Z\" style=\"opacity: 1; stroke-width: 0px; fill: rgb(35, 177, 171); fill-opacity: 1;\"/><path class=\"point\" transform=\"translate(188.3,133.34)\" d=\"M3,0A3,3 0 1,1 0,-3A3,3 0 0,1 3,0Z\" style=\"opacity: 1; stroke-width: 0px; fill: rgb(35, 177, 171); fill-opacity: 1;\"/><path class=\"point\" transform=\"translate(359.79,128.69)\" d=\"M3,0A3,3 0 1,1 0,-3A3,3 0 0,1 3,0Z\" style=\"opacity: 1; stroke-width: 0px; fill: rgb(35, 177, 171); fill-opacity: 1;\"/><path class=\"point\" transform=\"translate(36.6,92.27)\" d=\"M3,0A3,3 0 1,1 0,-3A3,3 0 0,1 3,0Z\" style=\"opacity: 1; stroke-width: 0px; fill: rgb(35, 177, 171); fill-opacity: 1;\"/></g><g class=\"text\"><g class=\"textpoint\" transform=\"translate(0,3)\"><text x=\"349.89\" y=\"57.71\" text-anchor=\"middle\" style=\"font-family: 'Open Sans', verdana, arial, sans-serif; font-size: 12px; fill: rgb(68, 68, 68); fill-opacity: 1; white-space: pre;\">2</text></g><g class=\"textpoint\" transform=\"translate(0,3)\"><text x=\"382.87\" y=\"121.71\" text-anchor=\"middle\" style=\"font-family: 'Open Sans', verdana, arial, sans-serif; font-size: 12px; fill: rgb(68, 68, 68); fill-opacity: 1; white-space: pre;\">2</text></g><g class=\"textpoint\" transform=\"translate(0,3)\"><text x=\"161.91\" y=\"115.54\" text-anchor=\"middle\" style=\"font-family: 'Open Sans', verdana, arial, sans-serif; font-size: 12px; fill: rgb(68, 68, 68); fill-opacity: 1; white-space: pre;\">2</text></g><g class=\"textpoint\" transform=\"translate(0,3)\"><text x=\"188.3\" y=\"133.34\" text-anchor=\"middle\" style=\"font-family: 'Open Sans', verdana, arial, sans-serif; font-size: 12px; fill: rgb(68, 68, 68); fill-opacity: 1; white-space: pre;\">2</text></g><g class=\"textpoint\" transform=\"translate(0,3)\"><text x=\"359.79\" y=\"128.69\" text-anchor=\"middle\" style=\"font-family: 'Open Sans', verdana, arial, sans-serif; font-size: 12px; fill: rgb(68, 68, 68); fill-opacity: 1; white-space: pre;\">2</text></g><g class=\"textpoint\" transform=\"translate(0,3)\"><text x=\"36.6\" y=\"92.27\" text-anchor=\"middle\" style=\"font-family: 'Open Sans', verdana, arial, sans-serif; font-size: 12px; fill: rgb(68, 68, 68); fill-opacity: 1; white-space: pre;\">2</text></g></g></g><g class=\"trace scatter tracea92adc\" style=\"stroke-miterlimit: 2; opacity: 1;\"><g class=\"fills\"/><g class=\"errorbars\"/><g class=\"lines\"><path class=\"js-line\" d=\"M247.66,297.78L333.4,295.43L112.45,300.25L495,295.27\" style=\"vector-effect: non-scaling-stroke; fill: none; stroke: rgb(14, 52, 73); stroke-opacity: 1; stroke-width: 2px; opacity: 1;\"/><path class=\"js-line\" d=\"M69.57,296.91L283.94,299.55L161.91,296.56\" style=\"vector-effect: non-scaling-stroke; fill: none; stroke: rgb(14, 52, 73); stroke-opacity: 1; stroke-width: 2px; opacity: 1;\"/></g><g class=\"points\"><path class=\"point\" transform=\"translate(247.66,297.78)\" d=\"M3,0A3,3 0 1,1 0,-3A3,3 0 0,1 3,0Z\" style=\"opacity: 1; stroke-width: 0px; fill: rgb(14, 52, 73); fill-opacity: 1;\"/><path class=\"point\" transform=\"translate(333.4,295.43)\" d=\"M3,0A3,3 0 1,1 0,-3A3,3 0 0,1 3,0Z\" style=\"opacity: 1; stroke-width: 0px; fill: rgb(14, 52, 73); fill-opacity: 1;\"/><path class=\"point\" transform=\"translate(112.45,300.25)\" d=\"M3,0A3,3 0 1,1 0,-3A3,3 0 0,1 3,0Z\" style=\"opacity: 1; stroke-width: 0px; fill: rgb(14, 52, 73); fill-opacity: 1;\"/><path class=\"point\" transform=\"translate(495,295.27)\" d=\"M3,0A3,3 0 1,1 0,-3A3,3 0 0,1 3,0Z\" style=\"opacity: 1; stroke-width: 0px; fill: rgb(14, 52, 73); fill-opacity: 1;\"/><path class=\"point\" transform=\"translate(69.57,296.91)\" d=\"M3,0A3,3 0 1,1 0,-3A3,3 0 0,1 3,0Z\" style=\"opacity: 1; stroke-width: 0px; fill: rgb(14, 52, 73); fill-opacity: 1;\"/><path class=\"point\" transform=\"translate(283.94,299.55)\" d=\"M3,0A3,3 0 1,1 0,-3A3,3 0 0,1 3,0Z\" style=\"opacity: 1; stroke-width: 0px; fill: rgb(14, 52, 73); fill-opacity: 1;\"/><path class=\"point\" transform=\"translate(161.91,296.56)\" d=\"M3,0A3,3 0 1,1 0,-3A3,3 0 0,1 3,0Z\" style=\"opacity: 1; stroke-width: 0px; fill: rgb(14, 52, 73); fill-opacity: 1;\"/></g><g class=\"text\"><g class=\"textpoint\" transform=\"translate(0,3)\"><text x=\"247.66\" y=\"297.78\" text-anchor=\"middle\" style=\"font-family: 'Open Sans', verdana, arial, sans-serif; font-size: 12px; fill: rgb(68, 68, 68); fill-opacity: 1; white-space: pre;\">5</text></g><g class=\"textpoint\" transform=\"translate(0,3)\"><text x=\"333.4\" y=\"295.43\" text-anchor=\"middle\" style=\"font-family: 'Open Sans', verdana, arial, sans-serif; font-size: 12px; fill: rgb(68, 68, 68); fill-opacity: 1; white-space: pre;\">5</text></g><g class=\"textpoint\" transform=\"translate(0,3)\"><text x=\"112.45\" y=\"300.25\" text-anchor=\"middle\" style=\"font-family: 'Open Sans', verdana, arial, sans-serif; font-size: 12px; fill: rgb(68, 68, 68); fill-opacity: 1; white-space: pre;\">5</text></g><g class=\"textpoint\" transform=\"translate(0,3)\"><text x=\"495\" y=\"295.27\" text-anchor=\"middle\" style=\"font-family: 'Open Sans', verdana, arial, sans-serif; font-size: 12px; fill: rgb(68, 68, 68); fill-opacity: 1; white-space: pre;\">5</text></g><g class=\"textpoint\" transform=\"translate(0,3)\"><text x=\"69.57\" y=\"296.91\" text-anchor=\"middle\" style=\"font-family: 'Open Sans', verdana, arial, sans-serif; font-size: 12px; fill: rgb(68, 68, 68); fill-opacity: 1; white-space: pre;\">5</text></g><g class=\"textpoint\" transform=\"translate(0,3)\"><text x=\"283.94\" y=\"299.55\" text-anchor=\"middle\" style=\"font-family: 'Open Sans', verdana, arial, sans-serif; font-size: 12px; fill: rgb(68, 68, 68); fill-opacity: 1; white-space: pre;\">5</text></g><g class=\"textpoint\" transform=\"translate(0,3)\"><text x=\"161.91\" y=\"296.56\" text-anchor=\"middle\" style=\"font-family: 'Open Sans', verdana, arial, sans-serif; font-size: 12px; fill: rgb(68, 68, 68); fill-opacity: 1; white-space: pre;\">5</text></g></g></g><g class=\"trace scatter trace7f97c2\" style=\"stroke-miterlimit: 2; opacity: 1;\"><g class=\"fills\"/><g class=\"errorbars\"/><g class=\"lines\"><path class=\"js-line\" d=\"M53.09,170.44L415.85,172.91L224.57,188.43L99.26,156.77L112.45,177.24L438.94,165.81L260.85,165.91L409.26,189.71\" style=\"vector-effect: non-scaling-stroke; fill: none; stroke: rgb(1, 89, 85); stroke-opacity: 1; stroke-width: 2px; opacity: 1;\"/></g><g class=\"points\"><path class=\"point\" transform=\"translate(53.09,170.44)\" d=\"M3,0A3,3 0 1,1 0,-3A3,3 0 0,1 3,0Z\" style=\"opacity: 1; stroke-width: 0px; fill: rgb(1, 89, 85); fill-opacity: 1;\"/><path class=\"point\" transform=\"translate(415.85,172.91)\" d=\"M3,0A3,3 0 1,1 0,-3A3,3 0 0,1 3,0Z\" style=\"opacity: 1; stroke-width: 0px; fill: rgb(1, 89, 85); fill-opacity: 1;\"/><path class=\"point\" transform=\"translate(224.57,188.43)\" d=\"M3,0A3,3 0 1,1 0,-3A3,3 0 0,1 3,0Z\" style=\"opacity: 1; stroke-width: 0px; fill: rgb(1, 89, 85); fill-opacity: 1;\"/><path class=\"point\" transform=\"translate(99.26,156.77)\" d=\"M3,0A3,3 0 1,1 0,-3A3,3 0 0,1 3,0Z\" style=\"opacity: 1; stroke-width: 0px; fill: rgb(1, 89, 85); fill-opacity: 1;\"/><path class=\"point\" transform=\"translate(112.45,177.24)\" d=\"M3,0A3,3 0 1,1 0,-3A3,3 0 0,1 3,0Z\" style=\"opacity: 1; stroke-width: 0px; fill: rgb(1, 89, 85); fill-opacity: 1;\"/><path class=\"point\" transform=\"translate(438.94,165.81)\" d=\"M3,0A3,3 0 1,1 0,-3A3,3 0 0,1 3,0Z\" style=\"opacity: 1; stroke-width: 0px; fill: rgb(1, 89, 85); fill-opacity: 1;\"/><path class=\"point\" transform=\"translate(260.85,165.91)\" d=\"M3,0A3,3 0 1,1 0,-3A3,3 0 0,1 3,0Z\" style=\"opacity: 1; stroke-width: 0px; fill: rgb(1, 89, 85); fill-opacity: 1;\"/><path class=\"point\" transform=\"translate(409.26,189.71)\" d=\"M3,0A3,3 0 1,1 0,-3A3,3 0 0,1 3,0Z\" style=\"opacity: 1; stroke-width: 0px; fill: rgb(1, 89, 85); fill-opacity: 1;\"/></g><g class=\"text\"><g class=\"textpoint\" transform=\"translate(0,3)\"><text x=\"53.09\" y=\"170.44\" text-anchor=\"middle\" style=\"font-family: 'Open Sans', verdana, arial, sans-serif; font-size: 12px; fill: rgb(68, 68, 68); fill-opacity: 1; white-space: pre;\">19</text></g><g class=\"textpoint\" transform=\"translate(0,3)\"><text x=\"415.85\" y=\"172.91\" text-anchor=\"middle\" style=\"font-family: 'Open Sans', verdana, arial, sans-serif; font-size: 12px; fill: rgb(68, 68, 68); fill-opacity: 1; white-space: pre;\">19</text></g><g class=\"textpoint\" transform=\"translate(0,3)\"><text x=\"224.57\" y=\"188.43\" text-anchor=\"middle\" style=\"font-family: 'Open Sans', verdana, arial, sans-serif; font-size: 12px; fill: rgb(68, 68, 68); fill-opacity: 1; white-space: pre;\">19</text></g><g class=\"textpoint\" transform=\"translate(0,3)\"><text x=\"99.26\" y=\"156.77\" text-anchor=\"middle\" style=\"font-family: 'Open Sans', verdana, arial, sans-serif; font-size: 12px; fill: rgb(68, 68, 68); fill-opacity: 1; white-space: pre;\">19</text></g><g class=\"textpoint\" transform=\"translate(0,3)\"><text x=\"112.45\" y=\"177.24\" text-anchor=\"middle\" style=\"font-family: 'Open Sans', verdana, arial, sans-serif; font-size: 12px; fill: rgb(68, 68, 68); fill-opacity: 1; white-space: pre;\">19</text></g><g class=\"textpoint\" transform=\"translate(0,3)\"><text x=\"438.94\" y=\"165.81\" text-anchor=\"middle\" style=\"font-family: 'Open Sans', verdana, arial, sans-serif; font-size: 12px; fill: rgb(68, 68, 68); fill-opacity: 1; white-space: pre;\">19</text></g><g class=\"textpoint\" transform=\"translate(0,3)\"><text x=\"260.85\" y=\"165.91\" text-anchor=\"middle\" style=\"font-family: 'Open Sans', verdana, arial, sans-serif; font-size: 12px; fill: rgb(68, 68, 68); fill-opacity: 1; white-space: pre;\">19</text></g><g class=\"textpoint\" transform=\"translate(0,3)\"><text x=\"409.26\" y=\"189.71\" text-anchor=\"middle\" style=\"font-family: 'Open Sans', verdana, arial, sans-serif; font-size: 12px; fill: rgb(68, 68, 68); fill-opacity: 1; white-space: pre;\">19</text></g></g></g><g class=\"trace scatter tracecd2354\" style=\"stroke-miterlimit: 2; opacity: 1;\"><g class=\"fills\"/><g class=\"errorbars\"/><g class=\"lines\"><path class=\"js-line\" d=\"M250.96,281.59L478.51,271.38L399.36,276.02L102.55,261.54\" style=\"vector-effect: non-scaling-stroke; fill: none; stroke: rgb(75, 154, 199); stroke-opacity: 1; stroke-width: 2px; opacity: 1;\"/></g><g class=\"points\"><path class=\"point\" transform=\"translate(250.96,281.59)\" d=\"M3,0A3,3 0 1,1 0,-3A3,3 0 0,1 3,0Z\" style=\"opacity: 1; stroke-width: 0px; fill: rgb(75, 154, 199); fill-opacity: 1;\"/><path class=\"point\" transform=\"translate(478.51,271.38)\" d=\"M3,0A3,3 0 1,1 0,-3A3,3 0 0,1 3,0Z\" style=\"opacity: 1; stroke-width: 0px; fill: rgb(75, 154, 199); fill-opacity: 1;\"/><path class=\"point\" transform=\"translate(399.36,276.02)\" d=\"M3,0A3,3 0 1,1 0,-3A3,3 0 0,1 3,0Z\" style=\"opacity: 1; stroke-width: 0px; fill: rgb(75, 154, 199); fill-opacity: 1;\"/><path class=\"point\" transform=\"translate(102.55,261.54)\" d=\"M3,0A3,3 0 1,1 0,-3A3,3 0 0,1 3,0Z\" style=\"opacity: 1; stroke-width: 0px; fill: rgb(75, 154, 199); fill-opacity: 1;\"/></g><g class=\"text\"><g class=\"textpoint\" transform=\"translate(0,3)\"><text x=\"250.96\" y=\"281.59\" text-anchor=\"middle\" style=\"font-family: 'Open Sans', verdana, arial, sans-serif; font-size: 12px; fill: rgb(68, 68, 68); fill-opacity: 1; white-space: pre;\">16</text></g><g class=\"textpoint\" transform=\"translate(0,3)\"><text x=\"478.51\" y=\"271.38\" text-anchor=\"middle\" style=\"font-family: 'Open Sans', verdana, arial, sans-serif; font-size: 12px; fill: rgb(68, 68, 68); fill-opacity: 1; white-space: pre;\">16</text></g><g class=\"textpoint\" transform=\"translate(0,3)\"><text x=\"399.36\" y=\"276.02\" text-anchor=\"middle\" style=\"font-family: 'Open Sans', verdana, arial, sans-serif; font-size: 12px; fill: rgb(68, 68, 68); fill-opacity: 1; white-space: pre;\">16</text></g><g class=\"textpoint\" transform=\"translate(0,3)\"><text x=\"102.55\" y=\"261.54\" text-anchor=\"middle\" style=\"font-family: 'Open Sans', verdana, arial, sans-serif; font-size: 12px; fill: rgb(68, 68, 68); fill-opacity: 1; white-space: pre;\">16</text></g></g></g><g class=\"trace scatter trace85a7b9\" style=\"stroke-miterlimit: 2; opacity: 1;\"><g class=\"fills\"/><g class=\"errorbars\"/><g class=\"lines\"><path class=\"js-line\" d=\"M244.36,215.93L178.4,185.17L290.53,223.25L254.26,222.3L132.23,229.16\" style=\"vector-effect: non-scaling-stroke; fill: none; stroke: rgb(75, 232, 224); stroke-opacity: 1; stroke-width: 2px; opacity: 1;\"/></g><g class=\"points\"><path class=\"point\" transform=\"translate(244.36,215.93)\" d=\"M3,0A3,3 0 1,1 0,-3A3,3 0 0,1 3,0Z\" style=\"opacity: 1; stroke-width: 0px; fill: rgb(75, 232, 224); fill-opacity: 1;\"/><path class=\"point\" transform=\"translate(178.4,185.17)\" d=\"M3,0A3,3 0 1,1 0,-3A3,3 0 0,1 3,0Z\" style=\"opacity: 1; stroke-width: 0px; fill: rgb(75, 232, 224); fill-opacity: 1;\"/><path class=\"point\" transform=\"translate(290.53,223.25)\" d=\"M3,0A3,3 0 1,1 0,-3A3,3 0 0,1 3,0Z\" style=\"opacity: 1; stroke-width: 0px; fill: rgb(75, 232, 224); fill-opacity: 1;\"/><path class=\"point\" transform=\"translate(254.26,222.3)\" d=\"M3,0A3,3 0 1,1 0,-3A3,3 0 0,1 3,0Z\" style=\"opacity: 1; stroke-width: 0px; fill: rgb(75, 232, 224); fill-opacity: 1;\"/><path class=\"point\" transform=\"translate(132.23,229.16)\" d=\"M3,0A3,3 0 1,1 0,-3A3,3 0 0,1 3,0Z\" style=\"opacity: 1; stroke-width: 0px; fill: rgb(75, 232, 224); fill-opacity: 1;\"/></g><g class=\"text\"><g class=\"textpoint\" transform=\"translate(0,3)\"><text x=\"244.36\" y=\"215.93\" text-anchor=\"middle\" style=\"font-family: 'Open Sans', verdana, arial, sans-serif; font-size: 12px; fill: rgb(68, 68, 68); fill-opacity: 1; white-space: pre;\">12</text></g><g class=\"textpoint\" transform=\"translate(0,3)\"><text x=\"178.4\" y=\"185.17\" text-anchor=\"middle\" style=\"font-family: 'Open Sans', verdana, arial, sans-serif; font-size: 12px; fill: rgb(68, 68, 68); fill-opacity: 1; white-space: pre;\">12</text></g><g class=\"textpoint\" transform=\"translate(0,3)\"><text x=\"290.53\" y=\"223.25\" text-anchor=\"middle\" style=\"font-family: 'Open Sans', verdana, arial, sans-serif; font-size: 12px; fill: rgb(68, 68, 68); fill-opacity: 1; white-space: pre;\">12</text></g><g class=\"textpoint\" transform=\"translate(0,3)\"><text x=\"254.26\" y=\"222.3\" text-anchor=\"middle\" style=\"font-family: 'Open Sans', verdana, arial, sans-serif; font-size: 12px; fill: rgb(68, 68, 68); fill-opacity: 1; white-space: pre;\">12</text></g><g class=\"textpoint\" transform=\"translate(0,3)\"><text x=\"132.23\" y=\"229.16\" text-anchor=\"middle\" style=\"font-family: 'Open Sans', verdana, arial, sans-serif; font-size: 12px; fill: rgb(68, 68, 68); fill-opacity: 1; white-space: pre;\">12</text></g></g></g><g class=\"trace scatter tracecf824f\" style=\"stroke-miterlimit: 2; opacity: 1;\"><g class=\"fills\"/><g class=\"errorbars\"/><g class=\"lines\"><path class=\"js-line\" d=\"M95.96,273.31L165.21,272.13L102.55,275.99L92.66,272.88\" style=\"vector-effect: non-scaling-stroke; fill: none; stroke: rgb(157, 212, 243); stroke-opacity: 1; stroke-width: 2px; opacity: 1;\"/></g><g class=\"points\"><path class=\"point\" transform=\"translate(95.96,273.31)\" d=\"M3,0A3,3 0 1,1 0,-3A3,3 0 0,1 3,0Z\" style=\"opacity: 1; stroke-width: 0px; fill: rgb(157, 212, 243); fill-opacity: 1;\"/><path class=\"point\" transform=\"translate(165.21,272.13)\" d=\"M3,0A3,3 0 1,1 0,-3A3,3 0 0,1 3,0Z\" style=\"opacity: 1; stroke-width: 0px; fill: rgb(157, 212, 243); fill-opacity: 1;\"/><path class=\"point\" transform=\"translate(102.55,275.99)\" d=\"M3,0A3,3 0 1,1 0,-3A3,3 0 0,1 3,0Z\" style=\"opacity: 1; stroke-width: 0px; fill: rgb(157, 212, 243); fill-opacity: 1;\"/><path class=\"point\" transform=\"translate(92.66,272.88)\" d=\"M3,0A3,3 0 1,1 0,-3A3,3 0 0,1 3,0Z\" style=\"opacity: 1; stroke-width: 0px; fill: rgb(157, 212, 243); fill-opacity: 1;\"/></g><g class=\"text\"><g class=\"textpoint\" transform=\"translate(0,3)\"><text x=\"95.96\" y=\"273.31\" text-anchor=\"middle\" style=\"font-family: 'Open Sans', verdana, arial, sans-serif; font-size: 12px; fill: rgb(68, 68, 68); fill-opacity: 1; white-space: pre;\">9</text></g><g class=\"textpoint\" transform=\"translate(0,3)\"><text x=\"165.21\" y=\"272.13\" text-anchor=\"middle\" style=\"font-family: 'Open Sans', verdana, arial, sans-serif; font-size: 12px; fill: rgb(68, 68, 68); fill-opacity: 1; white-space: pre;\">9</text></g><g class=\"textpoint\" transform=\"translate(0,3)\"><text x=\"102.55\" y=\"275.99\" text-anchor=\"middle\" style=\"font-family: 'Open Sans', verdana, arial, sans-serif; font-size: 12px; fill: rgb(68, 68, 68); fill-opacity: 1; white-space: pre;\">9</text></g><g class=\"textpoint\" transform=\"translate(0,3)\"><text x=\"92.66\" y=\"272.88\" text-anchor=\"middle\" style=\"font-family: 'Open Sans', verdana, arial, sans-serif; font-size: 12px; fill: rgb(68, 68, 68); fill-opacity: 1; white-space: pre;\">9</text></g></g></g><g class=\"trace scatter tracedfdb3e\" style=\"stroke-miterlimit: 2; opacity: 1;\"><g class=\"fills\"/><g class=\"errorbars\"/><g class=\"lines\"><path class=\"js-line\" d=\"M445.53,127.96L386.17,107.29\" style=\"vector-effect: non-scaling-stroke; fill: none; stroke: rgb(151, 251, 246); stroke-opacity: 1; stroke-width: 2px; opacity: 1;\"/></g><g class=\"points\"><path class=\"point\" transform=\"translate(445.53,127.96)\" d=\"M3,0A3,3 0 1,1 0,-3A3,3 0 0,1 3,0Z\" style=\"opacity: 1; stroke-width: 0px; fill: rgb(151, 251, 246); fill-opacity: 1;\"/><path class=\"point\" transform=\"translate(386.17,107.29)\" d=\"M3,0A3,3 0 1,1 0,-3A3,3 0 0,1 3,0Z\" style=\"opacity: 1; stroke-width: 0px; fill: rgb(151, 251, 246); fill-opacity: 1;\"/><path class=\"point\" transform=\"translate(95.96,132.2)\" d=\"M3,0A3,3 0 1,1 0,-3A3,3 0 0,1 3,0Z\" style=\"opacity: 1; stroke-width: 0px; fill: rgb(151, 251, 246); fill-opacity: 1;\"/></g><g class=\"text\"><g class=\"textpoint\" transform=\"translate(0,3)\"><text x=\"445.53\" y=\"127.96\" text-anchor=\"middle\" style=\"font-family: 'Open Sans', verdana, arial, sans-serif; font-size: 12px; fill: rgb(68, 68, 68); fill-opacity: 1; white-space: pre;\">10</text></g><g class=\"textpoint\" transform=\"translate(0,3)\"><text x=\"386.17\" y=\"107.29\" text-anchor=\"middle\" style=\"font-family: 'Open Sans', verdana, arial, sans-serif; font-size: 12px; fill: rgb(68, 68, 68); fill-opacity: 1; white-space: pre;\">10</text></g><g class=\"textpoint\" transform=\"translate(0,3)\"><text x=\"95.96\" y=\"132.2\" text-anchor=\"middle\" style=\"font-family: 'Open Sans', verdana, arial, sans-serif; font-size: 12px; fill: rgb(68, 68, 68); fill-opacity: 1; white-space: pre;\">10</text></g></g></g></g></g><g class=\"overplot\"/><path class=\"xlines-above crisp\" d=\"M0,0\" style=\"fill: none;\"/><path class=\"ylines-above crisp\" d=\"M0,0\" style=\"fill: none;\"/><g class=\"overlines-above\"/><g class=\"xaxislayer-above\"><g class=\"xtick\"><text text-anchor=\"middle\" x=\"0\" y=\"433\" transform=\"translate(93.51,0)\" style=\"font-family: 'Open Sans', verdana, arial, sans-serif; font-size: 12px; fill: rgb(68, 68, 68); fill-opacity: 1; white-space: pre; opacity: 1;\">Jan 2010</text></g><g class=\"xtick\"><text text-anchor=\"middle\" x=\"0\" y=\"433\" style=\"font-family: 'Open Sans', verdana, arial, sans-serif; font-size: 12px; fill: rgb(68, 68, 68); fill-opacity: 1; white-space: pre; opacity: 1;\" transform=\"translate(178.78,0)\">Jul 2010</text></g><g class=\"xtick\"><text text-anchor=\"middle\" x=\"0\" y=\"433\" style=\"font-family: 'Open Sans', verdana, arial, sans-serif; font-size: 12px; fill: rgb(68, 68, 68); fill-opacity: 1; white-space: pre; opacity: 1;\" transform=\"translate(265.47,0)\">Jan 2011</text></g><g class=\"xtick\"><text text-anchor=\"middle\" x=\"0\" y=\"433\" style=\"font-family: 'Open Sans', verdana, arial, sans-serif; font-size: 12px; fill: rgb(68, 68, 68); fill-opacity: 1; white-space: pre; opacity: 1;\" transform=\"translate(350.74,0)\">Jul 2011</text></g><g class=\"xtick\"><text text-anchor=\"middle\" x=\"0\" y=\"433\" style=\"font-family: 'Open Sans', verdana, arial, sans-serif; font-size: 12px; fill: rgb(68, 68, 68); fill-opacity: 1; white-space: pre; opacity: 1;\" transform=\"translate(437.43,0)\">Jan 2012</text></g><g class=\"xtick\"><text text-anchor=\"middle\" x=\"0\" y=\"433\" style=\"font-family: 'Open Sans', verdana, arial, sans-serif; font-size: 12px; fill: rgb(68, 68, 68); fill-opacity: 1; white-space: pre; opacity: 1;\" transform=\"translate(523.1800000000001,0)\">Jul 2012</text></g></g><g class=\"yaxislayer-above\"><g class=\"ytick\"><text text-anchor=\"end\" x=\"79\" y=\"4.199999999999999\" transform=\"translate(0,374.35)\" style=\"font-family: 'Open Sans', verdana, arial, sans-serif; font-size: 12px; fill: rgb(68, 68, 68); fill-opacity: 1; white-space: pre; opacity: 1;\">0.5M</text></g><g class=\"ytick\"><text text-anchor=\"end\" x=\"79\" y=\"4.199999999999999\" style=\"font-family: 'Open Sans', verdana, arial, sans-serif; font-size: 12px; fill: rgb(68, 68, 68); fill-opacity: 1; white-space: pre; opacity: 1;\" transform=\"translate(0,318.3)\">1M</text></g><g class=\"ytick\"><text text-anchor=\"end\" x=\"79\" y=\"4.199999999999999\" style=\"font-family: 'Open Sans', verdana, arial, sans-serif; font-size: 12px; fill: rgb(68, 68, 68); fill-opacity: 1; white-space: pre; opacity: 1;\" transform=\"translate(0,262.26)\">1.5M</text></g><g class=\"ytick\"><text text-anchor=\"end\" x=\"79\" y=\"4.199999999999999\" style=\"font-family: 'Open Sans', verdana, arial, sans-serif; font-size: 12px; fill: rgb(68, 68, 68); fill-opacity: 1; white-space: pre; opacity: 1;\" transform=\"translate(0,206.22)\">2M</text></g><g class=\"ytick\"><text text-anchor=\"end\" x=\"79\" y=\"4.199999999999999\" style=\"font-family: 'Open Sans', verdana, arial, sans-serif; font-size: 12px; fill: rgb(68, 68, 68); fill-opacity: 1; white-space: pre; opacity: 1;\" transform=\"translate(0,150.17000000000002)\">2.5M</text></g></g><g class=\"overaxes-above\"/></g></g><g class=\"polarlayer\"/><g class=\"smithlayer\"/><g class=\"ternarylayer\"/><g class=\"geolayer\"/><g class=\"funnelarealayer\"/><g class=\"pielayer\"/><g class=\"iciclelayer\"/><g class=\"treemaplayer\"/><g class=\"sunburstlayer\"/><g class=\"glimages\"/><defs id=\"topdefs-2dc1ab\"><g class=\"clips\"/><clipPath id=\"legend2dc1ab\"><rect width=\"73\" height=\"320\" x=\"0\" y=\"0\"/></clipPath></defs><g class=\"layer-above\"><g class=\"imagelayer\"/><g class=\"shapelayer\"/></g><g class=\"infolayer\"><g class=\"legend\" pointer-events=\"all\" transform=\"translate(615.5,100)\"><rect class=\"bg\" shape-rendering=\"crispEdges\" style=\"stroke: rgb(68, 68, 68); stroke-opacity: 1; fill: rgb(255, 255, 255); fill-opacity: 1; stroke-width: 0px;\" width=\"73\" height=\"320\" x=\"0\" y=\"0\"/><g class=\"scrollbox\" transform=\"\" clip-path=\"url(#legend2dc1ab)\"><text class=\"legendtitletext\" text-anchor=\"start\" x=\"2\" y=\"18.2\" style=\"font-family: 'Open Sans', verdana, arial, sans-serif; font-size: 14px; fill: rgb(68, 68, 68); fill-opacity: 1; white-space: pre;\">Store</text><g class=\"groups\" transform=\"\"><g class=\"traces\" transform=\"translate(0,32.7)\" style=\"opacity: 1;\"><text class=\"legendtext\" text-anchor=\"start\" x=\"40\" y=\"4.680000000000001\" style=\"font-family: 'Open Sans', verdana, arial, sans-serif; font-size: 12px; fill: rgb(68, 68, 68); fill-opacity: 1; white-space: pre;\">6.0</text><g class=\"layers\" style=\"opacity: 1;\"><g class=\"legendfill\"/><g class=\"legendlines\"><path class=\"js-line\" d=\"M5,0h30\" style=\"fill: none; stroke: rgb(75, 154, 199); stroke-opacity: 1; stroke-width: 2px;\"/></g><g class=\"legendsymbols\"><g class=\"legendpoints\"><path class=\"scatterpts\" transform=\"translate(20,0)\" d=\"M3,0A3,3 0 1,1 0,-3A3,3 0 0,1 3,0Z\" style=\"opacity: 1; stroke-width: 0px; fill: rgb(75, 154, 199); fill-opacity: 1;\"/></g></g></g><rect class=\"legendtoggle\" x=\"0\" y=\"-9.5\" width=\"67.265625\" height=\"19\" style=\"fill: rgb(0, 0, 0); fill-opacity: 0;\"/></g></g><g class=\"groups\" transform=\"\"><g class=\"traces\" transform=\"translate(0,51.7)\" style=\"opacity: 1;\"><text class=\"legendtext\" text-anchor=\"start\" x=\"40\" y=\"4.680000000000001\" style=\"font-family: 'Open Sans', verdana, arial, sans-serif; font-size: 12px; fill: rgb(68, 68, 68); fill-opacity: 1; white-space: pre;\">13.0</text><g class=\"layers\" style=\"opacity: 1;\"><g class=\"legendfill\"/><g class=\"legendlines\"><path class=\"js-line\" d=\"M5,0h30\" style=\"fill: none; stroke: rgb(75, 232, 224); stroke-opacity: 1; stroke-width: 2px;\"/></g><g class=\"legendsymbols\"><g class=\"legendpoints\"><path class=\"scatterpts\" transform=\"translate(20,0)\" d=\"M3,0A3,3 0 1,1 0,-3A3,3 0 0,1 3,0Z\" style=\"opacity: 1; stroke-width: 0px; fill: rgb(75, 232, 224); fill-opacity: 1;\"/></g></g></g><rect class=\"legendtoggle\" x=\"0\" y=\"-9.5\" width=\"67.265625\" height=\"19\" style=\"fill: rgb(0, 0, 0); fill-opacity: 0;\"/></g></g><g class=\"groups\" transform=\"\"><g class=\"traces\" transform=\"translate(0,70.7)\" style=\"opacity: 1;\"><text class=\"legendtext\" text-anchor=\"start\" x=\"40\" y=\"4.680000000000001\" style=\"font-family: 'Open Sans', verdana, arial, sans-serif; font-size: 12px; fill: rgb(68, 68, 68); fill-opacity: 1; white-space: pre;\">11.0</text><g class=\"layers\" style=\"opacity: 1;\"><g class=\"legendfill\"/><g class=\"legendlines\"><path class=\"js-line\" d=\"M5,0h30\" style=\"fill: none; stroke: rgb(157, 212, 243); stroke-opacity: 1; stroke-width: 2px;\"/></g><g class=\"legendsymbols\"><g class=\"legendpoints\"><path class=\"scatterpts\" transform=\"translate(20,0)\" d=\"M3,0A3,3 0 1,1 0,-3A3,3 0 0,1 3,0Z\" style=\"opacity: 1; stroke-width: 0px; fill: rgb(157, 212, 243); fill-opacity: 1;\"/></g></g></g><rect class=\"legendtoggle\" x=\"0\" y=\"-9.5\" width=\"67.265625\" height=\"19\" style=\"fill: rgb(0, 0, 0); fill-opacity: 0;\"/></g></g><g class=\"groups\" transform=\"\"><g class=\"traces\" transform=\"translate(0,89.7)\" style=\"opacity: 1;\"><text class=\"legendtext\" text-anchor=\"start\" x=\"40\" y=\"4.680000000000001\" style=\"font-family: 'Open Sans', verdana, arial, sans-serif; font-size: 12px; fill: rgb(68, 68, 68); fill-opacity: 1; white-space: pre;\">4.0</text><g class=\"layers\" style=\"opacity: 1;\"><g class=\"legendfill\"/><g class=\"legendlines\"><path class=\"js-line\" d=\"M5,0h30\" style=\"fill: none; stroke: rgb(151, 251, 246); stroke-opacity: 1; stroke-width: 2px;\"/></g><g class=\"legendsymbols\"><g class=\"legendpoints\"><path class=\"scatterpts\" transform=\"translate(20,0)\" d=\"M3,0A3,3 0 1,1 0,-3A3,3 0 0,1 3,0Z\" style=\"opacity: 1; stroke-width: 0px; fill: rgb(151, 251, 246); fill-opacity: 1;\"/></g></g></g><rect class=\"legendtoggle\" x=\"0\" y=\"-9.5\" width=\"67.265625\" height=\"19\" style=\"fill: rgb(0, 0, 0); fill-opacity: 0;\"/></g></g><g class=\"groups\" transform=\"\"><g class=\"traces\" transform=\"translate(0,108.7)\" style=\"opacity: 1;\"><text class=\"legendtext\" text-anchor=\"start\" x=\"40\" y=\"4.680000000000001\" style=\"font-family: 'Open Sans', verdana, arial, sans-serif; font-size: 12px; fill: rgb(68, 68, 68); fill-opacity: 1; white-space: pre;\">15.0</text><g class=\"layers\" style=\"opacity: 1;\"><g class=\"legendfill\"/><g class=\"legendlines\"><path class=\"js-line\" d=\"M5,0h30\" style=\"fill: none; stroke: rgb(42, 127, 175); stroke-opacity: 1; stroke-width: 2px;\"/></g><g class=\"legendsymbols\"><g class=\"legendpoints\"><path class=\"scatterpts\" transform=\"translate(20,0)\" d=\"M3,0A3,3 0 1,1 0,-3A3,3 0 0,1 3,0Z\" style=\"opacity: 1; stroke-width: 0px; fill: rgb(42, 127, 175); fill-opacity: 1;\"/></g></g></g><rect class=\"legendtoggle\" x=\"0\" y=\"-9.5\" width=\"67.265625\" height=\"19\" style=\"fill: rgb(0, 0, 0); fill-opacity: 0;\"/></g></g><g class=\"groups\" transform=\"\"><g class=\"traces\" transform=\"translate(0,127.7)\" style=\"opacity: 1;\"><text class=\"legendtext\" text-anchor=\"start\" x=\"40\" y=\"4.680000000000001\" style=\"font-family: 'Open Sans', verdana, arial, sans-serif; font-size: 12px; fill: rgb(68, 68, 68); fill-opacity: 1; white-space: pre;\">20.0</text><g class=\"layers\" style=\"opacity: 1;\"><g class=\"legendfill\"/><g class=\"legendlines\"><path class=\"js-line\" d=\"M5,0h30\" style=\"fill: none; stroke: rgb(35, 177, 171); stroke-opacity: 1; stroke-width: 2px;\"/></g><g class=\"legendsymbols\"><g class=\"legendpoints\"><path class=\"scatterpts\" transform=\"translate(20,0)\" d=\"M3,0A3,3 0 1,1 0,-3A3,3 0 0,1 3,0Z\" style=\"opacity: 1; stroke-width: 0px; fill: rgb(35, 177, 171); fill-opacity: 1;\"/></g></g></g><rect class=\"legendtoggle\" x=\"0\" y=\"-9.5\" width=\"67.265625\" height=\"19\" style=\"fill: rgb(0, 0, 0); fill-opacity: 0;\"/></g></g><g class=\"groups\" transform=\"\"><g class=\"traces\" transform=\"translate(0,146.7)\" style=\"opacity: 1;\"><text class=\"legendtext\" text-anchor=\"start\" x=\"40\" y=\"4.680000000000001\" style=\"font-family: 'Open Sans', verdana, arial, sans-serif; font-size: 12px; fill: rgb(68, 68, 68); fill-opacity: 1; white-space: pre;\">14.0</text><g class=\"layers\" style=\"opacity: 1;\"><g class=\"legendfill\"/><g class=\"legendlines\"><path class=\"js-line\" d=\"M5,0h30\" style=\"fill: none; stroke: rgb(14, 52, 73); stroke-opacity: 1; stroke-width: 2px;\"/></g><g class=\"legendsymbols\"><g class=\"legendpoints\"><path class=\"scatterpts\" transform=\"translate(20,0)\" d=\"M3,0A3,3 0 1,1 0,-3A3,3 0 0,1 3,0Z\" style=\"opacity: 1; stroke-width: 0px; fill: rgb(14, 52, 73); fill-opacity: 1;\"/></g></g></g><rect class=\"legendtoggle\" x=\"0\" y=\"-9.5\" width=\"67.265625\" height=\"19\" style=\"fill: rgb(0, 0, 0); fill-opacity: 0;\"/></g></g><g class=\"groups\" transform=\"\"><g class=\"traces\" transform=\"translate(0,165.7)\" style=\"opacity: 1;\"><text class=\"legendtext\" text-anchor=\"start\" x=\"40\" y=\"4.680000000000001\" style=\"font-family: 'Open Sans', verdana, arial, sans-serif; font-size: 12px; fill: rgb(68, 68, 68); fill-opacity: 1; white-space: pre;\">3.0</text><g class=\"layers\" style=\"opacity: 1;\"><g class=\"legendfill\"/><g class=\"legendlines\"><path class=\"js-line\" d=\"M5,0h30\" style=\"fill: none; stroke: rgb(1, 89, 85); stroke-opacity: 1; stroke-width: 2px;\"/></g><g class=\"legendsymbols\"><g class=\"legendpoints\"><path class=\"scatterpts\" transform=\"translate(20,0)\" d=\"M3,0A3,3 0 1,1 0,-3A3,3 0 0,1 3,0Z\" style=\"opacity: 1; stroke-width: 0px; fill: rgb(1, 89, 85); fill-opacity: 1;\"/></g></g></g><rect class=\"legendtoggle\" x=\"0\" y=\"-9.5\" width=\"67.265625\" height=\"19\" style=\"fill: rgb(0, 0, 0); fill-opacity: 0;\"/></g></g><g class=\"groups\" transform=\"\"><g class=\"traces\" transform=\"translate(0,184.7)\" style=\"opacity: 1;\"><text class=\"legendtext\" text-anchor=\"start\" x=\"40\" y=\"4.680000000000001\" style=\"font-family: 'Open Sans', verdana, arial, sans-serif; font-size: 12px; fill: rgb(68, 68, 68); fill-opacity: 1; white-space: pre;\">8.0</text><g class=\"layers\" style=\"opacity: 1;\"><g class=\"legendfill\"/><g class=\"legendlines\"><path class=\"js-line\" d=\"M5,0h30\" style=\"fill: none; stroke: rgb(75, 154, 199); stroke-opacity: 1; stroke-width: 2px;\"/></g><g class=\"legendsymbols\"><g class=\"legendpoints\"><path class=\"scatterpts\" transform=\"translate(20,0)\" d=\"M3,0A3,3 0 1,1 0,-3A3,3 0 0,1 3,0Z\" style=\"opacity: 1; stroke-width: 0px; fill: rgb(75, 154, 199); fill-opacity: 1;\"/></g></g></g><rect class=\"legendtoggle\" x=\"0\" y=\"-9.5\" width=\"67.265625\" height=\"19\" style=\"fill: rgb(0, 0, 0); fill-opacity: 0;\"/></g></g><g class=\"groups\" transform=\"\"><g class=\"traces\" transform=\"translate(0,203.7)\" style=\"opacity: 1;\"><text class=\"legendtext\" text-anchor=\"start\" x=\"40\" y=\"4.680000000000001\" style=\"font-family: 'Open Sans', verdana, arial, sans-serif; font-size: 12px; fill: rgb(68, 68, 68); fill-opacity: 1; white-space: pre;\">18.0</text><g class=\"layers\" style=\"opacity: 1;\"><g class=\"legendfill\"/><g class=\"legendlines\"><path class=\"js-line\" d=\"M5,0h30\" style=\"fill: none; stroke: rgb(75, 232, 224); stroke-opacity: 1; stroke-width: 2px;\"/></g><g class=\"legendsymbols\"><g class=\"legendpoints\"><path class=\"scatterpts\" transform=\"translate(20,0)\" d=\"M3,0A3,3 0 1,1 0,-3A3,3 0 0,1 3,0Z\" style=\"opacity: 1; stroke-width: 0px; fill: rgb(75, 232, 224); fill-opacity: 1;\"/></g></g></g><rect class=\"legendtoggle\" x=\"0\" y=\"-9.5\" width=\"67.265625\" height=\"19\" style=\"fill: rgb(0, 0, 0); fill-opacity: 0;\"/></g></g><g class=\"groups\" transform=\"\"><g class=\"traces\" transform=\"translate(0,222.7)\" style=\"opacity: 1;\"><text class=\"legendtext\" text-anchor=\"start\" x=\"40\" y=\"4.680000000000001\" style=\"font-family: 'Open Sans', verdana, arial, sans-serif; font-size: 12px; fill: rgb(68, 68, 68); fill-opacity: 1; white-space: pre;\">7.0</text><g class=\"layers\" style=\"opacity: 1;\"><g class=\"legendfill\"/><g class=\"legendlines\"><path class=\"js-line\" d=\"M5,0h30\" style=\"fill: none; stroke: rgb(157, 212, 243); stroke-opacity: 1; stroke-width: 2px;\"/></g><g class=\"legendsymbols\"><g class=\"legendpoints\"><path class=\"scatterpts\" transform=\"translate(20,0)\" d=\"M3,0A3,3 0 1,1 0,-3A3,3 0 0,1 3,0Z\" style=\"opacity: 1; stroke-width: 0px; fill: rgb(157, 212, 243); fill-opacity: 1;\"/></g></g></g><rect class=\"legendtoggle\" x=\"0\" y=\"-9.5\" width=\"67.265625\" height=\"19\" style=\"fill: rgb(0, 0, 0); fill-opacity: 0;\"/></g></g><g class=\"groups\" transform=\"\"><g class=\"traces\" transform=\"translate(0,241.7)\" style=\"opacity: 1;\"><text class=\"legendtext\" text-anchor=\"start\" x=\"40\" y=\"4.680000000000001\" style=\"font-family: 'Open Sans', verdana, arial, sans-serif; font-size: 12px; fill: rgb(68, 68, 68); fill-opacity: 1; white-space: pre;\">1.0</text><g class=\"layers\" style=\"opacity: 1;\"><g class=\"legendfill\"/><g class=\"legendlines\"><path class=\"js-line\" d=\"M5,0h30\" style=\"fill: none; stroke: rgb(151, 251, 246); stroke-opacity: 1; stroke-width: 2px;\"/></g><g class=\"legendsymbols\"><g class=\"legendpoints\"><path class=\"scatterpts\" transform=\"translate(20,0)\" d=\"M3,0A3,3 0 1,1 0,-3A3,3 0 0,1 3,0Z\" style=\"opacity: 1; stroke-width: 0px; fill: rgb(151, 251, 246); fill-opacity: 1;\"/></g></g></g><rect class=\"legendtoggle\" x=\"0\" y=\"-9.5\" width=\"67.265625\" height=\"19\" style=\"fill: rgb(0, 0, 0); fill-opacity: 0;\"/></g></g><g class=\"groups\" transform=\"\"><g class=\"traces\" transform=\"translate(0,260.7)\" style=\"opacity: 1;\"><text class=\"legendtext\" text-anchor=\"start\" x=\"40\" y=\"4.680000000000001\" style=\"font-family: 'Open Sans', verdana, arial, sans-serif; font-size: 12px; fill: rgb(68, 68, 68); fill-opacity: 1; white-space: pre;\">17.0</text><g class=\"layers\" style=\"opacity: 1;\"><g class=\"legendfill\"/><g class=\"legendlines\"><path class=\"js-line\" d=\"M5,0h30\" style=\"fill: none; stroke: rgb(42, 127, 175); stroke-opacity: 1; stroke-width: 2px;\"/></g><g class=\"legendsymbols\"><g class=\"legendpoints\"><path class=\"scatterpts\" transform=\"translate(20,0)\" d=\"M3,0A3,3 0 1,1 0,-3A3,3 0 0,1 3,0Z\" style=\"opacity: 1; stroke-width: 0px; fill: rgb(42, 127, 175); fill-opacity: 1;\"/></g></g></g><rect class=\"legendtoggle\" x=\"0\" y=\"-9.5\" width=\"67.265625\" height=\"19\" style=\"fill: rgb(0, 0, 0); fill-opacity: 0;\"/></g></g><g class=\"groups\" transform=\"\"><g class=\"traces\" transform=\"translate(0,279.7)\" style=\"opacity: 1;\"><text class=\"legendtext\" text-anchor=\"start\" x=\"40\" y=\"4.680000000000001\" style=\"font-family: 'Open Sans', verdana, arial, sans-serif; font-size: 12px; fill: rgb(68, 68, 68); fill-opacity: 1; white-space: pre;\">2.0</text><g class=\"layers\" style=\"opacity: 1;\"><g class=\"legendfill\"/><g class=\"legendlines\"><path class=\"js-line\" d=\"M5,0h30\" style=\"fill: none; stroke: rgb(35, 177, 171); stroke-opacity: 1; stroke-width: 2px;\"/></g><g class=\"legendsymbols\"><g class=\"legendpoints\"><path class=\"scatterpts\" transform=\"translate(20,0)\" d=\"M3,0A3,3 0 1,1 0,-3A3,3 0 0,1 3,0Z\" style=\"opacity: 1; stroke-width: 0px; fill: rgb(35, 177, 171); fill-opacity: 1;\"/></g></g></g><rect class=\"legendtoggle\" x=\"0\" y=\"-9.5\" width=\"67.265625\" height=\"19\" style=\"fill: rgb(0, 0, 0); fill-opacity: 0;\"/></g></g><g class=\"groups\" transform=\"\"><g class=\"traces\" transform=\"translate(0,298.7)\" style=\"opacity: 1;\"><text class=\"legendtext\" text-anchor=\"start\" x=\"40\" y=\"4.680000000000001\" style=\"font-family: 'Open Sans', verdana, arial, sans-serif; font-size: 12px; fill: rgb(68, 68, 68); fill-opacity: 1; white-space: pre;\">5.0</text><g class=\"layers\" style=\"opacity: 1;\"><g class=\"legendfill\"/><g class=\"legendlines\"><path class=\"js-line\" d=\"M5,0h30\" style=\"fill: none; stroke: rgb(14, 52, 73); stroke-opacity: 1; stroke-width: 2px;\"/></g><g class=\"legendsymbols\"><g class=\"legendpoints\"><path class=\"scatterpts\" transform=\"translate(20,0)\" d=\"M3,0A3,3 0 1,1 0,-3A3,3 0 0,1 3,0Z\" style=\"opacity: 1; stroke-width: 0px; fill: rgb(14, 52, 73); fill-opacity: 1;\"/></g></g></g><rect class=\"legendtoggle\" x=\"0\" y=\"-9.5\" width=\"67.265625\" height=\"19\" style=\"fill: rgb(0, 0, 0); fill-opacity: 0;\"/></g></g><g class=\"groups\" transform=\"\"><g class=\"traces\" transform=\"translate(0,317.7)\" style=\"opacity: 1;\"><text class=\"legendtext\" text-anchor=\"start\" x=\"40\" y=\"4.680000000000001\" style=\"font-family: 'Open Sans', verdana, arial, sans-serif; font-size: 12px; fill: rgb(68, 68, 68); fill-opacity: 1; white-space: pre;\">19.0</text><g class=\"layers\" style=\"opacity: 1;\"><g class=\"legendfill\"/><g class=\"legendlines\"><path class=\"js-line\" d=\"M5,0h30\" style=\"fill: none; stroke: rgb(1, 89, 85); stroke-opacity: 1; stroke-width: 2px;\"/></g><g class=\"legendsymbols\"><g class=\"legendpoints\"><path class=\"scatterpts\" transform=\"translate(20,0)\" d=\"M3,0A3,3 0 1,1 0,-3A3,3 0 0,1 3,0Z\" style=\"opacity: 1; stroke-width: 0px; fill: rgb(1, 89, 85); fill-opacity: 1;\"/></g></g></g><rect class=\"legendtoggle\" x=\"0\" y=\"-9.5\" width=\"67.265625\" height=\"19\" style=\"fill: rgb(0, 0, 0); fill-opacity: 0;\"/></g></g><g class=\"groups\" transform=\"\"><g class=\"traces\" transform=\"translate(0,336.7)\" style=\"opacity: 1;\"><text class=\"legendtext\" text-anchor=\"start\" x=\"40\" y=\"4.680000000000001\" style=\"font-family: 'Open Sans', verdana, arial, sans-serif; font-size: 12px; fill: rgb(68, 68, 68); fill-opacity: 1; white-space: pre;\">16.0</text><g class=\"layers\" style=\"opacity: 1;\"><g class=\"legendfill\"/><g class=\"legendlines\"><path class=\"js-line\" d=\"M5,0h30\" style=\"fill: none; stroke: rgb(75, 154, 199); stroke-opacity: 1; stroke-width: 2px;\"/></g><g class=\"legendsymbols\"><g class=\"legendpoints\"><path class=\"scatterpts\" transform=\"translate(20,0)\" d=\"M3,0A3,3 0 1,1 0,-3A3,3 0 0,1 3,0Z\" style=\"opacity: 1; stroke-width: 0px; fill: rgb(75, 154, 199); fill-opacity: 1;\"/></g></g></g><rect class=\"legendtoggle\" x=\"0\" y=\"-9.5\" width=\"67.265625\" height=\"19\" style=\"fill: rgb(0, 0, 0); fill-opacity: 0;\"/></g></g><g class=\"groups\" transform=\"\"><g class=\"traces\" transform=\"translate(0,355.7)\" style=\"opacity: 1;\"><text class=\"legendtext\" text-anchor=\"start\" x=\"40\" y=\"4.680000000000001\" style=\"font-family: 'Open Sans', verdana, arial, sans-serif; font-size: 12px; fill: rgb(68, 68, 68); fill-opacity: 1; white-space: pre;\">12.0</text><g class=\"layers\" style=\"opacity: 1;\"><g class=\"legendfill\"/><g class=\"legendlines\"><path class=\"js-line\" d=\"M5,0h30\" style=\"fill: none; stroke: rgb(75, 232, 224); stroke-opacity: 1; stroke-width: 2px;\"/></g><g class=\"legendsymbols\"><g class=\"legendpoints\"><path class=\"scatterpts\" transform=\"translate(20,0)\" d=\"M3,0A3,3 0 1,1 0,-3A3,3 0 0,1 3,0Z\" style=\"opacity: 1; stroke-width: 0px; fill: rgb(75, 232, 224); fill-opacity: 1;\"/></g></g></g><rect class=\"legendtoggle\" x=\"0\" y=\"-9.5\" width=\"67.265625\" height=\"19\" style=\"fill: rgb(0, 0, 0); fill-opacity: 0;\"/></g></g><g class=\"groups\" transform=\"\"><g class=\"traces\" transform=\"translate(0,374.7)\" style=\"opacity: 1;\"><text class=\"legendtext\" text-anchor=\"start\" x=\"40\" y=\"4.680000000000001\" style=\"font-family: 'Open Sans', verdana, arial, sans-serif; font-size: 12px; fill: rgb(68, 68, 68); fill-opacity: 1; white-space: pre;\">9.0</text><g class=\"layers\" style=\"opacity: 1;\"><g class=\"legendfill\"/><g class=\"legendlines\"><path class=\"js-line\" d=\"M5,0h30\" style=\"fill: none; stroke: rgb(157, 212, 243); stroke-opacity: 1; stroke-width: 2px;\"/></g><g class=\"legendsymbols\"><g class=\"legendpoints\"><path class=\"scatterpts\" transform=\"translate(20,0)\" d=\"M3,0A3,3 0 1,1 0,-3A3,3 0 0,1 3,0Z\" style=\"opacity: 1; stroke-width: 0px; fill: rgb(157, 212, 243); fill-opacity: 1;\"/></g></g></g><rect class=\"legendtoggle\" x=\"0\" y=\"-9.5\" width=\"67.265625\" height=\"19\" style=\"fill: rgb(0, 0, 0); fill-opacity: 0;\"/></g></g><g class=\"groups\" transform=\"\"><g class=\"traces\" transform=\"translate(0,393.7)\" style=\"opacity: 1;\"><text class=\"legendtext\" text-anchor=\"start\" x=\"40\" y=\"4.680000000000001\" style=\"font-family: 'Open Sans', verdana, arial, sans-serif; font-size: 12px; fill: rgb(68, 68, 68); fill-opacity: 1; white-space: pre;\">10.0</text><g class=\"layers\" style=\"opacity: 1;\"><g class=\"legendfill\"/><g class=\"legendlines\"><path class=\"js-line\" d=\"M5,0h30\" style=\"fill: none; stroke: rgb(151, 251, 246); stroke-opacity: 1; stroke-width: 2px;\"/></g><g class=\"legendsymbols\"><g class=\"legendpoints\"><path class=\"scatterpts\" transform=\"translate(20,0)\" d=\"M3,0A3,3 0 1,1 0,-3A3,3 0 0,1 3,0Z\" style=\"opacity: 1; stroke-width: 0px; fill: rgb(151, 251, 246); fill-opacity: 1;\"/></g></g></g><rect class=\"legendtoggle\" x=\"0\" y=\"-9.5\" width=\"67.265625\" height=\"19\" style=\"fill: rgb(0, 0, 0); fill-opacity: 0;\"/></g></g></g><rect class=\"scrollbar\" rx=\"20\" ry=\"3\" width=\"0\" height=\"0\" style=\"fill: rgb(128, 139, 164); fill-opacity: 1;\" x=\"0\" y=\"0\"/></g><g class=\"g-gtitle\"><text class=\"gtitle\" x=\"350\" y=\"50\" text-anchor=\"middle\" dy=\"0em\" style=\"font-family: 'Open Sans', verdana, arial, sans-serif; font-size: 17px; fill: rgb(68, 68, 68); opacity: 1; font-weight: normal; white-space: pre;\">Weekly sales over time per store</text></g><g class=\"g-xtitle\"><text class=\"xtitle\" x=\"342.5\" y=\"472\" text-anchor=\"middle\" style=\"font-family: 'Open Sans', verdana, arial, sans-serif; font-size: 14px; fill: rgb(68, 68, 68); opacity: 1; font-weight: normal; white-space: pre;\">Date</text></g><g class=\"g-ytitle\"><text class=\"ytitle\" transform=\"rotate(-90,42,260)\" x=\"42\" y=\"260\" text-anchor=\"middle\" style=\"font-family: 'Open Sans', verdana, arial, sans-serif; font-size: 14px; fill: rgb(68, 68, 68); opacity: 1; font-weight: normal; white-space: pre;\">Weekly Sales</text></g></g></svg>"
      ]
     },
     "metadata": {},
     "output_type": "display_data"
    }
   ],
   "source": [
    "#Create a line plot\n",
    "fig = px.line(dataset, x='Date', y='Weekly_Sales', color='Store', \n",
    "              title='Weekly sales over time per store',\n",
    "              labels={'Weekly_Sales': 'Weekly Sales', 'Date': 'Date'},\n",
    "            text='Store') \n",
    "\n",
    "fig.show()"
   ]
  },
  {
   "cell_type": "markdown",
   "metadata": {},
   "source": [
    "The EDA shows that sales vary considerably depending on the store, therefore the 'store' variable may be very relevant for the model prediction.\n",
    "\n",
    "The last graph 'Weekly sales over time per store' shows that the importance of the sales per store doesn't vary much over time in the dataset with the exception of the store number 4, 13 and 14."
   ]
  },
  {
   "cell_type": "markdown",
   "metadata": {},
   "source": [
    "# 2.Preprocessing\n",
    "\n",
    "We drop null values in the targer. "
   ]
  },
  {
   "cell_type": "code",
   "execution_count": 23,
   "metadata": {},
   "outputs": [
    {
     "data": {
      "text/plain": [
       "False"
      ]
     },
     "execution_count": 23,
     "metadata": {},
     "output_type": "execute_result"
    }
   ],
   "source": [
    "dataset = dataset.dropna(subset=['Weekly_Sales'])\n",
    "dataset['Weekly_Sales'].isnull().any()"
   ]
  },
  {
   "cell_type": "markdown",
   "metadata": {},
   "source": [
    "Outliers: \n",
    "\n",
    "We deal with the outliers we can see thanks to the describe() method by keeping the data within a standard deviation of +/-3 in a new df named filtered_df."
   ]
  },
  {
   "cell_type": "code",
   "execution_count": 24,
   "metadata": {},
   "outputs": [
    {
     "name": "stderr",
     "output_type": "stream",
     "text": [
      "/var/folders/sp/y1prs_xd6c5dq9mttys340t40000gn/T/ipykernel_38607/3972092728.py:2: FutureWarning:\n",
      "\n",
      "'any' with datetime64 dtypes is deprecated and will raise in a future version. Use (obj != pd.Timestamp(0)).any() instead.\n",
      "\n"
     ]
    },
    {
     "data": {
      "text/plain": [
       "Store            True\n",
       "Date             True\n",
       "Weekly_Sales     True\n",
       "Holiday_Flag    False\n",
       "Temperature      True\n",
       "Fuel_Price       True\n",
       "CPI              True\n",
       "Unemployment     True\n",
       "Day              True\n",
       "Month            True\n",
       "Year             True\n",
       "DayOfWeek       False\n",
       "dtype: bool"
      ]
     },
     "execution_count": 24,
     "metadata": {},
     "output_type": "execute_result"
    }
   ],
   "source": [
    "standard_deviations = 3\n",
    "dataset[dataset.apply(lambda x: abs(x - x.mean()) / x.std() < standard_deviations)].any()"
   ]
  },
  {
   "cell_type": "code",
   "execution_count": 85,
   "metadata": {},
   "outputs": [],
   "source": [
    "\"\"\"outliers_cols = ['Temperature','Fuel_Price', 'CPI','Unemployment']\n",
    "standard_deviation = 3\n",
    "for i in outliers_cols:\n",
    "    mean = dataset[i].mean(skipna=True)\n",
    "    std = dataset[i].std(skipna=True)\n",
    "    filtered_df = dataset[dataset[i].apply(lambda x: abs(x - mean) / std < standard_deviation)]\"\"\""
   ]
  },
  {
   "cell_type": "code",
   "execution_count": 25,
   "metadata": {},
   "outputs": [],
   "source": [
    "outliers_cols = ['Temperature', 'Fuel_Price', 'CPI', 'Unemployment']\n",
    "standard_deviation = 3\n",
    "\n",
    "# Start with the entire dataset\n",
    "filtered_df = dataset.copy()\n",
    "\n",
    "for col in outliers_cols:\n",
    "    mean = filtered_df[col].mean(skipna=True)\n",
    "    std = filtered_df[col].std(skipna=True)\n",
    "    # Filter based on standard deviation threshold\n",
    "    filtered_df = filtered_df[(abs(filtered_df[col] - mean) / std) < standard_deviation]\n"
   ]
  },
  {
   "cell_type": "code",
   "execution_count": 26,
   "metadata": {},
   "outputs": [
    {
     "data": {
      "text/html": [
       "<div>\n",
       "<style scoped>\n",
       "    .dataframe tbody tr th:only-of-type {\n",
       "        vertical-align: middle;\n",
       "    }\n",
       "\n",
       "    .dataframe tbody tr th {\n",
       "        vertical-align: top;\n",
       "    }\n",
       "\n",
       "    .dataframe thead th {\n",
       "        text-align: right;\n",
       "    }\n",
       "</style>\n",
       "<table border=\"1\" class=\"dataframe\">\n",
       "  <thead>\n",
       "    <tr style=\"text-align: right;\">\n",
       "      <th></th>\n",
       "      <th>Store</th>\n",
       "      <th>Date</th>\n",
       "      <th>Weekly_Sales</th>\n",
       "      <th>Holiday_Flag</th>\n",
       "      <th>Temperature</th>\n",
       "      <th>Fuel_Price</th>\n",
       "      <th>CPI</th>\n",
       "      <th>Unemployment</th>\n",
       "      <th>Day</th>\n",
       "      <th>Month</th>\n",
       "      <th>Year</th>\n",
       "      <th>DayOfWeek</th>\n",
       "    </tr>\n",
       "  </thead>\n",
       "  <tbody>\n",
       "    <tr>\n",
       "      <th>count</th>\n",
       "      <td>90.000000</td>\n",
       "      <td>80</td>\n",
       "      <td>9.000000e+01</td>\n",
       "      <td>80.000000</td>\n",
       "      <td>90.00000</td>\n",
       "      <td>90.000000</td>\n",
       "      <td>90.000000</td>\n",
       "      <td>90.000000</td>\n",
       "      <td>80.000000</td>\n",
       "      <td>80.000000</td>\n",
       "      <td>80.000000</td>\n",
       "      <td>80.0</td>\n",
       "    </tr>\n",
       "    <tr>\n",
       "      <th>mean</th>\n",
       "      <td>9.900000</td>\n",
       "      <td>2011-05-17 11:06:00</td>\n",
       "      <td>1.233865e+06</td>\n",
       "      <td>0.075000</td>\n",
       "      <td>61.06100</td>\n",
       "      <td>3.318444</td>\n",
       "      <td>179.524905</td>\n",
       "      <td>7.389733</td>\n",
       "      <td>16.125000</td>\n",
       "      <td>6.362500</td>\n",
       "      <td>2010.887500</td>\n",
       "      <td>4.0</td>\n",
       "    </tr>\n",
       "    <tr>\n",
       "      <th>min</th>\n",
       "      <td>1.000000</td>\n",
       "      <td>2010-02-05 00:00:00</td>\n",
       "      <td>2.689290e+05</td>\n",
       "      <td>0.000000</td>\n",
       "      <td>18.79000</td>\n",
       "      <td>2.548000</td>\n",
       "      <td>126.128355</td>\n",
       "      <td>5.143000</td>\n",
       "      <td>1.000000</td>\n",
       "      <td>1.000000</td>\n",
       "      <td>2010.000000</td>\n",
       "      <td>4.0</td>\n",
       "    </tr>\n",
       "    <tr>\n",
       "      <th>25%</th>\n",
       "      <td>4.000000</td>\n",
       "      <td>2010-08-04 06:00:00</td>\n",
       "      <td>5.617240e+05</td>\n",
       "      <td>0.000000</td>\n",
       "      <td>45.34250</td>\n",
       "      <td>2.814750</td>\n",
       "      <td>132.602339</td>\n",
       "      <td>6.642250</td>\n",
       "      <td>10.000000</td>\n",
       "      <td>4.000000</td>\n",
       "      <td>2010.000000</td>\n",
       "      <td>4.0</td>\n",
       "    </tr>\n",
       "    <tr>\n",
       "      <th>50%</th>\n",
       "      <td>9.000000</td>\n",
       "      <td>2011-05-16 12:00:00</td>\n",
       "      <td>1.260826e+06</td>\n",
       "      <td>0.000000</td>\n",
       "      <td>61.45000</td>\n",
       "      <td>3.468000</td>\n",
       "      <td>197.166416</td>\n",
       "      <td>7.419000</td>\n",
       "      <td>16.500000</td>\n",
       "      <td>6.000000</td>\n",
       "      <td>2011.000000</td>\n",
       "      <td>4.0</td>\n",
       "    </tr>\n",
       "    <tr>\n",
       "      <th>75%</th>\n",
       "      <td>15.750000</td>\n",
       "      <td>2012-02-18 18:00:00</td>\n",
       "      <td>1.807159e+06</td>\n",
       "      <td>0.000000</td>\n",
       "      <td>75.79250</td>\n",
       "      <td>3.737750</td>\n",
       "      <td>214.855374</td>\n",
       "      <td>8.099000</td>\n",
       "      <td>23.250000</td>\n",
       "      <td>8.250000</td>\n",
       "      <td>2012.000000</td>\n",
       "      <td>4.0</td>\n",
       "    </tr>\n",
       "    <tr>\n",
       "      <th>max</th>\n",
       "      <td>20.000000</td>\n",
       "      <td>2012-10-19 00:00:00</td>\n",
       "      <td>2.771397e+06</td>\n",
       "      <td>1.000000</td>\n",
       "      <td>91.65000</td>\n",
       "      <td>4.170000</td>\n",
       "      <td>226.968844</td>\n",
       "      <td>9.342000</td>\n",
       "      <td>31.000000</td>\n",
       "      <td>12.000000</td>\n",
       "      <td>2012.000000</td>\n",
       "      <td>4.0</td>\n",
       "    </tr>\n",
       "    <tr>\n",
       "      <th>std</th>\n",
       "      <td>6.204475</td>\n",
       "      <td>NaN</td>\n",
       "      <td>6.647250e+05</td>\n",
       "      <td>0.265053</td>\n",
       "      <td>17.74604</td>\n",
       "      <td>0.484399</td>\n",
       "      <td>39.554303</td>\n",
       "      <td>0.982729</td>\n",
       "      <td>8.521566</td>\n",
       "      <td>3.028321</td>\n",
       "      <td>0.826672</td>\n",
       "      <td>0.0</td>\n",
       "    </tr>\n",
       "  </tbody>\n",
       "</table>\n",
       "</div>"
      ],
      "text/plain": [
       "           Store                 Date  Weekly_Sales  Holiday_Flag  \\\n",
       "count  90.000000                   80  9.000000e+01     80.000000   \n",
       "mean    9.900000  2011-05-17 11:06:00  1.233865e+06      0.075000   \n",
       "min     1.000000  2010-02-05 00:00:00  2.689290e+05      0.000000   \n",
       "25%     4.000000  2010-08-04 06:00:00  5.617240e+05      0.000000   \n",
       "50%     9.000000  2011-05-16 12:00:00  1.260826e+06      0.000000   \n",
       "75%    15.750000  2012-02-18 18:00:00  1.807159e+06      0.000000   \n",
       "max    20.000000  2012-10-19 00:00:00  2.771397e+06      1.000000   \n",
       "std     6.204475                  NaN  6.647250e+05      0.265053   \n",
       "\n",
       "       Temperature  Fuel_Price         CPI  Unemployment        Day  \\\n",
       "count     90.00000   90.000000   90.000000     90.000000  80.000000   \n",
       "mean      61.06100    3.318444  179.524905      7.389733  16.125000   \n",
       "min       18.79000    2.548000  126.128355      5.143000   1.000000   \n",
       "25%       45.34250    2.814750  132.602339      6.642250  10.000000   \n",
       "50%       61.45000    3.468000  197.166416      7.419000  16.500000   \n",
       "75%       75.79250    3.737750  214.855374      8.099000  23.250000   \n",
       "max       91.65000    4.170000  226.968844      9.342000  31.000000   \n",
       "std       17.74604    0.484399   39.554303      0.982729   8.521566   \n",
       "\n",
       "           Month         Year  DayOfWeek  \n",
       "count  80.000000    80.000000       80.0  \n",
       "mean    6.362500  2010.887500        4.0  \n",
       "min     1.000000  2010.000000        4.0  \n",
       "25%     4.000000  2010.000000        4.0  \n",
       "50%     6.000000  2011.000000        4.0  \n",
       "75%     8.250000  2012.000000        4.0  \n",
       "max    12.000000  2012.000000        4.0  \n",
       "std     3.028321     0.826672        0.0  "
      ]
     },
     "execution_count": 26,
     "metadata": {},
     "output_type": "execute_result"
    }
   ],
   "source": [
    "filtered_df.describe(include='all')"
   ]
  },
  {
   "cell_type": "code",
   "execution_count": 27,
   "metadata": {},
   "outputs": [
    {
     "data": {
      "text/html": [
       "<div>\n",
       "<style scoped>\n",
       "    .dataframe tbody tr th:only-of-type {\n",
       "        vertical-align: middle;\n",
       "    }\n",
       "\n",
       "    .dataframe tbody tr th {\n",
       "        vertical-align: top;\n",
       "    }\n",
       "\n",
       "    .dataframe thead th {\n",
       "        text-align: right;\n",
       "    }\n",
       "</style>\n",
       "<table border=\"1\" class=\"dataframe\">\n",
       "  <thead>\n",
       "    <tr style=\"text-align: right;\">\n",
       "      <th></th>\n",
       "      <th>Store</th>\n",
       "      <th>Date</th>\n",
       "      <th>Weekly_Sales</th>\n",
       "      <th>Holiday_Flag</th>\n",
       "      <th>Temperature</th>\n",
       "      <th>Fuel_Price</th>\n",
       "      <th>CPI</th>\n",
       "      <th>Unemployment</th>\n",
       "      <th>Day</th>\n",
       "      <th>Month</th>\n",
       "      <th>Year</th>\n",
       "      <th>DayOfWeek</th>\n",
       "    </tr>\n",
       "  </thead>\n",
       "  <tbody>\n",
       "    <tr>\n",
       "      <th>0</th>\n",
       "      <td>6.0</td>\n",
       "      <td>2011-02-18</td>\n",
       "      <td>1572117.54</td>\n",
       "      <td>NaN</td>\n",
       "      <td>59.61</td>\n",
       "      <td>3.045</td>\n",
       "      <td>214.777523</td>\n",
       "      <td>6.858</td>\n",
       "      <td>18.0</td>\n",
       "      <td>2.0</td>\n",
       "      <td>2011.0</td>\n",
       "      <td>4.0</td>\n",
       "    </tr>\n",
       "    <tr>\n",
       "      <th>1</th>\n",
       "      <td>13.0</td>\n",
       "      <td>2011-03-25</td>\n",
       "      <td>1807545.43</td>\n",
       "      <td>0.0</td>\n",
       "      <td>42.38</td>\n",
       "      <td>3.435</td>\n",
       "      <td>128.616064</td>\n",
       "      <td>7.470</td>\n",
       "      <td>25.0</td>\n",
       "      <td>3.0</td>\n",
       "      <td>2011.0</td>\n",
       "      <td>4.0</td>\n",
       "    </tr>\n",
       "    <tr>\n",
       "      <th>4</th>\n",
       "      <td>6.0</td>\n",
       "      <td>2010-05-28</td>\n",
       "      <td>1644470.66</td>\n",
       "      <td>0.0</td>\n",
       "      <td>78.89</td>\n",
       "      <td>2.759</td>\n",
       "      <td>212.412888</td>\n",
       "      <td>7.092</td>\n",
       "      <td>28.0</td>\n",
       "      <td>5.0</td>\n",
       "      <td>2010.0</td>\n",
       "      <td>4.0</td>\n",
       "    </tr>\n",
       "    <tr>\n",
       "      <th>6</th>\n",
       "      <td>15.0</td>\n",
       "      <td>2011-06-03</td>\n",
       "      <td>695396.19</td>\n",
       "      <td>0.0</td>\n",
       "      <td>69.80</td>\n",
       "      <td>4.069</td>\n",
       "      <td>134.855161</td>\n",
       "      <td>7.658</td>\n",
       "      <td>3.0</td>\n",
       "      <td>6.0</td>\n",
       "      <td>2011.0</td>\n",
       "      <td>4.0</td>\n",
       "    </tr>\n",
       "    <tr>\n",
       "      <th>7</th>\n",
       "      <td>20.0</td>\n",
       "      <td>2012-02-03</td>\n",
       "      <td>2203523.20</td>\n",
       "      <td>0.0</td>\n",
       "      <td>39.93</td>\n",
       "      <td>3.617</td>\n",
       "      <td>213.023622</td>\n",
       "      <td>6.961</td>\n",
       "      <td>3.0</td>\n",
       "      <td>2.0</td>\n",
       "      <td>2012.0</td>\n",
       "      <td>4.0</td>\n",
       "    </tr>\n",
       "  </tbody>\n",
       "</table>\n",
       "</div>"
      ],
      "text/plain": [
       "   Store       Date  Weekly_Sales  Holiday_Flag  Temperature  Fuel_Price  \\\n",
       "0    6.0 2011-02-18    1572117.54           NaN        59.61       3.045   \n",
       "1   13.0 2011-03-25    1807545.43           0.0        42.38       3.435   \n",
       "4    6.0 2010-05-28    1644470.66           0.0        78.89       2.759   \n",
       "6   15.0 2011-06-03     695396.19           0.0        69.80       4.069   \n",
       "7   20.0 2012-02-03    2203523.20           0.0        39.93       3.617   \n",
       "\n",
       "          CPI  Unemployment   Day  Month    Year  DayOfWeek  \n",
       "0  214.777523         6.858  18.0    2.0  2011.0        4.0  \n",
       "1  128.616064         7.470  25.0    3.0  2011.0        4.0  \n",
       "4  212.412888         7.092  28.0    5.0  2010.0        4.0  \n",
       "6  134.855161         7.658   3.0    6.0  2011.0        4.0  \n",
       "7  213.023622         6.961   3.0    2.0  2012.0        4.0  "
      ]
     },
     "execution_count": 27,
     "metadata": {},
     "output_type": "execute_result"
    }
   ],
   "source": [
    "filtered_df.head()"
   ]
  },
  {
   "cell_type": "markdown",
   "metadata": {},
   "source": [
    "# 3. Baseline model :  linear regression"
   ]
  },
  {
   "cell_type": "markdown",
   "metadata": {},
   "source": [
    "### Since the model has to predict the weekly sales and the dayly sales, it may not be necessary to keep information about the day of the week but only about the month and the year.\n",
    "\n",
    "### We will test a model keeping 'day' and 'DayOfWeek' variables and later another model without them.\n"
   ]
  },
  {
   "cell_type": "code",
   "execution_count": 28,
   "metadata": {},
   "outputs": [
    {
     "name": "stdout",
     "output_type": "stream",
     "text": [
      "Separating labels from features...\n",
      "...Done.\n",
      "\n",
      "Y : \n",
      "0    1572117.54\n",
      "1    1807545.43\n",
      "4    1644470.66\n",
      "6     695396.19\n",
      "7    2203523.20\n",
      "Name: Weekly_Sales, dtype: float64\n",
      "\n",
      "X :\n",
      "   Store  Holiday_Flag  Temperature  Fuel_Price         CPI  Unemployment  \\\n",
      "0    6.0           NaN        59.61       3.045  214.777523         6.858   \n",
      "1   13.0           0.0        42.38       3.435  128.616064         7.470   \n",
      "4    6.0           0.0        78.89       2.759  212.412888         7.092   \n",
      "6   15.0           0.0        69.80       4.069  134.855161         7.658   \n",
      "7   20.0           0.0        39.93       3.617  213.023622         6.961   \n",
      "\n",
      "   Month    Year  DayOfWeek  \n",
      "0    2.0  2011.0        4.0  \n",
      "1    3.0  2011.0        4.0  \n",
      "4    5.0  2010.0        4.0  \n",
      "6    6.0  2011.0        4.0  \n",
      "7    2.0  2012.0        4.0  \n"
     ]
    }
   ],
   "source": [
    "# We separate target variable Y from features X\n",
    "# We don't keep the columns 'date', 'DayOfWeek','Day' in X\n",
    "\n",
    "print(\"Separating labels from features...\")\n",
    "target_variable = \"Weekly_Sales\"\n",
    "\n",
    "X = filtered_df.drop([target_variable, 'Date', 'Day'], axis = 1)\n",
    "Y = filtered_df.loc[:, target_variable]\n",
    "\n",
    "print(\"...Done.\")\n",
    "print()\n",
    "\n",
    "print(\"Y : \")\n",
    "print(Y.head())\n",
    "print()\n",
    "print(\"X :\")\n",
    "print(X.head())"
   ]
  },
  {
   "cell_type": "markdown",
   "metadata": {},
   "source": [
    "X.columns"
   ]
  },
  {
   "cell_type": "code",
   "execution_count": 29,
   "metadata": {},
   "outputs": [
    {
     "name": "stdout",
     "output_type": "stream",
     "text": [
      "Dividing into train and test sets...\n",
      "...Done.\n",
      "\n"
     ]
    }
   ],
   "source": [
    "# Divide dataset Train set & Test set\n",
    "print(\"Dividing into train and test sets...\")\n",
    "X_train, X_test, Y_train, Y_test = train_test_split(X, Y, test_size=0.2, random_state=0)\n",
    "print(\"...Done.\")\n",
    "print()"
   ]
  },
  {
   "cell_type": "code",
   "execution_count": 30,
   "metadata": {},
   "outputs": [],
   "source": [
    "#We define the categorical and numerical features\n",
    "categorical_features = ['Store', \"Holiday_Flag\"] # Names of categorical columns in X_train/X_test\n",
    "numeric_features = [col for col in X.columns if col not in categorical_features]"
   ]
  },
  {
   "cell_type": "code",
   "execution_count": 31,
   "metadata": {},
   "outputs": [
    {
     "data": {
      "text/plain": [
       "['Temperature',\n",
       " 'Fuel_Price',\n",
       " 'CPI',\n",
       " 'Unemployment',\n",
       " 'Month',\n",
       " 'Year',\n",
       " 'DayOfWeek']"
      ]
     },
     "execution_count": 31,
     "metadata": {},
     "output_type": "execute_result"
    }
   ],
   "source": [
    "# We check\n",
    "numeric_features"
   ]
  },
  {
   "cell_type": "markdown",
   "metadata": {},
   "source": [
    "Pipeline"
   ]
  },
  {
   "cell_type": "code",
   "execution_count": 32,
   "metadata": {},
   "outputs": [],
   "source": [
    "# pipeline for numeric features\n",
    "# we replace missing values with SimpleImputer\n",
    "\n",
    "numeric_transformer = Pipeline(\n",
    "    steps=[\n",
    "        (\n",
    "        \"imputer\",\n",
    "        SimpleImputer(strategy=\"mean\"),\n",
    "        ),  \n",
    "        (\"scaler\", StandardScaler()),\n",
    "    ]\n",
    ")\n",
    "\n",
    "# pipeline for categorical features\n",
    "# we replace missing values with SimpleImputer and encode categorical values with OneHotEncoder\n",
    "\n",
    "categorical_transformer = Pipeline(\n",
    "   steps=[\n",
    "        (\"imputer\", SimpleImputer(strategy=\"most_frequent\")),  # missing values will be replaced by most frequent value\n",
    "        (\"encoder\",OneHotEncoder()) \n",
    "    ]\n",
    ")\n",
    "\n"
   ]
  },
  {
   "cell_type": "code",
   "execution_count": 33,
   "metadata": {},
   "outputs": [],
   "source": [
    "preprocessor = ColumnTransformer(\n",
    "    transformers=[\n",
    "        (\"num\", numeric_transformer, numeric_features),\n",
    "        (\"cat\", categorical_transformer, categorical_features),\n",
    "    ]\n",
    ")"
   ]
  },
  {
   "cell_type": "code",
   "execution_count": 34,
   "metadata": {},
   "outputs": [
    {
     "name": "stdout",
     "output_type": "stream",
     "text": [
      "Performing preprocessings on train set...\n",
      "     Store  Holiday_Flag  Temperature  Fuel_Price         CPI  Unemployment  \\\n",
      "127   16.0           0.0        61.79       2.711  189.523128         6.868   \n",
      "63     5.0           0.0        69.17       3.594  224.019287         5.422   \n",
      "35    19.0           0.0        33.26       3.789  133.958742         7.771   \n",
      "10     8.0           0.0        82.92       3.554  219.070197         6.425   \n",
      "95     1.0           0.0        74.78       2.854  210.337426         7.808   \n",
      "\n",
      "     Month    Year  DayOfWeek  \n",
      "127    7.0  2010.0        4.0  \n",
      "63    10.0  2012.0        4.0  \n",
      "35     3.0  2011.0        4.0  \n",
      "10     8.0  2011.0        4.0  \n",
      "95     5.0  2010.0        4.0  \n",
      "...Done.\n",
      "[[ 0.04260362 -1.26840641  0.20507788 -0.55534542  0.16826221 -1.15712571\n",
      "   0.          0.          0.          0.          0.          0.\n",
      "   0.          0.          0.          0.          0.          0.\n",
      "   0.          0.          0.          1.          0.          0.\n",
      "   0.          0.          1.          0.        ]\n",
      " [ 0.4592769   0.58058829  1.09260385 -2.12734441  1.19411889  1.4937441\n",
      "   0.          0.          0.          0.          0.          1.\n",
      "   0.          0.          0.          0.          0.          0.\n",
      "   0.          0.          0.          0.          0.          0.\n",
      "   0.          0.          1.          0.        ]\n",
      " [-1.5681943   0.98891668 -1.22449677  0.42633859 -1.1995467   0.16830919\n",
      "   0.          0.          0.          0.          0.          0.\n",
      "   0.          0.          0.          0.          0.          0.\n",
      "   0.          0.          0.          0.          0.          0.\n",
      "   1.          0.          1.          0.        ]\n",
      " [ 1.23559907  0.49682862  0.96527239 -1.03694678  0.51021444  0.16830919\n",
      "   0.          0.          0.          0.          0.          0.\n",
      "   0.          0.          1.          0.          0.          0.\n",
      "   0.          0.          0.          0.          0.          0.\n",
      "   0.          0.          1.          0.        ]\n",
      " [ 0.77601634 -0.96896559  0.74059345  0.46656263 -0.51564225 -1.15712571\n",
      "   0.          1.          0.          0.          0.          0.\n",
      "   0.          0.          0.          0.          0.          0.\n",
      "   0.          0.          0.          0.          0.          0.\n",
      "   0.          0.          1.          0.        ]]\n",
      "\n",
      "Performing preprocessings on test set...\n",
      "     Store  Holiday_Flag  Temperature  Fuel_Price         CPI  Unemployment  \\\n",
      "4      6.0           0.0        78.89       2.759  212.412888         7.092   \n",
      "20     7.0           0.0        38.26       2.725  189.704822         8.963   \n",
      "82    11.0           0.0        52.77       3.510  223.917015         6.833   \n",
      "61    10.0           0.0        57.62       3.882  130.645793         7.545   \n",
      "104    3.0           0.0        82.70       3.346  225.306861         6.664   \n",
      "\n",
      "     Month    Year  DayOfWeek  \n",
      "4      5.0  2010.0        4.0  \n",
      "20     4.0  2010.0        4.0  \n",
      "82     NaN     NaN        NaN  \n",
      "61     3.0  2012.0        4.0  \n",
      "104    6.0  2012.0        4.0  \n",
      "...Done.\n",
      "[[ 1.00806610e+00 -1.16789481e+00  7.93991458e-01 -3.11826909e-01\n",
      "  -5.15642248e-01 -1.15712571e+00  0.00000000e+00  0.00000000e+00\n",
      "   0.00000000e+00  0.00000000e+00  0.00000000e+00  0.00000000e+00\n",
      "   1.00000000e+00  0.00000000e+00  0.00000000e+00  0.00000000e+00\n",
      "   0.00000000e+00  0.00000000e+00  0.00000000e+00  0.00000000e+00\n",
      "   0.00000000e+00  0.00000000e+00  0.00000000e+00  0.00000000e+00\n",
      "   0.00000000e+00  0.00000000e+00  1.00000000e+00  0.00000000e+00]\n",
      " [-1.28589533e+00 -1.23909053e+00  2.09752546e-01  1.72220498e+00\n",
      "  -8.57594476e-01 -1.15712571e+00  0.00000000e+00  0.00000000e+00\n",
      "   0.00000000e+00  0.00000000e+00  0.00000000e+00  0.00000000e+00\n",
      "   0.00000000e+00  1.00000000e+00  0.00000000e+00  0.00000000e+00\n",
      "   0.00000000e+00  0.00000000e+00  0.00000000e+00  0.00000000e+00\n",
      "   0.00000000e+00  0.00000000e+00  0.00000000e+00  0.00000000e+00\n",
      "   0.00000000e+00  0.00000000e+00  1.00000000e+00  0.00000000e+00]\n",
      " [-4.66663722e-01  4.04692987e-01  1.08997257e+00 -5.93395193e-01\n",
      "   0.00000000e+00 -3.01369006e-13  0.00000000e+00  0.00000000e+00\n",
      "   0.00000000e+00  0.00000000e+00  0.00000000e+00  0.00000000e+00\n",
      "   0.00000000e+00  0.00000000e+00  0.00000000e+00  0.00000000e+00\n",
      "   0.00000000e+00  1.00000000e+00  0.00000000e+00  0.00000000e+00\n",
      "   0.00000000e+00  0.00000000e+00  0.00000000e+00  0.00000000e+00\n",
      "   0.00000000e+00  0.00000000e+00  1.00000000e+00  0.00000000e+00]\n",
      " [-1.92833721e-01  1.18365791e+00 -1.30973316e+00  1.80645804e-01\n",
      "  -1.19954670e+00  1.49374410e+00  0.00000000e+00  0.00000000e+00\n",
      "   0.00000000e+00  0.00000000e+00  0.00000000e+00  0.00000000e+00\n",
      "   0.00000000e+00  0.00000000e+00  0.00000000e+00  0.00000000e+00\n",
      "   1.00000000e+00  0.00000000e+00  0.00000000e+00  0.00000000e+00\n",
      "   0.00000000e+00  0.00000000e+00  0.00000000e+00  0.00000000e+00\n",
      "   0.00000000e+00  0.00000000e+00  1.00000000e+00  0.00000000e+00]\n",
      " [ 1.22317791e+00  6.12783416e-02  1.12573089e+00 -7.77121216e-01\n",
      "  -1.73690020e-01  1.49374410e+00  0.00000000e+00  0.00000000e+00\n",
      "   0.00000000e+00  1.00000000e+00  0.00000000e+00  0.00000000e+00\n",
      "   0.00000000e+00  0.00000000e+00  0.00000000e+00  0.00000000e+00\n",
      "   0.00000000e+00  0.00000000e+00  0.00000000e+00  0.00000000e+00\n",
      "   0.00000000e+00  0.00000000e+00  0.00000000e+00  0.00000000e+00\n",
      "   0.00000000e+00  0.00000000e+00  1.00000000e+00  0.00000000e+00]]\n",
      "\n"
     ]
    }
   ],
   "source": [
    "# Preprocessings on train set\n",
    "print(\"Performing preprocessings on train set...\")\n",
    "print(X_train.head())\n",
    "X_train = preprocessor.fit_transform(X_train)\n",
    "print(\"...Done.\")\n",
    "print(\n",
    "    X_train[0:5]\n",
    ") \n",
    "print()\n",
    "\n",
    "# Preprocessings on test set\n",
    "print(\"Performing preprocessings on test set...\")\n",
    "print(X_test.head())\n",
    "X_test = preprocessor.transform(\n",
    "    X_test\n",
    ")  \n",
    "print(\"...Done.\")\n",
    "print(\n",
    "    X_test[0:5, :]\n",
    ") \n",
    "print()\n",
    "\n"
   ]
  },
  {
   "cell_type": "code",
   "execution_count": 35,
   "metadata": {},
   "outputs": [
    {
     "name": "stdout",
     "output_type": "stream",
     "text": [
      "Train model...\n",
      "...Done.\n"
     ]
    }
   ],
   "source": [
    "# Train model\n",
    "print(\"Train model...\")\n",
    "regressor = LinearRegression()\n",
    "regressor.fit(X_train, Y_train)\n",
    "print(\"...Done.\")"
   ]
  },
  {
   "cell_type": "code",
   "execution_count": 36,
   "metadata": {},
   "outputs": [
    {
     "name": "stdout",
     "output_type": "stream",
     "text": [
      "Predictions on training set...\n",
      "...Done.\n"
     ]
    }
   ],
   "source": [
    "# Predictions on training set\n",
    "print(\"Predictions on training set...\")\n",
    "Y_train_pred = regressor.predict(X_train)\n",
    "print(\"...Done.\")\n"
   ]
  },
  {
   "cell_type": "code",
   "execution_count": 37,
   "metadata": {},
   "outputs": [
    {
     "name": "stdout",
     "output_type": "stream",
     "text": [
      "Predictions on test set...\n",
      "...Done.\n"
     ]
    }
   ],
   "source": [
    "# Predictions on test set\n",
    "print(\"Predictions on test set...\")\n",
    "Y_test_pred = regressor.predict(X_test)\n",
    "print(\"...Done.\")"
   ]
  },
  {
   "cell_type": "markdown",
   "metadata": {},
   "source": [
    "### Evaluating the model"
   ]
  },
  {
   "cell_type": "code",
   "execution_count": 39,
   "metadata": {},
   "outputs": [
    {
     "name": "stdout",
     "output_type": "stream",
     "text": [
      "R2 score on training set :  0.9823300272193435\n",
      "R2 score on test set :  0.938595858298448\n"
     ]
    }
   ],
   "source": [
    "# Print R^2 scores\n",
    "print(\"R2 score on training set : \", r2_score(Y_train, Y_train_pred))\n",
    "print(\"R2 score on test set : \", r2_score(Y_test, Y_test_pred))"
   ]
  },
  {
   "cell_type": "markdown",
   "metadata": {},
   "source": [
    "#### Overfitting test"
   ]
  },
  {
   "cell_type": "code",
   "execution_count": 41,
   "metadata": {},
   "outputs": [
    {
     "name": "stdout",
     "output_type": "stream",
     "text": [
      "Calcule de l'incertitude\n",
      "5-fold cross-validation...\n",
      "The cross-validated R2-score is :  0.945087005549795\n",
      "The standard deviation is :  0.026462943194536615\n"
     ]
    }
   ],
   "source": [
    "\n",
    "print(\"Calcule de l'incertitude\")\n",
    "print(\"5-fold cross-validation...\")\n",
    "\n",
    "scores = cross_val_score(regressor, X_train, Y_train, cv=5)\n",
    "print('The cross-validated R2-score is : ', scores.mean())\n",
    "print('The standard deviation is : ', scores.std())"
   ]
  },
  {
   "cell_type": "markdown",
   "metadata": {},
   "source": [
    "\n",
    "## Feature selection : Let's try by reducing the number of variables and dropping 'day' and 'dayofweek' that, as explained before, doesn't seem important for predicting weekly sales instead of daily sales."
   ]
  },
  {
   "cell_type": "code",
   "execution_count": 42,
   "metadata": {},
   "outputs": [
    {
     "name": "stdout",
     "output_type": "stream",
     "text": [
      "Separating labels from features...\n",
      "...Done.\n",
      "\n",
      "Y : \n",
      "0    1572117.54\n",
      "1    1807545.43\n",
      "4    1644470.66\n",
      "6     695396.19\n",
      "7    2203523.20\n",
      "Name: Weekly_Sales, dtype: float64\n",
      "\n",
      "X :\n",
      "   Store  Holiday_Flag  Temperature  Fuel_Price         CPI  Unemployment  \\\n",
      "0    6.0           NaN        59.61       3.045  214.777523         6.858   \n",
      "1   13.0           0.0        42.38       3.435  128.616064         7.470   \n",
      "4    6.0           0.0        78.89       2.759  212.412888         7.092   \n",
      "6   15.0           0.0        69.80       4.069  134.855161         7.658   \n",
      "7   20.0           0.0        39.93       3.617  213.023622         6.961   \n",
      "\n",
      "   Month    Year  \n",
      "0    2.0  2011.0  \n",
      "1    3.0  2011.0  \n",
      "4    5.0  2010.0  \n",
      "6    6.0  2011.0  \n",
      "7    2.0  2012.0  \n"
     ]
    }
   ],
   "source": [
    "# We separate target variable Y from features X\n",
    "# We don't keep the columns 'date', 'DayOfWeek','Day' in X\n",
    "\n",
    "print(\"Separating labels from features...\")\n",
    "target_variable = \"Weekly_Sales\"\n",
    "\n",
    "X = filtered_df.drop([target_variable,'Date','Day','DayOfWeek'], axis = 1)\n",
    "Y = filtered_df.loc[:, target_variable]\n",
    "\n",
    "print(\"...Done.\")\n",
    "print()\n",
    "\n",
    "print(\"Y : \")\n",
    "print(Y.head())\n",
    "print()\n",
    "print(\"X :\")\n",
    "print(X.head())"
   ]
  },
  {
   "cell_type": "code",
   "execution_count": 43,
   "metadata": {},
   "outputs": [
    {
     "name": "stdout",
     "output_type": "stream",
     "text": [
      "Dividing into train and test sets...\n",
      "...Done.\n",
      "\n"
     ]
    }
   ],
   "source": [
    "# Divide dataset Train set & Test set\n",
    "print(\"Dividing into train and test sets...\")\n",
    "X_train, X_test, Y_train, Y_test = train_test_split(X, Y, test_size=0.2, random_state=0)\n",
    "print(\"...Done.\")\n",
    "print()"
   ]
  },
  {
   "cell_type": "code",
   "execution_count": 44,
   "metadata": {},
   "outputs": [],
   "source": [
    "#We define the categorical and numerical features\n",
    "categorical_features = ['Store', \"Holiday_Flag\"] # Names of categorical columns in X_train/X_test\n",
    "numeric_features = [col for col in X.columns if col not in categorical_features]"
   ]
  },
  {
   "cell_type": "code",
   "execution_count": 45,
   "metadata": {},
   "outputs": [
    {
     "data": {
      "text/plain": [
       "['Temperature', 'Fuel_Price', 'CPI', 'Unemployment', 'Month', 'Year']"
      ]
     },
     "execution_count": 45,
     "metadata": {},
     "output_type": "execute_result"
    }
   ],
   "source": [
    "numeric_features"
   ]
  },
  {
   "cell_type": "code",
   "execution_count": 46,
   "metadata": {},
   "outputs": [],
   "source": [
    "# pipeline for numeric features\n",
    "# we replace missing values with SimpleImputer\n",
    "\n",
    "numeric_transformer = Pipeline(\n",
    "    steps=[\n",
    "        (\n",
    "        \"imputer\",\n",
    "        SimpleImputer(strategy=\"mean\"),\n",
    "        ),  \n",
    "        (\"scaler\", StandardScaler()),\n",
    "    ]\n",
    ")\n",
    "categorical_transformer = Pipeline(\n",
    "   steps=[\n",
    "        (\"imputer\", SimpleImputer(strategy=\"most_frequent\")),  # missing values will be replaced by most frequent value\n",
    "        (\"encoder\",OneHotEncoder()) \n",
    "    ]\n",
    ")"
   ]
  },
  {
   "cell_type": "code",
   "execution_count": 47,
   "metadata": {},
   "outputs": [],
   "source": [
    "preprocessor = ColumnTransformer(\n",
    "    transformers=[\n",
    "        (\"num\", numeric_transformer, numeric_features),\n",
    "        (\"cat\", categorical_transformer, categorical_features),\n",
    "    ]\n",
    ")"
   ]
  },
  {
   "cell_type": "code",
   "execution_count": 48,
   "metadata": {},
   "outputs": [
    {
     "name": "stdout",
     "output_type": "stream",
     "text": [
      "Performing preprocessings on train set...\n",
      "     Store  Holiday_Flag  Temperature  Fuel_Price         CPI  Unemployment  \\\n",
      "127   16.0           0.0        61.79       2.711  189.523128         6.868   \n",
      "63     5.0           0.0        69.17       3.594  224.019287         5.422   \n",
      "35    19.0           0.0        33.26       3.789  133.958742         7.771   \n",
      "10     8.0           0.0        82.92       3.554  219.070197         6.425   \n",
      "95     1.0           0.0        74.78       2.854  210.337426         7.808   \n",
      "\n",
      "     Month    Year  \n",
      "127    7.0  2010.0  \n",
      "63    10.0  2012.0  \n",
      "35     3.0  2011.0  \n",
      "10     8.0  2011.0  \n",
      "95     5.0  2010.0  \n",
      "...Done.\n",
      "  (0, 0)\t0.042603619566292404\n",
      "  (0, 1)\t-1.2684064129831014\n",
      "  (0, 2)\t0.20507787897090277\n",
      "  (0, 3)\t-0.5553454246885406\n",
      "  (0, 4)\t0.16826220729362615\n",
      "  (0, 5)\t-1.1571257121371719\n",
      "  (0, 20)\t1.0\n",
      "  (0, 25)\t1.0\n",
      "  (1, 0)\t0.45927689938857913\n",
      "  (1, 1)\t0.5805882929947872\n",
      "  (1, 2)\t1.092603852656994\n",
      "  (1, 3)\t-2.1273444147693765\n",
      "  (1, 4)\t1.1941188904708953\n",
      "  (1, 5)\t1.493744101121753\n",
      "  (1, 10)\t1.0\n",
      "  (1, 25)\t1.0\n",
      "  (2, 0)\t-1.5681943036491326\n",
      "  (2, 1)\t0.988916682197153\n",
      "  (2, 2)\t-1.2244967736725922\n",
      "  (2, 3)\t0.4263385919387067\n",
      "  (2, 4)\t-1.1995467036093992\n",
      "  (2, 5)\t0.1683091944922905\n",
      "  (2, 23)\t1.0\n",
      "  (2, 25)\t1.0\n",
      "  (3, 0)\t1.2355990670791537\n",
      "  (3, 1)\t0.49682862341481476\n",
      "  (3, 2)\t0.9652723930663473\n",
      "  (3, 3)\t-1.0369467750383399\n",
      "  (3, 4)\t0.5102144350193825\n",
      "  (3, 5)\t0.1683091944922905\n",
      "  (3, 13)\t1.0\n",
      "  (3, 25)\t1.0\n",
      "  (4, 0)\t0.7760163438063336\n",
      "  (4, 1)\t-0.9689655942347007\n",
      "  (4, 2)\t0.740593446601042\n",
      "  (4, 3)\t0.46656263248710983\n",
      "  (4, 4)\t-0.5156422481578865\n",
      "  (4, 5)\t-1.1571257121371719\n",
      "  (4, 6)\t1.0\n",
      "  (4, 25)\t1.0\n",
      "\n",
      "Performing preprocessings on test set...\n",
      "     Store  Holiday_Flag  Temperature  Fuel_Price         CPI  Unemployment  \\\n",
      "4      6.0           0.0        78.89       2.759  212.412888         7.092   \n",
      "20     7.0           0.0        38.26       2.725  189.704822         8.963   \n",
      "82    11.0           0.0        52.77       3.510  223.917015         6.833   \n",
      "61    10.0           0.0        57.62       3.882  130.645793         7.545   \n",
      "104    3.0           0.0        82.70       3.346  225.306861         6.664   \n",
      "\n",
      "     Month    Year  \n",
      "4      5.0  2010.0  \n",
      "20     4.0  2010.0  \n",
      "82     NaN     NaN  \n",
      "61     3.0  2012.0  \n",
      "104    6.0  2012.0  \n",
      "...Done.\n",
      "  (0, 0)\t1.008066097203298\n",
      "  (0, 1)\t-1.1678948094871355\n",
      "  (0, 2)\t0.7939914584280194\n",
      "  (0, 3)\t-0.3118269089360434\n",
      "  (0, 4)\t-0.5156422481578865\n",
      "  (0, 5)\t-1.1571257121371719\n",
      "  (0, 11)\t1.0\n",
      "  (0, 25)\t1.0\n",
      "  (1, 0)\t-1.2858953335798327\n",
      "  (1, 1)\t-1.2390905286301115\n",
      "  (1, 2)\t0.2097525458588324\n",
      "  (1, 3)\t1.722204979335912\n",
      "  (1, 4)\t-0.8575944758836429\n",
      "  (1, 5)\t-1.1571257121371719\n",
      "  (1, 12)\t1.0\n",
      "  (1, 25)\t1.0\n",
      "  (2, 0)\t-0.4666637224387243\n",
      "  (2, 1)\t0.40469298687684513\n",
      "  (2, 2)\t1.0899725726197316\n",
      "  (2, 3)\t-0.5933951927748682\n",
      "  (2, 5)\t-3.0136900628109797e-13\n",
      "  (2, 16)\t1.0\n",
      "  (2, 25)\t1.0\n",
      "  (3, 0)\t-0.19283372147150377\n",
      "  (3, 1)\t1.1836579139705887\n",
      "  (3, 2)\t-1.30973316331895\n",
      "  (3, 3)\t0.18064580372413577\n",
      "  (3, 4)\t-1.1995467036093992\n",
      "  (3, 5)\t1.493744101121753\n",
      "  (3, 15)\t1.0\n",
      "  (3, 25)\t1.0\n",
      "  (4, 0)\t1.2231779123961046\n",
      "  (4, 1)\t0.061278341598959125\n",
      "  (4, 2)\t1.1257308892745825\n",
      "  (4, 3)\t-0.777121215820276\n",
      "  (4, 4)\t-0.1736900204321302\n",
      "  (4, 5)\t1.493744101121753\n",
      "  (4, 8)\t1.0\n",
      "  (4, 25)\t1.0\n",
      "\n"
     ]
    }
   ],
   "source": [
    "# Preprocessings on train set\n",
    "print(\"Performing preprocessings on train set...\")\n",
    "print(X_train.head())\n",
    "X_train = preprocessor.fit_transform(X_train)\n",
    "print(\"...Done.\")\n",
    "print(\n",
    "    X_train[0:5]\n",
    ") \n",
    "print()\n",
    "\n",
    "# Preprocessings on test set\n",
    "print(\"Performing preprocessings on test set...\")\n",
    "print(X_test.head())\n",
    "X_test = preprocessor.transform(\n",
    "    X_test\n",
    ")  \n",
    "print(\"...Done.\")\n",
    "print(\n",
    "    X_test[0:5, :]\n",
    ") \n",
    "print()\n"
   ]
  },
  {
   "cell_type": "code",
   "execution_count": 49,
   "metadata": {},
   "outputs": [
    {
     "name": "stdout",
     "output_type": "stream",
     "text": [
      "Train model...\n",
      "...Done.\n"
     ]
    }
   ],
   "source": [
    "# Train model\n",
    "print(\"Train model...\")\n",
    "regressor = LinearRegression()\n",
    "regressor.fit(X_train, Y_train)\n",
    "print(\"...Done.\")"
   ]
  },
  {
   "cell_type": "code",
   "execution_count": 50,
   "metadata": {},
   "outputs": [
    {
     "name": "stdout",
     "output_type": "stream",
     "text": [
      "R2 score on training set :  0.9823300272193435\n",
      "R2 score on test set :  0.938595858298448\n"
     ]
    }
   ],
   "source": [
    "# Print R^2 scores\n",
    "print(\"R2 score on training set : \", r2_score(Y_train, Y_train_pred))\n",
    "print(\"R2 score on test set : \", r2_score(Y_test, Y_test_pred))"
   ]
  },
  {
   "cell_type": "markdown",
   "metadata": {},
   "source": [
    "### We test the overtfitting through cross-validation"
   ]
  },
  {
   "cell_type": "code",
   "execution_count": 51,
   "metadata": {},
   "outputs": [
    {
     "name": "stdout",
     "output_type": "stream",
     "text": [
      "Calcule de l'incertitude\n",
      "5-fold cross-validation...\n",
      "The cross-validated R2-score is :  0.9450869460063759\n",
      "The standard deviation is :  0.026462869857254347\n"
     ]
    }
   ],
   "source": [
    "#Overfitting test\n",
    "print(\"Calcule de l'incertitude\")\n",
    "print(\"5-fold cross-validation...\")\n",
    "\n",
    "scores = cross_val_score(regressor, X_train, Y_train, cv=5)\n",
    "print('The cross-validated R2-score is : ', scores.mean())\n",
    "print('The standard deviation is : ', scores.std())"
   ]
  },
  {
   "cell_type": "markdown",
   "metadata": {},
   "source": [
    "### We check features importance of the last model training"
   ]
  },
  {
   "cell_type": "code",
   "execution_count": 54,
   "metadata": {},
   "outputs": [
    {
     "name": "stdout",
     "output_type": "stream",
     "text": [
      "Names of columns corresponding to each coefficient:  ['Temperature', 'Fuel_Price', 'CPI', 'Unemployment', 'Month', 'Year', 'Store_1.0', 'Store_2.0', 'Store_3.0', 'Store_4.0', 'Store_5.0', 'Store_6.0', 'Store_7.0', 'Store_8.0', 'Store_9.0', 'Store_10.0', 'Store_11.0', 'Store_13.0', 'Store_14.0', 'Store_15.0', 'Store_16.0', 'Store_17.0', 'Store_18.0', 'Store_19.0', 'Store_20.0', 'Holiday_Flag_0.0', 'Holiday_Flag_1.0']\n"
     ]
    }
   ],
   "source": [
    "column_names = []\n",
    "\n",
    "for name, pipeline, features_list in preprocessor.transformers_: # loop over pipelines\n",
    "    if name == 'num': # if pipeline is for numeric variables\n",
    "        features = numeric_features # just get the names of columns to which it has been applied\n",
    "    else: # if pipeline is for categorical variables\n",
    "        features = pipeline.named_steps['encoder'].get_feature_names_out(input_features= ['Store','Holiday_Flag']) # get output columns names from OneHotEncoder\n",
    "    column_names.extend(features) # concatenate features names\n",
    "print(\"Names of columns corresponding to each coefficient: \", column_names)\n"
   ]
  },
  {
   "cell_type": "code",
   "execution_count": 55,
   "metadata": {},
   "outputs": [
    {
     "name": "stdout",
     "output_type": "stream",
     "text": [
      "Numeric column names: ['Temperature', 'Fuel_Price', 'CPI', 'Unemployment', 'Month', 'Year']\n",
      "Categorical column names: ['Store_1.0', 'Store_2.0', 'Store_3.0', 'Store_4.0', 'Store_5.0', 'Store_6.0', 'Store_7.0', 'Store_8.0', 'Store_9.0', 'Store_10.0', 'Store_11.0', 'Store_13.0', 'Store_14.0', 'Store_15.0', 'Store_16.0', 'Store_17.0', 'Store_18.0', 'Store_19.0', 'Store_20.0', 'Holiday_Flag_0.0', 'Holiday_Flag_1.0']\n"
     ]
    }
   ],
   "source": [
    "numeric_column_names = []\n",
    "categorical_column_names = []\n",
    "\n",
    "for name, pipeline, features_list in preprocessor.transformers_:\n",
    "    if name == 'num':\n",
    "        numeric_column_names.extend(features_list)\n",
    "    else:\n",
    "        categorical_column_names.extend(pipeline.named_steps['encoder'].get_feature_names_out(input_features=categorical_features))\n",
    "\n",
    "print(\"Numeric column names:\", numeric_column_names)\n",
    "print(\"Categorical column names:\", categorical_column_names)"
   ]
  },
  {
   "cell_type": "code",
   "execution_count": 56,
   "metadata": {},
   "outputs": [
    {
     "data": {
      "text/html": [
       "<div>\n",
       "<style scoped>\n",
       "    .dataframe tbody tr th:only-of-type {\n",
       "        vertical-align: middle;\n",
       "    }\n",
       "\n",
       "    .dataframe tbody tr th {\n",
       "        vertical-align: top;\n",
       "    }\n",
       "\n",
       "    .dataframe thead th {\n",
       "        text-align: right;\n",
       "    }\n",
       "</style>\n",
       "<table border=\"1\" class=\"dataframe\">\n",
       "  <thead>\n",
       "    <tr style=\"text-align: right;\">\n",
       "      <th></th>\n",
       "      <th>coefficients</th>\n",
       "    </tr>\n",
       "  </thead>\n",
       "  <tbody>\n",
       "    <tr>\n",
       "      <th>Temperature</th>\n",
       "      <td>2.846572e+03</td>\n",
       "    </tr>\n",
       "    <tr>\n",
       "      <th>Fuel_Price</th>\n",
       "      <td>7.766611e+04</td>\n",
       "    </tr>\n",
       "    <tr>\n",
       "      <th>CPI</th>\n",
       "      <td>7.376683e+05</td>\n",
       "    </tr>\n",
       "    <tr>\n",
       "      <th>Unemployment</th>\n",
       "      <td>4.683022e+04</td>\n",
       "    </tr>\n",
       "    <tr>\n",
       "      <th>Month</th>\n",
       "      <td>1.323936e+04</td>\n",
       "    </tr>\n",
       "    <tr>\n",
       "      <th>Year</th>\n",
       "      <td>1.664667e+04</td>\n",
       "    </tr>\n",
       "    <tr>\n",
       "      <th>Store_1.0</th>\n",
       "      <td>3.768821e+05</td>\n",
       "    </tr>\n",
       "    <tr>\n",
       "      <th>Store_2.0</th>\n",
       "      <td>9.525851e+04</td>\n",
       "    </tr>\n",
       "    <tr>\n",
       "      <th>Store_3.0</th>\n",
       "      <td>1.603926e+06</td>\n",
       "    </tr>\n",
       "    <tr>\n",
       "      <th>Store_4.0</th>\n",
       "      <td>1.928047e+06</td>\n",
       "    </tr>\n",
       "    <tr>\n",
       "      <th>Store_5.0</th>\n",
       "      <td>1.589670e+06</td>\n",
       "    </tr>\n",
       "    <tr>\n",
       "      <th>Store_6.0</th>\n",
       "      <td>3.077217e+05</td>\n",
       "    </tr>\n",
       "    <tr>\n",
       "      <th>Store_7.0</th>\n",
       "      <td>1.021019e+06</td>\n",
       "    </tr>\n",
       "    <tr>\n",
       "      <th>Store_8.0</th>\n",
       "      <td>1.032575e+06</td>\n",
       "    </tr>\n",
       "    <tr>\n",
       "      <th>Store_9.0</th>\n",
       "      <td>1.448119e+06</td>\n",
       "    </tr>\n",
       "    <tr>\n",
       "      <th>Store_10.0</th>\n",
       "      <td>1.472291e+06</td>\n",
       "    </tr>\n",
       "    <tr>\n",
       "      <th>Store_11.0</th>\n",
       "      <td>2.397847e+05</td>\n",
       "    </tr>\n",
       "    <tr>\n",
       "      <th>Store_13.0</th>\n",
       "      <td>1.774339e+06</td>\n",
       "    </tr>\n",
       "    <tr>\n",
       "      <th>Store_14.0</th>\n",
       "      <td>6.339013e+05</td>\n",
       "    </tr>\n",
       "    <tr>\n",
       "      <th>Store_15.0</th>\n",
       "      <td>3.011518e+05</td>\n",
       "    </tr>\n",
       "    <tr>\n",
       "      <th>Store_16.0</th>\n",
       "      <td>8.932432e+05</td>\n",
       "    </tr>\n",
       "    <tr>\n",
       "      <th>Store_17.0</th>\n",
       "      <td>6.037449e+05</td>\n",
       "    </tr>\n",
       "    <tr>\n",
       "      <th>Store_18.0</th>\n",
       "      <td>6.609428e+05</td>\n",
       "    </tr>\n",
       "    <tr>\n",
       "      <th>Store_19.0</th>\n",
       "      <td>1.012643e+06</td>\n",
       "    </tr>\n",
       "    <tr>\n",
       "      <th>Store_20.0</th>\n",
       "      <td>2.211391e+05</td>\n",
       "    </tr>\n",
       "    <tr>\n",
       "      <th>Holiday_Flag_0.0</th>\n",
       "      <td>9.515741e+03</td>\n",
       "    </tr>\n",
       "    <tr>\n",
       "      <th>Holiday_Flag_1.0</th>\n",
       "      <td>9.515741e+03</td>\n",
       "    </tr>\n",
       "  </tbody>\n",
       "</table>\n",
       "</div>"
      ],
      "text/plain": [
       "                  coefficients\n",
       "Temperature       2.846572e+03\n",
       "Fuel_Price        7.766611e+04\n",
       "CPI               7.376683e+05\n",
       "Unemployment      4.683022e+04\n",
       "Month             1.323936e+04\n",
       "Year              1.664667e+04\n",
       "Store_1.0         3.768821e+05\n",
       "Store_2.0         9.525851e+04\n",
       "Store_3.0         1.603926e+06\n",
       "Store_4.0         1.928047e+06\n",
       "Store_5.0         1.589670e+06\n",
       "Store_6.0         3.077217e+05\n",
       "Store_7.0         1.021019e+06\n",
       "Store_8.0         1.032575e+06\n",
       "Store_9.0         1.448119e+06\n",
       "Store_10.0        1.472291e+06\n",
       "Store_11.0        2.397847e+05\n",
       "Store_13.0        1.774339e+06\n",
       "Store_14.0        6.339013e+05\n",
       "Store_15.0        3.011518e+05\n",
       "Store_16.0        8.932432e+05\n",
       "Store_17.0        6.037449e+05\n",
       "Store_18.0        6.609428e+05\n",
       "Store_19.0        1.012643e+06\n",
       "Store_20.0        2.211391e+05\n",
       "Holiday_Flag_0.0  9.515741e+03\n",
       "Holiday_Flag_1.0  9.515741e+03"
      ]
     },
     "execution_count": 56,
     "metadata": {},
     "output_type": "execute_result"
    }
   ],
   "source": [
    "coefs = pd.DataFrame(index = column_names, data = abs(regressor.coef_.transpose()), columns=[\"coefficients\"])\n",
    "coefs"
   ]
  },
  {
   "cell_type": "markdown",
   "metadata": {},
   "source": [
    "## Baseline model conclusions:\n",
    "\n",
    "The cross validated r2 score of 0.945 shows that the baseline model is performing well with the above pre-processing.\n",
    "\n",
    "'Month' and 'year' features are not the most relevant features. The most relevant features are 'Holiday Flag', 'Fuel Price', 'CPI', and 'Unemployment' in this order."
   ]
  },
  {
   "cell_type": "markdown",
   "metadata": {},
   "source": [
    "## Regularization\n",
    "\n",
    "### Since there are some feature less important as others as the above table shows let's apply regularization techniques Ridge and Lasso"
   ]
  },
  {
   "cell_type": "markdown",
   "metadata": {},
   "source": [
    "### Ridge"
   ]
  },
  {
   "cell_type": "code",
   "execution_count": 58,
   "metadata": {},
   "outputs": [
    {
     "name": "stdout",
     "output_type": "stream",
     "text": [
      "R2 score on training set :  0.9403295117868047\n",
      "R2 score on test set :  0.8407478931725766\n"
     ]
    }
   ],
   "source": [
    "ridge = Ridge()\n",
    "ridge.fit(X_train, Y_train)\n",
    "print(\"R2 score on training set : \", ridge.score(X_train, Y_train))\n",
    "print(\"R2 score on test set : \", ridge.score(X_test, Y_test))"
   ]
  },
  {
   "cell_type": "code",
   "execution_count": 59,
   "metadata": {},
   "outputs": [
    {
     "name": "stdout",
     "output_type": "stream",
     "text": [
      "5-fold cross-validation...\n",
      "The cross-validated R2-score is :  0.8446047504536907\n",
      "The standard deviation is :  0.08281910109493358\n"
     ]
    }
   ],
   "source": [
    "print(\"5-fold cross-validation...\")\n",
    "\n",
    "scores = cross_val_score(ridge, X_train, Y_train, cv=5)\n",
    "print('The cross-validated R2-score is : ', scores.mean())\n",
    "print('The standard deviation is : ', scores.std())"
   ]
  },
  {
   "cell_type": "markdown",
   "metadata": {},
   "source": [
    "### Lasso"
   ]
  },
  {
   "cell_type": "code",
   "execution_count": 60,
   "metadata": {},
   "outputs": [
    {
     "name": "stdout",
     "output_type": "stream",
     "text": [
      "Lasso(max_iter=10000)\n",
      "R2 score on training set :  0.9823293899482749\n",
      "R2 score on test set :  0.9387258295750552\n"
     ]
    }
   ],
   "source": [
    "lasso = Lasso(max_iter=10000)\n",
    "print(lasso)\n",
    "lasso.fit(X_train, Y_train)\n",
    "print(\"R2 score on training set : \", lasso.score(X_train, Y_train))\n",
    "print(\"R2 score on test set : \", lasso.score(X_test, Y_test))"
   ]
  },
  {
   "cell_type": "markdown",
   "metadata": {},
   "source": [
    "We check overfitting"
   ]
  },
  {
   "cell_type": "code",
   "execution_count": 61,
   "metadata": {},
   "outputs": [
    {
     "name": "stdout",
     "output_type": "stream",
     "text": [
      "5-fold cross-validation...\n",
      "The cross-validated R2-score is :  0.9443767693963918\n",
      "The standard deviation is :  0.02781091683630716\n"
     ]
    },
    {
     "name": "stderr",
     "output_type": "stream",
     "text": [
      "/opt/anaconda3/lib/python3.11/site-packages/sklearn/linear_model/_coordinate_descent.py:658: ConvergenceWarning:\n",
      "\n",
      "Objective did not converge. You might want to increase the number of iterations. Duality gap: 4359103236.793823, tolerance: 2488243055.8323574\n",
      "\n",
      "/opt/anaconda3/lib/python3.11/site-packages/sklearn/linear_model/_coordinate_descent.py:658: ConvergenceWarning:\n",
      "\n",
      "Objective did not converge. You might want to increase the number of iterations. Duality gap: 5416875644.913452, tolerance: 2425932262.9849753\n",
      "\n",
      "/opt/anaconda3/lib/python3.11/site-packages/sklearn/linear_model/_coordinate_descent.py:658: ConvergenceWarning:\n",
      "\n",
      "Objective did not converge. You might want to increase the number of iterations. Duality gap: 13143602843.105164, tolerance: 2224507089.8946757\n",
      "\n"
     ]
    }
   ],
   "source": [
    "print(\"5-fold cross-validation...\")\n",
    "\n",
    "scores = cross_val_score(lasso, X_train, Y_train, cv=5)\n",
    "print('The cross-validated R2-score is : ', scores.mean())\n",
    "print('The standard deviation is : ', scores.std())"
   ]
  },
  {
   "cell_type": "markdown",
   "metadata": {},
   "source": [
    "### Since Lasso performs better than ridge we look for hyperameter optimization of alpha with gridsearch \n",
    "\n",
    "### But the model is not able to converge within the given number of iterations"
   ]
  },
  {
   "cell_type": "code",
   "execution_count": 62,
   "metadata": {},
   "outputs": [
    {
     "name": "stdout",
     "output_type": "stream",
     "text": [
      "Grid search...\n"
     ]
    },
    {
     "name": "stderr",
     "output_type": "stream",
     "text": [
      "/opt/anaconda3/lib/python3.11/site-packages/sklearn/linear_model/_coordinate_descent.py:658: ConvergenceWarning:\n",
      "\n",
      "Objective did not converge. You might want to increase the number of iterations. Duality gap: 4222256663.11969, tolerance: 2425932262.9849753\n",
      "\n"
     ]
    },
    {
     "name": "stdout",
     "output_type": "stream",
     "text": [
      "...Done.\n",
      "Best hyperparameters :  {'alpha': 3}\n",
      "Best validation accuracy :  0.9445960339159297\n"
     ]
    }
   ],
   "source": [
    "# Perform grid search\n",
    "print(\"Grid search...\")\n",
    "\n",
    "lasso = Lasso(max_iter=600000)\n",
    "\n",
    "# Grid of values to be tested\n",
    "params = {\n",
    "    \"alpha\": [0.05, 0.1, 2, 3, 10, 11, 12, 13]}\n",
    "gridsearch = GridSearchCV(\n",
    "    lasso, param_grid=params, cv=5\n",
    ") \n",
    "gridsearch.fit(X_train, Y_train)\n",
    "print(\"...Done.\")\n",
    "print(\"Best hyperparameters : \", gridsearch.best_params_)\n",
    "print(\"Best validation accuracy : \", gridsearch.best_score_)"
   ]
  },
  {
   "cell_type": "markdown",
   "metadata": {},
   "source": [
    "## Regularization conclusions\n",
    "\n",
    "### Lasso regularization works better than Ridge for the Wallmart's dataset. \n",
    "\n",
    "### This shows that some variables are still not relevant and Lasso is able to set these coefficients variables to 0."
   ]
  }
 ],
 "metadata": {
  "kernelspec": {
   "display_name": "Python 3",
   "language": "python",
   "name": "python3"
  },
  "language_info": {
   "codemirror_mode": {
    "name": "ipython",
    "version": 3
   },
   "file_extension": ".py",
   "mimetype": "text/x-python",
   "name": "python",
   "nbconvert_exporter": "python",
   "pygments_lexer": "ipython3",
   "version": "3.11.8"
  }
 },
 "nbformat": 4,
 "nbformat_minor": 2
}
